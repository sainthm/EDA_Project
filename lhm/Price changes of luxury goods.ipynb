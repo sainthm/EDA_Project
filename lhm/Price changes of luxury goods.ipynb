{
 "cells": [
  {
   "cell_type": "markdown",
   "id": "5a43976c",
   "metadata": {},
   "source": [
    "# Price changes of luxury goods"
   ]
  },
  {
   "cell_type": "markdown",
   "id": "564f0bd5",
   "metadata": {},
   "source": [
    "## 1. Rolex price trend"
   ]
  },
  {
   "cell_type": "code",
   "execution_count": 2,
   "id": "b737199c",
   "metadata": {},
   "outputs": [],
   "source": [
    "# Module import\n",
    "import pandas as pd\n",
    "import matplotlib.pyplot as plt\n",
    "import numpy as np\n",
    "import seaborn as sns"
   ]
  },
  {
   "cell_type": "code",
   "execution_count": 4,
   "id": "ebe161fa",
   "metadata": {},
   "outputs": [
    {
     "data": {
      "text/html": [
       "<div>\n",
       "<style scoped>\n",
       "    .dataframe tbody tr th:only-of-type {\n",
       "        vertical-align: middle;\n",
       "    }\n",
       "\n",
       "    .dataframe tbody tr th {\n",
       "        vertical-align: top;\n",
       "    }\n",
       "\n",
       "    .dataframe thead th {\n",
       "        text-align: right;\n",
       "    }\n",
       "</style>\n",
       "<table border=\"1\" class=\"dataframe\">\n",
       "  <thead>\n",
       "    <tr style=\"text-align: right;\">\n",
       "      <th></th>\n",
       "      <th>Sun Jan 01 2017</th>\n",
       "      <th>USD</th>\n",
       "      <th>14182</th>\n",
       "    </tr>\n",
       "  </thead>\n",
       "  <tbody>\n",
       "    <tr>\n",
       "      <th>0</th>\n",
       "      <td>Mon Jan 02 2017</td>\n",
       "      <td>USD</td>\n",
       "      <td>14216</td>\n",
       "    </tr>\n",
       "    <tr>\n",
       "      <th>1</th>\n",
       "      <td>Tue Jan 03 2017</td>\n",
       "      <td>USD</td>\n",
       "      <td>14219</td>\n",
       "    </tr>\n",
       "    <tr>\n",
       "      <th>2</th>\n",
       "      <td>Wed Jan 04 2017</td>\n",
       "      <td>USD</td>\n",
       "      <td>14217</td>\n",
       "    </tr>\n",
       "    <tr>\n",
       "      <th>3</th>\n",
       "      <td>Thu Jan 05 2017</td>\n",
       "      <td>USD</td>\n",
       "      <td>14217</td>\n",
       "    </tr>\n",
       "    <tr>\n",
       "      <th>4</th>\n",
       "      <td>Fri Jan 06 2017</td>\n",
       "      <td>USD</td>\n",
       "      <td>14226</td>\n",
       "    </tr>\n",
       "    <tr>\n",
       "      <th>...</th>\n",
       "      <td>...</td>\n",
       "      <td>...</td>\n",
       "      <td>...</td>\n",
       "    </tr>\n",
       "    <tr>\n",
       "      <th>2108</th>\n",
       "      <td>Tue Oct 11 2022</td>\n",
       "      <td>USD</td>\n",
       "      <td>29449</td>\n",
       "    </tr>\n",
       "    <tr>\n",
       "      <th>2109</th>\n",
       "      <td>Wed Oct 12 2022</td>\n",
       "      <td>USD</td>\n",
       "      <td>29429</td>\n",
       "    </tr>\n",
       "    <tr>\n",
       "      <th>2110</th>\n",
       "      <td>Thu Oct 13 2022</td>\n",
       "      <td>USD</td>\n",
       "      <td>29397</td>\n",
       "    </tr>\n",
       "    <tr>\n",
       "      <th>2111</th>\n",
       "      <td>Fri Oct 14 2022</td>\n",
       "      <td>USD</td>\n",
       "      <td>29373</td>\n",
       "    </tr>\n",
       "    <tr>\n",
       "      <th>2112</th>\n",
       "      <td>Sat Oct 15 2022</td>\n",
       "      <td>USD</td>\n",
       "      <td>29361</td>\n",
       "    </tr>\n",
       "  </tbody>\n",
       "</table>\n",
       "<p>2113 rows × 3 columns</p>\n",
       "</div>"
      ],
      "text/plain": [
       "      Sun Jan 01 2017  USD  14182\n",
       "0     Mon Jan 02 2017  USD  14216\n",
       "1     Tue Jan 03 2017  USD  14219\n",
       "2     Wed Jan 04 2017  USD  14217\n",
       "3     Thu Jan 05 2017  USD  14217\n",
       "4     Fri Jan 06 2017  USD  14226\n",
       "...               ...  ...    ...\n",
       "2108  Tue Oct 11 2022  USD  29449\n",
       "2109  Wed Oct 12 2022  USD  29429\n",
       "2110  Thu Oct 13 2022  USD  29397\n",
       "2111  Fri Oct 14 2022  USD  29373\n",
       "2112  Sat Oct 15 2022  USD  29361\n",
       "\n",
       "[2113 rows x 3 columns]"
      ]
     },
     "execution_count": 4,
     "metadata": {},
     "output_type": "execute_result"
    }
   ],
   "source": [
    "# Data import\n",
    "# !ls ./EDA_file\n",
    "rolex = pd.read_csv(\"./EDA_file/rolex.csv\")\n",
    "rolex"
   ]
  }
 ],
 "metadata": {
  "kernelspec": {
   "display_name": "Python 3 (ipykernel)",
   "language": "python",
   "name": "python3"
  },
  "language_info": {
   "codemirror_mode": {
    "name": "ipython",
    "version": 3
   },
   "file_extension": ".py",
   "mimetype": "text/x-python",
   "name": "python",
   "nbconvert_exporter": "python",
   "pygments_lexer": "ipython3",
   "version": "3.8.13"
  }
 },
 "nbformat": 4,
 "nbformat_minor": 5
}
