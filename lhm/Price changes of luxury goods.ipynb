{
 "cells": [
  {
   "cell_type": "markdown",
   "id": "887f3fbc",
   "metadata": {},
   "source": [
    "# Price changes of luxury goods"
   ]
  },
  {
   "cell_type": "markdown",
   "id": "5c2c1230",
   "metadata": {},
   "source": [
    "## 1. Rolex price trend"
   ]
  },
  {
   "cell_type": "code",
   "execution_count": 2,
   "id": "89126c21",
   "metadata": {},
   "outputs": [],
   "source": [
    "# Module import\n",
    "import pandas as pd\n",
    "import matplotlib.pyplot as plt\n",
    "import numpy as np\n",
    "import seaborn as sns"
   ]
  },
  {
   "cell_type": "code",
   "execution_count": null,
   "id": "10ccdb24",
   "metadata": {},
   "outputs": [],
   "source": [
    "# Data "
   ]
  }
 ],
 "metadata": {
  "kernelspec": {
   "display_name": "Python 3 (ipykernel)",
   "language": "python",
   "name": "python3"
  },
  "language_info": {
   "codemirror_mode": {
    "name": "ipython",
    "version": 3
   },
   "file_extension": ".py",
   "mimetype": "text/x-python",
   "name": "python",
   "nbconvert_exporter": "python",
   "pygments_lexer": "ipython3",
   "version": "3.8.13"
  }
 },
 "nbformat": 4,
 "nbformat_minor": 5
}
