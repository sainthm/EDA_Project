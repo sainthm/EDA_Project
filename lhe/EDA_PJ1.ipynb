{
 "cells": [
  {
   "cell_type": "markdown",
   "id": "dc174a88",
   "metadata": {},
   "source": [
    "# EDA "
   ]
  },
  {
   "cell_type": "markdown",
   "id": "06d0c0ed",
   "metadata": {},
   "source": [
    "### - 서울 인구수 변화 추이 \n",
    "### - 주택 소유 총조사(한국)"
   ]
  },
  {
   "cell_type": "code",
   "execution_count": 561,
   "id": "d365f3cd",
   "metadata": {},
   "outputs": [
    {
     "name": "stdout",
     "output_type": "stream",
     "text": [
      "Collecting plotly\n",
      "  Downloading plotly-5.10.0-py2.py3-none-any.whl (15.2 MB)\n",
      "\u001b[2K     \u001b[90m━━━━━━━━━━━━━━━━━━━━━━━━━━━━━━━━━━━━━━━━\u001b[0m \u001b[32m15.2/15.2 MB\u001b[0m \u001b[31m2.8 MB/s\u001b[0m eta \u001b[36m0:00:00\u001b[0m00:01\u001b[0m00:01\u001b[0m\n",
      "\u001b[?25hCollecting tenacity>=6.2.0\n",
      "  Downloading tenacity-8.1.0-py3-none-any.whl (23 kB)\n",
      "Installing collected packages: tenacity, plotly\n",
      "Successfully installed plotly-5.10.0 tenacity-8.1.0\n",
      "Note: you may need to restart the kernel to use updated packages.\n"
     ]
    }
   ],
   "source": [
    "pip install plotly\n"
   ]
  },
  {
   "cell_type": "code",
   "execution_count": 602,
   "id": "d4d4dabf",
   "metadata": {},
   "outputs": [],
   "source": [
    "import pandas as pd\n",
    "import numpy as np\n",
    "import matplotlib.pyplot as plt\n",
    "import seaborn as sns\n",
    "\n",
    "from matplotlib import rc\n",
    "%matplotlib inline\n",
    "rc('font', family = 'AppleGothic')\n",
    "plt.rcParams['axes.unicode_minus'] = False\n",
    "\n",
    "import plotly.express as px\n"
   ]
  },
  {
   "cell_type": "code",
   "execution_count": 542,
   "id": "34e3b26f",
   "metadata": {},
   "outputs": [],
   "source": [
    "# 서울특별시 인구추이 \n",
    "\n",
    "data1 =pd.read_csv('../data/행정구역_시군구_별__성별_인구수_20221011211307.csv',encoding='euc-kr')"
   ]
  },
  {
   "cell_type": "code",
   "execution_count": 564,
   "id": "a8ade74a",
   "metadata": {},
   "outputs": [
    {
     "data": {
      "text/html": [
       "<div>\n",
       "<style scoped>\n",
       "    .dataframe tbody tr th:only-of-type {\n",
       "        vertical-align: middle;\n",
       "    }\n",
       "\n",
       "    .dataframe tbody tr th {\n",
       "        vertical-align: top;\n",
       "    }\n",
       "\n",
       "    .dataframe thead th {\n",
       "        text-align: right;\n",
       "    }\n",
       "</style>\n",
       "<table border=\"1\" class=\"dataframe\">\n",
       "  <thead>\n",
       "    <tr style=\"text-align: right;\">\n",
       "      <th></th>\n",
       "      <th>행정구역(시군구)별</th>\n",
       "      <th>2022.07</th>\n",
       "      <th>2022.07.1</th>\n",
       "      <th>2022.07.2</th>\n",
       "      <th>2022.08</th>\n",
       "      <th>2022.08.1</th>\n",
       "      <th>2022.08.2</th>\n",
       "      <th>2022.09</th>\n",
       "      <th>2022.09.1</th>\n",
       "      <th>2022.09.2</th>\n",
       "      <th>...</th>\n",
       "      <th>2018.2</th>\n",
       "      <th>2019</th>\n",
       "      <th>2019.1</th>\n",
       "      <th>2019.2</th>\n",
       "      <th>2020</th>\n",
       "      <th>2020.1</th>\n",
       "      <th>2020.2</th>\n",
       "      <th>2021</th>\n",
       "      <th>2021.1</th>\n",
       "      <th>2021.2</th>\n",
       "    </tr>\n",
       "  </thead>\n",
       "  <tbody>\n",
       "    <tr>\n",
       "      <th>0</th>\n",
       "      <td>행정구역(시군구)별</td>\n",
       "      <td>총인구수 (명)</td>\n",
       "      <td>남자인구수 (명)</td>\n",
       "      <td>여자인구수 (명)</td>\n",
       "      <td>총인구수 (명)</td>\n",
       "      <td>남자인구수 (명)</td>\n",
       "      <td>여자인구수 (명)</td>\n",
       "      <td>총인구수 (명)</td>\n",
       "      <td>남자인구수 (명)</td>\n",
       "      <td>여자인구수 (명)</td>\n",
       "      <td>...</td>\n",
       "      <td>여자인구수 (명)</td>\n",
       "      <td>총인구수 (명)</td>\n",
       "      <td>남자인구수 (명)</td>\n",
       "      <td>여자인구수 (명)</td>\n",
       "      <td>총인구수 (명)</td>\n",
       "      <td>남자인구수 (명)</td>\n",
       "      <td>여자인구수 (명)</td>\n",
       "      <td>총인구수 (명)</td>\n",
       "      <td>남자인구수 (명)</td>\n",
       "      <td>여자인구수 (명)</td>\n",
       "    </tr>\n",
       "    <tr>\n",
       "      <th>1</th>\n",
       "      <td>전국</td>\n",
       "      <td>51574446</td>\n",
       "      <td>25708650</td>\n",
       "      <td>25865796</td>\n",
       "      <td>51558441</td>\n",
       "      <td>25699579</td>\n",
       "      <td>25858862</td>\n",
       "      <td>51466658</td>\n",
       "      <td>25653998</td>\n",
       "      <td>25812660</td>\n",
       "      <td>...</td>\n",
       "      <td>25959930</td>\n",
       "      <td>51849861</td>\n",
       "      <td>25864816</td>\n",
       "      <td>25985045</td>\n",
       "      <td>51829023</td>\n",
       "      <td>25841029</td>\n",
       "      <td>25987994</td>\n",
       "      <td>51638809</td>\n",
       "      <td>25746684</td>\n",
       "      <td>25892125</td>\n",
       "    </tr>\n",
       "    <tr>\n",
       "      <th>2</th>\n",
       "      <td>서울특별시</td>\n",
       "      <td>9493211</td>\n",
       "      <td>4604405</td>\n",
       "      <td>4888806</td>\n",
       "      <td>9488454</td>\n",
       "      <td>4601295</td>\n",
       "      <td>4887159</td>\n",
       "      <td>9450768</td>\n",
       "      <td>4582361</td>\n",
       "      <td>4868407</td>\n",
       "      <td>...</td>\n",
       "      <td>4991724</td>\n",
       "      <td>9729107</td>\n",
       "      <td>4744059</td>\n",
       "      <td>4985048</td>\n",
       "      <td>9668465</td>\n",
       "      <td>4701723</td>\n",
       "      <td>4966742</td>\n",
       "      <td>9509458</td>\n",
       "      <td>4618040</td>\n",
       "      <td>4891418</td>\n",
       "    </tr>\n",
       "    <tr>\n",
       "      <th>3</th>\n",
       "      <td>부산광역시</td>\n",
       "      <td>3334595</td>\n",
       "      <td>1629643</td>\n",
       "      <td>1704952</td>\n",
       "      <td>3331444</td>\n",
       "      <td>1627821</td>\n",
       "      <td>1703623</td>\n",
       "      <td>3323826</td>\n",
       "      <td>1623784</td>\n",
       "      <td>1700042</td>\n",
       "      <td>...</td>\n",
       "      <td>1749032</td>\n",
       "      <td>3413841</td>\n",
       "      <td>1675417</td>\n",
       "      <td>1738424</td>\n",
       "      <td>3391946</td>\n",
       "      <td>1661000</td>\n",
       "      <td>1730946</td>\n",
       "      <td>3350380</td>\n",
       "      <td>1639044</td>\n",
       "      <td>1711336</td>\n",
       "    </tr>\n",
       "    <tr>\n",
       "      <th>4</th>\n",
       "      <td>대구광역시</td>\n",
       "      <td>2374120</td>\n",
       "      <td>1168845</td>\n",
       "      <td>1205275</td>\n",
       "      <td>2371936</td>\n",
       "      <td>1167564</td>\n",
       "      <td>1204372</td>\n",
       "      <td>2367735</td>\n",
       "      <td>1165326</td>\n",
       "      <td>1202409</td>\n",
       "      <td>...</td>\n",
       "      <td>1242427</td>\n",
       "      <td>2438031</td>\n",
       "      <td>1205286</td>\n",
       "      <td>1232745</td>\n",
       "      <td>2418346</td>\n",
       "      <td>1193109</td>\n",
       "      <td>1225237</td>\n",
       "      <td>2385412</td>\n",
       "      <td>1175632</td>\n",
       "      <td>1209780</td>\n",
       "    </tr>\n",
       "    <tr>\n",
       "      <th>5</th>\n",
       "      <td>인천광역시</td>\n",
       "      <td>2960580</td>\n",
       "      <td>1482177</td>\n",
       "      <td>1478403</td>\n",
       "      <td>2963117</td>\n",
       "      <td>1483370</td>\n",
       "      <td>1479747</td>\n",
       "      <td>2960097</td>\n",
       "      <td>1481896</td>\n",
       "      <td>1478201</td>\n",
       "      <td>...</td>\n",
       "      <td>1472798</td>\n",
       "      <td>2957026</td>\n",
       "      <td>1482249</td>\n",
       "      <td>1474777</td>\n",
       "      <td>2942828</td>\n",
       "      <td>1473943</td>\n",
       "      <td>1468885</td>\n",
       "      <td>2948375</td>\n",
       "      <td>1476373</td>\n",
       "      <td>1472002</td>\n",
       "    </tr>\n",
       "    <tr>\n",
       "      <th>6</th>\n",
       "      <td>광주광역시</td>\n",
       "      <td>1434703</td>\n",
       "      <td>709305</td>\n",
       "      <td>725398</td>\n",
       "      <td>1434397</td>\n",
       "      <td>709090</td>\n",
       "      <td>725307</td>\n",
       "      <td>1432856</td>\n",
       "      <td>708248</td>\n",
       "      <td>724608</td>\n",
       "      <td>...</td>\n",
       "      <td>736755</td>\n",
       "      <td>1456468</td>\n",
       "      <td>720740</td>\n",
       "      <td>735728</td>\n",
       "      <td>1450062</td>\n",
       "      <td>717348</td>\n",
       "      <td>732714</td>\n",
       "      <td>1441611</td>\n",
       "      <td>713015</td>\n",
       "      <td>728596</td>\n",
       "    </tr>\n",
       "    <tr>\n",
       "      <th>7</th>\n",
       "      <td>대전광역시</td>\n",
       "      <td>1448182</td>\n",
       "      <td>722366</td>\n",
       "      <td>725816</td>\n",
       "      <td>1448240</td>\n",
       "      <td>722486</td>\n",
       "      <td>725754</td>\n",
       "      <td>1446602</td>\n",
       "      <td>721604</td>\n",
       "      <td>724998</td>\n",
       "      <td>...</td>\n",
       "      <td>745598</td>\n",
       "      <td>1474870</td>\n",
       "      <td>736607</td>\n",
       "      <td>738263</td>\n",
       "      <td>1463882</td>\n",
       "      <td>730699</td>\n",
       "      <td>733183</td>\n",
       "      <td>1452251</td>\n",
       "      <td>724626</td>\n",
       "      <td>727625</td>\n",
       "    </tr>\n",
       "    <tr>\n",
       "      <th>8</th>\n",
       "      <td>울산광역시</td>\n",
       "      <td>1114753</td>\n",
       "      <td>572615</td>\n",
       "      <td>542138</td>\n",
       "      <td>1113458</td>\n",
       "      <td>571867</td>\n",
       "      <td>541591</td>\n",
       "      <td>1112191</td>\n",
       "      <td>571248</td>\n",
       "      <td>540943</td>\n",
       "      <td>...</td>\n",
       "      <td>561804</td>\n",
       "      <td>1148019</td>\n",
       "      <td>589712</td>\n",
       "      <td>558307</td>\n",
       "      <td>1136017</td>\n",
       "      <td>583708</td>\n",
       "      <td>552309</td>\n",
       "      <td>1121592</td>\n",
       "      <td>576217</td>\n",
       "      <td>545375</td>\n",
       "    </tr>\n",
       "    <tr>\n",
       "      <th>9</th>\n",
       "      <td>세종특별자치시</td>\n",
       "      <td>380889</td>\n",
       "      <td>190038</td>\n",
       "      <td>190851</td>\n",
       "      <td>381439</td>\n",
       "      <td>190276</td>\n",
       "      <td>191163</td>\n",
       "      <td>381925</td>\n",
       "      <td>190541</td>\n",
       "      <td>191384</td>\n",
       "      <td>...</td>\n",
       "      <td>157295</td>\n",
       "      <td>340575</td>\n",
       "      <td>169845</td>\n",
       "      <td>170730</td>\n",
       "      <td>355831</td>\n",
       "      <td>177568</td>\n",
       "      <td>178263</td>\n",
       "      <td>371895</td>\n",
       "      <td>185678</td>\n",
       "      <td>186217</td>\n",
       "    </tr>\n",
       "  </tbody>\n",
       "</table>\n",
       "<p>10 rows × 64 columns</p>\n",
       "</div>"
      ],
      "text/plain": [
       "   행정구역(시군구)별   2022.07  2022.07.1  2022.07.2   2022.08  2022.08.1  2022.08.2  \\\n",
       "0  행정구역(시군구)별  총인구수 (명)  남자인구수 (명)  여자인구수 (명)  총인구수 (명)  남자인구수 (명)  여자인구수 (명)   \n",
       "1          전국  51574446   25708650   25865796  51558441   25699579   25858862   \n",
       "2       서울특별시   9493211    4604405    4888806   9488454    4601295    4887159   \n",
       "3       부산광역시   3334595    1629643    1704952   3331444    1627821    1703623   \n",
       "4       대구광역시   2374120    1168845    1205275   2371936    1167564    1204372   \n",
       "5       인천광역시   2960580    1482177    1478403   2963117    1483370    1479747   \n",
       "6       광주광역시   1434703     709305     725398   1434397     709090     725307   \n",
       "7       대전광역시   1448182     722366     725816   1448240     722486     725754   \n",
       "8       울산광역시   1114753     572615     542138   1113458     571867     541591   \n",
       "9     세종특별자치시    380889     190038     190851    381439     190276     191163   \n",
       "\n",
       "    2022.09  2022.09.1  2022.09.2  ...     2018.2      2019     2019.1  \\\n",
       "0  총인구수 (명)  남자인구수 (명)  여자인구수 (명)  ...  여자인구수 (명)  총인구수 (명)  남자인구수 (명)   \n",
       "1  51466658   25653998   25812660  ...   25959930  51849861   25864816   \n",
       "2   9450768    4582361    4868407  ...    4991724   9729107    4744059   \n",
       "3   3323826    1623784    1700042  ...    1749032   3413841    1675417   \n",
       "4   2367735    1165326    1202409  ...    1242427   2438031    1205286   \n",
       "5   2960097    1481896    1478201  ...    1472798   2957026    1482249   \n",
       "6   1432856     708248     724608  ...     736755   1456468     720740   \n",
       "7   1446602     721604     724998  ...     745598   1474870     736607   \n",
       "8   1112191     571248     540943  ...     561804   1148019     589712   \n",
       "9    381925     190541     191384  ...     157295    340575     169845   \n",
       "\n",
       "      2019.2      2020     2020.1     2020.2      2021     2021.1     2021.2  \n",
       "0  여자인구수 (명)  총인구수 (명)  남자인구수 (명)  여자인구수 (명)  총인구수 (명)  남자인구수 (명)  여자인구수 (명)  \n",
       "1   25985045  51829023   25841029   25987994  51638809   25746684   25892125  \n",
       "2    4985048   9668465    4701723    4966742   9509458    4618040    4891418  \n",
       "3    1738424   3391946    1661000    1730946   3350380    1639044    1711336  \n",
       "4    1232745   2418346    1193109    1225237   2385412    1175632    1209780  \n",
       "5    1474777   2942828    1473943    1468885   2948375    1476373    1472002  \n",
       "6     735728   1450062     717348     732714   1441611     713015     728596  \n",
       "7     738263   1463882     730699     733183   1452251     724626     727625  \n",
       "8     558307   1136017     583708     552309   1121592     576217     545375  \n",
       "9     170730    355831     177568     178263    371895     185678     186217  \n",
       "\n",
       "[10 rows x 64 columns]"
      ]
     },
     "execution_count": 564,
     "metadata": {},
     "output_type": "execute_result"
    }
   ],
   "source": [
    "data1.head(10)\n"
   ]
  },
  {
   "cell_type": "code",
   "execution_count": 565,
   "id": "fea2e8fb",
   "metadata": {},
   "outputs": [],
   "source": [
    "data1 = data1.transpose()"
   ]
  },
  {
   "cell_type": "code",
   "execution_count": 566,
   "id": "4e627416",
   "metadata": {},
   "outputs": [],
   "source": [
    "data1 = data1.rename(columns = data1.iloc[0])"
   ]
  },
  {
   "cell_type": "code",
   "execution_count": 567,
   "id": "5c0ae470",
   "metadata": {},
   "outputs": [
    {
     "data": {
      "text/html": [
       "<div>\n",
       "<style scoped>\n",
       "    .dataframe tbody tr th:only-of-type {\n",
       "        vertical-align: middle;\n",
       "    }\n",
       "\n",
       "    .dataframe tbody tr th {\n",
       "        vertical-align: top;\n",
       "    }\n",
       "\n",
       "    .dataframe thead th {\n",
       "        text-align: right;\n",
       "    }\n",
       "</style>\n",
       "<table border=\"1\" class=\"dataframe\">\n",
       "  <thead>\n",
       "    <tr style=\"text-align: right;\">\n",
       "      <th></th>\n",
       "      <th>행정구역(시군구)별</th>\n",
       "      <th>전국</th>\n",
       "      <th>서울특별시</th>\n",
       "      <th>부산광역시</th>\n",
       "      <th>대구광역시</th>\n",
       "      <th>인천광역시</th>\n",
       "      <th>광주광역시</th>\n",
       "      <th>대전광역시</th>\n",
       "      <th>울산광역시</th>\n",
       "      <th>세종특별자치시</th>\n",
       "      <th>경기도</th>\n",
       "      <th>강원도</th>\n",
       "      <th>충청북도</th>\n",
       "      <th>충청남도</th>\n",
       "      <th>전라북도</th>\n",
       "      <th>전라남도</th>\n",
       "      <th>경상북도</th>\n",
       "      <th>경상남도</th>\n",
       "      <th>제주특별자치도</th>\n",
       "    </tr>\n",
       "  </thead>\n",
       "  <tbody>\n",
       "    <tr>\n",
       "      <th>2021</th>\n",
       "      <td>총인구수 (명)</td>\n",
       "      <td>51638809</td>\n",
       "      <td>9509458</td>\n",
       "      <td>3350380</td>\n",
       "      <td>2385412</td>\n",
       "      <td>2948375</td>\n",
       "      <td>1441611</td>\n",
       "      <td>1452251</td>\n",
       "      <td>1121592</td>\n",
       "      <td>371895</td>\n",
       "      <td>13565450</td>\n",
       "      <td>1538492</td>\n",
       "      <td>1597427</td>\n",
       "      <td>2119257</td>\n",
       "      <td>1786855</td>\n",
       "      <td>1832803</td>\n",
       "      <td>2626609</td>\n",
       "      <td>3314183</td>\n",
       "      <td>676759</td>\n",
       "    </tr>\n",
       "    <tr>\n",
       "      <th>2021.1</th>\n",
       "      <td>남자인구수 (명)</td>\n",
       "      <td>25746684</td>\n",
       "      <td>4618040</td>\n",
       "      <td>1639044</td>\n",
       "      <td>1175632</td>\n",
       "      <td>1476373</td>\n",
       "      <td>713015</td>\n",
       "      <td>724626</td>\n",
       "      <td>576217</td>\n",
       "      <td>185678</td>\n",
       "      <td>6827298</td>\n",
       "      <td>774332</td>\n",
       "      <td>810672</td>\n",
       "      <td>1083366</td>\n",
       "      <td>888994</td>\n",
       "      <td>922221</td>\n",
       "      <td>1323661</td>\n",
       "      <td>1668338</td>\n",
       "      <td>339177</td>\n",
       "    </tr>\n",
       "    <tr>\n",
       "      <th>2021.2</th>\n",
       "      <td>여자인구수 (명)</td>\n",
       "      <td>25892125</td>\n",
       "      <td>4891418</td>\n",
       "      <td>1711336</td>\n",
       "      <td>1209780</td>\n",
       "      <td>1472002</td>\n",
       "      <td>728596</td>\n",
       "      <td>727625</td>\n",
       "      <td>545375</td>\n",
       "      <td>186217</td>\n",
       "      <td>6738152</td>\n",
       "      <td>764160</td>\n",
       "      <td>786755</td>\n",
       "      <td>1035891</td>\n",
       "      <td>897861</td>\n",
       "      <td>910582</td>\n",
       "      <td>1302948</td>\n",
       "      <td>1645845</td>\n",
       "      <td>337582</td>\n",
       "    </tr>\n",
       "  </tbody>\n",
       "</table>\n",
       "</div>"
      ],
      "text/plain": [
       "       행정구역(시군구)별        전국    서울특별시    부산광역시    대구광역시    인천광역시    광주광역시  \\\n",
       "2021     총인구수 (명)  51638809  9509458  3350380  2385412  2948375  1441611   \n",
       "2021.1  남자인구수 (명)  25746684  4618040  1639044  1175632  1476373   713015   \n",
       "2021.2  여자인구수 (명)  25892125  4891418  1711336  1209780  1472002   728596   \n",
       "\n",
       "          대전광역시    울산광역시 세종특별자치시       경기도      강원도     충청북도     충청남도  \\\n",
       "2021    1452251  1121592  371895  13565450  1538492  1597427  2119257   \n",
       "2021.1   724626   576217  185678   6827298   774332   810672  1083366   \n",
       "2021.2   727625   545375  186217   6738152   764160   786755  1035891   \n",
       "\n",
       "           전라북도     전라남도     경상북도     경상남도 제주특별자치도  \n",
       "2021    1786855  1832803  2626609  3314183  676759  \n",
       "2021.1   888994   922221  1323661  1668338  339177  \n",
       "2021.2   897861   910582  1302948  1645845  337582  "
      ]
     },
     "execution_count": 567,
     "metadata": {},
     "output_type": "execute_result"
    }
   ],
   "source": [
    "data1.tail(3)"
   ]
  },
  {
   "cell_type": "code",
   "execution_count": 568,
   "id": "24737db7",
   "metadata": {},
   "outputs": [],
   "source": [
    "data1 = data1.drop(data1.index[0])"
   ]
  },
  {
   "cell_type": "code",
   "execution_count": 569,
   "id": "ee9edbdb",
   "metadata": {},
   "outputs": [
    {
     "data": {
      "text/html": [
       "<div>\n",
       "<style scoped>\n",
       "    .dataframe tbody tr th:only-of-type {\n",
       "        vertical-align: middle;\n",
       "    }\n",
       "\n",
       "    .dataframe tbody tr th {\n",
       "        vertical-align: top;\n",
       "    }\n",
       "\n",
       "    .dataframe thead th {\n",
       "        text-align: right;\n",
       "    }\n",
       "</style>\n",
       "<table border=\"1\" class=\"dataframe\">\n",
       "  <thead>\n",
       "    <tr style=\"text-align: right;\">\n",
       "      <th></th>\n",
       "      <th>행정구역(시군구)별</th>\n",
       "      <th>전국</th>\n",
       "      <th>서울특별시</th>\n",
       "      <th>부산광역시</th>\n",
       "      <th>대구광역시</th>\n",
       "      <th>인천광역시</th>\n",
       "      <th>광주광역시</th>\n",
       "      <th>대전광역시</th>\n",
       "      <th>울산광역시</th>\n",
       "      <th>세종특별자치시</th>\n",
       "      <th>경기도</th>\n",
       "      <th>강원도</th>\n",
       "      <th>충청북도</th>\n",
       "      <th>충청남도</th>\n",
       "      <th>전라북도</th>\n",
       "      <th>전라남도</th>\n",
       "      <th>경상북도</th>\n",
       "      <th>경상남도</th>\n",
       "      <th>제주특별자치도</th>\n",
       "    </tr>\n",
       "  </thead>\n",
       "  <tbody>\n",
       "    <tr>\n",
       "      <th>2022.07</th>\n",
       "      <td>총인구수 (명)</td>\n",
       "      <td>51574446</td>\n",
       "      <td>9493211</td>\n",
       "      <td>3334595</td>\n",
       "      <td>2374120</td>\n",
       "      <td>2960580</td>\n",
       "      <td>1434703</td>\n",
       "      <td>1448182</td>\n",
       "      <td>1114753</td>\n",
       "      <td>380889</td>\n",
       "      <td>13589362</td>\n",
       "      <td>1539178</td>\n",
       "      <td>1597163</td>\n",
       "      <td>2121011</td>\n",
       "      <td>1776949</td>\n",
       "      <td>1825534</td>\n",
       "      <td>2612016</td>\n",
       "      <td>3293709</td>\n",
       "      <td>678491</td>\n",
       "    </tr>\n",
       "    <tr>\n",
       "      <th>2022.07.1</th>\n",
       "      <td>남자인구수 (명)</td>\n",
       "      <td>25708650</td>\n",
       "      <td>4604405</td>\n",
       "      <td>1629643</td>\n",
       "      <td>1168845</td>\n",
       "      <td>1482177</td>\n",
       "      <td>709305</td>\n",
       "      <td>722366</td>\n",
       "      <td>572615</td>\n",
       "      <td>190038</td>\n",
       "      <td>6840138</td>\n",
       "      <td>774387</td>\n",
       "      <td>811286</td>\n",
       "      <td>1085037</td>\n",
       "      <td>884164</td>\n",
       "      <td>918956</td>\n",
       "      <td>1317139</td>\n",
       "      <td>1658198</td>\n",
       "      <td>339951</td>\n",
       "    </tr>\n",
       "    <tr>\n",
       "      <th>2022.07.2</th>\n",
       "      <td>여자인구수 (명)</td>\n",
       "      <td>25865796</td>\n",
       "      <td>4888806</td>\n",
       "      <td>1704952</td>\n",
       "      <td>1205275</td>\n",
       "      <td>1478403</td>\n",
       "      <td>725398</td>\n",
       "      <td>725816</td>\n",
       "      <td>542138</td>\n",
       "      <td>190851</td>\n",
       "      <td>6749224</td>\n",
       "      <td>764791</td>\n",
       "      <td>785877</td>\n",
       "      <td>1035974</td>\n",
       "      <td>892785</td>\n",
       "      <td>906578</td>\n",
       "      <td>1294877</td>\n",
       "      <td>1635511</td>\n",
       "      <td>338540</td>\n",
       "    </tr>\n",
       "  </tbody>\n",
       "</table>\n",
       "</div>"
      ],
      "text/plain": [
       "          행정구역(시군구)별        전국    서울특별시    부산광역시    대구광역시    인천광역시    광주광역시  \\\n",
       "2022.07     총인구수 (명)  51574446  9493211  3334595  2374120  2960580  1434703   \n",
       "2022.07.1  남자인구수 (명)  25708650  4604405  1629643  1168845  1482177   709305   \n",
       "2022.07.2  여자인구수 (명)  25865796  4888806  1704952  1205275  1478403   725398   \n",
       "\n",
       "             대전광역시    울산광역시 세종특별자치시       경기도      강원도     충청북도     충청남도  \\\n",
       "2022.07    1448182  1114753  380889  13589362  1539178  1597163  2121011   \n",
       "2022.07.1   722366   572615  190038   6840138   774387   811286  1085037   \n",
       "2022.07.2   725816   542138  190851   6749224   764791   785877  1035974   \n",
       "\n",
       "              전라북도     전라남도     경상북도     경상남도 제주특별자치도  \n",
       "2022.07    1776949  1825534  2612016  3293709  678491  \n",
       "2022.07.1   884164   918956  1317139  1658198  339951  \n",
       "2022.07.2   892785   906578  1294877  1635511  338540  "
      ]
     },
     "execution_count": 569,
     "metadata": {},
     "output_type": "execute_result"
    }
   ],
   "source": [
    "data1.head(3)"
   ]
  },
  {
   "cell_type": "code",
   "execution_count": 570,
   "id": "97a82afa",
   "metadata": {},
   "outputs": [],
   "source": [
    "data1 = data1.rename(columns = {\"행정구역(시군구)별\" : \"location\"})"
   ]
  },
  {
   "cell_type": "code",
   "execution_count": 571,
   "id": "cabfeaed",
   "metadata": {},
   "outputs": [],
   "source": [
    "condition = data1[\"location\"] == '총인구수 (명)'"
   ]
  },
  {
   "cell_type": "code",
   "execution_count": 572,
   "id": "cd993116",
   "metadata": {},
   "outputs": [],
   "source": [
    "data1 = data1[condition][3:]"
   ]
  },
  {
   "cell_type": "code",
   "execution_count": 573,
   "id": "b5493ddc",
   "metadata": {},
   "outputs": [
    {
     "data": {
      "text/html": [
       "<div>\n",
       "<style scoped>\n",
       "    .dataframe tbody tr th:only-of-type {\n",
       "        vertical-align: middle;\n",
       "    }\n",
       "\n",
       "    .dataframe tbody tr th {\n",
       "        vertical-align: top;\n",
       "    }\n",
       "\n",
       "    .dataframe thead th {\n",
       "        text-align: right;\n",
       "    }\n",
       "</style>\n",
       "<table border=\"1\" class=\"dataframe\">\n",
       "  <thead>\n",
       "    <tr style=\"text-align: right;\">\n",
       "      <th></th>\n",
       "      <th>location</th>\n",
       "      <th>전국</th>\n",
       "      <th>서울특별시</th>\n",
       "      <th>부산광역시</th>\n",
       "      <th>대구광역시</th>\n",
       "      <th>인천광역시</th>\n",
       "      <th>광주광역시</th>\n",
       "      <th>대전광역시</th>\n",
       "      <th>울산광역시</th>\n",
       "      <th>세종특별자치시</th>\n",
       "      <th>경기도</th>\n",
       "      <th>강원도</th>\n",
       "      <th>충청북도</th>\n",
       "      <th>충청남도</th>\n",
       "      <th>전라북도</th>\n",
       "      <th>전라남도</th>\n",
       "      <th>경상북도</th>\n",
       "      <th>경상남도</th>\n",
       "      <th>제주특별자치도</th>\n",
       "    </tr>\n",
       "  </thead>\n",
       "  <tbody>\n",
       "    <tr>\n",
       "      <th>2004</th>\n",
       "      <td>총인구수 (명)</td>\n",
       "      <td>48583805</td>\n",
       "      <td>10173162</td>\n",
       "      <td>3666345</td>\n",
       "      <td>2524712</td>\n",
       "      <td>2578817</td>\n",
       "      <td>1401172</td>\n",
       "      <td>1443471</td>\n",
       "      <td>1081453</td>\n",
       "      <td>-</td>\n",
       "      <td>10462920</td>\n",
       "      <td>1521375</td>\n",
       "      <td>1488945</td>\n",
       "      <td>1953406</td>\n",
       "      <td>1906742</td>\n",
       "      <td>1986192</td>\n",
       "      <td>2695917</td>\n",
       "      <td>3143814</td>\n",
       "      <td>555362</td>\n",
       "    </tr>\n",
       "    <tr>\n",
       "      <th>2005</th>\n",
       "      <td>총인구수 (명)</td>\n",
       "      <td>48782274</td>\n",
       "      <td>10167344</td>\n",
       "      <td>3638293</td>\n",
       "      <td>2511306</td>\n",
       "      <td>2600495</td>\n",
       "      <td>1401745</td>\n",
       "      <td>1454638</td>\n",
       "      <td>1087648</td>\n",
       "      <td>-</td>\n",
       "      <td>10697215</td>\n",
       "      <td>1513110</td>\n",
       "      <td>1488803</td>\n",
       "      <td>1962646</td>\n",
       "      <td>1885335</td>\n",
       "      <td>1967205</td>\n",
       "      <td>2688491</td>\n",
       "      <td>3160431</td>\n",
       "      <td>557569</td>\n",
       "    </tr>\n",
       "    <tr>\n",
       "      <th>2006</th>\n",
       "      <td>총인구수 (명)</td>\n",
       "      <td>48991779</td>\n",
       "      <td>10181166</td>\n",
       "      <td>3611992</td>\n",
       "      <td>2496115</td>\n",
       "      <td>2624391</td>\n",
       "      <td>1407798</td>\n",
       "      <td>1466158</td>\n",
       "      <td>1092494</td>\n",
       "      <td>-</td>\n",
       "      <td>10906033</td>\n",
       "      <td>1505420</td>\n",
       "      <td>1494559</td>\n",
       "      <td>1974433</td>\n",
       "      <td>1868365</td>\n",
       "      <td>1942925</td>\n",
       "      <td>2688577</td>\n",
       "      <td>3172857</td>\n",
       "      <td>558496</td>\n",
       "    </tr>\n",
       "  </tbody>\n",
       "</table>\n",
       "</div>"
      ],
      "text/plain": [
       "      location        전국     서울특별시    부산광역시    대구광역시    인천광역시    광주광역시  \\\n",
       "2004  총인구수 (명)  48583805  10173162  3666345  2524712  2578817  1401172   \n",
       "2005  총인구수 (명)  48782274  10167344  3638293  2511306  2600495  1401745   \n",
       "2006  총인구수 (명)  48991779  10181166  3611992  2496115  2624391  1407798   \n",
       "\n",
       "        대전광역시    울산광역시 세종특별자치시       경기도      강원도     충청북도     충청남도     전라북도  \\\n",
       "2004  1443471  1081453       -  10462920  1521375  1488945  1953406  1906742   \n",
       "2005  1454638  1087648       -  10697215  1513110  1488803  1962646  1885335   \n",
       "2006  1466158  1092494       -  10906033  1505420  1494559  1974433  1868365   \n",
       "\n",
       "         전라남도     경상북도     경상남도 제주특별자치도  \n",
       "2004  1986192  2695917  3143814  555362  \n",
       "2005  1967205  2688491  3160431  557569  \n",
       "2006  1942925  2688577  3172857  558496  "
      ]
     },
     "execution_count": 573,
     "metadata": {},
     "output_type": "execute_result"
    }
   ],
   "source": [
    "data1.head(3)"
   ]
  },
  {
   "cell_type": "code",
   "execution_count": 574,
   "id": "440a59b4",
   "metadata": {},
   "outputs": [
    {
     "data": {
      "text/plain": [
       "Index(['location', '전국', '서울특별시', '부산광역시', '대구광역시', '인천광역시', '광주광역시', '대전광역시',\n",
       "       '울산광역시', '세종특별자치시', '경기도', '강원도', '충청북도', '충청남도', '전라북도', '전라남도',\n",
       "       '경상북도', '경상남도', '제주특별자치도'],\n",
       "      dtype='object')"
      ]
     },
     "execution_count": 574,
     "metadata": {},
     "output_type": "execute_result"
    }
   ],
   "source": [
    "data1.columns"
   ]
  },
  {
   "cell_type": "code",
   "execution_count": 575,
   "id": "46c7783b",
   "metadata": {},
   "outputs": [],
   "source": [
    "del data1['location']"
   ]
  },
  {
   "cell_type": "code",
   "execution_count": 645,
   "id": "873c6883",
   "metadata": {},
   "outputs": [],
   "source": [
    "data1 #총인구수 \n",
    "# data1.to_csv('총인구수2004-2021.csv')"
   ]
  },
  {
   "cell_type": "code",
   "execution_count": 577,
   "id": "fa5e5bc1",
   "metadata": {},
   "outputs": [],
   "source": [
    "data1 = data1.replace('-',0)"
   ]
  },
  {
   "cell_type": "code",
   "execution_count": 578,
   "id": "66a9983f",
   "metadata": {},
   "outputs": [],
   "source": [
    "data1 = data1.astype(int)"
   ]
  },
  {
   "cell_type": "code",
   "execution_count": 579,
   "id": "f1953d47",
   "metadata": {},
   "outputs": [
    {
     "name": "stdout",
     "output_type": "stream",
     "text": [
      "<class 'pandas.core.frame.DataFrame'>\n",
      "Index: 18 entries, 2004 to 2021\n",
      "Data columns (total 18 columns):\n",
      " #   Column   Non-Null Count  Dtype\n",
      "---  ------   --------------  -----\n",
      " 0   전국       18 non-null     int64\n",
      " 1   서울특별시    18 non-null     int64\n",
      " 2   부산광역시    18 non-null     int64\n",
      " 3   대구광역시    18 non-null     int64\n",
      " 4   인천광역시    18 non-null     int64\n",
      " 5   광주광역시    18 non-null     int64\n",
      " 6   대전광역시    18 non-null     int64\n",
      " 7   울산광역시    18 non-null     int64\n",
      " 8   세종특별자치시  18 non-null     int64\n",
      " 9   경기도      18 non-null     int64\n",
      " 10  강원도      18 non-null     int64\n",
      " 11  충청북도     18 non-null     int64\n",
      " 12  충청남도     18 non-null     int64\n",
      " 13  전라북도     18 non-null     int64\n",
      " 14  전라남도     18 non-null     int64\n",
      " 15  경상북도     18 non-null     int64\n",
      " 16  경상남도     18 non-null     int64\n",
      " 17  제주특별자치도  18 non-null     int64\n",
      "dtypes: int64(18)\n",
      "memory usage: 2.7+ KB\n"
     ]
    }
   ],
   "source": [
    "data1.info()"
   ]
  },
  {
   "cell_type": "code",
   "execution_count": 580,
   "id": "793c04fa",
   "metadata": {},
   "outputs": [
    {
     "name": "stderr",
     "output_type": "stream",
     "text": [
      "/var/folders/65/fkxmw3js52z3zdrd4f_qdwc00000gn/T/ipykernel_53873/2106068084.py:2: DeprecationWarning: `set_matplotlib_formats` is deprecated since IPython 7.23, directly use `matplotlib_inline.backend_inline.set_matplotlib_formats()`\n",
      "  set_matplotlib_formats('retina')\n"
     ]
    }
   ],
   "source": [
    "from IPython.display import set_matplotlib_formats\n",
    "set_matplotlib_formats('retina')"
   ]
  },
  {
   "cell_type": "code",
   "execution_count": 595,
   "id": "847e2b2b",
   "metadata": {},
   "outputs": [
    {
     "data": {
      "application/vnd.plotly.v1+json": {
       "config": {
        "plotlyServerURL": "https://plot.ly"
       },
       "data": [
        {
         "hovertemplate": "variable=서울특별시<br>index=%{x}<br>value=%{y}<extra></extra>",
         "legendgroup": "서울특별시",
         "line": {
          "color": "#636efa",
          "dash": "solid"
         },
         "marker": {
          "symbol": "circle"
         },
         "mode": "lines",
         "name": "서울특별시",
         "orientation": "v",
         "showlegend": true,
         "type": "scatter",
         "x": [
          "2004",
          "2005",
          "2006",
          "2007",
          "2008",
          "2009",
          "2010",
          "2011",
          "2012",
          "2013",
          "2014",
          "2015",
          "2016",
          "2017",
          "2018",
          "2019",
          "2020",
          "2021"
         ],
         "xaxis": "x",
         "y": [
          10173162,
          10167344,
          10181166,
          10192710,
          10200827,
          10208302,
          10312545,
          10249679,
          10195318,
          10143645,
          10103233,
          10022181,
          9930616,
          9857426,
          9765623,
          9729107,
          9668465,
          9509458
         ],
         "yaxis": "y"
        }
       ],
       "layout": {
        "legend": {
         "title": {
          "text": "variable"
         },
         "tracegroupgap": 0
        },
        "margin": {
         "t": 60
        },
        "template": {
         "data": {
          "bar": [
           {
            "error_x": {
             "color": "#2a3f5f"
            },
            "error_y": {
             "color": "#2a3f5f"
            },
            "marker": {
             "line": {
              "color": "#E5ECF6",
              "width": 0.5
             },
             "pattern": {
              "fillmode": "overlay",
              "size": 10,
              "solidity": 0.2
             }
            },
            "type": "bar"
           }
          ],
          "barpolar": [
           {
            "marker": {
             "line": {
              "color": "#E5ECF6",
              "width": 0.5
             },
             "pattern": {
              "fillmode": "overlay",
              "size": 10,
              "solidity": 0.2
             }
            },
            "type": "barpolar"
           }
          ],
          "carpet": [
           {
            "aaxis": {
             "endlinecolor": "#2a3f5f",
             "gridcolor": "white",
             "linecolor": "white",
             "minorgridcolor": "white",
             "startlinecolor": "#2a3f5f"
            },
            "baxis": {
             "endlinecolor": "#2a3f5f",
             "gridcolor": "white",
             "linecolor": "white",
             "minorgridcolor": "white",
             "startlinecolor": "#2a3f5f"
            },
            "type": "carpet"
           }
          ],
          "choropleth": [
           {
            "colorbar": {
             "outlinewidth": 0,
             "ticks": ""
            },
            "type": "choropleth"
           }
          ],
          "contour": [
           {
            "colorbar": {
             "outlinewidth": 0,
             "ticks": ""
            },
            "colorscale": [
             [
              0,
              "#0d0887"
             ],
             [
              0.1111111111111111,
              "#46039f"
             ],
             [
              0.2222222222222222,
              "#7201a8"
             ],
             [
              0.3333333333333333,
              "#9c179e"
             ],
             [
              0.4444444444444444,
              "#bd3786"
             ],
             [
              0.5555555555555556,
              "#d8576b"
             ],
             [
              0.6666666666666666,
              "#ed7953"
             ],
             [
              0.7777777777777778,
              "#fb9f3a"
             ],
             [
              0.8888888888888888,
              "#fdca26"
             ],
             [
              1,
              "#f0f921"
             ]
            ],
            "type": "contour"
           }
          ],
          "contourcarpet": [
           {
            "colorbar": {
             "outlinewidth": 0,
             "ticks": ""
            },
            "type": "contourcarpet"
           }
          ],
          "heatmap": [
           {
            "colorbar": {
             "outlinewidth": 0,
             "ticks": ""
            },
            "colorscale": [
             [
              0,
              "#0d0887"
             ],
             [
              0.1111111111111111,
              "#46039f"
             ],
             [
              0.2222222222222222,
              "#7201a8"
             ],
             [
              0.3333333333333333,
              "#9c179e"
             ],
             [
              0.4444444444444444,
              "#bd3786"
             ],
             [
              0.5555555555555556,
              "#d8576b"
             ],
             [
              0.6666666666666666,
              "#ed7953"
             ],
             [
              0.7777777777777778,
              "#fb9f3a"
             ],
             [
              0.8888888888888888,
              "#fdca26"
             ],
             [
              1,
              "#f0f921"
             ]
            ],
            "type": "heatmap"
           }
          ],
          "heatmapgl": [
           {
            "colorbar": {
             "outlinewidth": 0,
             "ticks": ""
            },
            "colorscale": [
             [
              0,
              "#0d0887"
             ],
             [
              0.1111111111111111,
              "#46039f"
             ],
             [
              0.2222222222222222,
              "#7201a8"
             ],
             [
              0.3333333333333333,
              "#9c179e"
             ],
             [
              0.4444444444444444,
              "#bd3786"
             ],
             [
              0.5555555555555556,
              "#d8576b"
             ],
             [
              0.6666666666666666,
              "#ed7953"
             ],
             [
              0.7777777777777778,
              "#fb9f3a"
             ],
             [
              0.8888888888888888,
              "#fdca26"
             ],
             [
              1,
              "#f0f921"
             ]
            ],
            "type": "heatmapgl"
           }
          ],
          "histogram": [
           {
            "marker": {
             "pattern": {
              "fillmode": "overlay",
              "size": 10,
              "solidity": 0.2
             }
            },
            "type": "histogram"
           }
          ],
          "histogram2d": [
           {
            "colorbar": {
             "outlinewidth": 0,
             "ticks": ""
            },
            "colorscale": [
             [
              0,
              "#0d0887"
             ],
             [
              0.1111111111111111,
              "#46039f"
             ],
             [
              0.2222222222222222,
              "#7201a8"
             ],
             [
              0.3333333333333333,
              "#9c179e"
             ],
             [
              0.4444444444444444,
              "#bd3786"
             ],
             [
              0.5555555555555556,
              "#d8576b"
             ],
             [
              0.6666666666666666,
              "#ed7953"
             ],
             [
              0.7777777777777778,
              "#fb9f3a"
             ],
             [
              0.8888888888888888,
              "#fdca26"
             ],
             [
              1,
              "#f0f921"
             ]
            ],
            "type": "histogram2d"
           }
          ],
          "histogram2dcontour": [
           {
            "colorbar": {
             "outlinewidth": 0,
             "ticks": ""
            },
            "colorscale": [
             [
              0,
              "#0d0887"
             ],
             [
              0.1111111111111111,
              "#46039f"
             ],
             [
              0.2222222222222222,
              "#7201a8"
             ],
             [
              0.3333333333333333,
              "#9c179e"
             ],
             [
              0.4444444444444444,
              "#bd3786"
             ],
             [
              0.5555555555555556,
              "#d8576b"
             ],
             [
              0.6666666666666666,
              "#ed7953"
             ],
             [
              0.7777777777777778,
              "#fb9f3a"
             ],
             [
              0.8888888888888888,
              "#fdca26"
             ],
             [
              1,
              "#f0f921"
             ]
            ],
            "type": "histogram2dcontour"
           }
          ],
          "mesh3d": [
           {
            "colorbar": {
             "outlinewidth": 0,
             "ticks": ""
            },
            "type": "mesh3d"
           }
          ],
          "parcoords": [
           {
            "line": {
             "colorbar": {
              "outlinewidth": 0,
              "ticks": ""
             }
            },
            "type": "parcoords"
           }
          ],
          "pie": [
           {
            "automargin": true,
            "type": "pie"
           }
          ],
          "scatter": [
           {
            "fillpattern": {
             "fillmode": "overlay",
             "size": 10,
             "solidity": 0.2
            },
            "type": "scatter"
           }
          ],
          "scatter3d": [
           {
            "line": {
             "colorbar": {
              "outlinewidth": 0,
              "ticks": ""
             }
            },
            "marker": {
             "colorbar": {
              "outlinewidth": 0,
              "ticks": ""
             }
            },
            "type": "scatter3d"
           }
          ],
          "scattercarpet": [
           {
            "marker": {
             "colorbar": {
              "outlinewidth": 0,
              "ticks": ""
             }
            },
            "type": "scattercarpet"
           }
          ],
          "scattergeo": [
           {
            "marker": {
             "colorbar": {
              "outlinewidth": 0,
              "ticks": ""
             }
            },
            "type": "scattergeo"
           }
          ],
          "scattergl": [
           {
            "marker": {
             "colorbar": {
              "outlinewidth": 0,
              "ticks": ""
             }
            },
            "type": "scattergl"
           }
          ],
          "scattermapbox": [
           {
            "marker": {
             "colorbar": {
              "outlinewidth": 0,
              "ticks": ""
             }
            },
            "type": "scattermapbox"
           }
          ],
          "scatterpolar": [
           {
            "marker": {
             "colorbar": {
              "outlinewidth": 0,
              "ticks": ""
             }
            },
            "type": "scatterpolar"
           }
          ],
          "scatterpolargl": [
           {
            "marker": {
             "colorbar": {
              "outlinewidth": 0,
              "ticks": ""
             }
            },
            "type": "scatterpolargl"
           }
          ],
          "scatterternary": [
           {
            "marker": {
             "colorbar": {
              "outlinewidth": 0,
              "ticks": ""
             }
            },
            "type": "scatterternary"
           }
          ],
          "surface": [
           {
            "colorbar": {
             "outlinewidth": 0,
             "ticks": ""
            },
            "colorscale": [
             [
              0,
              "#0d0887"
             ],
             [
              0.1111111111111111,
              "#46039f"
             ],
             [
              0.2222222222222222,
              "#7201a8"
             ],
             [
              0.3333333333333333,
              "#9c179e"
             ],
             [
              0.4444444444444444,
              "#bd3786"
             ],
             [
              0.5555555555555556,
              "#d8576b"
             ],
             [
              0.6666666666666666,
              "#ed7953"
             ],
             [
              0.7777777777777778,
              "#fb9f3a"
             ],
             [
              0.8888888888888888,
              "#fdca26"
             ],
             [
              1,
              "#f0f921"
             ]
            ],
            "type": "surface"
           }
          ],
          "table": [
           {
            "cells": {
             "fill": {
              "color": "#EBF0F8"
             },
             "line": {
              "color": "white"
             }
            },
            "header": {
             "fill": {
              "color": "#C8D4E3"
             },
             "line": {
              "color": "white"
             }
            },
            "type": "table"
           }
          ]
         },
         "layout": {
          "annotationdefaults": {
           "arrowcolor": "#2a3f5f",
           "arrowhead": 0,
           "arrowwidth": 1
          },
          "autotypenumbers": "strict",
          "coloraxis": {
           "colorbar": {
            "outlinewidth": 0,
            "ticks": ""
           }
          },
          "colorscale": {
           "diverging": [
            [
             0,
             "#8e0152"
            ],
            [
             0.1,
             "#c51b7d"
            ],
            [
             0.2,
             "#de77ae"
            ],
            [
             0.3,
             "#f1b6da"
            ],
            [
             0.4,
             "#fde0ef"
            ],
            [
             0.5,
             "#f7f7f7"
            ],
            [
             0.6,
             "#e6f5d0"
            ],
            [
             0.7,
             "#b8e186"
            ],
            [
             0.8,
             "#7fbc41"
            ],
            [
             0.9,
             "#4d9221"
            ],
            [
             1,
             "#276419"
            ]
           ],
           "sequential": [
            [
             0,
             "#0d0887"
            ],
            [
             0.1111111111111111,
             "#46039f"
            ],
            [
             0.2222222222222222,
             "#7201a8"
            ],
            [
             0.3333333333333333,
             "#9c179e"
            ],
            [
             0.4444444444444444,
             "#bd3786"
            ],
            [
             0.5555555555555556,
             "#d8576b"
            ],
            [
             0.6666666666666666,
             "#ed7953"
            ],
            [
             0.7777777777777778,
             "#fb9f3a"
            ],
            [
             0.8888888888888888,
             "#fdca26"
            ],
            [
             1,
             "#f0f921"
            ]
           ],
           "sequentialminus": [
            [
             0,
             "#0d0887"
            ],
            [
             0.1111111111111111,
             "#46039f"
            ],
            [
             0.2222222222222222,
             "#7201a8"
            ],
            [
             0.3333333333333333,
             "#9c179e"
            ],
            [
             0.4444444444444444,
             "#bd3786"
            ],
            [
             0.5555555555555556,
             "#d8576b"
            ],
            [
             0.6666666666666666,
             "#ed7953"
            ],
            [
             0.7777777777777778,
             "#fb9f3a"
            ],
            [
             0.8888888888888888,
             "#fdca26"
            ],
            [
             1,
             "#f0f921"
            ]
           ]
          },
          "colorway": [
           "#636efa",
           "#EF553B",
           "#00cc96",
           "#ab63fa",
           "#FFA15A",
           "#19d3f3",
           "#FF6692",
           "#B6E880",
           "#FF97FF",
           "#FECB52"
          ],
          "font": {
           "color": "#2a3f5f"
          },
          "geo": {
           "bgcolor": "white",
           "lakecolor": "white",
           "landcolor": "#E5ECF6",
           "showlakes": true,
           "showland": true,
           "subunitcolor": "white"
          },
          "hoverlabel": {
           "align": "left"
          },
          "hovermode": "closest",
          "mapbox": {
           "style": "light"
          },
          "paper_bgcolor": "white",
          "plot_bgcolor": "#E5ECF6",
          "polar": {
           "angularaxis": {
            "gridcolor": "white",
            "linecolor": "white",
            "ticks": ""
           },
           "bgcolor": "#E5ECF6",
           "radialaxis": {
            "gridcolor": "white",
            "linecolor": "white",
            "ticks": ""
           }
          },
          "scene": {
           "xaxis": {
            "backgroundcolor": "#E5ECF6",
            "gridcolor": "white",
            "gridwidth": 2,
            "linecolor": "white",
            "showbackground": true,
            "ticks": "",
            "zerolinecolor": "white"
           },
           "yaxis": {
            "backgroundcolor": "#E5ECF6",
            "gridcolor": "white",
            "gridwidth": 2,
            "linecolor": "white",
            "showbackground": true,
            "ticks": "",
            "zerolinecolor": "white"
           },
           "zaxis": {
            "backgroundcolor": "#E5ECF6",
            "gridcolor": "white",
            "gridwidth": 2,
            "linecolor": "white",
            "showbackground": true,
            "ticks": "",
            "zerolinecolor": "white"
           }
          },
          "shapedefaults": {
           "line": {
            "color": "#2a3f5f"
           }
          },
          "ternary": {
           "aaxis": {
            "gridcolor": "white",
            "linecolor": "white",
            "ticks": ""
           },
           "baxis": {
            "gridcolor": "white",
            "linecolor": "white",
            "ticks": ""
           },
           "bgcolor": "#E5ECF6",
           "caxis": {
            "gridcolor": "white",
            "linecolor": "white",
            "ticks": ""
           }
          },
          "title": {
           "x": 0.05
          },
          "xaxis": {
           "automargin": true,
           "gridcolor": "white",
           "linecolor": "white",
           "ticks": "",
           "title": {
            "standoff": 15
           },
           "zerolinecolor": "white",
           "zerolinewidth": 2
          },
          "yaxis": {
           "automargin": true,
           "gridcolor": "white",
           "linecolor": "white",
           "ticks": "",
           "title": {
            "standoff": 15
           },
           "zerolinecolor": "white",
           "zerolinewidth": 2
          }
         }
        },
        "xaxis": {
         "anchor": "y",
         "domain": [
          0,
          1
         ],
         "title": {
          "text": "index"
         }
        },
        "yaxis": {
         "anchor": "x",
         "domain": [
          0,
          1
         ],
         "title": {
          "text": "value"
         }
        }
       }
      },
      "text/html": [
       "<div>                            <div id=\"ee2d939d-22c2-49c8-a293-1adc6e4f4596\" class=\"plotly-graph-div\" style=\"height:525px; width:100%;\"></div>            <script type=\"text/javascript\">                require([\"plotly\"], function(Plotly) {                    window.PLOTLYENV=window.PLOTLYENV || {};                                    if (document.getElementById(\"ee2d939d-22c2-49c8-a293-1adc6e4f4596\")) {                    Plotly.newPlot(                        \"ee2d939d-22c2-49c8-a293-1adc6e4f4596\",                        [{\"hovertemplate\":\"variable=\\uc11c\\uc6b8\\ud2b9\\ubcc4\\uc2dc<br>index=%{x}<br>value=%{y}<extra></extra>\",\"legendgroup\":\"\\uc11c\\uc6b8\\ud2b9\\ubcc4\\uc2dc\",\"line\":{\"color\":\"#636efa\",\"dash\":\"solid\"},\"marker\":{\"symbol\":\"circle\"},\"mode\":\"lines\",\"name\":\"\\uc11c\\uc6b8\\ud2b9\\ubcc4\\uc2dc\",\"orientation\":\"v\",\"showlegend\":true,\"x\":[\"2004\",\"2005\",\"2006\",\"2007\",\"2008\",\"2009\",\"2010\",\"2011\",\"2012\",\"2013\",\"2014\",\"2015\",\"2016\",\"2017\",\"2018\",\"2019\",\"2020\",\"2021\"],\"xaxis\":\"x\",\"y\":[10173162,10167344,10181166,10192710,10200827,10208302,10312545,10249679,10195318,10143645,10103233,10022181,9930616,9857426,9765623,9729107,9668465,9509458],\"yaxis\":\"y\",\"type\":\"scatter\"}],                        {\"template\":{\"data\":{\"histogram2dcontour\":[{\"type\":\"histogram2dcontour\",\"colorbar\":{\"outlinewidth\":0,\"ticks\":\"\"},\"colorscale\":[[0.0,\"#0d0887\"],[0.1111111111111111,\"#46039f\"],[0.2222222222222222,\"#7201a8\"],[0.3333333333333333,\"#9c179e\"],[0.4444444444444444,\"#bd3786\"],[0.5555555555555556,\"#d8576b\"],[0.6666666666666666,\"#ed7953\"],[0.7777777777777778,\"#fb9f3a\"],[0.8888888888888888,\"#fdca26\"],[1.0,\"#f0f921\"]]}],\"choropleth\":[{\"type\":\"choropleth\",\"colorbar\":{\"outlinewidth\":0,\"ticks\":\"\"}}],\"histogram2d\":[{\"type\":\"histogram2d\",\"colorbar\":{\"outlinewidth\":0,\"ticks\":\"\"},\"colorscale\":[[0.0,\"#0d0887\"],[0.1111111111111111,\"#46039f\"],[0.2222222222222222,\"#7201a8\"],[0.3333333333333333,\"#9c179e\"],[0.4444444444444444,\"#bd3786\"],[0.5555555555555556,\"#d8576b\"],[0.6666666666666666,\"#ed7953\"],[0.7777777777777778,\"#fb9f3a\"],[0.8888888888888888,\"#fdca26\"],[1.0,\"#f0f921\"]]}],\"heatmap\":[{\"type\":\"heatmap\",\"colorbar\":{\"outlinewidth\":0,\"ticks\":\"\"},\"colorscale\":[[0.0,\"#0d0887\"],[0.1111111111111111,\"#46039f\"],[0.2222222222222222,\"#7201a8\"],[0.3333333333333333,\"#9c179e\"],[0.4444444444444444,\"#bd3786\"],[0.5555555555555556,\"#d8576b\"],[0.6666666666666666,\"#ed7953\"],[0.7777777777777778,\"#fb9f3a\"],[0.8888888888888888,\"#fdca26\"],[1.0,\"#f0f921\"]]}],\"heatmapgl\":[{\"type\":\"heatmapgl\",\"colorbar\":{\"outlinewidth\":0,\"ticks\":\"\"},\"colorscale\":[[0.0,\"#0d0887\"],[0.1111111111111111,\"#46039f\"],[0.2222222222222222,\"#7201a8\"],[0.3333333333333333,\"#9c179e\"],[0.4444444444444444,\"#bd3786\"],[0.5555555555555556,\"#d8576b\"],[0.6666666666666666,\"#ed7953\"],[0.7777777777777778,\"#fb9f3a\"],[0.8888888888888888,\"#fdca26\"],[1.0,\"#f0f921\"]]}],\"contourcarpet\":[{\"type\":\"contourcarpet\",\"colorbar\":{\"outlinewidth\":0,\"ticks\":\"\"}}],\"contour\":[{\"type\":\"contour\",\"colorbar\":{\"outlinewidth\":0,\"ticks\":\"\"},\"colorscale\":[[0.0,\"#0d0887\"],[0.1111111111111111,\"#46039f\"],[0.2222222222222222,\"#7201a8\"],[0.3333333333333333,\"#9c179e\"],[0.4444444444444444,\"#bd3786\"],[0.5555555555555556,\"#d8576b\"],[0.6666666666666666,\"#ed7953\"],[0.7777777777777778,\"#fb9f3a\"],[0.8888888888888888,\"#fdca26\"],[1.0,\"#f0f921\"]]}],\"surface\":[{\"type\":\"surface\",\"colorbar\":{\"outlinewidth\":0,\"ticks\":\"\"},\"colorscale\":[[0.0,\"#0d0887\"],[0.1111111111111111,\"#46039f\"],[0.2222222222222222,\"#7201a8\"],[0.3333333333333333,\"#9c179e\"],[0.4444444444444444,\"#bd3786\"],[0.5555555555555556,\"#d8576b\"],[0.6666666666666666,\"#ed7953\"],[0.7777777777777778,\"#fb9f3a\"],[0.8888888888888888,\"#fdca26\"],[1.0,\"#f0f921\"]]}],\"mesh3d\":[{\"type\":\"mesh3d\",\"colorbar\":{\"outlinewidth\":0,\"ticks\":\"\"}}],\"scatter\":[{\"fillpattern\":{\"fillmode\":\"overlay\",\"size\":10,\"solidity\":0.2},\"type\":\"scatter\"}],\"parcoords\":[{\"type\":\"parcoords\",\"line\":{\"colorbar\":{\"outlinewidth\":0,\"ticks\":\"\"}}}],\"scatterpolargl\":[{\"type\":\"scatterpolargl\",\"marker\":{\"colorbar\":{\"outlinewidth\":0,\"ticks\":\"\"}}}],\"bar\":[{\"error_x\":{\"color\":\"#2a3f5f\"},\"error_y\":{\"color\":\"#2a3f5f\"},\"marker\":{\"line\":{\"color\":\"#E5ECF6\",\"width\":0.5},\"pattern\":{\"fillmode\":\"overlay\",\"size\":10,\"solidity\":0.2}},\"type\":\"bar\"}],\"scattergeo\":[{\"type\":\"scattergeo\",\"marker\":{\"colorbar\":{\"outlinewidth\":0,\"ticks\":\"\"}}}],\"scatterpolar\":[{\"type\":\"scatterpolar\",\"marker\":{\"colorbar\":{\"outlinewidth\":0,\"ticks\":\"\"}}}],\"histogram\":[{\"marker\":{\"pattern\":{\"fillmode\":\"overlay\",\"size\":10,\"solidity\":0.2}},\"type\":\"histogram\"}],\"scattergl\":[{\"type\":\"scattergl\",\"marker\":{\"colorbar\":{\"outlinewidth\":0,\"ticks\":\"\"}}}],\"scatter3d\":[{\"type\":\"scatter3d\",\"line\":{\"colorbar\":{\"outlinewidth\":0,\"ticks\":\"\"}},\"marker\":{\"colorbar\":{\"outlinewidth\":0,\"ticks\":\"\"}}}],\"scattermapbox\":[{\"type\":\"scattermapbox\",\"marker\":{\"colorbar\":{\"outlinewidth\":0,\"ticks\":\"\"}}}],\"scatterternary\":[{\"type\":\"scatterternary\",\"marker\":{\"colorbar\":{\"outlinewidth\":0,\"ticks\":\"\"}}}],\"scattercarpet\":[{\"type\":\"scattercarpet\",\"marker\":{\"colorbar\":{\"outlinewidth\":0,\"ticks\":\"\"}}}],\"carpet\":[{\"aaxis\":{\"endlinecolor\":\"#2a3f5f\",\"gridcolor\":\"white\",\"linecolor\":\"white\",\"minorgridcolor\":\"white\",\"startlinecolor\":\"#2a3f5f\"},\"baxis\":{\"endlinecolor\":\"#2a3f5f\",\"gridcolor\":\"white\",\"linecolor\":\"white\",\"minorgridcolor\":\"white\",\"startlinecolor\":\"#2a3f5f\"},\"type\":\"carpet\"}],\"table\":[{\"cells\":{\"fill\":{\"color\":\"#EBF0F8\"},\"line\":{\"color\":\"white\"}},\"header\":{\"fill\":{\"color\":\"#C8D4E3\"},\"line\":{\"color\":\"white\"}},\"type\":\"table\"}],\"barpolar\":[{\"marker\":{\"line\":{\"color\":\"#E5ECF6\",\"width\":0.5},\"pattern\":{\"fillmode\":\"overlay\",\"size\":10,\"solidity\":0.2}},\"type\":\"barpolar\"}],\"pie\":[{\"automargin\":true,\"type\":\"pie\"}]},\"layout\":{\"autotypenumbers\":\"strict\",\"colorway\":[\"#636efa\",\"#EF553B\",\"#00cc96\",\"#ab63fa\",\"#FFA15A\",\"#19d3f3\",\"#FF6692\",\"#B6E880\",\"#FF97FF\",\"#FECB52\"],\"font\":{\"color\":\"#2a3f5f\"},\"hovermode\":\"closest\",\"hoverlabel\":{\"align\":\"left\"},\"paper_bgcolor\":\"white\",\"plot_bgcolor\":\"#E5ECF6\",\"polar\":{\"bgcolor\":\"#E5ECF6\",\"angularaxis\":{\"gridcolor\":\"white\",\"linecolor\":\"white\",\"ticks\":\"\"},\"radialaxis\":{\"gridcolor\":\"white\",\"linecolor\":\"white\",\"ticks\":\"\"}},\"ternary\":{\"bgcolor\":\"#E5ECF6\",\"aaxis\":{\"gridcolor\":\"white\",\"linecolor\":\"white\",\"ticks\":\"\"},\"baxis\":{\"gridcolor\":\"white\",\"linecolor\":\"white\",\"ticks\":\"\"},\"caxis\":{\"gridcolor\":\"white\",\"linecolor\":\"white\",\"ticks\":\"\"}},\"coloraxis\":{\"colorbar\":{\"outlinewidth\":0,\"ticks\":\"\"}},\"colorscale\":{\"sequential\":[[0.0,\"#0d0887\"],[0.1111111111111111,\"#46039f\"],[0.2222222222222222,\"#7201a8\"],[0.3333333333333333,\"#9c179e\"],[0.4444444444444444,\"#bd3786\"],[0.5555555555555556,\"#d8576b\"],[0.6666666666666666,\"#ed7953\"],[0.7777777777777778,\"#fb9f3a\"],[0.8888888888888888,\"#fdca26\"],[1.0,\"#f0f921\"]],\"sequentialminus\":[[0.0,\"#0d0887\"],[0.1111111111111111,\"#46039f\"],[0.2222222222222222,\"#7201a8\"],[0.3333333333333333,\"#9c179e\"],[0.4444444444444444,\"#bd3786\"],[0.5555555555555556,\"#d8576b\"],[0.6666666666666666,\"#ed7953\"],[0.7777777777777778,\"#fb9f3a\"],[0.8888888888888888,\"#fdca26\"],[1.0,\"#f0f921\"]],\"diverging\":[[0,\"#8e0152\"],[0.1,\"#c51b7d\"],[0.2,\"#de77ae\"],[0.3,\"#f1b6da\"],[0.4,\"#fde0ef\"],[0.5,\"#f7f7f7\"],[0.6,\"#e6f5d0\"],[0.7,\"#b8e186\"],[0.8,\"#7fbc41\"],[0.9,\"#4d9221\"],[1,\"#276419\"]]},\"xaxis\":{\"gridcolor\":\"white\",\"linecolor\":\"white\",\"ticks\":\"\",\"title\":{\"standoff\":15},\"zerolinecolor\":\"white\",\"automargin\":true,\"zerolinewidth\":2},\"yaxis\":{\"gridcolor\":\"white\",\"linecolor\":\"white\",\"ticks\":\"\",\"title\":{\"standoff\":15},\"zerolinecolor\":\"white\",\"automargin\":true,\"zerolinewidth\":2},\"scene\":{\"xaxis\":{\"backgroundcolor\":\"#E5ECF6\",\"gridcolor\":\"white\",\"linecolor\":\"white\",\"showbackground\":true,\"ticks\":\"\",\"zerolinecolor\":\"white\",\"gridwidth\":2},\"yaxis\":{\"backgroundcolor\":\"#E5ECF6\",\"gridcolor\":\"white\",\"linecolor\":\"white\",\"showbackground\":true,\"ticks\":\"\",\"zerolinecolor\":\"white\",\"gridwidth\":2},\"zaxis\":{\"backgroundcolor\":\"#E5ECF6\",\"gridcolor\":\"white\",\"linecolor\":\"white\",\"showbackground\":true,\"ticks\":\"\",\"zerolinecolor\":\"white\",\"gridwidth\":2}},\"shapedefaults\":{\"line\":{\"color\":\"#2a3f5f\"}},\"annotationdefaults\":{\"arrowcolor\":\"#2a3f5f\",\"arrowhead\":0,\"arrowwidth\":1},\"geo\":{\"bgcolor\":\"white\",\"landcolor\":\"#E5ECF6\",\"subunitcolor\":\"white\",\"showland\":true,\"showlakes\":true,\"lakecolor\":\"white\"},\"title\":{\"x\":0.05},\"mapbox\":{\"style\":\"light\"}}},\"xaxis\":{\"anchor\":\"y\",\"domain\":[0.0,1.0],\"title\":{\"text\":\"index\"}},\"yaxis\":{\"anchor\":\"x\",\"domain\":[0.0,1.0],\"title\":{\"text\":\"value\"}},\"legend\":{\"title\":{\"text\":\"variable\"},\"tracegroupgap\":0},\"margin\":{\"t\":60}},                        {\"responsive\": true}                    ).then(function(){\n",
       "                            \n",
       "var gd = document.getElementById('ee2d939d-22c2-49c8-a293-1adc6e4f4596');\n",
       "var x = new MutationObserver(function (mutations, observer) {{\n",
       "        var display = window.getComputedStyle(gd).display;\n",
       "        if (!display || display === 'none') {{\n",
       "            console.log([gd, 'removed!']);\n",
       "            Plotly.purge(gd);\n",
       "            observer.disconnect();\n",
       "        }}\n",
       "}});\n",
       "\n",
       "// Listen for the removal of the full notebook cells\n",
       "var notebookContainer = gd.closest('#notebook-container');\n",
       "if (notebookContainer) {{\n",
       "    x.observe(notebookContainer, {childList: true});\n",
       "}}\n",
       "\n",
       "// Listen for the clearing of the current output cell\n",
       "var outputEl = gd.closest('.output');\n",
       "if (outputEl) {{\n",
       "    x.observe(outputEl, {childList: true});\n",
       "}}\n",
       "\n",
       "                        })                };                });            </script>        </div>"
      ]
     },
     "metadata": {},
     "output_type": "display_data"
    },
    {
     "data": {
      "text/plain": [
       "<Figure size 1080x288 with 0 Axes>"
      ]
     },
     "metadata": {},
     "output_type": "display_data"
    }
   ],
   "source": [
    "#총인구수-서울특별시\n",
    "plt.figure(figsize = (15,4))\n",
    "\n",
    "px.line(data1['서울특별시'])\n"
   ]
  },
  {
   "cell_type": "code",
   "execution_count": 596,
   "id": "fc6eda3e",
   "metadata": {},
   "outputs": [
    {
     "data": {
      "application/vnd.plotly.v1+json": {
       "config": {
        "plotlyServerURL": "https://plot.ly"
       },
       "data": [
        {
         "hovertemplate": "variable=전국<br>index=%{x}<br>value=%{y}<extra></extra>",
         "legendgroup": "전국",
         "line": {
          "color": "#636efa",
          "dash": "solid"
         },
         "marker": {
          "symbol": "circle"
         },
         "mode": "lines",
         "name": "전국",
         "orientation": "v",
         "showlegend": true,
         "type": "scatter",
         "x": [
          "2004",
          "2005",
          "2006",
          "2007",
          "2008",
          "2009",
          "2010",
          "2011",
          "2012",
          "2013",
          "2014",
          "2015",
          "2016",
          "2017",
          "2018",
          "2019",
          "2020",
          "2021"
         ],
         "xaxis": "x",
         "y": [
          48583805,
          48782274,
          48991779,
          49268928,
          49540367,
          49773145,
          50515666,
          50734284,
          50948272,
          51141463,
          51327916,
          51529338,
          51696216,
          51778544,
          51826059,
          51849861,
          51829023,
          51638809
         ],
         "yaxis": "y"
        }
       ],
       "layout": {
        "legend": {
         "title": {
          "text": "variable"
         },
         "tracegroupgap": 0
        },
        "margin": {
         "t": 60
        },
        "template": {
         "data": {
          "bar": [
           {
            "error_x": {
             "color": "#2a3f5f"
            },
            "error_y": {
             "color": "#2a3f5f"
            },
            "marker": {
             "line": {
              "color": "#E5ECF6",
              "width": 0.5
             },
             "pattern": {
              "fillmode": "overlay",
              "size": 10,
              "solidity": 0.2
             }
            },
            "type": "bar"
           }
          ],
          "barpolar": [
           {
            "marker": {
             "line": {
              "color": "#E5ECF6",
              "width": 0.5
             },
             "pattern": {
              "fillmode": "overlay",
              "size": 10,
              "solidity": 0.2
             }
            },
            "type": "barpolar"
           }
          ],
          "carpet": [
           {
            "aaxis": {
             "endlinecolor": "#2a3f5f",
             "gridcolor": "white",
             "linecolor": "white",
             "minorgridcolor": "white",
             "startlinecolor": "#2a3f5f"
            },
            "baxis": {
             "endlinecolor": "#2a3f5f",
             "gridcolor": "white",
             "linecolor": "white",
             "minorgridcolor": "white",
             "startlinecolor": "#2a3f5f"
            },
            "type": "carpet"
           }
          ],
          "choropleth": [
           {
            "colorbar": {
             "outlinewidth": 0,
             "ticks": ""
            },
            "type": "choropleth"
           }
          ],
          "contour": [
           {
            "colorbar": {
             "outlinewidth": 0,
             "ticks": ""
            },
            "colorscale": [
             [
              0,
              "#0d0887"
             ],
             [
              0.1111111111111111,
              "#46039f"
             ],
             [
              0.2222222222222222,
              "#7201a8"
             ],
             [
              0.3333333333333333,
              "#9c179e"
             ],
             [
              0.4444444444444444,
              "#bd3786"
             ],
             [
              0.5555555555555556,
              "#d8576b"
             ],
             [
              0.6666666666666666,
              "#ed7953"
             ],
             [
              0.7777777777777778,
              "#fb9f3a"
             ],
             [
              0.8888888888888888,
              "#fdca26"
             ],
             [
              1,
              "#f0f921"
             ]
            ],
            "type": "contour"
           }
          ],
          "contourcarpet": [
           {
            "colorbar": {
             "outlinewidth": 0,
             "ticks": ""
            },
            "type": "contourcarpet"
           }
          ],
          "heatmap": [
           {
            "colorbar": {
             "outlinewidth": 0,
             "ticks": ""
            },
            "colorscale": [
             [
              0,
              "#0d0887"
             ],
             [
              0.1111111111111111,
              "#46039f"
             ],
             [
              0.2222222222222222,
              "#7201a8"
             ],
             [
              0.3333333333333333,
              "#9c179e"
             ],
             [
              0.4444444444444444,
              "#bd3786"
             ],
             [
              0.5555555555555556,
              "#d8576b"
             ],
             [
              0.6666666666666666,
              "#ed7953"
             ],
             [
              0.7777777777777778,
              "#fb9f3a"
             ],
             [
              0.8888888888888888,
              "#fdca26"
             ],
             [
              1,
              "#f0f921"
             ]
            ],
            "type": "heatmap"
           }
          ],
          "heatmapgl": [
           {
            "colorbar": {
             "outlinewidth": 0,
             "ticks": ""
            },
            "colorscale": [
             [
              0,
              "#0d0887"
             ],
             [
              0.1111111111111111,
              "#46039f"
             ],
             [
              0.2222222222222222,
              "#7201a8"
             ],
             [
              0.3333333333333333,
              "#9c179e"
             ],
             [
              0.4444444444444444,
              "#bd3786"
             ],
             [
              0.5555555555555556,
              "#d8576b"
             ],
             [
              0.6666666666666666,
              "#ed7953"
             ],
             [
              0.7777777777777778,
              "#fb9f3a"
             ],
             [
              0.8888888888888888,
              "#fdca26"
             ],
             [
              1,
              "#f0f921"
             ]
            ],
            "type": "heatmapgl"
           }
          ],
          "histogram": [
           {
            "marker": {
             "pattern": {
              "fillmode": "overlay",
              "size": 10,
              "solidity": 0.2
             }
            },
            "type": "histogram"
           }
          ],
          "histogram2d": [
           {
            "colorbar": {
             "outlinewidth": 0,
             "ticks": ""
            },
            "colorscale": [
             [
              0,
              "#0d0887"
             ],
             [
              0.1111111111111111,
              "#46039f"
             ],
             [
              0.2222222222222222,
              "#7201a8"
             ],
             [
              0.3333333333333333,
              "#9c179e"
             ],
             [
              0.4444444444444444,
              "#bd3786"
             ],
             [
              0.5555555555555556,
              "#d8576b"
             ],
             [
              0.6666666666666666,
              "#ed7953"
             ],
             [
              0.7777777777777778,
              "#fb9f3a"
             ],
             [
              0.8888888888888888,
              "#fdca26"
             ],
             [
              1,
              "#f0f921"
             ]
            ],
            "type": "histogram2d"
           }
          ],
          "histogram2dcontour": [
           {
            "colorbar": {
             "outlinewidth": 0,
             "ticks": ""
            },
            "colorscale": [
             [
              0,
              "#0d0887"
             ],
             [
              0.1111111111111111,
              "#46039f"
             ],
             [
              0.2222222222222222,
              "#7201a8"
             ],
             [
              0.3333333333333333,
              "#9c179e"
             ],
             [
              0.4444444444444444,
              "#bd3786"
             ],
             [
              0.5555555555555556,
              "#d8576b"
             ],
             [
              0.6666666666666666,
              "#ed7953"
             ],
             [
              0.7777777777777778,
              "#fb9f3a"
             ],
             [
              0.8888888888888888,
              "#fdca26"
             ],
             [
              1,
              "#f0f921"
             ]
            ],
            "type": "histogram2dcontour"
           }
          ],
          "mesh3d": [
           {
            "colorbar": {
             "outlinewidth": 0,
             "ticks": ""
            },
            "type": "mesh3d"
           }
          ],
          "parcoords": [
           {
            "line": {
             "colorbar": {
              "outlinewidth": 0,
              "ticks": ""
             }
            },
            "type": "parcoords"
           }
          ],
          "pie": [
           {
            "automargin": true,
            "type": "pie"
           }
          ],
          "scatter": [
           {
            "fillpattern": {
             "fillmode": "overlay",
             "size": 10,
             "solidity": 0.2
            },
            "type": "scatter"
           }
          ],
          "scatter3d": [
           {
            "line": {
             "colorbar": {
              "outlinewidth": 0,
              "ticks": ""
             }
            },
            "marker": {
             "colorbar": {
              "outlinewidth": 0,
              "ticks": ""
             }
            },
            "type": "scatter3d"
           }
          ],
          "scattercarpet": [
           {
            "marker": {
             "colorbar": {
              "outlinewidth": 0,
              "ticks": ""
             }
            },
            "type": "scattercarpet"
           }
          ],
          "scattergeo": [
           {
            "marker": {
             "colorbar": {
              "outlinewidth": 0,
              "ticks": ""
             }
            },
            "type": "scattergeo"
           }
          ],
          "scattergl": [
           {
            "marker": {
             "colorbar": {
              "outlinewidth": 0,
              "ticks": ""
             }
            },
            "type": "scattergl"
           }
          ],
          "scattermapbox": [
           {
            "marker": {
             "colorbar": {
              "outlinewidth": 0,
              "ticks": ""
             }
            },
            "type": "scattermapbox"
           }
          ],
          "scatterpolar": [
           {
            "marker": {
             "colorbar": {
              "outlinewidth": 0,
              "ticks": ""
             }
            },
            "type": "scatterpolar"
           }
          ],
          "scatterpolargl": [
           {
            "marker": {
             "colorbar": {
              "outlinewidth": 0,
              "ticks": ""
             }
            },
            "type": "scatterpolargl"
           }
          ],
          "scatterternary": [
           {
            "marker": {
             "colorbar": {
              "outlinewidth": 0,
              "ticks": ""
             }
            },
            "type": "scatterternary"
           }
          ],
          "surface": [
           {
            "colorbar": {
             "outlinewidth": 0,
             "ticks": ""
            },
            "colorscale": [
             [
              0,
              "#0d0887"
             ],
             [
              0.1111111111111111,
              "#46039f"
             ],
             [
              0.2222222222222222,
              "#7201a8"
             ],
             [
              0.3333333333333333,
              "#9c179e"
             ],
             [
              0.4444444444444444,
              "#bd3786"
             ],
             [
              0.5555555555555556,
              "#d8576b"
             ],
             [
              0.6666666666666666,
              "#ed7953"
             ],
             [
              0.7777777777777778,
              "#fb9f3a"
             ],
             [
              0.8888888888888888,
              "#fdca26"
             ],
             [
              1,
              "#f0f921"
             ]
            ],
            "type": "surface"
           }
          ],
          "table": [
           {
            "cells": {
             "fill": {
              "color": "#EBF0F8"
             },
             "line": {
              "color": "white"
             }
            },
            "header": {
             "fill": {
              "color": "#C8D4E3"
             },
             "line": {
              "color": "white"
             }
            },
            "type": "table"
           }
          ]
         },
         "layout": {
          "annotationdefaults": {
           "arrowcolor": "#2a3f5f",
           "arrowhead": 0,
           "arrowwidth": 1
          },
          "autotypenumbers": "strict",
          "coloraxis": {
           "colorbar": {
            "outlinewidth": 0,
            "ticks": ""
           }
          },
          "colorscale": {
           "diverging": [
            [
             0,
             "#8e0152"
            ],
            [
             0.1,
             "#c51b7d"
            ],
            [
             0.2,
             "#de77ae"
            ],
            [
             0.3,
             "#f1b6da"
            ],
            [
             0.4,
             "#fde0ef"
            ],
            [
             0.5,
             "#f7f7f7"
            ],
            [
             0.6,
             "#e6f5d0"
            ],
            [
             0.7,
             "#b8e186"
            ],
            [
             0.8,
             "#7fbc41"
            ],
            [
             0.9,
             "#4d9221"
            ],
            [
             1,
             "#276419"
            ]
           ],
           "sequential": [
            [
             0,
             "#0d0887"
            ],
            [
             0.1111111111111111,
             "#46039f"
            ],
            [
             0.2222222222222222,
             "#7201a8"
            ],
            [
             0.3333333333333333,
             "#9c179e"
            ],
            [
             0.4444444444444444,
             "#bd3786"
            ],
            [
             0.5555555555555556,
             "#d8576b"
            ],
            [
             0.6666666666666666,
             "#ed7953"
            ],
            [
             0.7777777777777778,
             "#fb9f3a"
            ],
            [
             0.8888888888888888,
             "#fdca26"
            ],
            [
             1,
             "#f0f921"
            ]
           ],
           "sequentialminus": [
            [
             0,
             "#0d0887"
            ],
            [
             0.1111111111111111,
             "#46039f"
            ],
            [
             0.2222222222222222,
             "#7201a8"
            ],
            [
             0.3333333333333333,
             "#9c179e"
            ],
            [
             0.4444444444444444,
             "#bd3786"
            ],
            [
             0.5555555555555556,
             "#d8576b"
            ],
            [
             0.6666666666666666,
             "#ed7953"
            ],
            [
             0.7777777777777778,
             "#fb9f3a"
            ],
            [
             0.8888888888888888,
             "#fdca26"
            ],
            [
             1,
             "#f0f921"
            ]
           ]
          },
          "colorway": [
           "#636efa",
           "#EF553B",
           "#00cc96",
           "#ab63fa",
           "#FFA15A",
           "#19d3f3",
           "#FF6692",
           "#B6E880",
           "#FF97FF",
           "#FECB52"
          ],
          "font": {
           "color": "#2a3f5f"
          },
          "geo": {
           "bgcolor": "white",
           "lakecolor": "white",
           "landcolor": "#E5ECF6",
           "showlakes": true,
           "showland": true,
           "subunitcolor": "white"
          },
          "hoverlabel": {
           "align": "left"
          },
          "hovermode": "closest",
          "mapbox": {
           "style": "light"
          },
          "paper_bgcolor": "white",
          "plot_bgcolor": "#E5ECF6",
          "polar": {
           "angularaxis": {
            "gridcolor": "white",
            "linecolor": "white",
            "ticks": ""
           },
           "bgcolor": "#E5ECF6",
           "radialaxis": {
            "gridcolor": "white",
            "linecolor": "white",
            "ticks": ""
           }
          },
          "scene": {
           "xaxis": {
            "backgroundcolor": "#E5ECF6",
            "gridcolor": "white",
            "gridwidth": 2,
            "linecolor": "white",
            "showbackground": true,
            "ticks": "",
            "zerolinecolor": "white"
           },
           "yaxis": {
            "backgroundcolor": "#E5ECF6",
            "gridcolor": "white",
            "gridwidth": 2,
            "linecolor": "white",
            "showbackground": true,
            "ticks": "",
            "zerolinecolor": "white"
           },
           "zaxis": {
            "backgroundcolor": "#E5ECF6",
            "gridcolor": "white",
            "gridwidth": 2,
            "linecolor": "white",
            "showbackground": true,
            "ticks": "",
            "zerolinecolor": "white"
           }
          },
          "shapedefaults": {
           "line": {
            "color": "#2a3f5f"
           }
          },
          "ternary": {
           "aaxis": {
            "gridcolor": "white",
            "linecolor": "white",
            "ticks": ""
           },
           "baxis": {
            "gridcolor": "white",
            "linecolor": "white",
            "ticks": ""
           },
           "bgcolor": "#E5ECF6",
           "caxis": {
            "gridcolor": "white",
            "linecolor": "white",
            "ticks": ""
           }
          },
          "title": {
           "x": 0.05
          },
          "xaxis": {
           "automargin": true,
           "gridcolor": "white",
           "linecolor": "white",
           "ticks": "",
           "title": {
            "standoff": 15
           },
           "zerolinecolor": "white",
           "zerolinewidth": 2
          },
          "yaxis": {
           "automargin": true,
           "gridcolor": "white",
           "linecolor": "white",
           "ticks": "",
           "title": {
            "standoff": 15
           },
           "zerolinecolor": "white",
           "zerolinewidth": 2
          }
         }
        },
        "xaxis": {
         "anchor": "y",
         "domain": [
          0,
          1
         ],
         "title": {
          "text": "index"
         }
        },
        "yaxis": {
         "anchor": "x",
         "domain": [
          0,
          1
         ],
         "title": {
          "text": "value"
         }
        }
       }
      },
      "text/html": [
       "<div>                            <div id=\"7b5cf470-0b5b-4bf0-9c92-773bbd5ddf54\" class=\"plotly-graph-div\" style=\"height:525px; width:100%;\"></div>            <script type=\"text/javascript\">                require([\"plotly\"], function(Plotly) {                    window.PLOTLYENV=window.PLOTLYENV || {};                                    if (document.getElementById(\"7b5cf470-0b5b-4bf0-9c92-773bbd5ddf54\")) {                    Plotly.newPlot(                        \"7b5cf470-0b5b-4bf0-9c92-773bbd5ddf54\",                        [{\"hovertemplate\":\"variable=\\uc804\\uad6d<br>index=%{x}<br>value=%{y}<extra></extra>\",\"legendgroup\":\"\\uc804\\uad6d\",\"line\":{\"color\":\"#636efa\",\"dash\":\"solid\"},\"marker\":{\"symbol\":\"circle\"},\"mode\":\"lines\",\"name\":\"\\uc804\\uad6d\",\"orientation\":\"v\",\"showlegend\":true,\"x\":[\"2004\",\"2005\",\"2006\",\"2007\",\"2008\",\"2009\",\"2010\",\"2011\",\"2012\",\"2013\",\"2014\",\"2015\",\"2016\",\"2017\",\"2018\",\"2019\",\"2020\",\"2021\"],\"xaxis\":\"x\",\"y\":[48583805,48782274,48991779,49268928,49540367,49773145,50515666,50734284,50948272,51141463,51327916,51529338,51696216,51778544,51826059,51849861,51829023,51638809],\"yaxis\":\"y\",\"type\":\"scatter\"}],                        {\"template\":{\"data\":{\"histogram2dcontour\":[{\"type\":\"histogram2dcontour\",\"colorbar\":{\"outlinewidth\":0,\"ticks\":\"\"},\"colorscale\":[[0.0,\"#0d0887\"],[0.1111111111111111,\"#46039f\"],[0.2222222222222222,\"#7201a8\"],[0.3333333333333333,\"#9c179e\"],[0.4444444444444444,\"#bd3786\"],[0.5555555555555556,\"#d8576b\"],[0.6666666666666666,\"#ed7953\"],[0.7777777777777778,\"#fb9f3a\"],[0.8888888888888888,\"#fdca26\"],[1.0,\"#f0f921\"]]}],\"choropleth\":[{\"type\":\"choropleth\",\"colorbar\":{\"outlinewidth\":0,\"ticks\":\"\"}}],\"histogram2d\":[{\"type\":\"histogram2d\",\"colorbar\":{\"outlinewidth\":0,\"ticks\":\"\"},\"colorscale\":[[0.0,\"#0d0887\"],[0.1111111111111111,\"#46039f\"],[0.2222222222222222,\"#7201a8\"],[0.3333333333333333,\"#9c179e\"],[0.4444444444444444,\"#bd3786\"],[0.5555555555555556,\"#d8576b\"],[0.6666666666666666,\"#ed7953\"],[0.7777777777777778,\"#fb9f3a\"],[0.8888888888888888,\"#fdca26\"],[1.0,\"#f0f921\"]]}],\"heatmap\":[{\"type\":\"heatmap\",\"colorbar\":{\"outlinewidth\":0,\"ticks\":\"\"},\"colorscale\":[[0.0,\"#0d0887\"],[0.1111111111111111,\"#46039f\"],[0.2222222222222222,\"#7201a8\"],[0.3333333333333333,\"#9c179e\"],[0.4444444444444444,\"#bd3786\"],[0.5555555555555556,\"#d8576b\"],[0.6666666666666666,\"#ed7953\"],[0.7777777777777778,\"#fb9f3a\"],[0.8888888888888888,\"#fdca26\"],[1.0,\"#f0f921\"]]}],\"heatmapgl\":[{\"type\":\"heatmapgl\",\"colorbar\":{\"outlinewidth\":0,\"ticks\":\"\"},\"colorscale\":[[0.0,\"#0d0887\"],[0.1111111111111111,\"#46039f\"],[0.2222222222222222,\"#7201a8\"],[0.3333333333333333,\"#9c179e\"],[0.4444444444444444,\"#bd3786\"],[0.5555555555555556,\"#d8576b\"],[0.6666666666666666,\"#ed7953\"],[0.7777777777777778,\"#fb9f3a\"],[0.8888888888888888,\"#fdca26\"],[1.0,\"#f0f921\"]]}],\"contourcarpet\":[{\"type\":\"contourcarpet\",\"colorbar\":{\"outlinewidth\":0,\"ticks\":\"\"}}],\"contour\":[{\"type\":\"contour\",\"colorbar\":{\"outlinewidth\":0,\"ticks\":\"\"},\"colorscale\":[[0.0,\"#0d0887\"],[0.1111111111111111,\"#46039f\"],[0.2222222222222222,\"#7201a8\"],[0.3333333333333333,\"#9c179e\"],[0.4444444444444444,\"#bd3786\"],[0.5555555555555556,\"#d8576b\"],[0.6666666666666666,\"#ed7953\"],[0.7777777777777778,\"#fb9f3a\"],[0.8888888888888888,\"#fdca26\"],[1.0,\"#f0f921\"]]}],\"surface\":[{\"type\":\"surface\",\"colorbar\":{\"outlinewidth\":0,\"ticks\":\"\"},\"colorscale\":[[0.0,\"#0d0887\"],[0.1111111111111111,\"#46039f\"],[0.2222222222222222,\"#7201a8\"],[0.3333333333333333,\"#9c179e\"],[0.4444444444444444,\"#bd3786\"],[0.5555555555555556,\"#d8576b\"],[0.6666666666666666,\"#ed7953\"],[0.7777777777777778,\"#fb9f3a\"],[0.8888888888888888,\"#fdca26\"],[1.0,\"#f0f921\"]]}],\"mesh3d\":[{\"type\":\"mesh3d\",\"colorbar\":{\"outlinewidth\":0,\"ticks\":\"\"}}],\"scatter\":[{\"fillpattern\":{\"fillmode\":\"overlay\",\"size\":10,\"solidity\":0.2},\"type\":\"scatter\"}],\"parcoords\":[{\"type\":\"parcoords\",\"line\":{\"colorbar\":{\"outlinewidth\":0,\"ticks\":\"\"}}}],\"scatterpolargl\":[{\"type\":\"scatterpolargl\",\"marker\":{\"colorbar\":{\"outlinewidth\":0,\"ticks\":\"\"}}}],\"bar\":[{\"error_x\":{\"color\":\"#2a3f5f\"},\"error_y\":{\"color\":\"#2a3f5f\"},\"marker\":{\"line\":{\"color\":\"#E5ECF6\",\"width\":0.5},\"pattern\":{\"fillmode\":\"overlay\",\"size\":10,\"solidity\":0.2}},\"type\":\"bar\"}],\"scattergeo\":[{\"type\":\"scattergeo\",\"marker\":{\"colorbar\":{\"outlinewidth\":0,\"ticks\":\"\"}}}],\"scatterpolar\":[{\"type\":\"scatterpolar\",\"marker\":{\"colorbar\":{\"outlinewidth\":0,\"ticks\":\"\"}}}],\"histogram\":[{\"marker\":{\"pattern\":{\"fillmode\":\"overlay\",\"size\":10,\"solidity\":0.2}},\"type\":\"histogram\"}],\"scattergl\":[{\"type\":\"scattergl\",\"marker\":{\"colorbar\":{\"outlinewidth\":0,\"ticks\":\"\"}}}],\"scatter3d\":[{\"type\":\"scatter3d\",\"line\":{\"colorbar\":{\"outlinewidth\":0,\"ticks\":\"\"}},\"marker\":{\"colorbar\":{\"outlinewidth\":0,\"ticks\":\"\"}}}],\"scattermapbox\":[{\"type\":\"scattermapbox\",\"marker\":{\"colorbar\":{\"outlinewidth\":0,\"ticks\":\"\"}}}],\"scatterternary\":[{\"type\":\"scatterternary\",\"marker\":{\"colorbar\":{\"outlinewidth\":0,\"ticks\":\"\"}}}],\"scattercarpet\":[{\"type\":\"scattercarpet\",\"marker\":{\"colorbar\":{\"outlinewidth\":0,\"ticks\":\"\"}}}],\"carpet\":[{\"aaxis\":{\"endlinecolor\":\"#2a3f5f\",\"gridcolor\":\"white\",\"linecolor\":\"white\",\"minorgridcolor\":\"white\",\"startlinecolor\":\"#2a3f5f\"},\"baxis\":{\"endlinecolor\":\"#2a3f5f\",\"gridcolor\":\"white\",\"linecolor\":\"white\",\"minorgridcolor\":\"white\",\"startlinecolor\":\"#2a3f5f\"},\"type\":\"carpet\"}],\"table\":[{\"cells\":{\"fill\":{\"color\":\"#EBF0F8\"},\"line\":{\"color\":\"white\"}},\"header\":{\"fill\":{\"color\":\"#C8D4E3\"},\"line\":{\"color\":\"white\"}},\"type\":\"table\"}],\"barpolar\":[{\"marker\":{\"line\":{\"color\":\"#E5ECF6\",\"width\":0.5},\"pattern\":{\"fillmode\":\"overlay\",\"size\":10,\"solidity\":0.2}},\"type\":\"barpolar\"}],\"pie\":[{\"automargin\":true,\"type\":\"pie\"}]},\"layout\":{\"autotypenumbers\":\"strict\",\"colorway\":[\"#636efa\",\"#EF553B\",\"#00cc96\",\"#ab63fa\",\"#FFA15A\",\"#19d3f3\",\"#FF6692\",\"#B6E880\",\"#FF97FF\",\"#FECB52\"],\"font\":{\"color\":\"#2a3f5f\"},\"hovermode\":\"closest\",\"hoverlabel\":{\"align\":\"left\"},\"paper_bgcolor\":\"white\",\"plot_bgcolor\":\"#E5ECF6\",\"polar\":{\"bgcolor\":\"#E5ECF6\",\"angularaxis\":{\"gridcolor\":\"white\",\"linecolor\":\"white\",\"ticks\":\"\"},\"radialaxis\":{\"gridcolor\":\"white\",\"linecolor\":\"white\",\"ticks\":\"\"}},\"ternary\":{\"bgcolor\":\"#E5ECF6\",\"aaxis\":{\"gridcolor\":\"white\",\"linecolor\":\"white\",\"ticks\":\"\"},\"baxis\":{\"gridcolor\":\"white\",\"linecolor\":\"white\",\"ticks\":\"\"},\"caxis\":{\"gridcolor\":\"white\",\"linecolor\":\"white\",\"ticks\":\"\"}},\"coloraxis\":{\"colorbar\":{\"outlinewidth\":0,\"ticks\":\"\"}},\"colorscale\":{\"sequential\":[[0.0,\"#0d0887\"],[0.1111111111111111,\"#46039f\"],[0.2222222222222222,\"#7201a8\"],[0.3333333333333333,\"#9c179e\"],[0.4444444444444444,\"#bd3786\"],[0.5555555555555556,\"#d8576b\"],[0.6666666666666666,\"#ed7953\"],[0.7777777777777778,\"#fb9f3a\"],[0.8888888888888888,\"#fdca26\"],[1.0,\"#f0f921\"]],\"sequentialminus\":[[0.0,\"#0d0887\"],[0.1111111111111111,\"#46039f\"],[0.2222222222222222,\"#7201a8\"],[0.3333333333333333,\"#9c179e\"],[0.4444444444444444,\"#bd3786\"],[0.5555555555555556,\"#d8576b\"],[0.6666666666666666,\"#ed7953\"],[0.7777777777777778,\"#fb9f3a\"],[0.8888888888888888,\"#fdca26\"],[1.0,\"#f0f921\"]],\"diverging\":[[0,\"#8e0152\"],[0.1,\"#c51b7d\"],[0.2,\"#de77ae\"],[0.3,\"#f1b6da\"],[0.4,\"#fde0ef\"],[0.5,\"#f7f7f7\"],[0.6,\"#e6f5d0\"],[0.7,\"#b8e186\"],[0.8,\"#7fbc41\"],[0.9,\"#4d9221\"],[1,\"#276419\"]]},\"xaxis\":{\"gridcolor\":\"white\",\"linecolor\":\"white\",\"ticks\":\"\",\"title\":{\"standoff\":15},\"zerolinecolor\":\"white\",\"automargin\":true,\"zerolinewidth\":2},\"yaxis\":{\"gridcolor\":\"white\",\"linecolor\":\"white\",\"ticks\":\"\",\"title\":{\"standoff\":15},\"zerolinecolor\":\"white\",\"automargin\":true,\"zerolinewidth\":2},\"scene\":{\"xaxis\":{\"backgroundcolor\":\"#E5ECF6\",\"gridcolor\":\"white\",\"linecolor\":\"white\",\"showbackground\":true,\"ticks\":\"\",\"zerolinecolor\":\"white\",\"gridwidth\":2},\"yaxis\":{\"backgroundcolor\":\"#E5ECF6\",\"gridcolor\":\"white\",\"linecolor\":\"white\",\"showbackground\":true,\"ticks\":\"\",\"zerolinecolor\":\"white\",\"gridwidth\":2},\"zaxis\":{\"backgroundcolor\":\"#E5ECF6\",\"gridcolor\":\"white\",\"linecolor\":\"white\",\"showbackground\":true,\"ticks\":\"\",\"zerolinecolor\":\"white\",\"gridwidth\":2}},\"shapedefaults\":{\"line\":{\"color\":\"#2a3f5f\"}},\"annotationdefaults\":{\"arrowcolor\":\"#2a3f5f\",\"arrowhead\":0,\"arrowwidth\":1},\"geo\":{\"bgcolor\":\"white\",\"landcolor\":\"#E5ECF6\",\"subunitcolor\":\"white\",\"showland\":true,\"showlakes\":true,\"lakecolor\":\"white\"},\"title\":{\"x\":0.05},\"mapbox\":{\"style\":\"light\"}}},\"xaxis\":{\"anchor\":\"y\",\"domain\":[0.0,1.0],\"title\":{\"text\":\"index\"}},\"yaxis\":{\"anchor\":\"x\",\"domain\":[0.0,1.0],\"title\":{\"text\":\"value\"}},\"legend\":{\"title\":{\"text\":\"variable\"},\"tracegroupgap\":0},\"margin\":{\"t\":60}},                        {\"responsive\": true}                    ).then(function(){\n",
       "                            \n",
       "var gd = document.getElementById('7b5cf470-0b5b-4bf0-9c92-773bbd5ddf54');\n",
       "var x = new MutationObserver(function (mutations, observer) {{\n",
       "        var display = window.getComputedStyle(gd).display;\n",
       "        if (!display || display === 'none') {{\n",
       "            console.log([gd, 'removed!']);\n",
       "            Plotly.purge(gd);\n",
       "            observer.disconnect();\n",
       "        }}\n",
       "}});\n",
       "\n",
       "// Listen for the removal of the full notebook cells\n",
       "var notebookContainer = gd.closest('#notebook-container');\n",
       "if (notebookContainer) {{\n",
       "    x.observe(notebookContainer, {childList: true});\n",
       "}}\n",
       "\n",
       "// Listen for the clearing of the current output cell\n",
       "var outputEl = gd.closest('.output');\n",
       "if (outputEl) {{\n",
       "    x.observe(outputEl, {childList: true});\n",
       "}}\n",
       "\n",
       "                        })                };                });            </script>        </div>"
      ]
     },
     "metadata": {},
     "output_type": "display_data"
    },
    {
     "data": {
      "text/plain": [
       "<Figure size 1080x288 with 0 Axes>"
      ]
     },
     "metadata": {},
     "output_type": "display_data"
    }
   ],
   "source": [
    "# 총인구수 -전국\n",
    "plt.figure(figsize = (15,4))\n",
    "\n",
    "px.line(data1['전국'])"
   ]
  },
  {
   "cell_type": "code",
   "execution_count": 679,
   "id": "e6fbc8b1",
   "metadata": {},
   "outputs": [],
   "source": [
    "#수도권,전국\n",
    "metro = data1[['서울특별시','경기도','인천광역시']]"
   ]
  },
  {
   "cell_type": "code",
   "execution_count": 680,
   "id": "feb788e6",
   "metadata": {},
   "outputs": [
    {
     "data": {
      "application/vnd.plotly.v1+json": {
       "config": {
        "plotlyServerURL": "https://plot.ly"
       },
       "data": [
        {
         "hovertemplate": "variable=서울특별시<br>index=%{x}<br>value=%{y}<extra></extra>",
         "legendgroup": "서울특별시",
         "line": {
          "color": "#636efa",
          "dash": "solid"
         },
         "marker": {
          "symbol": "circle"
         },
         "mode": "lines",
         "name": "서울특별시",
         "orientation": "v",
         "showlegend": true,
         "type": "scatter",
         "x": [
          "2004",
          "2005",
          "2006",
          "2007",
          "2008",
          "2009",
          "2010",
          "2011",
          "2012",
          "2013",
          "2014",
          "2015",
          "2016",
          "2017",
          "2018",
          "2019",
          "2020",
          "2021"
         ],
         "xaxis": "x",
         "y": [
          10173162,
          10167344,
          10181166,
          10192710,
          10200827,
          10208302,
          10312545,
          10249679,
          10195318,
          10143645,
          10103233,
          10022181,
          9930616,
          9857426,
          9765623,
          9729107,
          9668465,
          9509458
         ],
         "yaxis": "y"
        },
        {
         "hovertemplate": "variable=경기도<br>index=%{x}<br>value=%{y}<extra></extra>",
         "legendgroup": "경기도",
         "line": {
          "color": "#EF553B",
          "dash": "solid"
         },
         "marker": {
          "symbol": "circle"
         },
         "mode": "lines",
         "name": "경기도",
         "orientation": "v",
         "showlegend": true,
         "type": "scatter",
         "x": [
          "2004",
          "2005",
          "2006",
          "2007",
          "2008",
          "2009",
          "2010",
          "2011",
          "2012",
          "2013",
          "2014",
          "2015",
          "2016",
          "2017",
          "2018",
          "2019",
          "2020",
          "2021"
         ],
         "xaxis": "x",
         "y": [
          10462920,
          10697215,
          10906033,
          11106211,
          11292264,
          11460610,
          11786622,
          11937415,
          12093299,
          12234630,
          12357830,
          12522606,
          12716780,
          12873895,
          13077153,
          13239666,
          13427014,
          13565450
         ],
         "yaxis": "y"
        },
        {
         "hovertemplate": "variable=인천광역시<br>index=%{x}<br>value=%{y}<extra></extra>",
         "legendgroup": "인천광역시",
         "line": {
          "color": "#00cc96",
          "dash": "solid"
         },
         "marker": {
          "symbol": "circle"
         },
         "mode": "lines",
         "name": "인천광역시",
         "orientation": "v",
         "showlegend": true,
         "type": "scatter",
         "x": [
          "2004",
          "2005",
          "2006",
          "2007",
          "2008",
          "2009",
          "2010",
          "2011",
          "2012",
          "2013",
          "2014",
          "2015",
          "2016",
          "2017",
          "2018",
          "2019",
          "2020",
          "2021"
         ],
         "xaxis": "x",
         "y": [
          2578817,
          2600495,
          2624391,
          2664576,
          2692696,
          2710579,
          2758296,
          2801274,
          2843981,
          2879782,
          2902608,
          2925815,
          2943069,
          2948542,
          2954642,
          2957026,
          2942828,
          2948375
         ],
         "yaxis": "y"
        }
       ],
       "layout": {
        "legend": {
         "title": {
          "text": "variable"
         },
         "tracegroupgap": 0
        },
        "margin": {
         "t": 60
        },
        "template": {
         "data": {
          "bar": [
           {
            "error_x": {
             "color": "#2a3f5f"
            },
            "error_y": {
             "color": "#2a3f5f"
            },
            "marker": {
             "line": {
              "color": "#E5ECF6",
              "width": 0.5
             },
             "pattern": {
              "fillmode": "overlay",
              "size": 10,
              "solidity": 0.2
             }
            },
            "type": "bar"
           }
          ],
          "barpolar": [
           {
            "marker": {
             "line": {
              "color": "#E5ECF6",
              "width": 0.5
             },
             "pattern": {
              "fillmode": "overlay",
              "size": 10,
              "solidity": 0.2
             }
            },
            "type": "barpolar"
           }
          ],
          "carpet": [
           {
            "aaxis": {
             "endlinecolor": "#2a3f5f",
             "gridcolor": "white",
             "linecolor": "white",
             "minorgridcolor": "white",
             "startlinecolor": "#2a3f5f"
            },
            "baxis": {
             "endlinecolor": "#2a3f5f",
             "gridcolor": "white",
             "linecolor": "white",
             "minorgridcolor": "white",
             "startlinecolor": "#2a3f5f"
            },
            "type": "carpet"
           }
          ],
          "choropleth": [
           {
            "colorbar": {
             "outlinewidth": 0,
             "ticks": ""
            },
            "type": "choropleth"
           }
          ],
          "contour": [
           {
            "colorbar": {
             "outlinewidth": 0,
             "ticks": ""
            },
            "colorscale": [
             [
              0,
              "#0d0887"
             ],
             [
              0.1111111111111111,
              "#46039f"
             ],
             [
              0.2222222222222222,
              "#7201a8"
             ],
             [
              0.3333333333333333,
              "#9c179e"
             ],
             [
              0.4444444444444444,
              "#bd3786"
             ],
             [
              0.5555555555555556,
              "#d8576b"
             ],
             [
              0.6666666666666666,
              "#ed7953"
             ],
             [
              0.7777777777777778,
              "#fb9f3a"
             ],
             [
              0.8888888888888888,
              "#fdca26"
             ],
             [
              1,
              "#f0f921"
             ]
            ],
            "type": "contour"
           }
          ],
          "contourcarpet": [
           {
            "colorbar": {
             "outlinewidth": 0,
             "ticks": ""
            },
            "type": "contourcarpet"
           }
          ],
          "heatmap": [
           {
            "colorbar": {
             "outlinewidth": 0,
             "ticks": ""
            },
            "colorscale": [
             [
              0,
              "#0d0887"
             ],
             [
              0.1111111111111111,
              "#46039f"
             ],
             [
              0.2222222222222222,
              "#7201a8"
             ],
             [
              0.3333333333333333,
              "#9c179e"
             ],
             [
              0.4444444444444444,
              "#bd3786"
             ],
             [
              0.5555555555555556,
              "#d8576b"
             ],
             [
              0.6666666666666666,
              "#ed7953"
             ],
             [
              0.7777777777777778,
              "#fb9f3a"
             ],
             [
              0.8888888888888888,
              "#fdca26"
             ],
             [
              1,
              "#f0f921"
             ]
            ],
            "type": "heatmap"
           }
          ],
          "heatmapgl": [
           {
            "colorbar": {
             "outlinewidth": 0,
             "ticks": ""
            },
            "colorscale": [
             [
              0,
              "#0d0887"
             ],
             [
              0.1111111111111111,
              "#46039f"
             ],
             [
              0.2222222222222222,
              "#7201a8"
             ],
             [
              0.3333333333333333,
              "#9c179e"
             ],
             [
              0.4444444444444444,
              "#bd3786"
             ],
             [
              0.5555555555555556,
              "#d8576b"
             ],
             [
              0.6666666666666666,
              "#ed7953"
             ],
             [
              0.7777777777777778,
              "#fb9f3a"
             ],
             [
              0.8888888888888888,
              "#fdca26"
             ],
             [
              1,
              "#f0f921"
             ]
            ],
            "type": "heatmapgl"
           }
          ],
          "histogram": [
           {
            "marker": {
             "pattern": {
              "fillmode": "overlay",
              "size": 10,
              "solidity": 0.2
             }
            },
            "type": "histogram"
           }
          ],
          "histogram2d": [
           {
            "colorbar": {
             "outlinewidth": 0,
             "ticks": ""
            },
            "colorscale": [
             [
              0,
              "#0d0887"
             ],
             [
              0.1111111111111111,
              "#46039f"
             ],
             [
              0.2222222222222222,
              "#7201a8"
             ],
             [
              0.3333333333333333,
              "#9c179e"
             ],
             [
              0.4444444444444444,
              "#bd3786"
             ],
             [
              0.5555555555555556,
              "#d8576b"
             ],
             [
              0.6666666666666666,
              "#ed7953"
             ],
             [
              0.7777777777777778,
              "#fb9f3a"
             ],
             [
              0.8888888888888888,
              "#fdca26"
             ],
             [
              1,
              "#f0f921"
             ]
            ],
            "type": "histogram2d"
           }
          ],
          "histogram2dcontour": [
           {
            "colorbar": {
             "outlinewidth": 0,
             "ticks": ""
            },
            "colorscale": [
             [
              0,
              "#0d0887"
             ],
             [
              0.1111111111111111,
              "#46039f"
             ],
             [
              0.2222222222222222,
              "#7201a8"
             ],
             [
              0.3333333333333333,
              "#9c179e"
             ],
             [
              0.4444444444444444,
              "#bd3786"
             ],
             [
              0.5555555555555556,
              "#d8576b"
             ],
             [
              0.6666666666666666,
              "#ed7953"
             ],
             [
              0.7777777777777778,
              "#fb9f3a"
             ],
             [
              0.8888888888888888,
              "#fdca26"
             ],
             [
              1,
              "#f0f921"
             ]
            ],
            "type": "histogram2dcontour"
           }
          ],
          "mesh3d": [
           {
            "colorbar": {
             "outlinewidth": 0,
             "ticks": ""
            },
            "type": "mesh3d"
           }
          ],
          "parcoords": [
           {
            "line": {
             "colorbar": {
              "outlinewidth": 0,
              "ticks": ""
             }
            },
            "type": "parcoords"
           }
          ],
          "pie": [
           {
            "automargin": true,
            "type": "pie"
           }
          ],
          "scatter": [
           {
            "fillpattern": {
             "fillmode": "overlay",
             "size": 10,
             "solidity": 0.2
            },
            "type": "scatter"
           }
          ],
          "scatter3d": [
           {
            "line": {
             "colorbar": {
              "outlinewidth": 0,
              "ticks": ""
             }
            },
            "marker": {
             "colorbar": {
              "outlinewidth": 0,
              "ticks": ""
             }
            },
            "type": "scatter3d"
           }
          ],
          "scattercarpet": [
           {
            "marker": {
             "colorbar": {
              "outlinewidth": 0,
              "ticks": ""
             }
            },
            "type": "scattercarpet"
           }
          ],
          "scattergeo": [
           {
            "marker": {
             "colorbar": {
              "outlinewidth": 0,
              "ticks": ""
             }
            },
            "type": "scattergeo"
           }
          ],
          "scattergl": [
           {
            "marker": {
             "colorbar": {
              "outlinewidth": 0,
              "ticks": ""
             }
            },
            "type": "scattergl"
           }
          ],
          "scattermapbox": [
           {
            "marker": {
             "colorbar": {
              "outlinewidth": 0,
              "ticks": ""
             }
            },
            "type": "scattermapbox"
           }
          ],
          "scatterpolar": [
           {
            "marker": {
             "colorbar": {
              "outlinewidth": 0,
              "ticks": ""
             }
            },
            "type": "scatterpolar"
           }
          ],
          "scatterpolargl": [
           {
            "marker": {
             "colorbar": {
              "outlinewidth": 0,
              "ticks": ""
             }
            },
            "type": "scatterpolargl"
           }
          ],
          "scatterternary": [
           {
            "marker": {
             "colorbar": {
              "outlinewidth": 0,
              "ticks": ""
             }
            },
            "type": "scatterternary"
           }
          ],
          "surface": [
           {
            "colorbar": {
             "outlinewidth": 0,
             "ticks": ""
            },
            "colorscale": [
             [
              0,
              "#0d0887"
             ],
             [
              0.1111111111111111,
              "#46039f"
             ],
             [
              0.2222222222222222,
              "#7201a8"
             ],
             [
              0.3333333333333333,
              "#9c179e"
             ],
             [
              0.4444444444444444,
              "#bd3786"
             ],
             [
              0.5555555555555556,
              "#d8576b"
             ],
             [
              0.6666666666666666,
              "#ed7953"
             ],
             [
              0.7777777777777778,
              "#fb9f3a"
             ],
             [
              0.8888888888888888,
              "#fdca26"
             ],
             [
              1,
              "#f0f921"
             ]
            ],
            "type": "surface"
           }
          ],
          "table": [
           {
            "cells": {
             "fill": {
              "color": "#EBF0F8"
             },
             "line": {
              "color": "white"
             }
            },
            "header": {
             "fill": {
              "color": "#C8D4E3"
             },
             "line": {
              "color": "white"
             }
            },
            "type": "table"
           }
          ]
         },
         "layout": {
          "annotationdefaults": {
           "arrowcolor": "#2a3f5f",
           "arrowhead": 0,
           "arrowwidth": 1
          },
          "autotypenumbers": "strict",
          "coloraxis": {
           "colorbar": {
            "outlinewidth": 0,
            "ticks": ""
           }
          },
          "colorscale": {
           "diverging": [
            [
             0,
             "#8e0152"
            ],
            [
             0.1,
             "#c51b7d"
            ],
            [
             0.2,
             "#de77ae"
            ],
            [
             0.3,
             "#f1b6da"
            ],
            [
             0.4,
             "#fde0ef"
            ],
            [
             0.5,
             "#f7f7f7"
            ],
            [
             0.6,
             "#e6f5d0"
            ],
            [
             0.7,
             "#b8e186"
            ],
            [
             0.8,
             "#7fbc41"
            ],
            [
             0.9,
             "#4d9221"
            ],
            [
             1,
             "#276419"
            ]
           ],
           "sequential": [
            [
             0,
             "#0d0887"
            ],
            [
             0.1111111111111111,
             "#46039f"
            ],
            [
             0.2222222222222222,
             "#7201a8"
            ],
            [
             0.3333333333333333,
             "#9c179e"
            ],
            [
             0.4444444444444444,
             "#bd3786"
            ],
            [
             0.5555555555555556,
             "#d8576b"
            ],
            [
             0.6666666666666666,
             "#ed7953"
            ],
            [
             0.7777777777777778,
             "#fb9f3a"
            ],
            [
             0.8888888888888888,
             "#fdca26"
            ],
            [
             1,
             "#f0f921"
            ]
           ],
           "sequentialminus": [
            [
             0,
             "#0d0887"
            ],
            [
             0.1111111111111111,
             "#46039f"
            ],
            [
             0.2222222222222222,
             "#7201a8"
            ],
            [
             0.3333333333333333,
             "#9c179e"
            ],
            [
             0.4444444444444444,
             "#bd3786"
            ],
            [
             0.5555555555555556,
             "#d8576b"
            ],
            [
             0.6666666666666666,
             "#ed7953"
            ],
            [
             0.7777777777777778,
             "#fb9f3a"
            ],
            [
             0.8888888888888888,
             "#fdca26"
            ],
            [
             1,
             "#f0f921"
            ]
           ]
          },
          "colorway": [
           "#636efa",
           "#EF553B",
           "#00cc96",
           "#ab63fa",
           "#FFA15A",
           "#19d3f3",
           "#FF6692",
           "#B6E880",
           "#FF97FF",
           "#FECB52"
          ],
          "font": {
           "color": "#2a3f5f"
          },
          "geo": {
           "bgcolor": "white",
           "lakecolor": "white",
           "landcolor": "#E5ECF6",
           "showlakes": true,
           "showland": true,
           "subunitcolor": "white"
          },
          "hoverlabel": {
           "align": "left"
          },
          "hovermode": "closest",
          "mapbox": {
           "style": "light"
          },
          "paper_bgcolor": "white",
          "plot_bgcolor": "#E5ECF6",
          "polar": {
           "angularaxis": {
            "gridcolor": "white",
            "linecolor": "white",
            "ticks": ""
           },
           "bgcolor": "#E5ECF6",
           "radialaxis": {
            "gridcolor": "white",
            "linecolor": "white",
            "ticks": ""
           }
          },
          "scene": {
           "xaxis": {
            "backgroundcolor": "#E5ECF6",
            "gridcolor": "white",
            "gridwidth": 2,
            "linecolor": "white",
            "showbackground": true,
            "ticks": "",
            "zerolinecolor": "white"
           },
           "yaxis": {
            "backgroundcolor": "#E5ECF6",
            "gridcolor": "white",
            "gridwidth": 2,
            "linecolor": "white",
            "showbackground": true,
            "ticks": "",
            "zerolinecolor": "white"
           },
           "zaxis": {
            "backgroundcolor": "#E5ECF6",
            "gridcolor": "white",
            "gridwidth": 2,
            "linecolor": "white",
            "showbackground": true,
            "ticks": "",
            "zerolinecolor": "white"
           }
          },
          "shapedefaults": {
           "line": {
            "color": "#2a3f5f"
           }
          },
          "ternary": {
           "aaxis": {
            "gridcolor": "white",
            "linecolor": "white",
            "ticks": ""
           },
           "baxis": {
            "gridcolor": "white",
            "linecolor": "white",
            "ticks": ""
           },
           "bgcolor": "#E5ECF6",
           "caxis": {
            "gridcolor": "white",
            "linecolor": "white",
            "ticks": ""
           }
          },
          "title": {
           "x": 0.05
          },
          "xaxis": {
           "automargin": true,
           "gridcolor": "white",
           "linecolor": "white",
           "ticks": "",
           "title": {
            "standoff": 15
           },
           "zerolinecolor": "white",
           "zerolinewidth": 2
          },
          "yaxis": {
           "automargin": true,
           "gridcolor": "white",
           "linecolor": "white",
           "ticks": "",
           "title": {
            "standoff": 15
           },
           "zerolinecolor": "white",
           "zerolinewidth": 2
          }
         }
        },
        "xaxis": {
         "anchor": "y",
         "domain": [
          0,
          1
         ],
         "title": {
          "text": "index"
         }
        },
        "yaxis": {
         "anchor": "x",
         "domain": [
          0,
          1
         ],
         "title": {
          "text": "value"
         }
        }
       }
      },
      "text/html": [
       "<div>                            <div id=\"3f568a38-bb3a-4c75-bbe0-b59a016edf15\" class=\"plotly-graph-div\" style=\"height:525px; width:100%;\"></div>            <script type=\"text/javascript\">                require([\"plotly\"], function(Plotly) {                    window.PLOTLYENV=window.PLOTLYENV || {};                                    if (document.getElementById(\"3f568a38-bb3a-4c75-bbe0-b59a016edf15\")) {                    Plotly.newPlot(                        \"3f568a38-bb3a-4c75-bbe0-b59a016edf15\",                        [{\"hovertemplate\":\"variable=\\uc11c\\uc6b8\\ud2b9\\ubcc4\\uc2dc<br>index=%{x}<br>value=%{y}<extra></extra>\",\"legendgroup\":\"\\uc11c\\uc6b8\\ud2b9\\ubcc4\\uc2dc\",\"line\":{\"color\":\"#636efa\",\"dash\":\"solid\"},\"marker\":{\"symbol\":\"circle\"},\"mode\":\"lines\",\"name\":\"\\uc11c\\uc6b8\\ud2b9\\ubcc4\\uc2dc\",\"orientation\":\"v\",\"showlegend\":true,\"x\":[\"2004\",\"2005\",\"2006\",\"2007\",\"2008\",\"2009\",\"2010\",\"2011\",\"2012\",\"2013\",\"2014\",\"2015\",\"2016\",\"2017\",\"2018\",\"2019\",\"2020\",\"2021\"],\"xaxis\":\"x\",\"y\":[10173162,10167344,10181166,10192710,10200827,10208302,10312545,10249679,10195318,10143645,10103233,10022181,9930616,9857426,9765623,9729107,9668465,9509458],\"yaxis\":\"y\",\"type\":\"scatter\"},{\"hovertemplate\":\"variable=\\uacbd\\uae30\\ub3c4<br>index=%{x}<br>value=%{y}<extra></extra>\",\"legendgroup\":\"\\uacbd\\uae30\\ub3c4\",\"line\":{\"color\":\"#EF553B\",\"dash\":\"solid\"},\"marker\":{\"symbol\":\"circle\"},\"mode\":\"lines\",\"name\":\"\\uacbd\\uae30\\ub3c4\",\"orientation\":\"v\",\"showlegend\":true,\"x\":[\"2004\",\"2005\",\"2006\",\"2007\",\"2008\",\"2009\",\"2010\",\"2011\",\"2012\",\"2013\",\"2014\",\"2015\",\"2016\",\"2017\",\"2018\",\"2019\",\"2020\",\"2021\"],\"xaxis\":\"x\",\"y\":[10462920,10697215,10906033,11106211,11292264,11460610,11786622,11937415,12093299,12234630,12357830,12522606,12716780,12873895,13077153,13239666,13427014,13565450],\"yaxis\":\"y\",\"type\":\"scatter\"},{\"hovertemplate\":\"variable=\\uc778\\ucc9c\\uad11\\uc5ed\\uc2dc<br>index=%{x}<br>value=%{y}<extra></extra>\",\"legendgroup\":\"\\uc778\\ucc9c\\uad11\\uc5ed\\uc2dc\",\"line\":{\"color\":\"#00cc96\",\"dash\":\"solid\"},\"marker\":{\"symbol\":\"circle\"},\"mode\":\"lines\",\"name\":\"\\uc778\\ucc9c\\uad11\\uc5ed\\uc2dc\",\"orientation\":\"v\",\"showlegend\":true,\"x\":[\"2004\",\"2005\",\"2006\",\"2007\",\"2008\",\"2009\",\"2010\",\"2011\",\"2012\",\"2013\",\"2014\",\"2015\",\"2016\",\"2017\",\"2018\",\"2019\",\"2020\",\"2021\"],\"xaxis\":\"x\",\"y\":[2578817,2600495,2624391,2664576,2692696,2710579,2758296,2801274,2843981,2879782,2902608,2925815,2943069,2948542,2954642,2957026,2942828,2948375],\"yaxis\":\"y\",\"type\":\"scatter\"}],                        {\"template\":{\"data\":{\"histogram2dcontour\":[{\"type\":\"histogram2dcontour\",\"colorbar\":{\"outlinewidth\":0,\"ticks\":\"\"},\"colorscale\":[[0.0,\"#0d0887\"],[0.1111111111111111,\"#46039f\"],[0.2222222222222222,\"#7201a8\"],[0.3333333333333333,\"#9c179e\"],[0.4444444444444444,\"#bd3786\"],[0.5555555555555556,\"#d8576b\"],[0.6666666666666666,\"#ed7953\"],[0.7777777777777778,\"#fb9f3a\"],[0.8888888888888888,\"#fdca26\"],[1.0,\"#f0f921\"]]}],\"choropleth\":[{\"type\":\"choropleth\",\"colorbar\":{\"outlinewidth\":0,\"ticks\":\"\"}}],\"histogram2d\":[{\"type\":\"histogram2d\",\"colorbar\":{\"outlinewidth\":0,\"ticks\":\"\"},\"colorscale\":[[0.0,\"#0d0887\"],[0.1111111111111111,\"#46039f\"],[0.2222222222222222,\"#7201a8\"],[0.3333333333333333,\"#9c179e\"],[0.4444444444444444,\"#bd3786\"],[0.5555555555555556,\"#d8576b\"],[0.6666666666666666,\"#ed7953\"],[0.7777777777777778,\"#fb9f3a\"],[0.8888888888888888,\"#fdca26\"],[1.0,\"#f0f921\"]]}],\"heatmap\":[{\"type\":\"heatmap\",\"colorbar\":{\"outlinewidth\":0,\"ticks\":\"\"},\"colorscale\":[[0.0,\"#0d0887\"],[0.1111111111111111,\"#46039f\"],[0.2222222222222222,\"#7201a8\"],[0.3333333333333333,\"#9c179e\"],[0.4444444444444444,\"#bd3786\"],[0.5555555555555556,\"#d8576b\"],[0.6666666666666666,\"#ed7953\"],[0.7777777777777778,\"#fb9f3a\"],[0.8888888888888888,\"#fdca26\"],[1.0,\"#f0f921\"]]}],\"heatmapgl\":[{\"type\":\"heatmapgl\",\"colorbar\":{\"outlinewidth\":0,\"ticks\":\"\"},\"colorscale\":[[0.0,\"#0d0887\"],[0.1111111111111111,\"#46039f\"],[0.2222222222222222,\"#7201a8\"],[0.3333333333333333,\"#9c179e\"],[0.4444444444444444,\"#bd3786\"],[0.5555555555555556,\"#d8576b\"],[0.6666666666666666,\"#ed7953\"],[0.7777777777777778,\"#fb9f3a\"],[0.8888888888888888,\"#fdca26\"],[1.0,\"#f0f921\"]]}],\"contourcarpet\":[{\"type\":\"contourcarpet\",\"colorbar\":{\"outlinewidth\":0,\"ticks\":\"\"}}],\"contour\":[{\"type\":\"contour\",\"colorbar\":{\"outlinewidth\":0,\"ticks\":\"\"},\"colorscale\":[[0.0,\"#0d0887\"],[0.1111111111111111,\"#46039f\"],[0.2222222222222222,\"#7201a8\"],[0.3333333333333333,\"#9c179e\"],[0.4444444444444444,\"#bd3786\"],[0.5555555555555556,\"#d8576b\"],[0.6666666666666666,\"#ed7953\"],[0.7777777777777778,\"#fb9f3a\"],[0.8888888888888888,\"#fdca26\"],[1.0,\"#f0f921\"]]}],\"surface\":[{\"type\":\"surface\",\"colorbar\":{\"outlinewidth\":0,\"ticks\":\"\"},\"colorscale\":[[0.0,\"#0d0887\"],[0.1111111111111111,\"#46039f\"],[0.2222222222222222,\"#7201a8\"],[0.3333333333333333,\"#9c179e\"],[0.4444444444444444,\"#bd3786\"],[0.5555555555555556,\"#d8576b\"],[0.6666666666666666,\"#ed7953\"],[0.7777777777777778,\"#fb9f3a\"],[0.8888888888888888,\"#fdca26\"],[1.0,\"#f0f921\"]]}],\"mesh3d\":[{\"type\":\"mesh3d\",\"colorbar\":{\"outlinewidth\":0,\"ticks\":\"\"}}],\"scatter\":[{\"fillpattern\":{\"fillmode\":\"overlay\",\"size\":10,\"solidity\":0.2},\"type\":\"scatter\"}],\"parcoords\":[{\"type\":\"parcoords\",\"line\":{\"colorbar\":{\"outlinewidth\":0,\"ticks\":\"\"}}}],\"scatterpolargl\":[{\"type\":\"scatterpolargl\",\"marker\":{\"colorbar\":{\"outlinewidth\":0,\"ticks\":\"\"}}}],\"bar\":[{\"error_x\":{\"color\":\"#2a3f5f\"},\"error_y\":{\"color\":\"#2a3f5f\"},\"marker\":{\"line\":{\"color\":\"#E5ECF6\",\"width\":0.5},\"pattern\":{\"fillmode\":\"overlay\",\"size\":10,\"solidity\":0.2}},\"type\":\"bar\"}],\"scattergeo\":[{\"type\":\"scattergeo\",\"marker\":{\"colorbar\":{\"outlinewidth\":0,\"ticks\":\"\"}}}],\"scatterpolar\":[{\"type\":\"scatterpolar\",\"marker\":{\"colorbar\":{\"outlinewidth\":0,\"ticks\":\"\"}}}],\"histogram\":[{\"marker\":{\"pattern\":{\"fillmode\":\"overlay\",\"size\":10,\"solidity\":0.2}},\"type\":\"histogram\"}],\"scattergl\":[{\"type\":\"scattergl\",\"marker\":{\"colorbar\":{\"outlinewidth\":0,\"ticks\":\"\"}}}],\"scatter3d\":[{\"type\":\"scatter3d\",\"line\":{\"colorbar\":{\"outlinewidth\":0,\"ticks\":\"\"}},\"marker\":{\"colorbar\":{\"outlinewidth\":0,\"ticks\":\"\"}}}],\"scattermapbox\":[{\"type\":\"scattermapbox\",\"marker\":{\"colorbar\":{\"outlinewidth\":0,\"ticks\":\"\"}}}],\"scatterternary\":[{\"type\":\"scatterternary\",\"marker\":{\"colorbar\":{\"outlinewidth\":0,\"ticks\":\"\"}}}],\"scattercarpet\":[{\"type\":\"scattercarpet\",\"marker\":{\"colorbar\":{\"outlinewidth\":0,\"ticks\":\"\"}}}],\"carpet\":[{\"aaxis\":{\"endlinecolor\":\"#2a3f5f\",\"gridcolor\":\"white\",\"linecolor\":\"white\",\"minorgridcolor\":\"white\",\"startlinecolor\":\"#2a3f5f\"},\"baxis\":{\"endlinecolor\":\"#2a3f5f\",\"gridcolor\":\"white\",\"linecolor\":\"white\",\"minorgridcolor\":\"white\",\"startlinecolor\":\"#2a3f5f\"},\"type\":\"carpet\"}],\"table\":[{\"cells\":{\"fill\":{\"color\":\"#EBF0F8\"},\"line\":{\"color\":\"white\"}},\"header\":{\"fill\":{\"color\":\"#C8D4E3\"},\"line\":{\"color\":\"white\"}},\"type\":\"table\"}],\"barpolar\":[{\"marker\":{\"line\":{\"color\":\"#E5ECF6\",\"width\":0.5},\"pattern\":{\"fillmode\":\"overlay\",\"size\":10,\"solidity\":0.2}},\"type\":\"barpolar\"}],\"pie\":[{\"automargin\":true,\"type\":\"pie\"}]},\"layout\":{\"autotypenumbers\":\"strict\",\"colorway\":[\"#636efa\",\"#EF553B\",\"#00cc96\",\"#ab63fa\",\"#FFA15A\",\"#19d3f3\",\"#FF6692\",\"#B6E880\",\"#FF97FF\",\"#FECB52\"],\"font\":{\"color\":\"#2a3f5f\"},\"hovermode\":\"closest\",\"hoverlabel\":{\"align\":\"left\"},\"paper_bgcolor\":\"white\",\"plot_bgcolor\":\"#E5ECF6\",\"polar\":{\"bgcolor\":\"#E5ECF6\",\"angularaxis\":{\"gridcolor\":\"white\",\"linecolor\":\"white\",\"ticks\":\"\"},\"radialaxis\":{\"gridcolor\":\"white\",\"linecolor\":\"white\",\"ticks\":\"\"}},\"ternary\":{\"bgcolor\":\"#E5ECF6\",\"aaxis\":{\"gridcolor\":\"white\",\"linecolor\":\"white\",\"ticks\":\"\"},\"baxis\":{\"gridcolor\":\"white\",\"linecolor\":\"white\",\"ticks\":\"\"},\"caxis\":{\"gridcolor\":\"white\",\"linecolor\":\"white\",\"ticks\":\"\"}},\"coloraxis\":{\"colorbar\":{\"outlinewidth\":0,\"ticks\":\"\"}},\"colorscale\":{\"sequential\":[[0.0,\"#0d0887\"],[0.1111111111111111,\"#46039f\"],[0.2222222222222222,\"#7201a8\"],[0.3333333333333333,\"#9c179e\"],[0.4444444444444444,\"#bd3786\"],[0.5555555555555556,\"#d8576b\"],[0.6666666666666666,\"#ed7953\"],[0.7777777777777778,\"#fb9f3a\"],[0.8888888888888888,\"#fdca26\"],[1.0,\"#f0f921\"]],\"sequentialminus\":[[0.0,\"#0d0887\"],[0.1111111111111111,\"#46039f\"],[0.2222222222222222,\"#7201a8\"],[0.3333333333333333,\"#9c179e\"],[0.4444444444444444,\"#bd3786\"],[0.5555555555555556,\"#d8576b\"],[0.6666666666666666,\"#ed7953\"],[0.7777777777777778,\"#fb9f3a\"],[0.8888888888888888,\"#fdca26\"],[1.0,\"#f0f921\"]],\"diverging\":[[0,\"#8e0152\"],[0.1,\"#c51b7d\"],[0.2,\"#de77ae\"],[0.3,\"#f1b6da\"],[0.4,\"#fde0ef\"],[0.5,\"#f7f7f7\"],[0.6,\"#e6f5d0\"],[0.7,\"#b8e186\"],[0.8,\"#7fbc41\"],[0.9,\"#4d9221\"],[1,\"#276419\"]]},\"xaxis\":{\"gridcolor\":\"white\",\"linecolor\":\"white\",\"ticks\":\"\",\"title\":{\"standoff\":15},\"zerolinecolor\":\"white\",\"automargin\":true,\"zerolinewidth\":2},\"yaxis\":{\"gridcolor\":\"white\",\"linecolor\":\"white\",\"ticks\":\"\",\"title\":{\"standoff\":15},\"zerolinecolor\":\"white\",\"automargin\":true,\"zerolinewidth\":2},\"scene\":{\"xaxis\":{\"backgroundcolor\":\"#E5ECF6\",\"gridcolor\":\"white\",\"linecolor\":\"white\",\"showbackground\":true,\"ticks\":\"\",\"zerolinecolor\":\"white\",\"gridwidth\":2},\"yaxis\":{\"backgroundcolor\":\"#E5ECF6\",\"gridcolor\":\"white\",\"linecolor\":\"white\",\"showbackground\":true,\"ticks\":\"\",\"zerolinecolor\":\"white\",\"gridwidth\":2},\"zaxis\":{\"backgroundcolor\":\"#E5ECF6\",\"gridcolor\":\"white\",\"linecolor\":\"white\",\"showbackground\":true,\"ticks\":\"\",\"zerolinecolor\":\"white\",\"gridwidth\":2}},\"shapedefaults\":{\"line\":{\"color\":\"#2a3f5f\"}},\"annotationdefaults\":{\"arrowcolor\":\"#2a3f5f\",\"arrowhead\":0,\"arrowwidth\":1},\"geo\":{\"bgcolor\":\"white\",\"landcolor\":\"#E5ECF6\",\"subunitcolor\":\"white\",\"showland\":true,\"showlakes\":true,\"lakecolor\":\"white\"},\"title\":{\"x\":0.05},\"mapbox\":{\"style\":\"light\"}}},\"xaxis\":{\"anchor\":\"y\",\"domain\":[0.0,1.0],\"title\":{\"text\":\"index\"}},\"yaxis\":{\"anchor\":\"x\",\"domain\":[0.0,1.0],\"title\":{\"text\":\"value\"}},\"legend\":{\"title\":{\"text\":\"variable\"},\"tracegroupgap\":0},\"margin\":{\"t\":60}},                        {\"responsive\": true}                    ).then(function(){\n",
       "                            \n",
       "var gd = document.getElementById('3f568a38-bb3a-4c75-bbe0-b59a016edf15');\n",
       "var x = new MutationObserver(function (mutations, observer) {{\n",
       "        var display = window.getComputedStyle(gd).display;\n",
       "        if (!display || display === 'none') {{\n",
       "            console.log([gd, 'removed!']);\n",
       "            Plotly.purge(gd);\n",
       "            observer.disconnect();\n",
       "        }}\n",
       "}});\n",
       "\n",
       "// Listen for the removal of the full notebook cells\n",
       "var notebookContainer = gd.closest('#notebook-container');\n",
       "if (notebookContainer) {{\n",
       "    x.observe(notebookContainer, {childList: true});\n",
       "}}\n",
       "\n",
       "// Listen for the clearing of the current output cell\n",
       "var outputEl = gd.closest('.output');\n",
       "if (outputEl) {{\n",
       "    x.observe(outputEl, {childList: true});\n",
       "}}\n",
       "\n",
       "                        })                };                });            </script>        </div>"
      ]
     },
     "metadata": {},
     "output_type": "display_data"
    },
    {
     "data": {
      "text/plain": [
       "<Figure size 1080x288 with 0 Axes>"
      ]
     },
     "metadata": {},
     "output_type": "display_data"
    }
   ],
   "source": [
    "# 총인구수 추이 - 전국 / 수도권별 \n",
    "plt.figure(figsize = (15,4))\n",
    "\n",
    "px.line(metro)"
   ]
  },
  {
   "cell_type": "code",
   "execution_count": 681,
   "id": "9bb7262d",
   "metadata": {},
   "outputs": [],
   "source": [
    "year = data1.index"
   ]
  },
  {
   "cell_type": "code",
   "execution_count": 624,
   "id": "bbc64000",
   "metadata": {},
   "outputs": [
    {
     "data": {
      "text/plain": [
       "<AxesSubplot:ylabel='전국'>"
      ]
     },
     "execution_count": 624,
     "metadata": {},
     "output_type": "execute_result"
    },
    {
     "data": {
      "image/png": "[encoded data removed]",
      "text/plain": [
       "<Figure size 1080x288 with 1 Axes>"
      ]
     },
     "metadata": {
      "image/png": {
       "height": 284,
       "width": 883
      },
      "needs_background": "light"
     },
     "output_type": "display_data"
    }
   ],
   "source": [
    "# 전국\n",
    "plt.figure(figsize = (15,4))\n",
    "plt.xticks(rotation= 60)\n",
    "sns.barplot(data=metro , x = year, y ='전국')"
   ]
  },
  {
   "cell_type": "code",
   "execution_count": 625,
   "id": "cfaab0d1",
   "metadata": {},
   "outputs": [
    {
     "data": {
      "text/plain": [
       "<AxesSubplot:ylabel='서울특별시'>"
      ]
     },
     "execution_count": 625,
     "metadata": {},
     "output_type": "execute_result"
    },
    {
     "data": {
      "image/png": "[encoded data removed]",
      "text/plain": [
       "<Figure size 1080x288 with 1 Axes>"
      ]
     },
     "metadata": {
      "image/png": {
       "height": 284,
       "width": 895
      },
      "needs_background": "light"
     },
     "output_type": "display_data"
    }
   ],
   "source": [
    "# 수도권-서울\n",
    "plt.figure(figsize = (15,4))\n",
    "plt.xticks(rotation= 60)\n",
    "sns.barplot(data=metro , x = year, y ='서울특별시',palette='Blues')\n",
    "\n"
   ]
  },
  {
   "cell_type": "code",
   "execution_count": 646,
   "id": "0ff26983",
   "metadata": {},
   "outputs": [
    {
     "data": {
      "text/plain": [
       "<AxesSubplot:ylabel='경기도'>"
      ]
     },
     "execution_count": 646,
     "metadata": {},
     "output_type": "execute_result"
    },
    {
     "data": {
      "image/png": "[encoded data removed]",
      "text/plain": [
       "<Figure size 1080x288 with 1 Axes>"
      ]
     },
     "metadata": {
      "image/png": {
       "height": 284,
       "width": 895
      },
      "needs_background": "light"
     },
     "output_type": "display_data"
    }
   ],
   "source": [
    "\n",
    "# 경기도\n",
    "plt.figure(figsize = (15,4))\n",
    "plt.xticks(rotation= 60)\n",
    "sns.barplot(data=metro , x = year, y ='경기도',palette='Blues')\n"
   ]
  },
  {
   "cell_type": "code",
   "execution_count": 627,
   "id": "9dbc4ee4",
   "metadata": {},
   "outputs": [
    {
     "data": {
      "text/plain": [
       "<AxesSubplot:ylabel='인천광역시'>"
      ]
     },
     "execution_count": 627,
     "metadata": {},
     "output_type": "execute_result"
    },
    {
     "data": {
      "image/png": "[encoded data removed]",
      "text/plain": [
       "<Figure size 1080x288 with 1 Axes>"
      ]
     },
     "metadata": {
      "image/png": {
       "height": 284,
       "width": 895
      },
      "needs_background": "light"
     },
     "output_type": "display_data"
    }
   ],
   "source": [
    "# 인천광역시\n",
    "plt.figure(figsize = (15,4))\n",
    "plt.xticks(rotation= 60)\n",
    "sns.barplot(data=metro , x = year, y ='인천광역시',palette='Blues')"
   ]
  },
  {
   "cell_type": "code",
   "execution_count": 690,
   "id": "c58e7fa2",
   "metadata": {},
   "outputs": [
    {
     "data": {
      "application/vnd.plotly.v1+json": {
       "config": {
        "plotlyServerURL": "https://plot.ly"
       },
       "data": [
        {
         "hovertemplate": "variable=전국<br>index=%{x}<br>value=%{y}<extra></extra>",
         "legendgroup": "전국",
         "line": {
          "color": "#636efa",
          "dash": "solid"
         },
         "marker": {
          "symbol": "circle"
         },
         "mode": "lines",
         "name": "전국",
         "orientation": "v",
         "showlegend": true,
         "type": "scatter",
         "x": [
          "2004",
          "2005",
          "2006",
          "2007",
          "2008",
          "2009",
          "2010",
          "2011",
          "2012",
          "2013",
          "2014",
          "2015",
          "2016",
          "2017",
          "2018",
          "2019",
          "2020",
          "2021"
         ],
         "xaxis": "x",
         "y": [
          48583805,
          48782274,
          48991779,
          49268928,
          49540367,
          49773145,
          50515666,
          50734284,
          50948272,
          51141463,
          51327916,
          51529338,
          51696216,
          51778544,
          51826059,
          51849861,
          51829023,
          51638809
         ],
         "yaxis": "y"
        },
        {
         "hovertemplate": "variable=서울특별시<br>index=%{x}<br>value=%{y}<extra></extra>",
         "legendgroup": "서울특별시",
         "line": {
          "color": "#EF553B",
          "dash": "solid"
         },
         "marker": {
          "symbol": "circle"
         },
         "mode": "lines",
         "name": "서울특별시",
         "orientation": "v",
         "showlegend": true,
         "type": "scatter",
         "x": [
          "2004",
          "2005",
          "2006",
          "2007",
          "2008",
          "2009",
          "2010",
          "2011",
          "2012",
          "2013",
          "2014",
          "2015",
          "2016",
          "2017",
          "2018",
          "2019",
          "2020",
          "2021"
         ],
         "xaxis": "x",
         "y": [
          10173162,
          10167344,
          10181166,
          10192710,
          10200827,
          10208302,
          10312545,
          10249679,
          10195318,
          10143645,
          10103233,
          10022181,
          9930616,
          9857426,
          9765623,
          9729107,
          9668465,
          9509458
         ],
         "yaxis": "y"
        },
        {
         "hovertemplate": "variable=부산광역시<br>index=%{x}<br>value=%{y}<extra></extra>",
         "legendgroup": "부산광역시",
         "line": {
          "color": "#00cc96",
          "dash": "solid"
         },
         "marker": {
          "symbol": "circle"
         },
         "mode": "lines",
         "name": "부산광역시",
         "orientation": "v",
         "showlegend": true,
         "type": "scatter",
         "x": [
          "2004",
          "2005",
          "2006",
          "2007",
          "2008",
          "2009",
          "2010",
          "2011",
          "2012",
          "2013",
          "2014",
          "2015",
          "2016",
          "2017",
          "2018",
          "2019",
          "2020",
          "2021"
         ],
         "xaxis": "x",
         "y": [
          3666345,
          3638293,
          3611992,
          3587439,
          3564577,
          3543030,
          3567910,
          3550963,
          3538484,
          3527635,
          3519401,
          3513777,
          3498529,
          3470653,
          3441453,
          3413841,
          3391946,
          3350380
         ],
         "yaxis": "y"
        },
        {
         "hovertemplate": "variable=대구광역시<br>index=%{x}<br>value=%{y}<extra></extra>",
         "legendgroup": "대구광역시",
         "line": {
          "color": "#ab63fa",
          "dash": "solid"
         },
         "marker": {
          "symbol": "circle"
         },
         "mode": "lines",
         "name": "대구광역시",
         "orientation": "v",
         "showlegend": true,
         "type": "scatter",
         "x": [
          "2004",
          "2005",
          "2006",
          "2007",
          "2008",
          "2009",
          "2010",
          "2011",
          "2012",
          "2013",
          "2014",
          "2015",
          "2016",
          "2017",
          "2018",
          "2019",
          "2020",
          "2021"
         ],
         "xaxis": "x",
         "y": [
          2524712,
          2511306,
          2496115,
          2493261,
          2492724,
          2489781,
          2511676,
          2507271,
          2505644,
          2501588,
          2493264,
          2487829,
          2484557,
          2475231,
          2461769,
          2438031,
          2418346,
          2385412
         ],
         "yaxis": "y"
        },
        {
         "hovertemplate": "variable=인천광역시<br>index=%{x}<br>value=%{y}<extra></extra>",
         "legendgroup": "인천광역시",
         "line": {
          "color": "#FFA15A",
          "dash": "solid"
         },
         "marker": {
          "symbol": "circle"
         },
         "mode": "lines",
         "name": "인천광역시",
         "orientation": "v",
         "showlegend": true,
         "type": "scatter",
         "x": [
          "2004",
          "2005",
          "2006",
          "2007",
          "2008",
          "2009",
          "2010",
          "2011",
          "2012",
          "2013",
          "2014",
          "2015",
          "2016",
          "2017",
          "2018",
          "2019",
          "2020",
          "2021"
         ],
         "xaxis": "x",
         "y": [
          2578817,
          2600495,
          2624391,
          2664576,
          2692696,
          2710579,
          2758296,
          2801274,
          2843981,
          2879782,
          2902608,
          2925815,
          2943069,
          2948542,
          2954642,
          2957026,
          2942828,
          2948375
         ],
         "yaxis": "y"
        },
        {
         "hovertemplate": "variable=광주광역시<br>index=%{x}<br>value=%{y}<extra></extra>",
         "legendgroup": "광주광역시",
         "line": {
          "color": "#19d3f3",
          "dash": "solid"
         },
         "marker": {
          "symbol": "circle"
         },
         "mode": "lines",
         "name": "광주광역시",
         "orientation": "v",
         "showlegend": true,
         "type": "scatter",
         "x": [
          "2004",
          "2005",
          "2006",
          "2007",
          "2008",
          "2009",
          "2010",
          "2011",
          "2012",
          "2013",
          "2014",
          "2015",
          "2016",
          "2017",
          "2018",
          "2019",
          "2020",
          "2021"
         ],
         "xaxis": "x",
         "y": [
          1401172,
          1401745,
          1407798,
          1413444,
          1422702,
          1433640,
          1454636,
          1463464,
          1469216,
          1472910,
          1475884,
          1472199,
          1469214,
          1463770,
          1459336,
          1456468,
          1450062,
          1441611
         ],
         "yaxis": "y"
        },
        {
         "hovertemplate": "variable=대전광역시<br>index=%{x}<br>value=%{y}<extra></extra>",
         "legendgroup": "대전광역시",
         "line": {
          "color": "#FF6692",
          "dash": "solid"
         },
         "marker": {
          "symbol": "circle"
         },
         "mode": "lines",
         "name": "대전광역시",
         "orientation": "v",
         "showlegend": true,
         "type": "scatter",
         "x": [
          "2004",
          "2005",
          "2006",
          "2007",
          "2008",
          "2009",
          "2010",
          "2011",
          "2012",
          "2013",
          "2014",
          "2015",
          "2016",
          "2017",
          "2018",
          "2019",
          "2020",
          "2021"
         ],
         "xaxis": "x",
         "y": [
          1443471,
          1454638,
          1466158,
          1475659,
          1480895,
          1484180,
          1503664,
          1515603,
          1524583,
          1532811,
          1531809,
          1518775,
          1514370,
          1502227,
          1489936,
          1474870,
          1463882,
          1452251
         ],
         "yaxis": "y"
        },
        {
         "hovertemplate": "variable=울산광역시<br>index=%{x}<br>value=%{y}<extra></extra>",
         "legendgroup": "울산광역시",
         "line": {
          "color": "#B6E880",
          "dash": "solid"
         },
         "marker": {
          "symbol": "circle"
         },
         "mode": "lines",
         "name": "울산광역시",
         "orientation": "v",
         "showlegend": true,
         "type": "scatter",
         "x": [
          "2004",
          "2005",
          "2006",
          "2007",
          "2008",
          "2009",
          "2010",
          "2011",
          "2012",
          "2013",
          "2014",
          "2015",
          "2016",
          "2017",
          "2018",
          "2019",
          "2020",
          "2021"
         ],
         "xaxis": "x",
         "y": [
          1081453,
          1087648,
          1092494,
          1099995,
          1112407,
          1114866,
          1126298,
          1135494,
          1147256,
          1156480,
          1166377,
          1173534,
          1172304,
          1165132,
          1155623,
          1148019,
          1136017,
          1121592
         ],
         "yaxis": "y"
        },
        {
         "hovertemplate": "variable=세종특별자치시<br>index=%{x}<br>value=%{y}<extra></extra>",
         "legendgroup": "세종특별자치시",
         "line": {
          "color": "#FF97FF",
          "dash": "solid"
         },
         "marker": {
          "symbol": "circle"
         },
         "mode": "lines",
         "name": "세종특별자치시",
         "orientation": "v",
         "showlegend": true,
         "type": "scatter",
         "x": [
          "2004",
          "2005",
          "2006",
          "2007",
          "2008",
          "2009",
          "2010",
          "2011",
          "2012",
          "2013",
          "2014",
          "2015",
          "2016",
          "2017",
          "2018",
          "2019",
          "2020",
          "2021"
         ],
         "xaxis": "x",
         "y": [
          0,
          0,
          0,
          0,
          0,
          0,
          0,
          0,
          113117,
          122153,
          156125,
          210884,
          243048,
          280100,
          314126,
          340575,
          355831,
          371895
         ],
         "yaxis": "y"
        },
        {
         "hovertemplate": "variable=경기도<br>index=%{x}<br>value=%{y}<extra></extra>",
         "legendgroup": "경기도",
         "line": {
          "color": "#FECB52",
          "dash": "solid"
         },
         "marker": {
          "symbol": "circle"
         },
         "mode": "lines",
         "name": "경기도",
         "orientation": "v",
         "showlegend": true,
         "type": "scatter",
         "x": [
          "2004",
          "2005",
          "2006",
          "2007",
          "2008",
          "2009",
          "2010",
          "2011",
          "2012",
          "2013",
          "2014",
          "2015",
          "2016",
          "2017",
          "2018",
          "2019",
          "2020",
          "2021"
         ],
         "xaxis": "x",
         "y": [
          10462920,
          10697215,
          10906033,
          11106211,
          11292264,
          11460610,
          11786622,
          11937415,
          12093299,
          12234630,
          12357830,
          12522606,
          12716780,
          12873895,
          13077153,
          13239666,
          13427014,
          13565450
         ],
         "yaxis": "y"
        },
        {
         "hovertemplate": "variable=강원도<br>index=%{x}<br>value=%{y}<extra></extra>",
         "legendgroup": "강원도",
         "line": {
          "color": "#636efa",
          "dash": "solid"
         },
         "marker": {
          "symbol": "circle"
         },
         "mode": "lines",
         "name": "강원도",
         "orientation": "v",
         "showlegend": true,
         "type": "scatter",
         "x": [
          "2004",
          "2005",
          "2006",
          "2007",
          "2008",
          "2009",
          "2010",
          "2011",
          "2012",
          "2013",
          "2014",
          "2015",
          "2016",
          "2017",
          "2018",
          "2019",
          "2020",
          "2021"
         ],
         "xaxis": "x",
         "y": [
          1521375,
          1513110,
          1505420,
          1503806,
          1508575,
          1512870,
          1529818,
          1536448,
          1538630,
          1542263,
          1544442,
          1549507,
          1550806,
          1550142,
          1543052,
          1541502,
          1542840,
          1538492
         ],
         "yaxis": "y"
        },
        {
         "hovertemplate": "variable=충청북도<br>index=%{x}<br>value=%{y}<extra></extra>",
         "legendgroup": "충청북도",
         "line": {
          "color": "#EF553B",
          "dash": "solid"
         },
         "marker": {
          "symbol": "circle"
         },
         "mode": "lines",
         "name": "충청북도",
         "orientation": "v",
         "showlegend": true,
         "type": "scatter",
         "x": [
          "2004",
          "2005",
          "2006",
          "2007",
          "2008",
          "2009",
          "2010",
          "2011",
          "2012",
          "2013",
          "2014",
          "2015",
          "2016",
          "2017",
          "2018",
          "2019",
          "2020",
          "2021"
         ],
         "xaxis": "x",
         "y": [
          1488945,
          1488803,
          1494559,
          1506608,
          1519587,
          1527478,
          1549528,
          1562903,
          1565628,
          1572732,
          1578933,
          1583952,
          1591625,
          1594432,
          1599252,
          1600007,
          1600837,
          1597427
         ],
         "yaxis": "y"
        },
        {
         "hovertemplate": "variable=충청남도<br>index=%{x}<br>value=%{y}<extra></extra>",
         "legendgroup": "충청남도",
         "line": {
          "color": "#00cc96",
          "dash": "solid"
         },
         "marker": {
          "symbol": "circle"
         },
         "mode": "lines",
         "name": "충청남도",
         "orientation": "v",
         "showlegend": true,
         "type": "scatter",
         "x": [
          "2004",
          "2005",
          "2006",
          "2007",
          "2008",
          "2009",
          "2010",
          "2011",
          "2012",
          "2013",
          "2014",
          "2015",
          "2016",
          "2017",
          "2018",
          "2019",
          "2020",
          "2021"
         ],
         "xaxis": "x",
         "y": [
          1953406,
          1962646,
          1974433,
          1995531,
          2018537,
          2037582,
          2075514,
          2101284,
          2028777,
          2047631,
          2062273,
          2077649,
          2096727,
          2116770,
          2126282,
          2123709,
          2121029,
          2119257
         ],
         "yaxis": "y"
        },
        {
         "hovertemplate": "variable=전라북도<br>index=%{x}<br>value=%{y}<extra></extra>",
         "legendgroup": "전라북도",
         "line": {
          "color": "#ab63fa",
          "dash": "solid"
         },
         "marker": {
          "symbol": "circle"
         },
         "mode": "lines",
         "name": "전라북도",
         "orientation": "v",
         "showlegend": true,
         "type": "scatter",
         "x": [
          "2004",
          "2005",
          "2006",
          "2007",
          "2008",
          "2009",
          "2010",
          "2011",
          "2012",
          "2013",
          "2014",
          "2015",
          "2016",
          "2017",
          "2018",
          "2019",
          "2020",
          "2021"
         ],
         "xaxis": "x",
         "y": [
          1906742,
          1885335,
          1868365,
          1862277,
          1855772,
          1854508,
          1868963,
          1874031,
          1873341,
          1872965,
          1871560,
          1869711,
          1864791,
          1854607,
          1836832,
          1818917,
          1804104,
          1786855
         ],
         "yaxis": "y"
        },
        {
         "hovertemplate": "variable=전라남도<br>index=%{x}<br>value=%{y}<extra></extra>",
         "legendgroup": "전라남도",
         "line": {
          "color": "#FFA15A",
          "dash": "solid"
         },
         "marker": {
          "symbol": "circle"
         },
         "mode": "lines",
         "name": "전라남도",
         "orientation": "v",
         "showlegend": true,
         "type": "scatter",
         "x": [
          "2004",
          "2005",
          "2006",
          "2007",
          "2008",
          "2009",
          "2010",
          "2011",
          "2012",
          "2013",
          "2014",
          "2015",
          "2016",
          "2017",
          "2018",
          "2019",
          "2020",
          "2021"
         ],
         "xaxis": "x",
         "y": [
          1986192,
          1967205,
          1942925,
          1929836,
          1919000,
          1913004,
          1918485,
          1914339,
          1909618,
          1907172,
          1905780,
          1908996,
          1903914,
          1896424,
          1882970,
          1868745,
          1851549,
          1832803
         ],
         "yaxis": "y"
        },
        {
         "hovertemplate": "variable=경상북도<br>index=%{x}<br>value=%{y}<extra></extra>",
         "legendgroup": "경상북도",
         "line": {
          "color": "#19d3f3",
          "dash": "solid"
         },
         "marker": {
          "symbol": "circle"
         },
         "mode": "lines",
         "name": "경상북도",
         "orientation": "v",
         "showlegend": true,
         "type": "scatter",
         "x": [
          "2004",
          "2005",
          "2006",
          "2007",
          "2008",
          "2009",
          "2010",
          "2011",
          "2012",
          "2013",
          "2014",
          "2015",
          "2016",
          "2017",
          "2018",
          "2019",
          "2020",
          "2021"
         ],
         "xaxis": "x",
         "y": [
          2695917,
          2688491,
          2688577,
          2681364,
          2673931,
          2669876,
          2689920,
          2699195,
          2698353,
          2699440,
          2700794,
          2702826,
          2700398,
          2691706,
          2676831,
          2665836,
          2639422,
          2626609
         ],
         "yaxis": "y"
        },
        {
         "hovertemplate": "variable=경상남도<br>index=%{x}<br>value=%{y}<extra></extra>",
         "legendgroup": "경상남도",
         "line": {
          "color": "#FF6692",
          "dash": "solid"
         },
         "marker": {
          "symbol": "circle"
         },
         "mode": "lines",
         "name": "경상남도",
         "orientation": "v",
         "showlegend": true,
         "type": "scatter",
         "x": [
          "2004",
          "2005",
          "2006",
          "2007",
          "2008",
          "2009",
          "2010",
          "2011",
          "2012",
          "2013",
          "2014",
          "2015",
          "2016",
          "2017",
          "2018",
          "2019",
          "2020",
          "2021"
         ],
         "xaxis": "x",
         "y": [
          3143814,
          3160431,
          3172857,
          3196953,
          3225255,
          3250176,
          3290536,
          3308765,
          3319314,
          3333820,
          3350257,
          3364702,
          3373871,
          3380404,
          3373988,
          3362553,
          3340216,
          3314183
         ],
         "yaxis": "y"
        },
        {
         "hovertemplate": "variable=제주특별자치도<br>index=%{x}<br>value=%{y}<extra></extra>",
         "legendgroup": "제주특별자치도",
         "line": {
          "color": "#B6E880",
          "dash": "solid"
         },
         "marker": {
          "symbol": "circle"
         },
         "mode": "lines",
         "name": "제주특별자치도",
         "orientation": "v",
         "showlegend": true,
         "type": "scatter",
         "x": [
          "2004",
          "2005",
          "2006",
          "2007",
          "2008",
          "2009",
          "2010",
          "2011",
          "2012",
          "2013",
          "2014",
          "2015",
          "2016",
          "2017",
          "2018",
          "2019",
          "2020",
          "2021"
         ],
         "xaxis": "x",
         "y": [
          555362,
          557569,
          558496,
          559258,
          560618,
          562663,
          571255,
          576156,
          583713,
          593806,
          607346,
          624395,
          641597,
          657083,
          667191,
          670989,
          674635,
          676759
         ],
         "yaxis": "y"
        }
       ],
       "layout": {
        "legend": {
         "title": {
          "text": "variable"
         },
         "tracegroupgap": 0
        },
        "margin": {
         "t": 60
        },
        "template": {
         "data": {
          "bar": [
           {
            "error_x": {
             "color": "#2a3f5f"
            },
            "error_y": {
             "color": "#2a3f5f"
            },
            "marker": {
             "line": {
              "color": "#E5ECF6",
              "width": 0.5
             },
             "pattern": {
              "fillmode": "overlay",
              "size": 10,
              "solidity": 0.2
             }
            },
            "type": "bar"
           }
          ],
          "barpolar": [
           {
            "marker": {
             "line": {
              "color": "#E5ECF6",
              "width": 0.5
             },
             "pattern": {
              "fillmode": "overlay",
              "size": 10,
              "solidity": 0.2
             }
            },
            "type": "barpolar"
           }
          ],
          "carpet": [
           {
            "aaxis": {
             "endlinecolor": "#2a3f5f",
             "gridcolor": "white",
             "linecolor": "white",
             "minorgridcolor": "white",
             "startlinecolor": "#2a3f5f"
            },
            "baxis": {
             "endlinecolor": "#2a3f5f",
             "gridcolor": "white",
             "linecolor": "white",
             "minorgridcolor": "white",
             "startlinecolor": "#2a3f5f"
            },
            "type": "carpet"
           }
          ],
          "choropleth": [
           {
            "colorbar": {
             "outlinewidth": 0,
             "ticks": ""
            },
            "type": "choropleth"
           }
          ],
          "contour": [
           {
            "colorbar": {
             "outlinewidth": 0,
             "ticks": ""
            },
            "colorscale": [
             [
              0,
              "#0d0887"
             ],
             [
              0.1111111111111111,
              "#46039f"
             ],
             [
              0.2222222222222222,
              "#7201a8"
             ],
             [
              0.3333333333333333,
              "#9c179e"
             ],
             [
              0.4444444444444444,
              "#bd3786"
             ],
             [
              0.5555555555555556,
              "#d8576b"
             ],
             [
              0.6666666666666666,
              "#ed7953"
             ],
             [
              0.7777777777777778,
              "#fb9f3a"
             ],
             [
              0.8888888888888888,
              "#fdca26"
             ],
             [
              1,
              "#f0f921"
             ]
            ],
            "type": "contour"
           }
          ],
          "contourcarpet": [
           {
            "colorbar": {
             "outlinewidth": 0,
             "ticks": ""
            },
            "type": "contourcarpet"
           }
          ],
          "heatmap": [
           {
            "colorbar": {
             "outlinewidth": 0,
             "ticks": ""
            },
            "colorscale": [
             [
              0,
              "#0d0887"
             ],
             [
              0.1111111111111111,
              "#46039f"
             ],
             [
              0.2222222222222222,
              "#7201a8"
             ],
             [
              0.3333333333333333,
              "#9c179e"
             ],
             [
              0.4444444444444444,
              "#bd3786"
             ],
             [
              0.5555555555555556,
              "#d8576b"
             ],
             [
              0.6666666666666666,
              "#ed7953"
             ],
             [
              0.7777777777777778,
              "#fb9f3a"
             ],
             [
              0.8888888888888888,
              "#fdca26"
             ],
             [
              1,
              "#f0f921"
             ]
            ],
            "type": "heatmap"
           }
          ],
          "heatmapgl": [
           {
            "colorbar": {
             "outlinewidth": 0,
             "ticks": ""
            },
            "colorscale": [
             [
              0,
              "#0d0887"
             ],
             [
              0.1111111111111111,
              "#46039f"
             ],
             [
              0.2222222222222222,
              "#7201a8"
             ],
             [
              0.3333333333333333,
              "#9c179e"
             ],
             [
              0.4444444444444444,
              "#bd3786"
             ],
             [
              0.5555555555555556,
              "#d8576b"
             ],
             [
              0.6666666666666666,
              "#ed7953"
             ],
             [
              0.7777777777777778,
              "#fb9f3a"
             ],
             [
              0.8888888888888888,
              "#fdca26"
             ],
             [
              1,
              "#f0f921"
             ]
            ],
            "type": "heatmapgl"
           }
          ],
          "histogram": [
           {
            "marker": {
             "pattern": {
              "fillmode": "overlay",
              "size": 10,
              "solidity": 0.2
             }
            },
            "type": "histogram"
           }
          ],
          "histogram2d": [
           {
            "colorbar": {
             "outlinewidth": 0,
             "ticks": ""
            },
            "colorscale": [
             [
              0,
              "#0d0887"
             ],
             [
              0.1111111111111111,
              "#46039f"
             ],
             [
              0.2222222222222222,
              "#7201a8"
             ],
             [
              0.3333333333333333,
              "#9c179e"
             ],
             [
              0.4444444444444444,
              "#bd3786"
             ],
             [
              0.5555555555555556,
              "#d8576b"
             ],
             [
              0.6666666666666666,
              "#ed7953"
             ],
             [
              0.7777777777777778,
              "#fb9f3a"
             ],
             [
              0.8888888888888888,
              "#fdca26"
             ],
             [
              1,
              "#f0f921"
             ]
            ],
            "type": "histogram2d"
           }
          ],
          "histogram2dcontour": [
           {
            "colorbar": {
             "outlinewidth": 0,
             "ticks": ""
            },
            "colorscale": [
             [
              0,
              "#0d0887"
             ],
             [
              0.1111111111111111,
              "#46039f"
             ],
             [
              0.2222222222222222,
              "#7201a8"
             ],
             [
              0.3333333333333333,
              "#9c179e"
             ],
             [
              0.4444444444444444,
              "#bd3786"
             ],
             [
              0.5555555555555556,
              "#d8576b"
             ],
             [
              0.6666666666666666,
              "#ed7953"
             ],
             [
              0.7777777777777778,
              "#fb9f3a"
             ],
             [
              0.8888888888888888,
              "#fdca26"
             ],
             [
              1,
              "#f0f921"
             ]
            ],
            "type": "histogram2dcontour"
           }
          ],
          "mesh3d": [
           {
            "colorbar": {
             "outlinewidth": 0,
             "ticks": ""
            },
            "type": "mesh3d"
           }
          ],
          "parcoords": [
           {
            "line": {
             "colorbar": {
              "outlinewidth": 0,
              "ticks": ""
             }
            },
            "type": "parcoords"
           }
          ],
          "pie": [
           {
            "automargin": true,
            "type": "pie"
           }
          ],
          "scatter": [
           {
            "fillpattern": {
             "fillmode": "overlay",
             "size": 10,
             "solidity": 0.2
            },
            "type": "scatter"
           }
          ],
          "scatter3d": [
           {
            "line": {
             "colorbar": {
              "outlinewidth": 0,
              "ticks": ""
             }
            },
            "marker": {
             "colorbar": {
              "outlinewidth": 0,
              "ticks": ""
             }
            },
            "type": "scatter3d"
           }
          ],
          "scattercarpet": [
           {
            "marker": {
             "colorbar": {
              "outlinewidth": 0,
              "ticks": ""
             }
            },
            "type": "scattercarpet"
           }
          ],
          "scattergeo": [
           {
            "marker": {
             "colorbar": {
              "outlinewidth": 0,
              "ticks": ""
             }
            },
            "type": "scattergeo"
           }
          ],
          "scattergl": [
           {
            "marker": {
             "colorbar": {
              "outlinewidth": 0,
              "ticks": ""
             }
            },
            "type": "scattergl"
           }
          ],
          "scattermapbox": [
           {
            "marker": {
             "colorbar": {
              "outlinewidth": 0,
              "ticks": ""
             }
            },
            "type": "scattermapbox"
           }
          ],
          "scatterpolar": [
           {
            "marker": {
             "colorbar": {
              "outlinewidth": 0,
              "ticks": ""
             }
            },
            "type": "scatterpolar"
           }
          ],
          "scatterpolargl": [
           {
            "marker": {
             "colorbar": {
              "outlinewidth": 0,
              "ticks": ""
             }
            },
            "type": "scatterpolargl"
           }
          ],
          "scatterternary": [
           {
            "marker": {
             "colorbar": {
              "outlinewidth": 0,
              "ticks": ""
             }
            },
            "type": "scatterternary"
           }
          ],
          "surface": [
           {
            "colorbar": {
             "outlinewidth": 0,
             "ticks": ""
            },
            "colorscale": [
             [
              0,
              "#0d0887"
             ],
             [
              0.1111111111111111,
              "#46039f"
             ],
             [
              0.2222222222222222,
              "#7201a8"
             ],
             [
              0.3333333333333333,
              "#9c179e"
             ],
             [
              0.4444444444444444,
              "#bd3786"
             ],
             [
              0.5555555555555556,
              "#d8576b"
             ],
             [
              0.6666666666666666,
              "#ed7953"
             ],
             [
              0.7777777777777778,
              "#fb9f3a"
             ],
             [
              0.8888888888888888,
              "#fdca26"
             ],
             [
              1,
              "#f0f921"
             ]
            ],
            "type": "surface"
           }
          ],
          "table": [
           {
            "cells": {
             "fill": {
              "color": "#EBF0F8"
             },
             "line": {
              "color": "white"
             }
            },
            "header": {
             "fill": {
              "color": "#C8D4E3"
             },
             "line": {
              "color": "white"
             }
            },
            "type": "table"
           }
          ]
         },
         "layout": {
          "annotationdefaults": {
           "arrowcolor": "#2a3f5f",
           "arrowhead": 0,
           "arrowwidth": 1
          },
          "autotypenumbers": "strict",
          "coloraxis": {
           "colorbar": {
            "outlinewidth": 0,
            "ticks": ""
           }
          },
          "colorscale": {
           "diverging": [
            [
             0,
             "#8e0152"
            ],
            [
             0.1,
             "#c51b7d"
            ],
            [
             0.2,
             "#de77ae"
            ],
            [
             0.3,
             "#f1b6da"
            ],
            [
             0.4,
             "#fde0ef"
            ],
            [
             0.5,
             "#f7f7f7"
            ],
            [
             0.6,
             "#e6f5d0"
            ],
            [
             0.7,
             "#b8e186"
            ],
            [
             0.8,
             "#7fbc41"
            ],
            [
             0.9,
             "#4d9221"
            ],
            [
             1,
             "#276419"
            ]
           ],
           "sequential": [
            [
             0,
             "#0d0887"
            ],
            [
             0.1111111111111111,
             "#46039f"
            ],
            [
             0.2222222222222222,
             "#7201a8"
            ],
            [
             0.3333333333333333,
             "#9c179e"
            ],
            [
             0.4444444444444444,
             "#bd3786"
            ],
            [
             0.5555555555555556,
             "#d8576b"
            ],
            [
             0.6666666666666666,
             "#ed7953"
            ],
            [
             0.7777777777777778,
             "#fb9f3a"
            ],
            [
             0.8888888888888888,
             "#fdca26"
            ],
            [
             1,
             "#f0f921"
            ]
           ],
           "sequentialminus": [
            [
             0,
             "#0d0887"
            ],
            [
             0.1111111111111111,
             "#46039f"
            ],
            [
             0.2222222222222222,
             "#7201a8"
            ],
            [
             0.3333333333333333,
             "#9c179e"
            ],
            [
             0.4444444444444444,
             "#bd3786"
            ],
            [
             0.5555555555555556,
             "#d8576b"
            ],
            [
             0.6666666666666666,
             "#ed7953"
            ],
            [
             0.7777777777777778,
             "#fb9f3a"
            ],
            [
             0.8888888888888888,
             "#fdca26"
            ],
            [
             1,
             "#f0f921"
            ]
           ]
          },
          "colorway": [
           "#636efa",
           "#EF553B",
           "#00cc96",
           "#ab63fa",
           "#FFA15A",
           "#19d3f3",
           "#FF6692",
           "#B6E880",
           "#FF97FF",
           "#FECB52"
          ],
          "font": {
           "color": "#2a3f5f"
          },
          "geo": {
           "bgcolor": "white",
           "lakecolor": "white",
           "landcolor": "#E5ECF6",
           "showlakes": true,
           "showland": true,
           "subunitcolor": "white"
          },
          "hoverlabel": {
           "align": "left"
          },
          "hovermode": "closest",
          "mapbox": {
           "style": "light"
          },
          "paper_bgcolor": "white",
          "plot_bgcolor": "#E5ECF6",
          "polar": {
           "angularaxis": {
            "gridcolor": "white",
            "linecolor": "white",
            "ticks": ""
           },
           "bgcolor": "#E5ECF6",
           "radialaxis": {
            "gridcolor": "white",
            "linecolor": "white",
            "ticks": ""
           }
          },
          "scene": {
           "xaxis": {
            "backgroundcolor": "#E5ECF6",
            "gridcolor": "white",
            "gridwidth": 2,
            "linecolor": "white",
            "showbackground": true,
            "ticks": "",
            "zerolinecolor": "white"
           },
           "yaxis": {
            "backgroundcolor": "#E5ECF6",
            "gridcolor": "white",
            "gridwidth": 2,
            "linecolor": "white",
            "showbackground": true,
            "ticks": "",
            "zerolinecolor": "white"
           },
           "zaxis": {
            "backgroundcolor": "#E5ECF6",
            "gridcolor": "white",
            "gridwidth": 2,
            "linecolor": "white",
            "showbackground": true,
            "ticks": "",
            "zerolinecolor": "white"
           }
          },
          "shapedefaults": {
           "line": {
            "color": "#2a3f5f"
           }
          },
          "ternary": {
           "aaxis": {
            "gridcolor": "white",
            "linecolor": "white",
            "ticks": ""
           },
           "baxis": {
            "gridcolor": "white",
            "linecolor": "white",
            "ticks": ""
           },
           "bgcolor": "#E5ECF6",
           "caxis": {
            "gridcolor": "white",
            "linecolor": "white",
            "ticks": ""
           }
          },
          "title": {
           "x": 0.05
          },
          "xaxis": {
           "automargin": true,
           "gridcolor": "white",
           "linecolor": "white",
           "ticks": "",
           "title": {
            "standoff": 15
           },
           "zerolinecolor": "white",
           "zerolinewidth": 2
          },
          "yaxis": {
           "automargin": true,
           "gridcolor": "white",
           "linecolor": "white",
           "ticks": "",
           "title": {
            "standoff": 15
           },
           "zerolinecolor": "white",
           "zerolinewidth": 2
          }
         }
        },
        "xaxis": {
         "anchor": "y",
         "domain": [
          0,
          1
         ],
         "title": {
          "text": "index"
         }
        },
        "yaxis": {
         "anchor": "x",
         "domain": [
          0,
          1
         ],
         "title": {
          "text": "value"
         }
        }
       }
      },
      "text/html": [
       "<div>                            <div id=\"dc2338e4-ea51-4c80-9fe1-cbbfd61edea8\" class=\"plotly-graph-div\" style=\"height:525px; width:100%;\"></div>            <script type=\"text/javascript\">                require([\"plotly\"], function(Plotly) {                    window.PLOTLYENV=window.PLOTLYENV || {};                                    if (document.getElementById(\"dc2338e4-ea51-4c80-9fe1-cbbfd61edea8\")) {                    Plotly.newPlot(                        \"dc2338e4-ea51-4c80-9fe1-cbbfd61edea8\",                        [{\"hovertemplate\":\"variable=\\uc804\\uad6d<br>index=%{x}<br>value=%{y}<extra></extra>\",\"legendgroup\":\"\\uc804\\uad6d\",\"line\":{\"color\":\"#636efa\",\"dash\":\"solid\"},\"marker\":{\"symbol\":\"circle\"},\"mode\":\"lines\",\"name\":\"\\uc804\\uad6d\",\"orientation\":\"v\",\"showlegend\":true,\"x\":[\"2004\",\"2005\",\"2006\",\"2007\",\"2008\",\"2009\",\"2010\",\"2011\",\"2012\",\"2013\",\"2014\",\"2015\",\"2016\",\"2017\",\"2018\",\"2019\",\"2020\",\"2021\"],\"xaxis\":\"x\",\"y\":[48583805,48782274,48991779,49268928,49540367,49773145,50515666,50734284,50948272,51141463,51327916,51529338,51696216,51778544,51826059,51849861,51829023,51638809],\"yaxis\":\"y\",\"type\":\"scatter\"},{\"hovertemplate\":\"variable=\\uc11c\\uc6b8\\ud2b9\\ubcc4\\uc2dc<br>index=%{x}<br>value=%{y}<extra></extra>\",\"legendgroup\":\"\\uc11c\\uc6b8\\ud2b9\\ubcc4\\uc2dc\",\"line\":{\"color\":\"#EF553B\",\"dash\":\"solid\"},\"marker\":{\"symbol\":\"circle\"},\"mode\":\"lines\",\"name\":\"\\uc11c\\uc6b8\\ud2b9\\ubcc4\\uc2dc\",\"orientation\":\"v\",\"showlegend\":true,\"x\":[\"2004\",\"2005\",\"2006\",\"2007\",\"2008\",\"2009\",\"2010\",\"2011\",\"2012\",\"2013\",\"2014\",\"2015\",\"2016\",\"2017\",\"2018\",\"2019\",\"2020\",\"2021\"],\"xaxis\":\"x\",\"y\":[10173162,10167344,10181166,10192710,10200827,10208302,10312545,10249679,10195318,10143645,10103233,10022181,9930616,9857426,9765623,9729107,9668465,9509458],\"yaxis\":\"y\",\"type\":\"scatter\"},{\"hovertemplate\":\"variable=\\ubd80\\uc0b0\\uad11\\uc5ed\\uc2dc<br>index=%{x}<br>value=%{y}<extra></extra>\",\"legendgroup\":\"\\ubd80\\uc0b0\\uad11\\uc5ed\\uc2dc\",\"line\":{\"color\":\"#00cc96\",\"dash\":\"solid\"},\"marker\":{\"symbol\":\"circle\"},\"mode\":\"lines\",\"name\":\"\\ubd80\\uc0b0\\uad11\\uc5ed\\uc2dc\",\"orientation\":\"v\",\"showlegend\":true,\"x\":[\"2004\",\"2005\",\"2006\",\"2007\",\"2008\",\"2009\",\"2010\",\"2011\",\"2012\",\"2013\",\"2014\",\"2015\",\"2016\",\"2017\",\"2018\",\"2019\",\"2020\",\"2021\"],\"xaxis\":\"x\",\"y\":[3666345,3638293,3611992,3587439,3564577,3543030,3567910,3550963,3538484,3527635,3519401,3513777,3498529,3470653,3441453,3413841,3391946,3350380],\"yaxis\":\"y\",\"type\":\"scatter\"},{\"hovertemplate\":\"variable=\\ub300\\uad6c\\uad11\\uc5ed\\uc2dc<br>index=%{x}<br>value=%{y}<extra></extra>\",\"legendgroup\":\"\\ub300\\uad6c\\uad11\\uc5ed\\uc2dc\",\"line\":{\"color\":\"#ab63fa\",\"dash\":\"solid\"},\"marker\":{\"symbol\":\"circle\"},\"mode\":\"lines\",\"name\":\"\\ub300\\uad6c\\uad11\\uc5ed\\uc2dc\",\"orientation\":\"v\",\"showlegend\":true,\"x\":[\"2004\",\"2005\",\"2006\",\"2007\",\"2008\",\"2009\",\"2010\",\"2011\",\"2012\",\"2013\",\"2014\",\"2015\",\"2016\",\"2017\",\"2018\",\"2019\",\"2020\",\"2021\"],\"xaxis\":\"x\",\"y\":[2524712,2511306,2496115,2493261,2492724,2489781,2511676,2507271,2505644,2501588,2493264,2487829,2484557,2475231,2461769,2438031,2418346,2385412],\"yaxis\":\"y\",\"type\":\"scatter\"},{\"hovertemplate\":\"variable=\\uc778\\ucc9c\\uad11\\uc5ed\\uc2dc<br>index=%{x}<br>value=%{y}<extra></extra>\",\"legendgroup\":\"\\uc778\\ucc9c\\uad11\\uc5ed\\uc2dc\",\"line\":{\"color\":\"#FFA15A\",\"dash\":\"solid\"},\"marker\":{\"symbol\":\"circle\"},\"mode\":\"lines\",\"name\":\"\\uc778\\ucc9c\\uad11\\uc5ed\\uc2dc\",\"orientation\":\"v\",\"showlegend\":true,\"x\":[\"2004\",\"2005\",\"2006\",\"2007\",\"2008\",\"2009\",\"2010\",\"2011\",\"2012\",\"2013\",\"2014\",\"2015\",\"2016\",\"2017\",\"2018\",\"2019\",\"2020\",\"2021\"],\"xaxis\":\"x\",\"y\":[2578817,2600495,2624391,2664576,2692696,2710579,2758296,2801274,2843981,2879782,2902608,2925815,2943069,2948542,2954642,2957026,2942828,2948375],\"yaxis\":\"y\",\"type\":\"scatter\"},{\"hovertemplate\":\"variable=\\uad11\\uc8fc\\uad11\\uc5ed\\uc2dc<br>index=%{x}<br>value=%{y}<extra></extra>\",\"legendgroup\":\"\\uad11\\uc8fc\\uad11\\uc5ed\\uc2dc\",\"line\":{\"color\":\"#19d3f3\",\"dash\":\"solid\"},\"marker\":{\"symbol\":\"circle\"},\"mode\":\"lines\",\"name\":\"\\uad11\\uc8fc\\uad11\\uc5ed\\uc2dc\",\"orientation\":\"v\",\"showlegend\":true,\"x\":[\"2004\",\"2005\",\"2006\",\"2007\",\"2008\",\"2009\",\"2010\",\"2011\",\"2012\",\"2013\",\"2014\",\"2015\",\"2016\",\"2017\",\"2018\",\"2019\",\"2020\",\"2021\"],\"xaxis\":\"x\",\"y\":[1401172,1401745,1407798,1413444,1422702,1433640,1454636,1463464,1469216,1472910,1475884,1472199,1469214,1463770,1459336,1456468,1450062,1441611],\"yaxis\":\"y\",\"type\":\"scatter\"},{\"hovertemplate\":\"variable=\\ub300\\uc804\\uad11\\uc5ed\\uc2dc<br>index=%{x}<br>value=%{y}<extra></extra>\",\"legendgroup\":\"\\ub300\\uc804\\uad11\\uc5ed\\uc2dc\",\"line\":{\"color\":\"#FF6692\",\"dash\":\"solid\"},\"marker\":{\"symbol\":\"circle\"},\"mode\":\"lines\",\"name\":\"\\ub300\\uc804\\uad11\\uc5ed\\uc2dc\",\"orientation\":\"v\",\"showlegend\":true,\"x\":[\"2004\",\"2005\",\"2006\",\"2007\",\"2008\",\"2009\",\"2010\",\"2011\",\"2012\",\"2013\",\"2014\",\"2015\",\"2016\",\"2017\",\"2018\",\"2019\",\"2020\",\"2021\"],\"xaxis\":\"x\",\"y\":[1443471,1454638,1466158,1475659,1480895,1484180,1503664,1515603,1524583,1532811,1531809,1518775,1514370,1502227,1489936,1474870,1463882,1452251],\"yaxis\":\"y\",\"type\":\"scatter\"},{\"hovertemplate\":\"variable=\\uc6b8\\uc0b0\\uad11\\uc5ed\\uc2dc<br>index=%{x}<br>value=%{y}<extra></extra>\",\"legendgroup\":\"\\uc6b8\\uc0b0\\uad11\\uc5ed\\uc2dc\",\"line\":{\"color\":\"#B6E880\",\"dash\":\"solid\"},\"marker\":{\"symbol\":\"circle\"},\"mode\":\"lines\",\"name\":\"\\uc6b8\\uc0b0\\uad11\\uc5ed\\uc2dc\",\"orientation\":\"v\",\"showlegend\":true,\"x\":[\"2004\",\"2005\",\"2006\",\"2007\",\"2008\",\"2009\",\"2010\",\"2011\",\"2012\",\"2013\",\"2014\",\"2015\",\"2016\",\"2017\",\"2018\",\"2019\",\"2020\",\"2021\"],\"xaxis\":\"x\",\"y\":[1081453,1087648,1092494,1099995,1112407,1114866,1126298,1135494,1147256,1156480,1166377,1173534,1172304,1165132,1155623,1148019,1136017,1121592],\"yaxis\":\"y\",\"type\":\"scatter\"},{\"hovertemplate\":\"variable=\\uc138\\uc885\\ud2b9\\ubcc4\\uc790\\uce58\\uc2dc<br>index=%{x}<br>value=%{y}<extra></extra>\",\"legendgroup\":\"\\uc138\\uc885\\ud2b9\\ubcc4\\uc790\\uce58\\uc2dc\",\"line\":{\"color\":\"#FF97FF\",\"dash\":\"solid\"},\"marker\":{\"symbol\":\"circle\"},\"mode\":\"lines\",\"name\":\"\\uc138\\uc885\\ud2b9\\ubcc4\\uc790\\uce58\\uc2dc\",\"orientation\":\"v\",\"showlegend\":true,\"x\":[\"2004\",\"2005\",\"2006\",\"2007\",\"2008\",\"2009\",\"2010\",\"2011\",\"2012\",\"2013\",\"2014\",\"2015\",\"2016\",\"2017\",\"2018\",\"2019\",\"2020\",\"2021\"],\"xaxis\":\"x\",\"y\":[0,0,0,0,0,0,0,0,113117,122153,156125,210884,243048,280100,314126,340575,355831,371895],\"yaxis\":\"y\",\"type\":\"scatter\"},{\"hovertemplate\":\"variable=\\uacbd\\uae30\\ub3c4<br>index=%{x}<br>value=%{y}<extra></extra>\",\"legendgroup\":\"\\uacbd\\uae30\\ub3c4\",\"line\":{\"color\":\"#FECB52\",\"dash\":\"solid\"},\"marker\":{\"symbol\":\"circle\"},\"mode\":\"lines\",\"name\":\"\\uacbd\\uae30\\ub3c4\",\"orientation\":\"v\",\"showlegend\":true,\"x\":[\"2004\",\"2005\",\"2006\",\"2007\",\"2008\",\"2009\",\"2010\",\"2011\",\"2012\",\"2013\",\"2014\",\"2015\",\"2016\",\"2017\",\"2018\",\"2019\",\"2020\",\"2021\"],\"xaxis\":\"x\",\"y\":[10462920,10697215,10906033,11106211,11292264,11460610,11786622,11937415,12093299,12234630,12357830,12522606,12716780,12873895,13077153,13239666,13427014,13565450],\"yaxis\":\"y\",\"type\":\"scatter\"},{\"hovertemplate\":\"variable=\\uac15\\uc6d0\\ub3c4<br>index=%{x}<br>value=%{y}<extra></extra>\",\"legendgroup\":\"\\uac15\\uc6d0\\ub3c4\",\"line\":{\"color\":\"#636efa\",\"dash\":\"solid\"},\"marker\":{\"symbol\":\"circle\"},\"mode\":\"lines\",\"name\":\"\\uac15\\uc6d0\\ub3c4\",\"orientation\":\"v\",\"showlegend\":true,\"x\":[\"2004\",\"2005\",\"2006\",\"2007\",\"2008\",\"2009\",\"2010\",\"2011\",\"2012\",\"2013\",\"2014\",\"2015\",\"2016\",\"2017\",\"2018\",\"2019\",\"2020\",\"2021\"],\"xaxis\":\"x\",\"y\":[1521375,1513110,1505420,1503806,1508575,1512870,1529818,1536448,1538630,1542263,1544442,1549507,1550806,1550142,1543052,1541502,1542840,1538492],\"yaxis\":\"y\",\"type\":\"scatter\"},{\"hovertemplate\":\"variable=\\ucda9\\uccad\\ubd81\\ub3c4<br>index=%{x}<br>value=%{y}<extra></extra>\",\"legendgroup\":\"\\ucda9\\uccad\\ubd81\\ub3c4\",\"line\":{\"color\":\"#EF553B\",\"dash\":\"solid\"},\"marker\":{\"symbol\":\"circle\"},\"mode\":\"lines\",\"name\":\"\\ucda9\\uccad\\ubd81\\ub3c4\",\"orientation\":\"v\",\"showlegend\":true,\"x\":[\"2004\",\"2005\",\"2006\",\"2007\",\"2008\",\"2009\",\"2010\",\"2011\",\"2012\",\"2013\",\"2014\",\"2015\",\"2016\",\"2017\",\"2018\",\"2019\",\"2020\",\"2021\"],\"xaxis\":\"x\",\"y\":[1488945,1488803,1494559,1506608,1519587,1527478,1549528,1562903,1565628,1572732,1578933,1583952,1591625,1594432,1599252,1600007,1600837,1597427],\"yaxis\":\"y\",\"type\":\"scatter\"},{\"hovertemplate\":\"variable=\\ucda9\\uccad\\ub0a8\\ub3c4<br>index=%{x}<br>value=%{y}<extra></extra>\",\"legendgroup\":\"\\ucda9\\uccad\\ub0a8\\ub3c4\",\"line\":{\"color\":\"#00cc96\",\"dash\":\"solid\"},\"marker\":{\"symbol\":\"circle\"},\"mode\":\"lines\",\"name\":\"\\ucda9\\uccad\\ub0a8\\ub3c4\",\"orientation\":\"v\",\"showlegend\":true,\"x\":[\"2004\",\"2005\",\"2006\",\"2007\",\"2008\",\"2009\",\"2010\",\"2011\",\"2012\",\"2013\",\"2014\",\"2015\",\"2016\",\"2017\",\"2018\",\"2019\",\"2020\",\"2021\"],\"xaxis\":\"x\",\"y\":[1953406,1962646,1974433,1995531,2018537,2037582,2075514,2101284,2028777,2047631,2062273,2077649,2096727,2116770,2126282,2123709,2121029,2119257],\"yaxis\":\"y\",\"type\":\"scatter\"},{\"hovertemplate\":\"variable=\\uc804\\ub77c\\ubd81\\ub3c4<br>index=%{x}<br>value=%{y}<extra></extra>\",\"legendgroup\":\"\\uc804\\ub77c\\ubd81\\ub3c4\",\"line\":{\"color\":\"#ab63fa\",\"dash\":\"solid\"},\"marker\":{\"symbol\":\"circle\"},\"mode\":\"lines\",\"name\":\"\\uc804\\ub77c\\ubd81\\ub3c4\",\"orientation\":\"v\",\"showlegend\":true,\"x\":[\"2004\",\"2005\",\"2006\",\"2007\",\"2008\",\"2009\",\"2010\",\"2011\",\"2012\",\"2013\",\"2014\",\"2015\",\"2016\",\"2017\",\"2018\",\"2019\",\"2020\",\"2021\"],\"xaxis\":\"x\",\"y\":[1906742,1885335,1868365,1862277,1855772,1854508,1868963,1874031,1873341,1872965,1871560,1869711,1864791,1854607,1836832,1818917,1804104,1786855],\"yaxis\":\"y\",\"type\":\"scatter\"},{\"hovertemplate\":\"variable=\\uc804\\ub77c\\ub0a8\\ub3c4<br>index=%{x}<br>value=%{y}<extra></extra>\",\"legendgroup\":\"\\uc804\\ub77c\\ub0a8\\ub3c4\",\"line\":{\"color\":\"#FFA15A\",\"dash\":\"solid\"},\"marker\":{\"symbol\":\"circle\"},\"mode\":\"lines\",\"name\":\"\\uc804\\ub77c\\ub0a8\\ub3c4\",\"orientation\":\"v\",\"showlegend\":true,\"x\":[\"2004\",\"2005\",\"2006\",\"2007\",\"2008\",\"2009\",\"2010\",\"2011\",\"2012\",\"2013\",\"2014\",\"2015\",\"2016\",\"2017\",\"2018\",\"2019\",\"2020\",\"2021\"],\"xaxis\":\"x\",\"y\":[1986192,1967205,1942925,1929836,1919000,1913004,1918485,1914339,1909618,1907172,1905780,1908996,1903914,1896424,1882970,1868745,1851549,1832803],\"yaxis\":\"y\",\"type\":\"scatter\"},{\"hovertemplate\":\"variable=\\uacbd\\uc0c1\\ubd81\\ub3c4<br>index=%{x}<br>value=%{y}<extra></extra>\",\"legendgroup\":\"\\uacbd\\uc0c1\\ubd81\\ub3c4\",\"line\":{\"color\":\"#19d3f3\",\"dash\":\"solid\"},\"marker\":{\"symbol\":\"circle\"},\"mode\":\"lines\",\"name\":\"\\uacbd\\uc0c1\\ubd81\\ub3c4\",\"orientation\":\"v\",\"showlegend\":true,\"x\":[\"2004\",\"2005\",\"2006\",\"2007\",\"2008\",\"2009\",\"2010\",\"2011\",\"2012\",\"2013\",\"2014\",\"2015\",\"2016\",\"2017\",\"2018\",\"2019\",\"2020\",\"2021\"],\"xaxis\":\"x\",\"y\":[2695917,2688491,2688577,2681364,2673931,2669876,2689920,2699195,2698353,2699440,2700794,2702826,2700398,2691706,2676831,2665836,2639422,2626609],\"yaxis\":\"y\",\"type\":\"scatter\"},{\"hovertemplate\":\"variable=\\uacbd\\uc0c1\\ub0a8\\ub3c4<br>index=%{x}<br>value=%{y}<extra></extra>\",\"legendgroup\":\"\\uacbd\\uc0c1\\ub0a8\\ub3c4\",\"line\":{\"color\":\"#FF6692\",\"dash\":\"solid\"},\"marker\":{\"symbol\":\"circle\"},\"mode\":\"lines\",\"name\":\"\\uacbd\\uc0c1\\ub0a8\\ub3c4\",\"orientation\":\"v\",\"showlegend\":true,\"x\":[\"2004\",\"2005\",\"2006\",\"2007\",\"2008\",\"2009\",\"2010\",\"2011\",\"2012\",\"2013\",\"2014\",\"2015\",\"2016\",\"2017\",\"2018\",\"2019\",\"2020\",\"2021\"],\"xaxis\":\"x\",\"y\":[3143814,3160431,3172857,3196953,3225255,3250176,3290536,3308765,3319314,3333820,3350257,3364702,3373871,3380404,3373988,3362553,3340216,3314183],\"yaxis\":\"y\",\"type\":\"scatter\"},{\"hovertemplate\":\"variable=\\uc81c\\uc8fc\\ud2b9\\ubcc4\\uc790\\uce58\\ub3c4<br>index=%{x}<br>value=%{y}<extra></extra>\",\"legendgroup\":\"\\uc81c\\uc8fc\\ud2b9\\ubcc4\\uc790\\uce58\\ub3c4\",\"line\":{\"color\":\"#B6E880\",\"dash\":\"solid\"},\"marker\":{\"symbol\":\"circle\"},\"mode\":\"lines\",\"name\":\"\\uc81c\\uc8fc\\ud2b9\\ubcc4\\uc790\\uce58\\ub3c4\",\"orientation\":\"v\",\"showlegend\":true,\"x\":[\"2004\",\"2005\",\"2006\",\"2007\",\"2008\",\"2009\",\"2010\",\"2011\",\"2012\",\"2013\",\"2014\",\"2015\",\"2016\",\"2017\",\"2018\",\"2019\",\"2020\",\"2021\"],\"xaxis\":\"x\",\"y\":[555362,557569,558496,559258,560618,562663,571255,576156,583713,593806,607346,624395,641597,657083,667191,670989,674635,676759],\"yaxis\":\"y\",\"type\":\"scatter\"}],                        {\"template\":{\"data\":{\"histogram2dcontour\":[{\"type\":\"histogram2dcontour\",\"colorbar\":{\"outlinewidth\":0,\"ticks\":\"\"},\"colorscale\":[[0.0,\"#0d0887\"],[0.1111111111111111,\"#46039f\"],[0.2222222222222222,\"#7201a8\"],[0.3333333333333333,\"#9c179e\"],[0.4444444444444444,\"#bd3786\"],[0.5555555555555556,\"#d8576b\"],[0.6666666666666666,\"#ed7953\"],[0.7777777777777778,\"#fb9f3a\"],[0.8888888888888888,\"#fdca26\"],[1.0,\"#f0f921\"]]}],\"choropleth\":[{\"type\":\"choropleth\",\"colorbar\":{\"outlinewidth\":0,\"ticks\":\"\"}}],\"histogram2d\":[{\"type\":\"histogram2d\",\"colorbar\":{\"outlinewidth\":0,\"ticks\":\"\"},\"colorscale\":[[0.0,\"#0d0887\"],[0.1111111111111111,\"#46039f\"],[0.2222222222222222,\"#7201a8\"],[0.3333333333333333,\"#9c179e\"],[0.4444444444444444,\"#bd3786\"],[0.5555555555555556,\"#d8576b\"],[0.6666666666666666,\"#ed7953\"],[0.7777777777777778,\"#fb9f3a\"],[0.8888888888888888,\"#fdca26\"],[1.0,\"#f0f921\"]]}],\"heatmap\":[{\"type\":\"heatmap\",\"colorbar\":{\"outlinewidth\":0,\"ticks\":\"\"},\"colorscale\":[[0.0,\"#0d0887\"],[0.1111111111111111,\"#46039f\"],[0.2222222222222222,\"#7201a8\"],[0.3333333333333333,\"#9c179e\"],[0.4444444444444444,\"#bd3786\"],[0.5555555555555556,\"#d8576b\"],[0.6666666666666666,\"#ed7953\"],[0.7777777777777778,\"#fb9f3a\"],[0.8888888888888888,\"#fdca26\"],[1.0,\"#f0f921\"]]}],\"heatmapgl\":[{\"type\":\"heatmapgl\",\"colorbar\":{\"outlinewidth\":0,\"ticks\":\"\"},\"colorscale\":[[0.0,\"#0d0887\"],[0.1111111111111111,\"#46039f\"],[0.2222222222222222,\"#7201a8\"],[0.3333333333333333,\"#9c179e\"],[0.4444444444444444,\"#bd3786\"],[0.5555555555555556,\"#d8576b\"],[0.6666666666666666,\"#ed7953\"],[0.7777777777777778,\"#fb9f3a\"],[0.8888888888888888,\"#fdca26\"],[1.0,\"#f0f921\"]]}],\"contourcarpet\":[{\"type\":\"contourcarpet\",\"colorbar\":{\"outlinewidth\":0,\"ticks\":\"\"}}],\"contour\":[{\"type\":\"contour\",\"colorbar\":{\"outlinewidth\":0,\"ticks\":\"\"},\"colorscale\":[[0.0,\"#0d0887\"],[0.1111111111111111,\"#46039f\"],[0.2222222222222222,\"#7201a8\"],[0.3333333333333333,\"#9c179e\"],[0.4444444444444444,\"#bd3786\"],[0.5555555555555556,\"#d8576b\"],[0.6666666666666666,\"#ed7953\"],[0.7777777777777778,\"#fb9f3a\"],[0.8888888888888888,\"#fdca26\"],[1.0,\"#f0f921\"]]}],\"surface\":[{\"type\":\"surface\",\"colorbar\":{\"outlinewidth\":0,\"ticks\":\"\"},\"colorscale\":[[0.0,\"#0d0887\"],[0.1111111111111111,\"#46039f\"],[0.2222222222222222,\"#7201a8\"],[0.3333333333333333,\"#9c179e\"],[0.4444444444444444,\"#bd3786\"],[0.5555555555555556,\"#d8576b\"],[0.6666666666666666,\"#ed7953\"],[0.7777777777777778,\"#fb9f3a\"],[0.8888888888888888,\"#fdca26\"],[1.0,\"#f0f921\"]]}],\"mesh3d\":[{\"type\":\"mesh3d\",\"colorbar\":{\"outlinewidth\":0,\"ticks\":\"\"}}],\"scatter\":[{\"fillpattern\":{\"fillmode\":\"overlay\",\"size\":10,\"solidity\":0.2},\"type\":\"scatter\"}],\"parcoords\":[{\"type\":\"parcoords\",\"line\":{\"colorbar\":{\"outlinewidth\":0,\"ticks\":\"\"}}}],\"scatterpolargl\":[{\"type\":\"scatterpolargl\",\"marker\":{\"colorbar\":{\"outlinewidth\":0,\"ticks\":\"\"}}}],\"bar\":[{\"error_x\":{\"color\":\"#2a3f5f\"},\"error_y\":{\"color\":\"#2a3f5f\"},\"marker\":{\"line\":{\"color\":\"#E5ECF6\",\"width\":0.5},\"pattern\":{\"fillmode\":\"overlay\",\"size\":10,\"solidity\":0.2}},\"type\":\"bar\"}],\"scattergeo\":[{\"type\":\"scattergeo\",\"marker\":{\"colorbar\":{\"outlinewidth\":0,\"ticks\":\"\"}}}],\"scatterpolar\":[{\"type\":\"scatterpolar\",\"marker\":{\"colorbar\":{\"outlinewidth\":0,\"ticks\":\"\"}}}],\"histogram\":[{\"marker\":{\"pattern\":{\"fillmode\":\"overlay\",\"size\":10,\"solidity\":0.2}},\"type\":\"histogram\"}],\"scattergl\":[{\"type\":\"scattergl\",\"marker\":{\"colorbar\":{\"outlinewidth\":0,\"ticks\":\"\"}}}],\"scatter3d\":[{\"type\":\"scatter3d\",\"line\":{\"colorbar\":{\"outlinewidth\":0,\"ticks\":\"\"}},\"marker\":{\"colorbar\":{\"outlinewidth\":0,\"ticks\":\"\"}}}],\"scattermapbox\":[{\"type\":\"scattermapbox\",\"marker\":{\"colorbar\":{\"outlinewidth\":0,\"ticks\":\"\"}}}],\"scatterternary\":[{\"type\":\"scatterternary\",\"marker\":{\"colorbar\":{\"outlinewidth\":0,\"ticks\":\"\"}}}],\"scattercarpet\":[{\"type\":\"scattercarpet\",\"marker\":{\"colorbar\":{\"outlinewidth\":0,\"ticks\":\"\"}}}],\"carpet\":[{\"aaxis\":{\"endlinecolor\":\"#2a3f5f\",\"gridcolor\":\"white\",\"linecolor\":\"white\",\"minorgridcolor\":\"white\",\"startlinecolor\":\"#2a3f5f\"},\"baxis\":{\"endlinecolor\":\"#2a3f5f\",\"gridcolor\":\"white\",\"linecolor\":\"white\",\"minorgridcolor\":\"white\",\"startlinecolor\":\"#2a3f5f\"},\"type\":\"carpet\"}],\"table\":[{\"cells\":{\"fill\":{\"color\":\"#EBF0F8\"},\"line\":{\"color\":\"white\"}},\"header\":{\"fill\":{\"color\":\"#C8D4E3\"},\"line\":{\"color\":\"white\"}},\"type\":\"table\"}],\"barpolar\":[{\"marker\":{\"line\":{\"color\":\"#E5ECF6\",\"width\":0.5},\"pattern\":{\"fillmode\":\"overlay\",\"size\":10,\"solidity\":0.2}},\"type\":\"barpolar\"}],\"pie\":[{\"automargin\":true,\"type\":\"pie\"}]},\"layout\":{\"autotypenumbers\":\"strict\",\"colorway\":[\"#636efa\",\"#EF553B\",\"#00cc96\",\"#ab63fa\",\"#FFA15A\",\"#19d3f3\",\"#FF6692\",\"#B6E880\",\"#FF97FF\",\"#FECB52\"],\"font\":{\"color\":\"#2a3f5f\"},\"hovermode\":\"closest\",\"hoverlabel\":{\"align\":\"left\"},\"paper_bgcolor\":\"white\",\"plot_bgcolor\":\"#E5ECF6\",\"polar\":{\"bgcolor\":\"#E5ECF6\",\"angularaxis\":{\"gridcolor\":\"white\",\"linecolor\":\"white\",\"ticks\":\"\"},\"radialaxis\":{\"gridcolor\":\"white\",\"linecolor\":\"white\",\"ticks\":\"\"}},\"ternary\":{\"bgcolor\":\"#E5ECF6\",\"aaxis\":{\"gridcolor\":\"white\",\"linecolor\":\"white\",\"ticks\":\"\"},\"baxis\":{\"gridcolor\":\"white\",\"linecolor\":\"white\",\"ticks\":\"\"},\"caxis\":{\"gridcolor\":\"white\",\"linecolor\":\"white\",\"ticks\":\"\"}},\"coloraxis\":{\"colorbar\":{\"outlinewidth\":0,\"ticks\":\"\"}},\"colorscale\":{\"sequential\":[[0.0,\"#0d0887\"],[0.1111111111111111,\"#46039f\"],[0.2222222222222222,\"#7201a8\"],[0.3333333333333333,\"#9c179e\"],[0.4444444444444444,\"#bd3786\"],[0.5555555555555556,\"#d8576b\"],[0.6666666666666666,\"#ed7953\"],[0.7777777777777778,\"#fb9f3a\"],[0.8888888888888888,\"#fdca26\"],[1.0,\"#f0f921\"]],\"sequentialminus\":[[0.0,\"#0d0887\"],[0.1111111111111111,\"#46039f\"],[0.2222222222222222,\"#7201a8\"],[0.3333333333333333,\"#9c179e\"],[0.4444444444444444,\"#bd3786\"],[0.5555555555555556,\"#d8576b\"],[0.6666666666666666,\"#ed7953\"],[0.7777777777777778,\"#fb9f3a\"],[0.8888888888888888,\"#fdca26\"],[1.0,\"#f0f921\"]],\"diverging\":[[0,\"#8e0152\"],[0.1,\"#c51b7d\"],[0.2,\"#de77ae\"],[0.3,\"#f1b6da\"],[0.4,\"#fde0ef\"],[0.5,\"#f7f7f7\"],[0.6,\"#e6f5d0\"],[0.7,\"#b8e186\"],[0.8,\"#7fbc41\"],[0.9,\"#4d9221\"],[1,\"#276419\"]]},\"xaxis\":{\"gridcolor\":\"white\",\"linecolor\":\"white\",\"ticks\":\"\",\"title\":{\"standoff\":15},\"zerolinecolor\":\"white\",\"automargin\":true,\"zerolinewidth\":2},\"yaxis\":{\"gridcolor\":\"white\",\"linecolor\":\"white\",\"ticks\":\"\",\"title\":{\"standoff\":15},\"zerolinecolor\":\"white\",\"automargin\":true,\"zerolinewidth\":2},\"scene\":{\"xaxis\":{\"backgroundcolor\":\"#E5ECF6\",\"gridcolor\":\"white\",\"linecolor\":\"white\",\"showbackground\":true,\"ticks\":\"\",\"zerolinecolor\":\"white\",\"gridwidth\":2},\"yaxis\":{\"backgroundcolor\":\"#E5ECF6\",\"gridcolor\":\"white\",\"linecolor\":\"white\",\"showbackground\":true,\"ticks\":\"\",\"zerolinecolor\":\"white\",\"gridwidth\":2},\"zaxis\":{\"backgroundcolor\":\"#E5ECF6\",\"gridcolor\":\"white\",\"linecolor\":\"white\",\"showbackground\":true,\"ticks\":\"\",\"zerolinecolor\":\"white\",\"gridwidth\":2}},\"shapedefaults\":{\"line\":{\"color\":\"#2a3f5f\"}},\"annotationdefaults\":{\"arrowcolor\":\"#2a3f5f\",\"arrowhead\":0,\"arrowwidth\":1},\"geo\":{\"bgcolor\":\"white\",\"landcolor\":\"#E5ECF6\",\"subunitcolor\":\"white\",\"showland\":true,\"showlakes\":true,\"lakecolor\":\"white\"},\"title\":{\"x\":0.05},\"mapbox\":{\"style\":\"light\"}}},\"xaxis\":{\"anchor\":\"y\",\"domain\":[0.0,1.0],\"title\":{\"text\":\"index\"}},\"yaxis\":{\"anchor\":\"x\",\"domain\":[0.0,1.0],\"title\":{\"text\":\"value\"}},\"legend\":{\"title\":{\"text\":\"variable\"},\"tracegroupgap\":0},\"margin\":{\"t\":60}},                        {\"responsive\": true}                    ).then(function(){\n",
       "                            \n",
       "var gd = document.getElementById('dc2338e4-ea51-4c80-9fe1-cbbfd61edea8');\n",
       "var x = new MutationObserver(function (mutations, observer) {{\n",
       "        var display = window.getComputedStyle(gd).display;\n",
       "        if (!display || display === 'none') {{\n",
       "            console.log([gd, 'removed!']);\n",
       "            Plotly.purge(gd);\n",
       "            observer.disconnect();\n",
       "        }}\n",
       "}});\n",
       "\n",
       "// Listen for the removal of the full notebook cells\n",
       "var notebookContainer = gd.closest('#notebook-container');\n",
       "if (notebookContainer) {{\n",
       "    x.observe(notebookContainer, {childList: true});\n",
       "}}\n",
       "\n",
       "// Listen for the clearing of the current output cell\n",
       "var outputEl = gd.closest('.output');\n",
       "if (outputEl) {{\n",
       "    x.observe(outputEl, {childList: true});\n",
       "}}\n",
       "\n",
       "                        })                };                });            </script>        </div>"
      ]
     },
     "metadata": {},
     "output_type": "display_data"
    }
   ],
   "source": [
    "# 전국 vs 모든 지역 \n",
    "px.line(data1)"
   ]
  },
  {
   "cell_type": "code",
   "execution_count": 686,
   "id": "8ce9645b",
   "metadata": {},
   "outputs": [],
   "source": [
    "#전국 빼고 비교 \n",
    "total = data1.drop(columns =['전국'])"
   ]
  },
  {
   "cell_type": "code",
   "execution_count": 703,
   "id": "017aec80",
   "metadata": {},
   "outputs": [
    {
     "data": {
      "application/vnd.plotly.v1+json": {
       "config": {
        "plotlyServerURL": "https://plot.ly"
       },
       "data": [
        {
         "hovertemplate": "variable=서울특별시<br>index=%{x}<br>value=%{y}<extra></extra>",
         "legendgroup": "서울특별시",
         "line": {
          "color": "#636efa",
          "dash": "solid"
         },
         "marker": {
          "symbol": "circle"
         },
         "mode": "lines",
         "name": "서울특별시",
         "orientation": "v",
         "showlegend": true,
         "type": "scatter",
         "x": [
          "2004",
          "2005",
          "2006",
          "2007",
          "2008",
          "2009",
          "2010",
          "2011",
          "2012",
          "2013",
          "2014",
          "2015",
          "2016",
          "2017",
          "2018",
          "2019",
          "2020",
          "2021"
         ],
         "xaxis": "x",
         "y": [
          10173162,
          10167344,
          10181166,
          10192710,
          10200827,
          10208302,
          10312545,
          10249679,
          10195318,
          10143645,
          10103233,
          10022181,
          9930616,
          9857426,
          9765623,
          9729107,
          9668465,
          9509458
         ],
         "yaxis": "y"
        },
        {
         "hovertemplate": "variable=부산광역시<br>index=%{x}<br>value=%{y}<extra></extra>",
         "legendgroup": "부산광역시",
         "line": {
          "color": "#EF553B",
          "dash": "solid"
         },
         "marker": {
          "symbol": "circle"
         },
         "mode": "lines",
         "name": "부산광역시",
         "orientation": "v",
         "showlegend": true,
         "type": "scatter",
         "x": [
          "2004",
          "2005",
          "2006",
          "2007",
          "2008",
          "2009",
          "2010",
          "2011",
          "2012",
          "2013",
          "2014",
          "2015",
          "2016",
          "2017",
          "2018",
          "2019",
          "2020",
          "2021"
         ],
         "xaxis": "x",
         "y": [
          3666345,
          3638293,
          3611992,
          3587439,
          3564577,
          3543030,
          3567910,
          3550963,
          3538484,
          3527635,
          3519401,
          3513777,
          3498529,
          3470653,
          3441453,
          3413841,
          3391946,
          3350380
         ],
         "yaxis": "y"
        },
        {
         "hovertemplate": "variable=대구광역시<br>index=%{x}<br>value=%{y}<extra></extra>",
         "legendgroup": "대구광역시",
         "line": {
          "color": "#00cc96",
          "dash": "solid"
         },
         "marker": {
          "symbol": "circle"
         },
         "mode": "lines",
         "name": "대구광역시",
         "orientation": "v",
         "showlegend": true,
         "type": "scatter",
         "x": [
          "2004",
          "2005",
          "2006",
          "2007",
          "2008",
          "2009",
          "2010",
          "2011",
          "2012",
          "2013",
          "2014",
          "2015",
          "2016",
          "2017",
          "2018",
          "2019",
          "2020",
          "2021"
         ],
         "xaxis": "x",
         "y": [
          2524712,
          2511306,
          2496115,
          2493261,
          2492724,
          2489781,
          2511676,
          2507271,
          2505644,
          2501588,
          2493264,
          2487829,
          2484557,
          2475231,
          2461769,
          2438031,
          2418346,
          2385412
         ],
         "yaxis": "y"
        },
        {
         "hovertemplate": "variable=인천광역시<br>index=%{x}<br>value=%{y}<extra></extra>",
         "legendgroup": "인천광역시",
         "line": {
          "color": "#ab63fa",
          "dash": "solid"
         },
         "marker": {
          "symbol": "circle"
         },
         "mode": "lines",
         "name": "인천광역시",
         "orientation": "v",
         "showlegend": true,
         "type": "scatter",
         "x": [
          "2004",
          "2005",
          "2006",
          "2007",
          "2008",
          "2009",
          "2010",
          "2011",
          "2012",
          "2013",
          "2014",
          "2015",
          "2016",
          "2017",
          "2018",
          "2019",
          "2020",
          "2021"
         ],
         "xaxis": "x",
         "y": [
          2578817,
          2600495,
          2624391,
          2664576,
          2692696,
          2710579,
          2758296,
          2801274,
          2843981,
          2879782,
          2902608,
          2925815,
          2943069,
          2948542,
          2954642,
          2957026,
          2942828,
          2948375
         ],
         "yaxis": "y"
        },
        {
         "hovertemplate": "variable=광주광역시<br>index=%{x}<br>value=%{y}<extra></extra>",
         "legendgroup": "광주광역시",
         "line": {
          "color": "#FFA15A",
          "dash": "solid"
         },
         "marker": {
          "symbol": "circle"
         },
         "mode": "lines",
         "name": "광주광역시",
         "orientation": "v",
         "showlegend": true,
         "type": "scatter",
         "x": [
          "2004",
          "2005",
          "2006",
          "2007",
          "2008",
          "2009",
          "2010",
          "2011",
          "2012",
          "2013",
          "2014",
          "2015",
          "2016",
          "2017",
          "2018",
          "2019",
          "2020",
          "2021"
         ],
         "xaxis": "x",
         "y": [
          1401172,
          1401745,
          1407798,
          1413444,
          1422702,
          1433640,
          1454636,
          1463464,
          1469216,
          1472910,
          1475884,
          1472199,
          1469214,
          1463770,
          1459336,
          1456468,
          1450062,
          1441611
         ],
         "yaxis": "y"
        },
        {
         "hovertemplate": "variable=대전광역시<br>index=%{x}<br>value=%{y}<extra></extra>",
         "legendgroup": "대전광역시",
         "line": {
          "color": "#19d3f3",
          "dash": "solid"
         },
         "marker": {
          "symbol": "circle"
         },
         "mode": "lines",
         "name": "대전광역시",
         "orientation": "v",
         "showlegend": true,
         "type": "scatter",
         "x": [
          "2004",
          "2005",
          "2006",
          "2007",
          "2008",
          "2009",
          "2010",
          "2011",
          "2012",
          "2013",
          "2014",
          "2015",
          "2016",
          "2017",
          "2018",
          "2019",
          "2020",
          "2021"
         ],
         "xaxis": "x",
         "y": [
          1443471,
          1454638,
          1466158,
          1475659,
          1480895,
          1484180,
          1503664,
          1515603,
          1524583,
          1532811,
          1531809,
          1518775,
          1514370,
          1502227,
          1489936,
          1474870,
          1463882,
          1452251
         ],
         "yaxis": "y"
        },
        {
         "hovertemplate": "variable=울산광역시<br>index=%{x}<br>value=%{y}<extra></extra>",
         "legendgroup": "울산광역시",
         "line": {
          "color": "#FF6692",
          "dash": "solid"
         },
         "marker": {
          "symbol": "circle"
         },
         "mode": "lines",
         "name": "울산광역시",
         "orientation": "v",
         "showlegend": true,
         "type": "scatter",
         "x": [
          "2004",
          "2005",
          "2006",
          "2007",
          "2008",
          "2009",
          "2010",
          "2011",
          "2012",
          "2013",
          "2014",
          "2015",
          "2016",
          "2017",
          "2018",
          "2019",
          "2020",
          "2021"
         ],
         "xaxis": "x",
         "y": [
          1081453,
          1087648,
          1092494,
          1099995,
          1112407,
          1114866,
          1126298,
          1135494,
          1147256,
          1156480,
          1166377,
          1173534,
          1172304,
          1165132,
          1155623,
          1148019,
          1136017,
          1121592
         ],
         "yaxis": "y"
        },
        {
         "hovertemplate": "variable=세종특별자치시<br>index=%{x}<br>value=%{y}<extra></extra>",
         "legendgroup": "세종특별자치시",
         "line": {
          "color": "#B6E880",
          "dash": "solid"
         },
         "marker": {
          "symbol": "circle"
         },
         "mode": "lines",
         "name": "세종특별자치시",
         "orientation": "v",
         "showlegend": true,
         "type": "scatter",
         "x": [
          "2004",
          "2005",
          "2006",
          "2007",
          "2008",
          "2009",
          "2010",
          "2011",
          "2012",
          "2013",
          "2014",
          "2015",
          "2016",
          "2017",
          "2018",
          "2019",
          "2020",
          "2021"
         ],
         "xaxis": "x",
         "y": [
          0,
          0,
          0,
          0,
          0,
          0,
          0,
          0,
          113117,
          122153,
          156125,
          210884,
          243048,
          280100,
          314126,
          340575,
          355831,
          371895
         ],
         "yaxis": "y"
        },
        {
         "hovertemplate": "variable=경기도<br>index=%{x}<br>value=%{y}<extra></extra>",
         "legendgroup": "경기도",
         "line": {
          "color": "#FF97FF",
          "dash": "solid"
         },
         "marker": {
          "symbol": "circle"
         },
         "mode": "lines",
         "name": "경기도",
         "orientation": "v",
         "showlegend": true,
         "type": "scatter",
         "x": [
          "2004",
          "2005",
          "2006",
          "2007",
          "2008",
          "2009",
          "2010",
          "2011",
          "2012",
          "2013",
          "2014",
          "2015",
          "2016",
          "2017",
          "2018",
          "2019",
          "2020",
          "2021"
         ],
         "xaxis": "x",
         "y": [
          10462920,
          10697215,
          10906033,
          11106211,
          11292264,
          11460610,
          11786622,
          11937415,
          12093299,
          12234630,
          12357830,
          12522606,
          12716780,
          12873895,
          13077153,
          13239666,
          13427014,
          13565450
         ],
         "yaxis": "y"
        },
        {
         "hovertemplate": "variable=강원도<br>index=%{x}<br>value=%{y}<extra></extra>",
         "legendgroup": "강원도",
         "line": {
          "color": "#FECB52",
          "dash": "solid"
         },
         "marker": {
          "symbol": "circle"
         },
         "mode": "lines",
         "name": "강원도",
         "orientation": "v",
         "showlegend": true,
         "type": "scatter",
         "x": [
          "2004",
          "2005",
          "2006",
          "2007",
          "2008",
          "2009",
          "2010",
          "2011",
          "2012",
          "2013",
          "2014",
          "2015",
          "2016",
          "2017",
          "2018",
          "2019",
          "2020",
          "2021"
         ],
         "xaxis": "x",
         "y": [
          1521375,
          1513110,
          1505420,
          1503806,
          1508575,
          1512870,
          1529818,
          1536448,
          1538630,
          1542263,
          1544442,
          1549507,
          1550806,
          1550142,
          1543052,
          1541502,
          1542840,
          1538492
         ],
         "yaxis": "y"
        },
        {
         "hovertemplate": "variable=충청북도<br>index=%{x}<br>value=%{y}<extra></extra>",
         "legendgroup": "충청북도",
         "line": {
          "color": "#636efa",
          "dash": "solid"
         },
         "marker": {
          "symbol": "circle"
         },
         "mode": "lines",
         "name": "충청북도",
         "orientation": "v",
         "showlegend": true,
         "type": "scatter",
         "x": [
          "2004",
          "2005",
          "2006",
          "2007",
          "2008",
          "2009",
          "2010",
          "2011",
          "2012",
          "2013",
          "2014",
          "2015",
          "2016",
          "2017",
          "2018",
          "2019",
          "2020",
          "2021"
         ],
         "xaxis": "x",
         "y": [
          1488945,
          1488803,
          1494559,
          1506608,
          1519587,
          1527478,
          1549528,
          1562903,
          1565628,
          1572732,
          1578933,
          1583952,
          1591625,
          1594432,
          1599252,
          1600007,
          1600837,
          1597427
         ],
         "yaxis": "y"
        },
        {
         "hovertemplate": "variable=충청남도<br>index=%{x}<br>value=%{y}<extra></extra>",
         "legendgroup": "충청남도",
         "line": {
          "color": "#EF553B",
          "dash": "solid"
         },
         "marker": {
          "symbol": "circle"
         },
         "mode": "lines",
         "name": "충청남도",
         "orientation": "v",
         "showlegend": true,
         "type": "scatter",
         "x": [
          "2004",
          "2005",
          "2006",
          "2007",
          "2008",
          "2009",
          "2010",
          "2011",
          "2012",
          "2013",
          "2014",
          "2015",
          "2016",
          "2017",
          "2018",
          "2019",
          "2020",
          "2021"
         ],
         "xaxis": "x",
         "y": [
          1953406,
          1962646,
          1974433,
          1995531,
          2018537,
          2037582,
          2075514,
          2101284,
          2028777,
          2047631,
          2062273,
          2077649,
          2096727,
          2116770,
          2126282,
          2123709,
          2121029,
          2119257
         ],
         "yaxis": "y"
        },
        {
         "hovertemplate": "variable=전라북도<br>index=%{x}<br>value=%{y}<extra></extra>",
         "legendgroup": "전라북도",
         "line": {
          "color": "#00cc96",
          "dash": "solid"
         },
         "marker": {
          "symbol": "circle"
         },
         "mode": "lines",
         "name": "전라북도",
         "orientation": "v",
         "showlegend": true,
         "type": "scatter",
         "x": [
          "2004",
          "2005",
          "2006",
          "2007",
          "2008",
          "2009",
          "2010",
          "2011",
          "2012",
          "2013",
          "2014",
          "2015",
          "2016",
          "2017",
          "2018",
          "2019",
          "2020",
          "2021"
         ],
         "xaxis": "x",
         "y": [
          1906742,
          1885335,
          1868365,
          1862277,
          1855772,
          1854508,
          1868963,
          1874031,
          1873341,
          1872965,
          1871560,
          1869711,
          1864791,
          1854607,
          1836832,
          1818917,
          1804104,
          1786855
         ],
         "yaxis": "y"
        },
        {
         "hovertemplate": "variable=전라남도<br>index=%{x}<br>value=%{y}<extra></extra>",
         "legendgroup": "전라남도",
         "line": {
          "color": "#ab63fa",
          "dash": "solid"
         },
         "marker": {
          "symbol": "circle"
         },
         "mode": "lines",
         "name": "전라남도",
         "orientation": "v",
         "showlegend": true,
         "type": "scatter",
         "x": [
          "2004",
          "2005",
          "2006",
          "2007",
          "2008",
          "2009",
          "2010",
          "2011",
          "2012",
          "2013",
          "2014",
          "2015",
          "2016",
          "2017",
          "2018",
          "2019",
          "2020",
          "2021"
         ],
         "xaxis": "x",
         "y": [
          1986192,
          1967205,
          1942925,
          1929836,
          1919000,
          1913004,
          1918485,
          1914339,
          1909618,
          1907172,
          1905780,
          1908996,
          1903914,
          1896424,
          1882970,
          1868745,
          1851549,
          1832803
         ],
         "yaxis": "y"
        },
        {
         "hovertemplate": "variable=경상북도<br>index=%{x}<br>value=%{y}<extra></extra>",
         "legendgroup": "경상북도",
         "line": {
          "color": "#FFA15A",
          "dash": "solid"
         },
         "marker": {
          "symbol": "circle"
         },
         "mode": "lines",
         "name": "경상북도",
         "orientation": "v",
         "showlegend": true,
         "type": "scatter",
         "x": [
          "2004",
          "2005",
          "2006",
          "2007",
          "2008",
          "2009",
          "2010",
          "2011",
          "2012",
          "2013",
          "2014",
          "2015",
          "2016",
          "2017",
          "2018",
          "2019",
          "2020",
          "2021"
         ],
         "xaxis": "x",
         "y": [
          2695917,
          2688491,
          2688577,
          2681364,
          2673931,
          2669876,
          2689920,
          2699195,
          2698353,
          2699440,
          2700794,
          2702826,
          2700398,
          2691706,
          2676831,
          2665836,
          2639422,
          2626609
         ],
         "yaxis": "y"
        },
        {
         "hovertemplate": "variable=경상남도<br>index=%{x}<br>value=%{y}<extra></extra>",
         "legendgroup": "경상남도",
         "line": {
          "color": "#19d3f3",
          "dash": "solid"
         },
         "marker": {
          "symbol": "circle"
         },
         "mode": "lines",
         "name": "경상남도",
         "orientation": "v",
         "showlegend": true,
         "type": "scatter",
         "x": [
          "2004",
          "2005",
          "2006",
          "2007",
          "2008",
          "2009",
          "2010",
          "2011",
          "2012",
          "2013",
          "2014",
          "2015",
          "2016",
          "2017",
          "2018",
          "2019",
          "2020",
          "2021"
         ],
         "xaxis": "x",
         "y": [
          3143814,
          3160431,
          3172857,
          3196953,
          3225255,
          3250176,
          3290536,
          3308765,
          3319314,
          3333820,
          3350257,
          3364702,
          3373871,
          3380404,
          3373988,
          3362553,
          3340216,
          3314183
         ],
         "yaxis": "y"
        },
        {
         "hovertemplate": "variable=제주특별자치도<br>index=%{x}<br>value=%{y}<extra></extra>",
         "legendgroup": "제주특별자치도",
         "line": {
          "color": "#FF6692",
          "dash": "solid"
         },
         "marker": {
          "symbol": "circle"
         },
         "mode": "lines",
         "name": "제주특별자치도",
         "orientation": "v",
         "showlegend": true,
         "type": "scatter",
         "x": [
          "2004",
          "2005",
          "2006",
          "2007",
          "2008",
          "2009",
          "2010",
          "2011",
          "2012",
          "2013",
          "2014",
          "2015",
          "2016",
          "2017",
          "2018",
          "2019",
          "2020",
          "2021"
         ],
         "xaxis": "x",
         "y": [
          555362,
          557569,
          558496,
          559258,
          560618,
          562663,
          571255,
          576156,
          583713,
          593806,
          607346,
          624395,
          641597,
          657083,
          667191,
          670989,
          674635,
          676759
         ],
         "yaxis": "y"
        }
       ],
       "layout": {
        "legend": {
         "title": {
          "text": "variable"
         },
         "tracegroupgap": 0
        },
        "margin": {
         "t": 60
        },
        "template": {
         "data": {
          "bar": [
           {
            "error_x": {
             "color": "#2a3f5f"
            },
            "error_y": {
             "color": "#2a3f5f"
            },
            "marker": {
             "line": {
              "color": "#E5ECF6",
              "width": 0.5
             },
             "pattern": {
              "fillmode": "overlay",
              "size": 10,
              "solidity": 0.2
             }
            },
            "type": "bar"
           }
          ],
          "barpolar": [
           {
            "marker": {
             "line": {
              "color": "#E5ECF6",
              "width": 0.5
             },
             "pattern": {
              "fillmode": "overlay",
              "size": 10,
              "solidity": 0.2
             }
            },
            "type": "barpolar"
           }
          ],
          "carpet": [
           {
            "aaxis": {
             "endlinecolor": "#2a3f5f",
             "gridcolor": "white",
             "linecolor": "white",
             "minorgridcolor": "white",
             "startlinecolor": "#2a3f5f"
            },
            "baxis": {
             "endlinecolor": "#2a3f5f",
             "gridcolor": "white",
             "linecolor": "white",
             "minorgridcolor": "white",
             "startlinecolor": "#2a3f5f"
            },
            "type": "carpet"
           }
          ],
          "choropleth": [
           {
            "colorbar": {
             "outlinewidth": 0,
             "ticks": ""
            },
            "type": "choropleth"
           }
          ],
          "contour": [
           {
            "colorbar": {
             "outlinewidth": 0,
             "ticks": ""
            },
            "colorscale": [
             [
              0,
              "#0d0887"
             ],
             [
              0.1111111111111111,
              "#46039f"
             ],
             [
              0.2222222222222222,
              "#7201a8"
             ],
             [
              0.3333333333333333,
              "#9c179e"
             ],
             [
              0.4444444444444444,
              "#bd3786"
             ],
             [
              0.5555555555555556,
              "#d8576b"
             ],
             [
              0.6666666666666666,
              "#ed7953"
             ],
             [
              0.7777777777777778,
              "#fb9f3a"
             ],
             [
              0.8888888888888888,
              "#fdca26"
             ],
             [
              1,
              "#f0f921"
             ]
            ],
            "type": "contour"
           }
          ],
          "contourcarpet": [
           {
            "colorbar": {
             "outlinewidth": 0,
             "ticks": ""
            },
            "type": "contourcarpet"
           }
          ],
          "heatmap": [
           {
            "colorbar": {
             "outlinewidth": 0,
             "ticks": ""
            },
            "colorscale": [
             [
              0,
              "#0d0887"
             ],
             [
              0.1111111111111111,
              "#46039f"
             ],
             [
              0.2222222222222222,
              "#7201a8"
             ],
             [
              0.3333333333333333,
              "#9c179e"
             ],
             [
              0.4444444444444444,
              "#bd3786"
             ],
             [
              0.5555555555555556,
              "#d8576b"
             ],
             [
              0.6666666666666666,
              "#ed7953"
             ],
             [
              0.7777777777777778,
              "#fb9f3a"
             ],
             [
              0.8888888888888888,
              "#fdca26"
             ],
             [
              1,
              "#f0f921"
             ]
            ],
            "type": "heatmap"
           }
          ],
          "heatmapgl": [
           {
            "colorbar": {
             "outlinewidth": 0,
             "ticks": ""
            },
            "colorscale": [
             [
              0,
              "#0d0887"
             ],
             [
              0.1111111111111111,
              "#46039f"
             ],
             [
              0.2222222222222222,
              "#7201a8"
             ],
             [
              0.3333333333333333,
              "#9c179e"
             ],
             [
              0.4444444444444444,
              "#bd3786"
             ],
             [
              0.5555555555555556,
              "#d8576b"
             ],
             [
              0.6666666666666666,
              "#ed7953"
             ],
             [
              0.7777777777777778,
              "#fb9f3a"
             ],
             [
              0.8888888888888888,
              "#fdca26"
             ],
             [
              1,
              "#f0f921"
             ]
            ],
            "type": "heatmapgl"
           }
          ],
          "histogram": [
           {
            "marker": {
             "pattern": {
              "fillmode": "overlay",
              "size": 10,
              "solidity": 0.2
             }
            },
            "type": "histogram"
           }
          ],
          "histogram2d": [
           {
            "colorbar": {
             "outlinewidth": 0,
             "ticks": ""
            },
            "colorscale": [
             [
              0,
              "#0d0887"
             ],
             [
              0.1111111111111111,
              "#46039f"
             ],
             [
              0.2222222222222222,
              "#7201a8"
             ],
             [
              0.3333333333333333,
              "#9c179e"
             ],
             [
              0.4444444444444444,
              "#bd3786"
             ],
             [
              0.5555555555555556,
              "#d8576b"
             ],
             [
              0.6666666666666666,
              "#ed7953"
             ],
             [
              0.7777777777777778,
              "#fb9f3a"
             ],
             [
              0.8888888888888888,
              "#fdca26"
             ],
             [
              1,
              "#f0f921"
             ]
            ],
            "type": "histogram2d"
           }
          ],
          "histogram2dcontour": [
           {
            "colorbar": {
             "outlinewidth": 0,
             "ticks": ""
            },
            "colorscale": [
             [
              0,
              "#0d0887"
             ],
             [
              0.1111111111111111,
              "#46039f"
             ],
             [
              0.2222222222222222,
              "#7201a8"
             ],
             [
              0.3333333333333333,
              "#9c179e"
             ],
             [
              0.4444444444444444,
              "#bd3786"
             ],
             [
              0.5555555555555556,
              "#d8576b"
             ],
             [
              0.6666666666666666,
              "#ed7953"
             ],
             [
              0.7777777777777778,
              "#fb9f3a"
             ],
             [
              0.8888888888888888,
              "#fdca26"
             ],
             [
              1,
              "#f0f921"
             ]
            ],
            "type": "histogram2dcontour"
           }
          ],
          "mesh3d": [
           {
            "colorbar": {
             "outlinewidth": 0,
             "ticks": ""
            },
            "type": "mesh3d"
           }
          ],
          "parcoords": [
           {
            "line": {
             "colorbar": {
              "outlinewidth": 0,
              "ticks": ""
             }
            },
            "type": "parcoords"
           }
          ],
          "pie": [
           {
            "automargin": true,
            "type": "pie"
           }
          ],
          "scatter": [
           {
            "fillpattern": {
             "fillmode": "overlay",
             "size": 10,
             "solidity": 0.2
            },
            "type": "scatter"
           }
          ],
          "scatter3d": [
           {
            "line": {
             "colorbar": {
              "outlinewidth": 0,
              "ticks": ""
             }
            },
            "marker": {
             "colorbar": {
              "outlinewidth": 0,
              "ticks": ""
             }
            },
            "type": "scatter3d"
           }
          ],
          "scattercarpet": [
           {
            "marker": {
             "colorbar": {
              "outlinewidth": 0,
              "ticks": ""
             }
            },
            "type": "scattercarpet"
           }
          ],
          "scattergeo": [
           {
            "marker": {
             "colorbar": {
              "outlinewidth": 0,
              "ticks": ""
             }
            },
            "type": "scattergeo"
           }
          ],
          "scattergl": [
           {
            "marker": {
             "colorbar": {
              "outlinewidth": 0,
              "ticks": ""
             }
            },
            "type": "scattergl"
           }
          ],
          "scattermapbox": [
           {
            "marker": {
             "colorbar": {
              "outlinewidth": 0,
              "ticks": ""
             }
            },
            "type": "scattermapbox"
           }
          ],
          "scatterpolar": [
           {
            "marker": {
             "colorbar": {
              "outlinewidth": 0,
              "ticks": ""
             }
            },
            "type": "scatterpolar"
           }
          ],
          "scatterpolargl": [
           {
            "marker": {
             "colorbar": {
              "outlinewidth": 0,
              "ticks": ""
             }
            },
            "type": "scatterpolargl"
           }
          ],
          "scatterternary": [
           {
            "marker": {
             "colorbar": {
              "outlinewidth": 0,
              "ticks": ""
             }
            },
            "type": "scatterternary"
           }
          ],
          "surface": [
           {
            "colorbar": {
             "outlinewidth": 0,
             "ticks": ""
            },
            "colorscale": [
             [
              0,
              "#0d0887"
             ],
             [
              0.1111111111111111,
              "#46039f"
             ],
             [
              0.2222222222222222,
              "#7201a8"
             ],
             [
              0.3333333333333333,
              "#9c179e"
             ],
             [
              0.4444444444444444,
              "#bd3786"
             ],
             [
              0.5555555555555556,
              "#d8576b"
             ],
             [
              0.6666666666666666,
              "#ed7953"
             ],
             [
              0.7777777777777778,
              "#fb9f3a"
             ],
             [
              0.8888888888888888,
              "#fdca26"
             ],
             [
              1,
              "#f0f921"
             ]
            ],
            "type": "surface"
           }
          ],
          "table": [
           {
            "cells": {
             "fill": {
              "color": "#EBF0F8"
             },
             "line": {
              "color": "white"
             }
            },
            "header": {
             "fill": {
              "color": "#C8D4E3"
             },
             "line": {
              "color": "white"
             }
            },
            "type": "table"
           }
          ]
         },
         "layout": {
          "annotationdefaults": {
           "arrowcolor": "#2a3f5f",
           "arrowhead": 0,
           "arrowwidth": 1
          },
          "autotypenumbers": "strict",
          "coloraxis": {
           "colorbar": {
            "outlinewidth": 0,
            "ticks": ""
           }
          },
          "colorscale": {
           "diverging": [
            [
             0,
             "#8e0152"
            ],
            [
             0.1,
             "#c51b7d"
            ],
            [
             0.2,
             "#de77ae"
            ],
            [
             0.3,
             "#f1b6da"
            ],
            [
             0.4,
             "#fde0ef"
            ],
            [
             0.5,
             "#f7f7f7"
            ],
            [
             0.6,
             "#e6f5d0"
            ],
            [
             0.7,
             "#b8e186"
            ],
            [
             0.8,
             "#7fbc41"
            ],
            [
             0.9,
             "#4d9221"
            ],
            [
             1,
             "#276419"
            ]
           ],
           "sequential": [
            [
             0,
             "#0d0887"
            ],
            [
             0.1111111111111111,
             "#46039f"
            ],
            [
             0.2222222222222222,
             "#7201a8"
            ],
            [
             0.3333333333333333,
             "#9c179e"
            ],
            [
             0.4444444444444444,
             "#bd3786"
            ],
            [
             0.5555555555555556,
             "#d8576b"
            ],
            [
             0.6666666666666666,
             "#ed7953"
            ],
            [
             0.7777777777777778,
             "#fb9f3a"
            ],
            [
             0.8888888888888888,
             "#fdca26"
            ],
            [
             1,
             "#f0f921"
            ]
           ],
           "sequentialminus": [
            [
             0,
             "#0d0887"
            ],
            [
             0.1111111111111111,
             "#46039f"
            ],
            [
             0.2222222222222222,
             "#7201a8"
            ],
            [
             0.3333333333333333,
             "#9c179e"
            ],
            [
             0.4444444444444444,
             "#bd3786"
            ],
            [
             0.5555555555555556,
             "#d8576b"
            ],
            [
             0.6666666666666666,
             "#ed7953"
            ],
            [
             0.7777777777777778,
             "#fb9f3a"
            ],
            [
             0.8888888888888888,
             "#fdca26"
            ],
            [
             1,
             "#f0f921"
            ]
           ]
          },
          "colorway": [
           "#636efa",
           "#EF553B",
           "#00cc96",
           "#ab63fa",
           "#FFA15A",
           "#19d3f3",
           "#FF6692",
           "#B6E880",
           "#FF97FF",
           "#FECB52"
          ],
          "font": {
           "color": "#2a3f5f"
          },
          "geo": {
           "bgcolor": "white",
           "lakecolor": "white",
           "landcolor": "#E5ECF6",
           "showlakes": true,
           "showland": true,
           "subunitcolor": "white"
          },
          "hoverlabel": {
           "align": "left"
          },
          "hovermode": "closest",
          "mapbox": {
           "style": "light"
          },
          "paper_bgcolor": "white",
          "plot_bgcolor": "#E5ECF6",
          "polar": {
           "angularaxis": {
            "gridcolor": "white",
            "linecolor": "white",
            "ticks": ""
           },
           "bgcolor": "#E5ECF6",
           "radialaxis": {
            "gridcolor": "white",
            "linecolor": "white",
            "ticks": ""
           }
          },
          "scene": {
           "xaxis": {
            "backgroundcolor": "#E5ECF6",
            "gridcolor": "white",
            "gridwidth": 2,
            "linecolor": "white",
            "showbackground": true,
            "ticks": "",
            "zerolinecolor": "white"
           },
           "yaxis": {
            "backgroundcolor": "#E5ECF6",
            "gridcolor": "white",
            "gridwidth": 2,
            "linecolor": "white",
            "showbackground": true,
            "ticks": "",
            "zerolinecolor": "white"
           },
           "zaxis": {
            "backgroundcolor": "#E5ECF6",
            "gridcolor": "white",
            "gridwidth": 2,
            "linecolor": "white",
            "showbackground": true,
            "ticks": "",
            "zerolinecolor": "white"
           }
          },
          "shapedefaults": {
           "line": {
            "color": "#2a3f5f"
           }
          },
          "ternary": {
           "aaxis": {
            "gridcolor": "white",
            "linecolor": "white",
            "ticks": ""
           },
           "baxis": {
            "gridcolor": "white",
            "linecolor": "white",
            "ticks": ""
           },
           "bgcolor": "#E5ECF6",
           "caxis": {
            "gridcolor": "white",
            "linecolor": "white",
            "ticks": ""
           }
          },
          "title": {
           "x": 0.05
          },
          "xaxis": {
           "automargin": true,
           "gridcolor": "white",
           "linecolor": "white",
           "ticks": "",
           "title": {
            "standoff": 15
           },
           "zerolinecolor": "white",
           "zerolinewidth": 2
          },
          "yaxis": {
           "automargin": true,
           "gridcolor": "white",
           "linecolor": "white",
           "ticks": "",
           "title": {
            "standoff": 15
           },
           "zerolinecolor": "white",
           "zerolinewidth": 2
          }
         }
        },
        "xaxis": {
         "anchor": "y",
         "domain": [
          0,
          1
         ],
         "title": {
          "text": "index"
         }
        },
        "yaxis": {
         "anchor": "x",
         "domain": [
          0,
          1
         ],
         "title": {
          "text": "value"
         }
        }
       }
      },
      "text/html": [
       "<div>                            <div id=\"7ede2100-dbbc-47fd-87dd-0bf140ef1d42\" class=\"plotly-graph-div\" style=\"height:525px; width:100%;\"></div>            <script type=\"text/javascript\">                require([\"plotly\"], function(Plotly) {                    window.PLOTLYENV=window.PLOTLYENV || {};                                    if (document.getElementById(\"7ede2100-dbbc-47fd-87dd-0bf140ef1d42\")) {                    Plotly.newPlot(                        \"7ede2100-dbbc-47fd-87dd-0bf140ef1d42\",                        [{\"hovertemplate\":\"variable=\\uc11c\\uc6b8\\ud2b9\\ubcc4\\uc2dc<br>index=%{x}<br>value=%{y}<extra></extra>\",\"legendgroup\":\"\\uc11c\\uc6b8\\ud2b9\\ubcc4\\uc2dc\",\"line\":{\"color\":\"#636efa\",\"dash\":\"solid\"},\"marker\":{\"symbol\":\"circle\"},\"mode\":\"lines\",\"name\":\"\\uc11c\\uc6b8\\ud2b9\\ubcc4\\uc2dc\",\"orientation\":\"v\",\"showlegend\":true,\"x\":[\"2004\",\"2005\",\"2006\",\"2007\",\"2008\",\"2009\",\"2010\",\"2011\",\"2012\",\"2013\",\"2014\",\"2015\",\"2016\",\"2017\",\"2018\",\"2019\",\"2020\",\"2021\"],\"xaxis\":\"x\",\"y\":[10173162,10167344,10181166,10192710,10200827,10208302,10312545,10249679,10195318,10143645,10103233,10022181,9930616,9857426,9765623,9729107,9668465,9509458],\"yaxis\":\"y\",\"type\":\"scatter\"},{\"hovertemplate\":\"variable=\\ubd80\\uc0b0\\uad11\\uc5ed\\uc2dc<br>index=%{x}<br>value=%{y}<extra></extra>\",\"legendgroup\":\"\\ubd80\\uc0b0\\uad11\\uc5ed\\uc2dc\",\"line\":{\"color\":\"#EF553B\",\"dash\":\"solid\"},\"marker\":{\"symbol\":\"circle\"},\"mode\":\"lines\",\"name\":\"\\ubd80\\uc0b0\\uad11\\uc5ed\\uc2dc\",\"orientation\":\"v\",\"showlegend\":true,\"x\":[\"2004\",\"2005\",\"2006\",\"2007\",\"2008\",\"2009\",\"2010\",\"2011\",\"2012\",\"2013\",\"2014\",\"2015\",\"2016\",\"2017\",\"2018\",\"2019\",\"2020\",\"2021\"],\"xaxis\":\"x\",\"y\":[3666345,3638293,3611992,3587439,3564577,3543030,3567910,3550963,3538484,3527635,3519401,3513777,3498529,3470653,3441453,3413841,3391946,3350380],\"yaxis\":\"y\",\"type\":\"scatter\"},{\"hovertemplate\":\"variable=\\ub300\\uad6c\\uad11\\uc5ed\\uc2dc<br>index=%{x}<br>value=%{y}<extra></extra>\",\"legendgroup\":\"\\ub300\\uad6c\\uad11\\uc5ed\\uc2dc\",\"line\":{\"color\":\"#00cc96\",\"dash\":\"solid\"},\"marker\":{\"symbol\":\"circle\"},\"mode\":\"lines\",\"name\":\"\\ub300\\uad6c\\uad11\\uc5ed\\uc2dc\",\"orientation\":\"v\",\"showlegend\":true,\"x\":[\"2004\",\"2005\",\"2006\",\"2007\",\"2008\",\"2009\",\"2010\",\"2011\",\"2012\",\"2013\",\"2014\",\"2015\",\"2016\",\"2017\",\"2018\",\"2019\",\"2020\",\"2021\"],\"xaxis\":\"x\",\"y\":[2524712,2511306,2496115,2493261,2492724,2489781,2511676,2507271,2505644,2501588,2493264,2487829,2484557,2475231,2461769,2438031,2418346,2385412],\"yaxis\":\"y\",\"type\":\"scatter\"},{\"hovertemplate\":\"variable=\\uc778\\ucc9c\\uad11\\uc5ed\\uc2dc<br>index=%{x}<br>value=%{y}<extra></extra>\",\"legendgroup\":\"\\uc778\\ucc9c\\uad11\\uc5ed\\uc2dc\",\"line\":{\"color\":\"#ab63fa\",\"dash\":\"solid\"},\"marker\":{\"symbol\":\"circle\"},\"mode\":\"lines\",\"name\":\"\\uc778\\ucc9c\\uad11\\uc5ed\\uc2dc\",\"orientation\":\"v\",\"showlegend\":true,\"x\":[\"2004\",\"2005\",\"2006\",\"2007\",\"2008\",\"2009\",\"2010\",\"2011\",\"2012\",\"2013\",\"2014\",\"2015\",\"2016\",\"2017\",\"2018\",\"2019\",\"2020\",\"2021\"],\"xaxis\":\"x\",\"y\":[2578817,2600495,2624391,2664576,2692696,2710579,2758296,2801274,2843981,2879782,2902608,2925815,2943069,2948542,2954642,2957026,2942828,2948375],\"yaxis\":\"y\",\"type\":\"scatter\"},{\"hovertemplate\":\"variable=\\uad11\\uc8fc\\uad11\\uc5ed\\uc2dc<br>index=%{x}<br>value=%{y}<extra></extra>\",\"legendgroup\":\"\\uad11\\uc8fc\\uad11\\uc5ed\\uc2dc\",\"line\":{\"color\":\"#FFA15A\",\"dash\":\"solid\"},\"marker\":{\"symbol\":\"circle\"},\"mode\":\"lines\",\"name\":\"\\uad11\\uc8fc\\uad11\\uc5ed\\uc2dc\",\"orientation\":\"v\",\"showlegend\":true,\"x\":[\"2004\",\"2005\",\"2006\",\"2007\",\"2008\",\"2009\",\"2010\",\"2011\",\"2012\",\"2013\",\"2014\",\"2015\",\"2016\",\"2017\",\"2018\",\"2019\",\"2020\",\"2021\"],\"xaxis\":\"x\",\"y\":[1401172,1401745,1407798,1413444,1422702,1433640,1454636,1463464,1469216,1472910,1475884,1472199,1469214,1463770,1459336,1456468,1450062,1441611],\"yaxis\":\"y\",\"type\":\"scatter\"},{\"hovertemplate\":\"variable=\\ub300\\uc804\\uad11\\uc5ed\\uc2dc<br>index=%{x}<br>value=%{y}<extra></extra>\",\"legendgroup\":\"\\ub300\\uc804\\uad11\\uc5ed\\uc2dc\",\"line\":{\"color\":\"#19d3f3\",\"dash\":\"solid\"},\"marker\":{\"symbol\":\"circle\"},\"mode\":\"lines\",\"name\":\"\\ub300\\uc804\\uad11\\uc5ed\\uc2dc\",\"orientation\":\"v\",\"showlegend\":true,\"x\":[\"2004\",\"2005\",\"2006\",\"2007\",\"2008\",\"2009\",\"2010\",\"2011\",\"2012\",\"2013\",\"2014\",\"2015\",\"2016\",\"2017\",\"2018\",\"2019\",\"2020\",\"2021\"],\"xaxis\":\"x\",\"y\":[1443471,1454638,1466158,1475659,1480895,1484180,1503664,1515603,1524583,1532811,1531809,1518775,1514370,1502227,1489936,1474870,1463882,1452251],\"yaxis\":\"y\",\"type\":\"scatter\"},{\"hovertemplate\":\"variable=\\uc6b8\\uc0b0\\uad11\\uc5ed\\uc2dc<br>index=%{x}<br>value=%{y}<extra></extra>\",\"legendgroup\":\"\\uc6b8\\uc0b0\\uad11\\uc5ed\\uc2dc\",\"line\":{\"color\":\"#FF6692\",\"dash\":\"solid\"},\"marker\":{\"symbol\":\"circle\"},\"mode\":\"lines\",\"name\":\"\\uc6b8\\uc0b0\\uad11\\uc5ed\\uc2dc\",\"orientation\":\"v\",\"showlegend\":true,\"x\":[\"2004\",\"2005\",\"2006\",\"2007\",\"2008\",\"2009\",\"2010\",\"2011\",\"2012\",\"2013\",\"2014\",\"2015\",\"2016\",\"2017\",\"2018\",\"2019\",\"2020\",\"2021\"],\"xaxis\":\"x\",\"y\":[1081453,1087648,1092494,1099995,1112407,1114866,1126298,1135494,1147256,1156480,1166377,1173534,1172304,1165132,1155623,1148019,1136017,1121592],\"yaxis\":\"y\",\"type\":\"scatter\"},{\"hovertemplate\":\"variable=\\uc138\\uc885\\ud2b9\\ubcc4\\uc790\\uce58\\uc2dc<br>index=%{x}<br>value=%{y}<extra></extra>\",\"legendgroup\":\"\\uc138\\uc885\\ud2b9\\ubcc4\\uc790\\uce58\\uc2dc\",\"line\":{\"color\":\"#B6E880\",\"dash\":\"solid\"},\"marker\":{\"symbol\":\"circle\"},\"mode\":\"lines\",\"name\":\"\\uc138\\uc885\\ud2b9\\ubcc4\\uc790\\uce58\\uc2dc\",\"orientation\":\"v\",\"showlegend\":true,\"x\":[\"2004\",\"2005\",\"2006\",\"2007\",\"2008\",\"2009\",\"2010\",\"2011\",\"2012\",\"2013\",\"2014\",\"2015\",\"2016\",\"2017\",\"2018\",\"2019\",\"2020\",\"2021\"],\"xaxis\":\"x\",\"y\":[0,0,0,0,0,0,0,0,113117,122153,156125,210884,243048,280100,314126,340575,355831,371895],\"yaxis\":\"y\",\"type\":\"scatter\"},{\"hovertemplate\":\"variable=\\uacbd\\uae30\\ub3c4<br>index=%{x}<br>value=%{y}<extra></extra>\",\"legendgroup\":\"\\uacbd\\uae30\\ub3c4\",\"line\":{\"color\":\"#FF97FF\",\"dash\":\"solid\"},\"marker\":{\"symbol\":\"circle\"},\"mode\":\"lines\",\"name\":\"\\uacbd\\uae30\\ub3c4\",\"orientation\":\"v\",\"showlegend\":true,\"x\":[\"2004\",\"2005\",\"2006\",\"2007\",\"2008\",\"2009\",\"2010\",\"2011\",\"2012\",\"2013\",\"2014\",\"2015\",\"2016\",\"2017\",\"2018\",\"2019\",\"2020\",\"2021\"],\"xaxis\":\"x\",\"y\":[10462920,10697215,10906033,11106211,11292264,11460610,11786622,11937415,12093299,12234630,12357830,12522606,12716780,12873895,13077153,13239666,13427014,13565450],\"yaxis\":\"y\",\"type\":\"scatter\"},{\"hovertemplate\":\"variable=\\uac15\\uc6d0\\ub3c4<br>index=%{x}<br>value=%{y}<extra></extra>\",\"legendgroup\":\"\\uac15\\uc6d0\\ub3c4\",\"line\":{\"color\":\"#FECB52\",\"dash\":\"solid\"},\"marker\":{\"symbol\":\"circle\"},\"mode\":\"lines\",\"name\":\"\\uac15\\uc6d0\\ub3c4\",\"orientation\":\"v\",\"showlegend\":true,\"x\":[\"2004\",\"2005\",\"2006\",\"2007\",\"2008\",\"2009\",\"2010\",\"2011\",\"2012\",\"2013\",\"2014\",\"2015\",\"2016\",\"2017\",\"2018\",\"2019\",\"2020\",\"2021\"],\"xaxis\":\"x\",\"y\":[1521375,1513110,1505420,1503806,1508575,1512870,1529818,1536448,1538630,1542263,1544442,1549507,1550806,1550142,1543052,1541502,1542840,1538492],\"yaxis\":\"y\",\"type\":\"scatter\"},{\"hovertemplate\":\"variable=\\ucda9\\uccad\\ubd81\\ub3c4<br>index=%{x}<br>value=%{y}<extra></extra>\",\"legendgroup\":\"\\ucda9\\uccad\\ubd81\\ub3c4\",\"line\":{\"color\":\"#636efa\",\"dash\":\"solid\"},\"marker\":{\"symbol\":\"circle\"},\"mode\":\"lines\",\"name\":\"\\ucda9\\uccad\\ubd81\\ub3c4\",\"orientation\":\"v\",\"showlegend\":true,\"x\":[\"2004\",\"2005\",\"2006\",\"2007\",\"2008\",\"2009\",\"2010\",\"2011\",\"2012\",\"2013\",\"2014\",\"2015\",\"2016\",\"2017\",\"2018\",\"2019\",\"2020\",\"2021\"],\"xaxis\":\"x\",\"y\":[1488945,1488803,1494559,1506608,1519587,1527478,1549528,1562903,1565628,1572732,1578933,1583952,1591625,1594432,1599252,1600007,1600837,1597427],\"yaxis\":\"y\",\"type\":\"scatter\"},{\"hovertemplate\":\"variable=\\ucda9\\uccad\\ub0a8\\ub3c4<br>index=%{x}<br>value=%{y}<extra></extra>\",\"legendgroup\":\"\\ucda9\\uccad\\ub0a8\\ub3c4\",\"line\":{\"color\":\"#EF553B\",\"dash\":\"solid\"},\"marker\":{\"symbol\":\"circle\"},\"mode\":\"lines\",\"name\":\"\\ucda9\\uccad\\ub0a8\\ub3c4\",\"orientation\":\"v\",\"showlegend\":true,\"x\":[\"2004\",\"2005\",\"2006\",\"2007\",\"2008\",\"2009\",\"2010\",\"2011\",\"2012\",\"2013\",\"2014\",\"2015\",\"2016\",\"2017\",\"2018\",\"2019\",\"2020\",\"2021\"],\"xaxis\":\"x\",\"y\":[1953406,1962646,1974433,1995531,2018537,2037582,2075514,2101284,2028777,2047631,2062273,2077649,2096727,2116770,2126282,2123709,2121029,2119257],\"yaxis\":\"y\",\"type\":\"scatter\"},{\"hovertemplate\":\"variable=\\uc804\\ub77c\\ubd81\\ub3c4<br>index=%{x}<br>value=%{y}<extra></extra>\",\"legendgroup\":\"\\uc804\\ub77c\\ubd81\\ub3c4\",\"line\":{\"color\":\"#00cc96\",\"dash\":\"solid\"},\"marker\":{\"symbol\":\"circle\"},\"mode\":\"lines\",\"name\":\"\\uc804\\ub77c\\ubd81\\ub3c4\",\"orientation\":\"v\",\"showlegend\":true,\"x\":[\"2004\",\"2005\",\"2006\",\"2007\",\"2008\",\"2009\",\"2010\",\"2011\",\"2012\",\"2013\",\"2014\",\"2015\",\"2016\",\"2017\",\"2018\",\"2019\",\"2020\",\"2021\"],\"xaxis\":\"x\",\"y\":[1906742,1885335,1868365,1862277,1855772,1854508,1868963,1874031,1873341,1872965,1871560,1869711,1864791,1854607,1836832,1818917,1804104,1786855],\"yaxis\":\"y\",\"type\":\"scatter\"},{\"hovertemplate\":\"variable=\\uc804\\ub77c\\ub0a8\\ub3c4<br>index=%{x}<br>value=%{y}<extra></extra>\",\"legendgroup\":\"\\uc804\\ub77c\\ub0a8\\ub3c4\",\"line\":{\"color\":\"#ab63fa\",\"dash\":\"solid\"},\"marker\":{\"symbol\":\"circle\"},\"mode\":\"lines\",\"name\":\"\\uc804\\ub77c\\ub0a8\\ub3c4\",\"orientation\":\"v\",\"showlegend\":true,\"x\":[\"2004\",\"2005\",\"2006\",\"2007\",\"2008\",\"2009\",\"2010\",\"2011\",\"2012\",\"2013\",\"2014\",\"2015\",\"2016\",\"2017\",\"2018\",\"2019\",\"2020\",\"2021\"],\"xaxis\":\"x\",\"y\":[1986192,1967205,1942925,1929836,1919000,1913004,1918485,1914339,1909618,1907172,1905780,1908996,1903914,1896424,1882970,1868745,1851549,1832803],\"yaxis\":\"y\",\"type\":\"scatter\"},{\"hovertemplate\":\"variable=\\uacbd\\uc0c1\\ubd81\\ub3c4<br>index=%{x}<br>value=%{y}<extra></extra>\",\"legendgroup\":\"\\uacbd\\uc0c1\\ubd81\\ub3c4\",\"line\":{\"color\":\"#FFA15A\",\"dash\":\"solid\"},\"marker\":{\"symbol\":\"circle\"},\"mode\":\"lines\",\"name\":\"\\uacbd\\uc0c1\\ubd81\\ub3c4\",\"orientation\":\"v\",\"showlegend\":true,\"x\":[\"2004\",\"2005\",\"2006\",\"2007\",\"2008\",\"2009\",\"2010\",\"2011\",\"2012\",\"2013\",\"2014\",\"2015\",\"2016\",\"2017\",\"2018\",\"2019\",\"2020\",\"2021\"],\"xaxis\":\"x\",\"y\":[2695917,2688491,2688577,2681364,2673931,2669876,2689920,2699195,2698353,2699440,2700794,2702826,2700398,2691706,2676831,2665836,2639422,2626609],\"yaxis\":\"y\",\"type\":\"scatter\"},{\"hovertemplate\":\"variable=\\uacbd\\uc0c1\\ub0a8\\ub3c4<br>index=%{x}<br>value=%{y}<extra></extra>\",\"legendgroup\":\"\\uacbd\\uc0c1\\ub0a8\\ub3c4\",\"line\":{\"color\":\"#19d3f3\",\"dash\":\"solid\"},\"marker\":{\"symbol\":\"circle\"},\"mode\":\"lines\",\"name\":\"\\uacbd\\uc0c1\\ub0a8\\ub3c4\",\"orientation\":\"v\",\"showlegend\":true,\"x\":[\"2004\",\"2005\",\"2006\",\"2007\",\"2008\",\"2009\",\"2010\",\"2011\",\"2012\",\"2013\",\"2014\",\"2015\",\"2016\",\"2017\",\"2018\",\"2019\",\"2020\",\"2021\"],\"xaxis\":\"x\",\"y\":[3143814,3160431,3172857,3196953,3225255,3250176,3290536,3308765,3319314,3333820,3350257,3364702,3373871,3380404,3373988,3362553,3340216,3314183],\"yaxis\":\"y\",\"type\":\"scatter\"},{\"hovertemplate\":\"variable=\\uc81c\\uc8fc\\ud2b9\\ubcc4\\uc790\\uce58\\ub3c4<br>index=%{x}<br>value=%{y}<extra></extra>\",\"legendgroup\":\"\\uc81c\\uc8fc\\ud2b9\\ubcc4\\uc790\\uce58\\ub3c4\",\"line\":{\"color\":\"#FF6692\",\"dash\":\"solid\"},\"marker\":{\"symbol\":\"circle\"},\"mode\":\"lines\",\"name\":\"\\uc81c\\uc8fc\\ud2b9\\ubcc4\\uc790\\uce58\\ub3c4\",\"orientation\":\"v\",\"showlegend\":true,\"x\":[\"2004\",\"2005\",\"2006\",\"2007\",\"2008\",\"2009\",\"2010\",\"2011\",\"2012\",\"2013\",\"2014\",\"2015\",\"2016\",\"2017\",\"2018\",\"2019\",\"2020\",\"2021\"],\"xaxis\":\"x\",\"y\":[555362,557569,558496,559258,560618,562663,571255,576156,583713,593806,607346,624395,641597,657083,667191,670989,674635,676759],\"yaxis\":\"y\",\"type\":\"scatter\"}],                        {\"template\":{\"data\":{\"histogram2dcontour\":[{\"type\":\"histogram2dcontour\",\"colorbar\":{\"outlinewidth\":0,\"ticks\":\"\"},\"colorscale\":[[0.0,\"#0d0887\"],[0.1111111111111111,\"#46039f\"],[0.2222222222222222,\"#7201a8\"],[0.3333333333333333,\"#9c179e\"],[0.4444444444444444,\"#bd3786\"],[0.5555555555555556,\"#d8576b\"],[0.6666666666666666,\"#ed7953\"],[0.7777777777777778,\"#fb9f3a\"],[0.8888888888888888,\"#fdca26\"],[1.0,\"#f0f921\"]]}],\"choropleth\":[{\"type\":\"choropleth\",\"colorbar\":{\"outlinewidth\":0,\"ticks\":\"\"}}],\"histogram2d\":[{\"type\":\"histogram2d\",\"colorbar\":{\"outlinewidth\":0,\"ticks\":\"\"},\"colorscale\":[[0.0,\"#0d0887\"],[0.1111111111111111,\"#46039f\"],[0.2222222222222222,\"#7201a8\"],[0.3333333333333333,\"#9c179e\"],[0.4444444444444444,\"#bd3786\"],[0.5555555555555556,\"#d8576b\"],[0.6666666666666666,\"#ed7953\"],[0.7777777777777778,\"#fb9f3a\"],[0.8888888888888888,\"#fdca26\"],[1.0,\"#f0f921\"]]}],\"heatmap\":[{\"type\":\"heatmap\",\"colorbar\":{\"outlinewidth\":0,\"ticks\":\"\"},\"colorscale\":[[0.0,\"#0d0887\"],[0.1111111111111111,\"#46039f\"],[0.2222222222222222,\"#7201a8\"],[0.3333333333333333,\"#9c179e\"],[0.4444444444444444,\"#bd3786\"],[0.5555555555555556,\"#d8576b\"],[0.6666666666666666,\"#ed7953\"],[0.7777777777777778,\"#fb9f3a\"],[0.8888888888888888,\"#fdca26\"],[1.0,\"#f0f921\"]]}],\"heatmapgl\":[{\"type\":\"heatmapgl\",\"colorbar\":{\"outlinewidth\":0,\"ticks\":\"\"},\"colorscale\":[[0.0,\"#0d0887\"],[0.1111111111111111,\"#46039f\"],[0.2222222222222222,\"#7201a8\"],[0.3333333333333333,\"#9c179e\"],[0.4444444444444444,\"#bd3786\"],[0.5555555555555556,\"#d8576b\"],[0.6666666666666666,\"#ed7953\"],[0.7777777777777778,\"#fb9f3a\"],[0.8888888888888888,\"#fdca26\"],[1.0,\"#f0f921\"]]}],\"contourcarpet\":[{\"type\":\"contourcarpet\",\"colorbar\":{\"outlinewidth\":0,\"ticks\":\"\"}}],\"contour\":[{\"type\":\"contour\",\"colorbar\":{\"outlinewidth\":0,\"ticks\":\"\"},\"colorscale\":[[0.0,\"#0d0887\"],[0.1111111111111111,\"#46039f\"],[0.2222222222222222,\"#7201a8\"],[0.3333333333333333,\"#9c179e\"],[0.4444444444444444,\"#bd3786\"],[0.5555555555555556,\"#d8576b\"],[0.6666666666666666,\"#ed7953\"],[0.7777777777777778,\"#fb9f3a\"],[0.8888888888888888,\"#fdca26\"],[1.0,\"#f0f921\"]]}],\"surface\":[{\"type\":\"surface\",\"colorbar\":{\"outlinewidth\":0,\"ticks\":\"\"},\"colorscale\":[[0.0,\"#0d0887\"],[0.1111111111111111,\"#46039f\"],[0.2222222222222222,\"#7201a8\"],[0.3333333333333333,\"#9c179e\"],[0.4444444444444444,\"#bd3786\"],[0.5555555555555556,\"#d8576b\"],[0.6666666666666666,\"#ed7953\"],[0.7777777777777778,\"#fb9f3a\"],[0.8888888888888888,\"#fdca26\"],[1.0,\"#f0f921\"]]}],\"mesh3d\":[{\"type\":\"mesh3d\",\"colorbar\":{\"outlinewidth\":0,\"ticks\":\"\"}}],\"scatter\":[{\"fillpattern\":{\"fillmode\":\"overlay\",\"size\":10,\"solidity\":0.2},\"type\":\"scatter\"}],\"parcoords\":[{\"type\":\"parcoords\",\"line\":{\"colorbar\":{\"outlinewidth\":0,\"ticks\":\"\"}}}],\"scatterpolargl\":[{\"type\":\"scatterpolargl\",\"marker\":{\"colorbar\":{\"outlinewidth\":0,\"ticks\":\"\"}}}],\"bar\":[{\"error_x\":{\"color\":\"#2a3f5f\"},\"error_y\":{\"color\":\"#2a3f5f\"},\"marker\":{\"line\":{\"color\":\"#E5ECF6\",\"width\":0.5},\"pattern\":{\"fillmode\":\"overlay\",\"size\":10,\"solidity\":0.2}},\"type\":\"bar\"}],\"scattergeo\":[{\"type\":\"scattergeo\",\"marker\":{\"colorbar\":{\"outlinewidth\":0,\"ticks\":\"\"}}}],\"scatterpolar\":[{\"type\":\"scatterpolar\",\"marker\":{\"colorbar\":{\"outlinewidth\":0,\"ticks\":\"\"}}}],\"histogram\":[{\"marker\":{\"pattern\":{\"fillmode\":\"overlay\",\"size\":10,\"solidity\":0.2}},\"type\":\"histogram\"}],\"scattergl\":[{\"type\":\"scattergl\",\"marker\":{\"colorbar\":{\"outlinewidth\":0,\"ticks\":\"\"}}}],\"scatter3d\":[{\"type\":\"scatter3d\",\"line\":{\"colorbar\":{\"outlinewidth\":0,\"ticks\":\"\"}},\"marker\":{\"colorbar\":{\"outlinewidth\":0,\"ticks\":\"\"}}}],\"scattermapbox\":[{\"type\":\"scattermapbox\",\"marker\":{\"colorbar\":{\"outlinewidth\":0,\"ticks\":\"\"}}}],\"scatterternary\":[{\"type\":\"scatterternary\",\"marker\":{\"colorbar\":{\"outlinewidth\":0,\"ticks\":\"\"}}}],\"scattercarpet\":[{\"type\":\"scattercarpet\",\"marker\":{\"colorbar\":{\"outlinewidth\":0,\"ticks\":\"\"}}}],\"carpet\":[{\"aaxis\":{\"endlinecolor\":\"#2a3f5f\",\"gridcolor\":\"white\",\"linecolor\":\"white\",\"minorgridcolor\":\"white\",\"startlinecolor\":\"#2a3f5f\"},\"baxis\":{\"endlinecolor\":\"#2a3f5f\",\"gridcolor\":\"white\",\"linecolor\":\"white\",\"minorgridcolor\":\"white\",\"startlinecolor\":\"#2a3f5f\"},\"type\":\"carpet\"}],\"table\":[{\"cells\":{\"fill\":{\"color\":\"#EBF0F8\"},\"line\":{\"color\":\"white\"}},\"header\":{\"fill\":{\"color\":\"#C8D4E3\"},\"line\":{\"color\":\"white\"}},\"type\":\"table\"}],\"barpolar\":[{\"marker\":{\"line\":{\"color\":\"#E5ECF6\",\"width\":0.5},\"pattern\":{\"fillmode\":\"overlay\",\"size\":10,\"solidity\":0.2}},\"type\":\"barpolar\"}],\"pie\":[{\"automargin\":true,\"type\":\"pie\"}]},\"layout\":{\"autotypenumbers\":\"strict\",\"colorway\":[\"#636efa\",\"#EF553B\",\"#00cc96\",\"#ab63fa\",\"#FFA15A\",\"#19d3f3\",\"#FF6692\",\"#B6E880\",\"#FF97FF\",\"#FECB52\"],\"font\":{\"color\":\"#2a3f5f\"},\"hovermode\":\"closest\",\"hoverlabel\":{\"align\":\"left\"},\"paper_bgcolor\":\"white\",\"plot_bgcolor\":\"#E5ECF6\",\"polar\":{\"bgcolor\":\"#E5ECF6\",\"angularaxis\":{\"gridcolor\":\"white\",\"linecolor\":\"white\",\"ticks\":\"\"},\"radialaxis\":{\"gridcolor\":\"white\",\"linecolor\":\"white\",\"ticks\":\"\"}},\"ternary\":{\"bgcolor\":\"#E5ECF6\",\"aaxis\":{\"gridcolor\":\"white\",\"linecolor\":\"white\",\"ticks\":\"\"},\"baxis\":{\"gridcolor\":\"white\",\"linecolor\":\"white\",\"ticks\":\"\"},\"caxis\":{\"gridcolor\":\"white\",\"linecolor\":\"white\",\"ticks\":\"\"}},\"coloraxis\":{\"colorbar\":{\"outlinewidth\":0,\"ticks\":\"\"}},\"colorscale\":{\"sequential\":[[0.0,\"#0d0887\"],[0.1111111111111111,\"#46039f\"],[0.2222222222222222,\"#7201a8\"],[0.3333333333333333,\"#9c179e\"],[0.4444444444444444,\"#bd3786\"],[0.5555555555555556,\"#d8576b\"],[0.6666666666666666,\"#ed7953\"],[0.7777777777777778,\"#fb9f3a\"],[0.8888888888888888,\"#fdca26\"],[1.0,\"#f0f921\"]],\"sequentialminus\":[[0.0,\"#0d0887\"],[0.1111111111111111,\"#46039f\"],[0.2222222222222222,\"#7201a8\"],[0.3333333333333333,\"#9c179e\"],[0.4444444444444444,\"#bd3786\"],[0.5555555555555556,\"#d8576b\"],[0.6666666666666666,\"#ed7953\"],[0.7777777777777778,\"#fb9f3a\"],[0.8888888888888888,\"#fdca26\"],[1.0,\"#f0f921\"]],\"diverging\":[[0,\"#8e0152\"],[0.1,\"#c51b7d\"],[0.2,\"#de77ae\"],[0.3,\"#f1b6da\"],[0.4,\"#fde0ef\"],[0.5,\"#f7f7f7\"],[0.6,\"#e6f5d0\"],[0.7,\"#b8e186\"],[0.8,\"#7fbc41\"],[0.9,\"#4d9221\"],[1,\"#276419\"]]},\"xaxis\":{\"gridcolor\":\"white\",\"linecolor\":\"white\",\"ticks\":\"\",\"title\":{\"standoff\":15},\"zerolinecolor\":\"white\",\"automargin\":true,\"zerolinewidth\":2},\"yaxis\":{\"gridcolor\":\"white\",\"linecolor\":\"white\",\"ticks\":\"\",\"title\":{\"standoff\":15},\"zerolinecolor\":\"white\",\"automargin\":true,\"zerolinewidth\":2},\"scene\":{\"xaxis\":{\"backgroundcolor\":\"#E5ECF6\",\"gridcolor\":\"white\",\"linecolor\":\"white\",\"showbackground\":true,\"ticks\":\"\",\"zerolinecolor\":\"white\",\"gridwidth\":2},\"yaxis\":{\"backgroundcolor\":\"#E5ECF6\",\"gridcolor\":\"white\",\"linecolor\":\"white\",\"showbackground\":true,\"ticks\":\"\",\"zerolinecolor\":\"white\",\"gridwidth\":2},\"zaxis\":{\"backgroundcolor\":\"#E5ECF6\",\"gridcolor\":\"white\",\"linecolor\":\"white\",\"showbackground\":true,\"ticks\":\"\",\"zerolinecolor\":\"white\",\"gridwidth\":2}},\"shapedefaults\":{\"line\":{\"color\":\"#2a3f5f\"}},\"annotationdefaults\":{\"arrowcolor\":\"#2a3f5f\",\"arrowhead\":0,\"arrowwidth\":1},\"geo\":{\"bgcolor\":\"white\",\"landcolor\":\"#E5ECF6\",\"subunitcolor\":\"white\",\"showland\":true,\"showlakes\":true,\"lakecolor\":\"white\"},\"title\":{\"x\":0.05},\"mapbox\":{\"style\":\"light\"}}},\"xaxis\":{\"anchor\":\"y\",\"domain\":[0.0,1.0],\"title\":{\"text\":\"index\"}},\"yaxis\":{\"anchor\":\"x\",\"domain\":[0.0,1.0],\"title\":{\"text\":\"value\"}},\"legend\":{\"title\":{\"text\":\"variable\"},\"tracegroupgap\":0},\"margin\":{\"t\":60}},                        {\"responsive\": true}                    ).then(function(){\n",
       "                            \n",
       "var gd = document.getElementById('7ede2100-dbbc-47fd-87dd-0bf140ef1d42');\n",
       "var x = new MutationObserver(function (mutations, observer) {{\n",
       "        var display = window.getComputedStyle(gd).display;\n",
       "        if (!display || display === 'none') {{\n",
       "            console.log([gd, 'removed!']);\n",
       "            Plotly.purge(gd);\n",
       "            observer.disconnect();\n",
       "        }}\n",
       "}});\n",
       "\n",
       "// Listen for the removal of the full notebook cells\n",
       "var notebookContainer = gd.closest('#notebook-container');\n",
       "if (notebookContainer) {{\n",
       "    x.observe(notebookContainer, {childList: true});\n",
       "}}\n",
       "\n",
       "// Listen for the clearing of the current output cell\n",
       "var outputEl = gd.closest('.output');\n",
       "if (outputEl) {{\n",
       "    x.observe(outputEl, {childList: true});\n",
       "}}\n",
       "\n",
       "                        })                };                });            </script>        </div>"
      ]
     },
     "metadata": {},
     "output_type": "display_data"
    },
    {
     "data": {
      "text/plain": [
       "<Figure size 1080x288 with 0 Axes>"
      ]
     },
     "metadata": {},
     "output_type": "display_data"
    }
   ],
   "source": [
    "# # fig = plt.figure()\n",
    "# # a = fig.add_subplot(2,2,1)\n",
    "# # b = fig.add_subplot(2,2,2)\n",
    "# # c = fig.add_subplot(2,2,3)\n",
    "# # d = fig.add_subplot(2,2,4)\n",
    "\n",
    "plt.figure(figsize = (15,4))\n",
    "\n",
    "px.line(total)\n",
    "\n",
    "# plt.figure(figsize = (16,8))\n",
    "# plt.xticks(rotation = 60)\n",
    "# sns.pointplot(data=metro,x=year, y='전국')\n",
    "\n",
    "# plt.figure(figsize = (16,8))\n",
    "# plt.xticks(rotation = 60)\n",
    "# sns.pointplot(data=metro,x=year, y='서울특별시')\n",
    "\n",
    "# plt.figure(figsize = (16,8))\n",
    "# plt.xticks(rotation = 60)\n",
    "# sns.pointplot(data=metro,x=year, y='경기도')\n",
    "\n",
    "# plt.figure(figsize = (16,8))\n",
    "# plt.xticks(rotation = 60)\n",
    "# sns.pointplot(data=metro,x=year, y='인천광역시')\n",
    "\n",
    "\n",
    "# import plotly.figure_factory as ff \n",
    "# hist_data = [data1['전국'], data1['서울특별시'],data1['경기도'],data1['인천광역시']]\n",
    "# group_labels = ['전국', '서울특별시', '경기도','인천광역시']\n",
    "# colors = ['#333F44', '#37AA9C', '#94F3E4','#d5eaf2']\n",
    "\n",
    "# fig = ff.create_distplot(hist_data,group_labels,show_hist=False, colors = colors )\n",
    "# fig.update_layout(title_text='Population Fluctuation')\n",
    "# fig.show()"
   ]
  },
  {
   "cell_type": "markdown",
   "id": "14246913",
   "metadata": {},
   "source": [
    "------"
   ]
  },
  {
   "cell_type": "markdown",
   "id": "5f05577a",
   "metadata": {},
   "source": [
    "## 주택 소재지별 주택수 - 개인단위 \n",
    "\n",
    "#### "
   ]
  },
  {
   "cell_type": "code",
   "execution_count": 657,
   "id": "3f7aac23",
   "metadata": {},
   "outputs": [],
   "source": [
    "data2 = pd.read_csv('../data/주택소재지별_주택수_개인단위__20221011204911.csv',encoding = 'euc-kr')\n"
   ]
  },
  {
   "cell_type": "code",
   "execution_count": 658,
   "id": "c5b2b2de",
   "metadata": {},
   "outputs": [],
   "source": [
    "data2 = data2.transpose()\n"
   ]
  },
  {
   "cell_type": "code",
   "execution_count": 659,
   "id": "9bbde12d",
   "metadata": {},
   "outputs": [],
   "source": [
    "data2 = data2.rename(columns = data2.iloc[0])"
   ]
  },
  {
   "cell_type": "code",
   "execution_count": 660,
   "id": "1f1db624",
   "metadata": {},
   "outputs": [
    {
     "data": {
      "text/html": [
       "<div>\n",
       "<style scoped>\n",
       "    .dataframe tbody tr th:only-of-type {\n",
       "        vertical-align: middle;\n",
       "    }\n",
       "\n",
       "    .dataframe tbody tr th {\n",
       "        vertical-align: top;\n",
       "    }\n",
       "\n",
       "    .dataframe thead th {\n",
       "        text-align: right;\n",
       "    }\n",
       "</style>\n",
       "<table border=\"1\" class=\"dataframe\">\n",
       "  <thead>\n",
       "    <tr style=\"text-align: right;\">\n",
       "      <th></th>\n",
       "      <th>주택소재지별(1)</th>\n",
       "      <th>전국</th>\n",
       "      <th>서울특별시</th>\n",
       "      <th>부산광역시</th>\n",
       "      <th>대구광역시</th>\n",
       "      <th>인천광역시</th>\n",
       "      <th>광주광역시</th>\n",
       "      <th>대전광역시</th>\n",
       "      <th>울산광역시</th>\n",
       "      <th>세종특별자치시</th>\n",
       "      <th>경기도</th>\n",
       "      <th>강원도</th>\n",
       "      <th>충청북도</th>\n",
       "      <th>충청남도</th>\n",
       "      <th>전라북도</th>\n",
       "      <th>전라남도</th>\n",
       "      <th>경상북도</th>\n",
       "      <th>경상남도</th>\n",
       "      <th>제주특별자치도</th>\n",
       "    </tr>\n",
       "  </thead>\n",
       "  <tbody>\n",
       "    <tr>\n",
       "      <th>주택소재지별(1)</th>\n",
       "      <td>주택소재지별(1)</td>\n",
       "      <td>전국</td>\n",
       "      <td>서울특별시</td>\n",
       "      <td>부산광역시</td>\n",
       "      <td>대구광역시</td>\n",
       "      <td>인천광역시</td>\n",
       "      <td>광주광역시</td>\n",
       "      <td>대전광역시</td>\n",
       "      <td>울산광역시</td>\n",
       "      <td>세종특별자치시</td>\n",
       "      <td>경기도</td>\n",
       "      <td>강원도</td>\n",
       "      <td>충청북도</td>\n",
       "      <td>충청남도</td>\n",
       "      <td>전라북도</td>\n",
       "      <td>전라남도</td>\n",
       "      <td>경상북도</td>\n",
       "      <td>경상남도</td>\n",
       "      <td>제주특별자치도</td>\n",
       "    </tr>\n",
       "    <tr>\n",
       "      <th>2012</th>\n",
       "      <td>총주택</td>\n",
       "      <td>15300616</td>\n",
       "      <td>2625657</td>\n",
       "      <td>1078853</td>\n",
       "      <td>703026</td>\n",
       "      <td>892303</td>\n",
       "      <td>458037</td>\n",
       "      <td>443787</td>\n",
       "      <td>326379</td>\n",
       "      <td>39325</td>\n",
       "      <td>3401339</td>\n",
       "      <td>547769</td>\n",
       "      <td>520489</td>\n",
       "      <td>708475</td>\n",
       "      <td>661515</td>\n",
       "      <td>707639</td>\n",
       "      <td>949692</td>\n",
       "      <td>1064715</td>\n",
       "      <td>171616</td>\n",
       "    </tr>\n",
       "    <tr>\n",
       "      <th>2012.1</th>\n",
       "      <td>개인소유주택</td>\n",
       "      <td>12962814</td>\n",
       "      <td>2303505</td>\n",
       "      <td>942667</td>\n",
       "      <td>627382</td>\n",
       "      <td>785487</td>\n",
       "      <td>382146</td>\n",
       "      <td>384405</td>\n",
       "      <td>290453</td>\n",
       "      <td>33464</td>\n",
       "      <td>2943112</td>\n",
       "      <td>424380</td>\n",
       "      <td>433200</td>\n",
       "      <td>548949</td>\n",
       "      <td>515280</td>\n",
       "      <td>524182</td>\n",
       "      <td>768357</td>\n",
       "      <td>910531</td>\n",
       "      <td>145314</td>\n",
       "    </tr>\n",
       "    <tr>\n",
       "      <th>2012.2</th>\n",
       "      <td>총아파트</td>\n",
       "      <td>8977135</td>\n",
       "      <td>1543045</td>\n",
       "      <td>659821</td>\n",
       "      <td>470836</td>\n",
       "      <td>535724</td>\n",
       "      <td>348622</td>\n",
       "      <td>313705</td>\n",
       "      <td>223734</td>\n",
       "      <td>20957</td>\n",
       "      <td>2323247</td>\n",
       "      <td>275592</td>\n",
       "      <td>279576</td>\n",
       "      <td>345518</td>\n",
       "      <td>335645</td>\n",
       "      <td>264808</td>\n",
       "      <td>409120</td>\n",
       "      <td>576119</td>\n",
       "      <td>51066</td>\n",
       "    </tr>\n",
       "    <tr>\n",
       "      <th>2012.3</th>\n",
       "      <td>개인소유아파트</td>\n",
       "      <td>7449705</td>\n",
       "      <td>1304927</td>\n",
       "      <td>582898</td>\n",
       "      <td>409732</td>\n",
       "      <td>453901</td>\n",
       "      <td>281469</td>\n",
       "      <td>267416</td>\n",
       "      <td>196984</td>\n",
       "      <td>17056</td>\n",
       "      <td>1969528</td>\n",
       "      <td>201804</td>\n",
       "      <td>223140</td>\n",
       "      <td>259458</td>\n",
       "      <td>260679</td>\n",
       "      <td>175377</td>\n",
       "      <td>319584</td>\n",
       "      <td>486201</td>\n",
       "      <td>39551</td>\n",
       "    </tr>\n",
       "    <tr>\n",
       "      <th>2013</th>\n",
       "      <td>총주택</td>\n",
       "      <td>15624928</td>\n",
       "      <td>2686621</td>\n",
       "      <td>1111427</td>\n",
       "      <td>715499</td>\n",
       "      <td>905209</td>\n",
       "      <td>467333</td>\n",
       "      <td>449622</td>\n",
       "      <td>332697</td>\n",
       "      <td>40439</td>\n",
       "      <td>3485881</td>\n",
       "      <td>552576</td>\n",
       "      <td>530845</td>\n",
       "      <td>721768</td>\n",
       "      <td>669758</td>\n",
       "      <td>721444</td>\n",
       "      <td>963566</td>\n",
       "      <td>1088659</td>\n",
       "      <td>181584</td>\n",
       "    </tr>\n",
       "    <tr>\n",
       "      <th>2013.1</th>\n",
       "      <td>개인소유주택</td>\n",
       "      <td>13430598</td>\n",
       "      <td>2354408</td>\n",
       "      <td>1000941</td>\n",
       "      <td>642457</td>\n",
       "      <td>808639</td>\n",
       "      <td>390470</td>\n",
       "      <td>391646</td>\n",
       "      <td>300544</td>\n",
       "      <td>34996</td>\n",
       "      <td>3051810</td>\n",
       "      <td>446576</td>\n",
       "      <td>449694</td>\n",
       "      <td>577655</td>\n",
       "      <td>540155</td>\n",
       "      <td>548427</td>\n",
       "      <td>794807</td>\n",
       "      <td>947919</td>\n",
       "      <td>149454</td>\n",
       "    </tr>\n",
       "    <tr>\n",
       "      <th>2013.2</th>\n",
       "      <td>총아파트</td>\n",
       "      <td>9197989</td>\n",
       "      <td>1577800</td>\n",
       "      <td>683785</td>\n",
       "      <td>483089</td>\n",
       "      <td>546726</td>\n",
       "      <td>356907</td>\n",
       "      <td>319326</td>\n",
       "      <td>228648</td>\n",
       "      <td>21828</td>\n",
       "      <td>2371924</td>\n",
       "      <td>278358</td>\n",
       "      <td>285720</td>\n",
       "      <td>354866</td>\n",
       "      <td>342814</td>\n",
       "      <td>275952</td>\n",
       "      <td>418332</td>\n",
       "      <td>594703</td>\n",
       "      <td>57211</td>\n",
       "    </tr>\n",
       "    <tr>\n",
       "      <th>2013.3</th>\n",
       "      <td>개인소유아파트</td>\n",
       "      <td>7650631</td>\n",
       "      <td>1326272</td>\n",
       "      <td>601748</td>\n",
       "      <td>420536</td>\n",
       "      <td>465686</td>\n",
       "      <td>287622</td>\n",
       "      <td>271653</td>\n",
       "      <td>203167</td>\n",
       "      <td>17992</td>\n",
       "      <td>2018630</td>\n",
       "      <td>207252</td>\n",
       "      <td>230551</td>\n",
       "      <td>271176</td>\n",
       "      <td>271772</td>\n",
       "      <td>183368</td>\n",
       "      <td>325654</td>\n",
       "      <td>504988</td>\n",
       "      <td>42564</td>\n",
       "    </tr>\n",
       "    <tr>\n",
       "      <th>2014</th>\n",
       "      <td>총주택</td>\n",
       "      <td>15920906</td>\n",
       "      <td>2699568</td>\n",
       "      <td>1133236</td>\n",
       "      <td>716961</td>\n",
       "      <td>920575</td>\n",
       "      <td>477400</td>\n",
       "      <td>459481</td>\n",
       "      <td>344461</td>\n",
       "      <td>60557</td>\n",
       "      <td>3571076</td>\n",
       "      <td>560843</td>\n",
       "      <td>543324</td>\n",
       "      <td>741405</td>\n",
       "      <td>679594</td>\n",
       "      <td>739093</td>\n",
       "      <td>978667</td>\n",
       "      <td>1108750</td>\n",
       "      <td>185915</td>\n",
       "    </tr>\n",
       "    <tr>\n",
       "      <th>2014.1</th>\n",
       "      <td>개인소유주택</td>\n",
       "      <td>13672355</td>\n",
       "      <td>2419051</td>\n",
       "      <td>1017300</td>\n",
       "      <td>650004</td>\n",
       "      <td>820432</td>\n",
       "      <td>401789</td>\n",
       "      <td>402794</td>\n",
       "      <td>310602</td>\n",
       "      <td>39872</td>\n",
       "      <td>3107200</td>\n",
       "      <td>447941</td>\n",
       "      <td>450768</td>\n",
       "      <td>598997</td>\n",
       "      <td>543358</td>\n",
       "      <td>552096</td>\n",
       "      <td>786657</td>\n",
       "      <td>965954</td>\n",
       "      <td>157540</td>\n",
       "    </tr>\n",
       "    <tr>\n",
       "      <th>2014.2</th>\n",
       "      <td>총아파트</td>\n",
       "      <td>9448885</td>\n",
       "      <td>1578972</td>\n",
       "      <td>710774</td>\n",
       "      <td>491094</td>\n",
       "      <td>561079</td>\n",
       "      <td>369526</td>\n",
       "      <td>330512</td>\n",
       "      <td>241970</td>\n",
       "      <td>41780</td>\n",
       "      <td>2426560</td>\n",
       "      <td>287031</td>\n",
       "      <td>295538</td>\n",
       "      <td>366861</td>\n",
       "      <td>353549</td>\n",
       "      <td>291090</td>\n",
       "      <td>427860</td>\n",
       "      <td>615781</td>\n",
       "      <td>58908</td>\n",
       "    </tr>\n",
       "    <tr>\n",
       "      <th>2014.3</th>\n",
       "      <td>개인소유아파트</td>\n",
       "      <td>7907597</td>\n",
       "      <td>1358224</td>\n",
       "      <td>624341</td>\n",
       "      <td>436498</td>\n",
       "      <td>479585</td>\n",
       "      <td>302158</td>\n",
       "      <td>282649</td>\n",
       "      <td>215084</td>\n",
       "      <td>23103</td>\n",
       "      <td>2060779</td>\n",
       "      <td>215153</td>\n",
       "      <td>236237</td>\n",
       "      <td>288260</td>\n",
       "      <td>280195</td>\n",
       "      <td>194310</td>\n",
       "      <td>333844</td>\n",
       "      <td>531563</td>\n",
       "      <td>45614</td>\n",
       "    </tr>\n",
       "    <tr>\n",
       "      <th>2015</th>\n",
       "      <td>총주택</td>\n",
       "      <td>16367006</td>\n",
       "      <td>2793244</td>\n",
       "      <td>1164352</td>\n",
       "      <td>738100</td>\n",
       "      <td>942244</td>\n",
       "      <td>486527</td>\n",
       "      <td>468885</td>\n",
       "      <td>357674</td>\n",
       "      <td>81130</td>\n",
       "      <td>3693557</td>\n",
       "      <td>569899</td>\n",
       "      <td>556951</td>\n",
       "      <td>754372</td>\n",
       "      <td>687103</td>\n",
       "      <td>747621</td>\n",
       "      <td>995385</td>\n",
       "      <td>1134738</td>\n",
       "      <td>195224</td>\n",
       "    </tr>\n",
       "    <tr>\n",
       "      <th>2015.1</th>\n",
       "      <td>개인소유주택</td>\n",
       "      <td>14147519</td>\n",
       "      <td>2483521</td>\n",
       "      <td>1054112</td>\n",
       "      <td>667536</td>\n",
       "      <td>846873</td>\n",
       "      <td>418763</td>\n",
       "      <td>417505</td>\n",
       "      <td>325230</td>\n",
       "      <td>61863</td>\n",
       "      <td>3226048</td>\n",
       "      <td>460440</td>\n",
       "      <td>455475</td>\n",
       "      <td>618572</td>\n",
       "      <td>556685</td>\n",
       "      <td>561781</td>\n",
       "      <td>833001</td>\n",
       "      <td>990489</td>\n",
       "      <td>169625</td>\n",
       "    </tr>\n",
       "    <tr>\n",
       "      <th>2015.2</th>\n",
       "      <td>총아파트</td>\n",
       "      <td>9806062</td>\n",
       "      <td>1636896</td>\n",
       "      <td>738068</td>\n",
       "      <td>509068</td>\n",
       "      <td>577346</td>\n",
       "      <td>376731</td>\n",
       "      <td>338250</td>\n",
       "      <td>253010</td>\n",
       "      <td>62274</td>\n",
       "      <td>2502091</td>\n",
       "      <td>297005</td>\n",
       "      <td>308352</td>\n",
       "      <td>382323</td>\n",
       "      <td>364712</td>\n",
       "      <td>306661</td>\n",
       "      <td>449154</td>\n",
       "      <td>641589</td>\n",
       "      <td>62532</td>\n",
       "    </tr>\n",
       "    <tr>\n",
       "      <th>2015.3</th>\n",
       "      <td>개인소유아파트</td>\n",
       "      <td>8191917</td>\n",
       "      <td>1378958</td>\n",
       "      <td>648816</td>\n",
       "      <td>445307</td>\n",
       "      <td>498808</td>\n",
       "      <td>314820</td>\n",
       "      <td>292894</td>\n",
       "      <td>226018</td>\n",
       "      <td>45023</td>\n",
       "      <td>2115908</td>\n",
       "      <td>223096</td>\n",
       "      <td>245670</td>\n",
       "      <td>302643</td>\n",
       "      <td>295580</td>\n",
       "      <td>204671</td>\n",
       "      <td>354608</td>\n",
       "      <td>551293</td>\n",
       "      <td>47804</td>\n",
       "    </tr>\n",
       "    <tr>\n",
       "      <th>2016</th>\n",
       "      <td>총주택</td>\n",
       "      <td>16692230</td>\n",
       "      <td>2830857</td>\n",
       "      <td>1174034</td>\n",
       "      <td>761054</td>\n",
       "      <td>958072</td>\n",
       "      <td>494547</td>\n",
       "      <td>474193</td>\n",
       "      <td>361273</td>\n",
       "      <td>86607</td>\n",
       "      <td>3814834</td>\n",
       "      <td>575967</td>\n",
       "      <td>568567</td>\n",
       "      <td>776746</td>\n",
       "      <td>692563</td>\n",
       "      <td>755044</td>\n",
       "      <td>1009941</td>\n",
       "      <td>1151057</td>\n",
       "      <td>206874</td>\n",
       "    </tr>\n",
       "    <tr>\n",
       "      <th>2016.1</th>\n",
       "      <td>개인소유주택</td>\n",
       "      <td>14521457</td>\n",
       "      <td>2535607</td>\n",
       "      <td>1063107</td>\n",
       "      <td>685240</td>\n",
       "      <td>865592</td>\n",
       "      <td>426202</td>\n",
       "      <td>422487</td>\n",
       "      <td>332052</td>\n",
       "      <td>71317</td>\n",
       "      <td>3321793</td>\n",
       "      <td>476088</td>\n",
       "      <td>475450</td>\n",
       "      <td>648461</td>\n",
       "      <td>563127</td>\n",
       "      <td>577419</td>\n",
       "      <td>855400</td>\n",
       "      <td>1021330</td>\n",
       "      <td>180785</td>\n",
       "    </tr>\n",
       "    <tr>\n",
       "      <th>2016.2</th>\n",
       "      <td>총아파트</td>\n",
       "      <td>10029644</td>\n",
       "      <td>1641383</td>\n",
       "      <td>750122</td>\n",
       "      <td>532090</td>\n",
       "      <td>588563</td>\n",
       "      <td>384750</td>\n",
       "      <td>343223</td>\n",
       "      <td>256003</td>\n",
       "      <td>67773</td>\n",
       "      <td>2577259</td>\n",
       "      <td>300788</td>\n",
       "      <td>316851</td>\n",
       "      <td>402808</td>\n",
       "      <td>370071</td>\n",
       "      <td>316137</td>\n",
       "      <td>461577</td>\n",
       "      <td>654679</td>\n",
       "      <td>65567</td>\n",
       "    </tr>\n",
       "    <tr>\n",
       "      <th>2016.3</th>\n",
       "      <td>개인소유아파트</td>\n",
       "      <td>8425911</td>\n",
       "      <td>1399373</td>\n",
       "      <td>667623</td>\n",
       "      <td>463380</td>\n",
       "      <td>512331</td>\n",
       "      <td>322869</td>\n",
       "      <td>297461</td>\n",
       "      <td>232180</td>\n",
       "      <td>54063</td>\n",
       "      <td>2164804</td>\n",
       "      <td>228320</td>\n",
       "      <td>252657</td>\n",
       "      <td>324356</td>\n",
       "      <td>299010</td>\n",
       "      <td>213147</td>\n",
       "      <td>372490</td>\n",
       "      <td>571774</td>\n",
       "      <td>50073</td>\n",
       "    </tr>\n",
       "    <tr>\n",
       "      <th>2017</th>\n",
       "      <td>총주택</td>\n",
       "      <td>17122573</td>\n",
       "      <td>2866845</td>\n",
       "      <td>1200422</td>\n",
       "      <td>783895</td>\n",
       "      <td>969588</td>\n",
       "      <td>505471</td>\n",
       "      <td>479161</td>\n",
       "      <td>371300</td>\n",
       "      <td>104448</td>\n",
       "      <td>3949829</td>\n",
       "      <td>586383</td>\n",
       "      <td>581855</td>\n",
       "      <td>805555</td>\n",
       "      <td>698264</td>\n",
       "      <td>766231</td>\n",
       "      <td>1038274</td>\n",
       "      <td>1193912</td>\n",
       "      <td>221140</td>\n",
       "    </tr>\n",
       "    <tr>\n",
       "      <th>2017.1</th>\n",
       "      <td>개인소유주택</td>\n",
       "      <td>14963975</td>\n",
       "      <td>2552576</td>\n",
       "      <td>1090217</td>\n",
       "      <td>704573</td>\n",
       "      <td>880133</td>\n",
       "      <td>433969</td>\n",
       "      <td>421521</td>\n",
       "      <td>339953</td>\n",
       "      <td>85985</td>\n",
       "      <td>3430434</td>\n",
       "      <td>489130</td>\n",
       "      <td>498845</td>\n",
       "      <td>686088</td>\n",
       "      <td>587158</td>\n",
       "      <td>605836</td>\n",
       "      <td>895071</td>\n",
       "      <td>1070083</td>\n",
       "      <td>192403</td>\n",
       "    </tr>\n",
       "    <tr>\n",
       "      <th>2017.2</th>\n",
       "      <td>총아파트</td>\n",
       "      <td>10375363</td>\n",
       "      <td>1665922</td>\n",
       "      <td>776079</td>\n",
       "      <td>555900</td>\n",
       "      <td>597929</td>\n",
       "      <td>395976</td>\n",
       "      <td>348033</td>\n",
       "      <td>264440</td>\n",
       "      <td>85256</td>\n",
       "      <td>2676037</td>\n",
       "      <td>307839</td>\n",
       "      <td>327319</td>\n",
       "      <td>426251</td>\n",
       "      <td>374491</td>\n",
       "      <td>324257</td>\n",
       "      <td>485196</td>\n",
       "      <td>694326</td>\n",
       "      <td>70112</td>\n",
       "    </tr>\n",
       "    <tr>\n",
       "      <th>2017.3</th>\n",
       "      <td>개인소유아파트</td>\n",
       "      <td>8697344</td>\n",
       "      <td>1409694</td>\n",
       "      <td>686371</td>\n",
       "      <td>483971</td>\n",
       "      <td>526729</td>\n",
       "      <td>330782</td>\n",
       "      <td>296686</td>\n",
       "      <td>239539</td>\n",
       "      <td>67875</td>\n",
       "      <td>2237980</td>\n",
       "      <td>234627</td>\n",
       "      <td>262239</td>\n",
       "      <td>344151</td>\n",
       "      <td>305703</td>\n",
       "      <td>220838</td>\n",
       "      <td>393187</td>\n",
       "      <td>603771</td>\n",
       "      <td>53201</td>\n",
       "    </tr>\n",
       "    <tr>\n",
       "      <th>2018</th>\n",
       "      <td>총주택</td>\n",
       "      <td>17633327</td>\n",
       "      <td>2894078</td>\n",
       "      <td>1220782</td>\n",
       "      <td>792998</td>\n",
       "      <td>997959</td>\n",
       "      <td>514767</td>\n",
       "      <td>486764</td>\n",
       "      <td>379741</td>\n",
       "      <td>118959</td>\n",
       "      <td>4169100</td>\n",
       "      <td>603644</td>\n",
       "      <td>607686</td>\n",
       "      <td>835752</td>\n",
       "      <td>712850</td>\n",
       "      <td>777966</td>\n",
       "      <td>1060505</td>\n",
       "      <td>1226708</td>\n",
       "      <td>233068</td>\n",
       "    </tr>\n",
       "    <tr>\n",
       "      <th>2018.1</th>\n",
       "      <td>개인소유주택</td>\n",
       "      <td>15317333</td>\n",
       "      <td>2571020</td>\n",
       "      <td>1102122</td>\n",
       "      <td>712585</td>\n",
       "      <td>895255</td>\n",
       "      <td>441585</td>\n",
       "      <td>430993</td>\n",
       "      <td>346950</td>\n",
       "      <td>98966</td>\n",
       "      <td>3567956</td>\n",
       "      <td>501341</td>\n",
       "      <td>510750</td>\n",
       "      <td>710035</td>\n",
       "      <td>598732</td>\n",
       "      <td>610398</td>\n",
       "      <td>920239</td>\n",
       "      <td>1097969</td>\n",
       "      <td>200437</td>\n",
       "    </tr>\n",
       "    <tr>\n",
       "      <th>2018.2</th>\n",
       "      <td>총아파트</td>\n",
       "      <td>10826044</td>\n",
       "      <td>1679639</td>\n",
       "      <td>798281</td>\n",
       "      <td>567543</td>\n",
       "      <td>624332</td>\n",
       "      <td>406329</td>\n",
       "      <td>355517</td>\n",
       "      <td>273230</td>\n",
       "      <td>99512</td>\n",
       "      <td>2860249</td>\n",
       "      <td>322796</td>\n",
       "      <td>351577</td>\n",
       "      <td>453830</td>\n",
       "      <td>389225</td>\n",
       "      <td>335966</td>\n",
       "      <td>507230</td>\n",
       "      <td>726589</td>\n",
       "      <td>74199</td>\n",
       "    </tr>\n",
       "    <tr>\n",
       "      <th>2018.3</th>\n",
       "      <td>개인소유아파트</td>\n",
       "      <td>9031320</td>\n",
       "      <td>1421708</td>\n",
       "      <td>703077</td>\n",
       "      <td>496307</td>\n",
       "      <td>544663</td>\n",
       "      <td>340144</td>\n",
       "      <td>306455</td>\n",
       "      <td>249898</td>\n",
       "      <td>80662</td>\n",
       "      <td>2352161</td>\n",
       "      <td>244304</td>\n",
       "      <td>276096</td>\n",
       "      <td>365534</td>\n",
       "      <td>316050</td>\n",
       "      <td>231254</td>\n",
       "      <td>417147</td>\n",
       "      <td>630069</td>\n",
       "      <td>55791</td>\n",
       "    </tr>\n",
       "    <tr>\n",
       "      <th>2019</th>\n",
       "      <td>총주택</td>\n",
       "      <td>18126954</td>\n",
       "      <td>2953964</td>\n",
       "      <td>1249757</td>\n",
       "      <td>800340</td>\n",
       "      <td>1019365</td>\n",
       "      <td>526161</td>\n",
       "      <td>492797</td>\n",
       "      <td>391596</td>\n",
       "      <td>132257</td>\n",
       "      <td>4354776</td>\n",
       "      <td>627376</td>\n",
       "      <td>625957</td>\n",
       "      <td>850525</td>\n",
       "      <td>724524</td>\n",
       "      <td>787816</td>\n",
       "      <td>1081216</td>\n",
       "      <td>1266739</td>\n",
       "      <td>241788</td>\n",
       "    </tr>\n",
       "    <tr>\n",
       "      <th>2019.1</th>\n",
       "      <td>개인소유주택</td>\n",
       "      <td>15688708</td>\n",
       "      <td>2603182</td>\n",
       "      <td>1112532</td>\n",
       "      <td>715803</td>\n",
       "      <td>908703</td>\n",
       "      <td>449711</td>\n",
       "      <td>433024</td>\n",
       "      <td>357483</td>\n",
       "      <td>104383</td>\n",
       "      <td>3720475</td>\n",
       "      <td>518534</td>\n",
       "      <td>528314</td>\n",
       "      <td>727628</td>\n",
       "      <td>608803</td>\n",
       "      <td>629255</td>\n",
       "      <td>936551</td>\n",
       "      <td>1127511</td>\n",
       "      <td>206816</td>\n",
       "    </tr>\n",
       "    <tr>\n",
       "      <th>2019.2</th>\n",
       "      <td>총아파트</td>\n",
       "      <td>11287048</td>\n",
       "      <td>1720691</td>\n",
       "      <td>831294</td>\n",
       "      <td>579777</td>\n",
       "      <td>648403</td>\n",
       "      <td>419567</td>\n",
       "      <td>362190</td>\n",
       "      <td>286234</td>\n",
       "      <td>112722</td>\n",
       "      <td>3021258</td>\n",
       "      <td>346389</td>\n",
       "      <td>369668</td>\n",
       "      <td>467790</td>\n",
       "      <td>401005</td>\n",
       "      <td>346990</td>\n",
       "      <td>529133</td>\n",
       "      <td>767442</td>\n",
       "      <td>76495</td>\n",
       "    </tr>\n",
       "    <tr>\n",
       "      <th>2019.3</th>\n",
       "      <td>개인소유아파트</td>\n",
       "      <td>9377878</td>\n",
       "      <td>1446390</td>\n",
       "      <td>719139</td>\n",
       "      <td>504766</td>\n",
       "      <td>562880</td>\n",
       "      <td>350515</td>\n",
       "      <td>310220</td>\n",
       "      <td>257660</td>\n",
       "      <td>85993</td>\n",
       "      <td>2492579</td>\n",
       "      <td>260639</td>\n",
       "      <td>290444</td>\n",
       "      <td>382350</td>\n",
       "      <td>325040</td>\n",
       "      <td>240123</td>\n",
       "      <td>433661</td>\n",
       "      <td>658101</td>\n",
       "      <td>57378</td>\n",
       "    </tr>\n",
       "    <tr>\n",
       "      <th>2020</th>\n",
       "      <td>총주택</td>\n",
       "      <td>18525844</td>\n",
       "      <td>3015371</td>\n",
       "      <td>1275859</td>\n",
       "      <td>809802</td>\n",
       "      <td>1032774</td>\n",
       "      <td>538275</td>\n",
       "      <td>496875</td>\n",
       "      <td>394634</td>\n",
       "      <td>136887</td>\n",
       "      <td>4495115</td>\n",
       "      <td>644023</td>\n",
       "      <td>640256</td>\n",
       "      <td>865008</td>\n",
       "      <td>741221</td>\n",
       "      <td>802043</td>\n",
       "      <td>1094306</td>\n",
       "      <td>1296944</td>\n",
       "      <td>246451</td>\n",
       "    </tr>\n",
       "    <tr>\n",
       "      <th>2020.1</th>\n",
       "      <td>개인소유주택</td>\n",
       "      <td>15968279</td>\n",
       "      <td>2640316</td>\n",
       "      <td>1129142</td>\n",
       "      <td>717726</td>\n",
       "      <td>919273</td>\n",
       "      <td>452867</td>\n",
       "      <td>434963</td>\n",
       "      <td>363568</td>\n",
       "      <td>108508</td>\n",
       "      <td>3820945</td>\n",
       "      <td>534566</td>\n",
       "      <td>540586</td>\n",
       "      <td>737853</td>\n",
       "      <td>617768</td>\n",
       "      <td>643457</td>\n",
       "      <td>948610</td>\n",
       "      <td>1148042</td>\n",
       "      <td>210089</td>\n",
       "    </tr>\n",
       "    <tr>\n",
       "      <th>2020.2</th>\n",
       "      <td>총아파트</td>\n",
       "      <td>11661851</td>\n",
       "      <td>1772670</td>\n",
       "      <td>860042</td>\n",
       "      <td>595392</td>\n",
       "      <td>661611</td>\n",
       "      <td>432295</td>\n",
       "      <td>367235</td>\n",
       "      <td>289432</td>\n",
       "      <td>117312</td>\n",
       "      <td>3146667</td>\n",
       "      <td>360950</td>\n",
       "      <td>383130</td>\n",
       "      <td>481332</td>\n",
       "      <td>416861</td>\n",
       "      <td>359690</td>\n",
       "      <td>541246</td>\n",
       "      <td>797850</td>\n",
       "      <td>78136</td>\n",
       "    </tr>\n",
       "    <tr>\n",
       "      <th>2020.3</th>\n",
       "      <td>개인소유아파트</td>\n",
       "      <td>9647242</td>\n",
       "      <td>1480173</td>\n",
       "      <td>740198</td>\n",
       "      <td>512520</td>\n",
       "      <td>576221</td>\n",
       "      <td>355089</td>\n",
       "      <td>313798</td>\n",
       "      <td>264050</td>\n",
       "      <td>90173</td>\n",
       "      <td>2584396</td>\n",
       "      <td>274363</td>\n",
       "      <td>300714</td>\n",
       "      <td>390998</td>\n",
       "      <td>332476</td>\n",
       "      <td>251601</td>\n",
       "      <td>443829</td>\n",
       "      <td>678390</td>\n",
       "      <td>58253</td>\n",
       "    </tr>\n",
       "  </tbody>\n",
       "</table>\n",
       "</div>"
      ],
      "text/plain": [
       "           주택소재지별(1)        전국    서울특별시    부산광역시   대구광역시    인천광역시   광주광역시  \\\n",
       "주택소재지별(1)  주택소재지별(1)        전국    서울특별시    부산광역시   대구광역시    인천광역시   광주광역시   \n",
       "2012             총주택  15300616  2625657  1078853  703026   892303  458037   \n",
       "2012.1        개인소유주택  12962814  2303505   942667  627382   785487  382146   \n",
       "2012.2          총아파트   8977135  1543045   659821  470836   535724  348622   \n",
       "2012.3       개인소유아파트   7449705  1304927   582898  409732   453901  281469   \n",
       "2013             총주택  15624928  2686621  1111427  715499   905209  467333   \n",
       "2013.1        개인소유주택  13430598  2354408  1000941  642457   808639  390470   \n",
       "2013.2          총아파트   9197989  1577800   683785  483089   546726  356907   \n",
       "2013.3       개인소유아파트   7650631  1326272   601748  420536   465686  287622   \n",
       "2014             총주택  15920906  2699568  1133236  716961   920575  477400   \n",
       "2014.1        개인소유주택  13672355  2419051  1017300  650004   820432  401789   \n",
       "2014.2          총아파트   9448885  1578972   710774  491094   561079  369526   \n",
       "2014.3       개인소유아파트   7907597  1358224   624341  436498   479585  302158   \n",
       "2015             총주택  16367006  2793244  1164352  738100   942244  486527   \n",
       "2015.1        개인소유주택  14147519  2483521  1054112  667536   846873  418763   \n",
       "2015.2          총아파트   9806062  1636896   738068  509068   577346  376731   \n",
       "2015.3       개인소유아파트   8191917  1378958   648816  445307   498808  314820   \n",
       "2016             총주택  16692230  2830857  1174034  761054   958072  494547   \n",
       "2016.1        개인소유주택  14521457  2535607  1063107  685240   865592  426202   \n",
       "2016.2          총아파트  10029644  1641383   750122  532090   588563  384750   \n",
       "2016.3       개인소유아파트   8425911  1399373   667623  463380   512331  322869   \n",
       "2017             총주택  17122573  2866845  1200422  783895   969588  505471   \n",
       "2017.1        개인소유주택  14963975  2552576  1090217  704573   880133  433969   \n",
       "2017.2          총아파트  10375363  1665922   776079  555900   597929  395976   \n",
       "2017.3       개인소유아파트   8697344  1409694   686371  483971   526729  330782   \n",
       "2018             총주택  17633327  2894078  1220782  792998   997959  514767   \n",
       "2018.1        개인소유주택  15317333  2571020  1102122  712585   895255  441585   \n",
       "2018.2          총아파트  10826044  1679639   798281  567543   624332  406329   \n",
       "2018.3       개인소유아파트   9031320  1421708   703077  496307   544663  340144   \n",
       "2019             총주택  18126954  2953964  1249757  800340  1019365  526161   \n",
       "2019.1        개인소유주택  15688708  2603182  1112532  715803   908703  449711   \n",
       "2019.2          총아파트  11287048  1720691   831294  579777   648403  419567   \n",
       "2019.3       개인소유아파트   9377878  1446390   719139  504766   562880  350515   \n",
       "2020             총주택  18525844  3015371  1275859  809802  1032774  538275   \n",
       "2020.1        개인소유주택  15968279  2640316  1129142  717726   919273  452867   \n",
       "2020.2          총아파트  11661851  1772670   860042  595392   661611  432295   \n",
       "2020.3       개인소유아파트   9647242  1480173   740198  512520   576221  355089   \n",
       "\n",
       "            대전광역시   울산광역시  세종특별자치시      경기도     강원도    충청북도    충청남도    전라북도  \\\n",
       "주택소재지별(1)   대전광역시   울산광역시  세종특별자치시      경기도     강원도    충청북도    충청남도    전라북도   \n",
       "2012       443787  326379    39325  3401339  547769  520489  708475  661515   \n",
       "2012.1     384405  290453    33464  2943112  424380  433200  548949  515280   \n",
       "2012.2     313705  223734    20957  2323247  275592  279576  345518  335645   \n",
       "2012.3     267416  196984    17056  1969528  201804  223140  259458  260679   \n",
       "2013       449622  332697    40439  3485881  552576  530845  721768  669758   \n",
       "2013.1     391646  300544    34996  3051810  446576  449694  577655  540155   \n",
       "2013.2     319326  228648    21828  2371924  278358  285720  354866  342814   \n",
       "2013.3     271653  203167    17992  2018630  207252  230551  271176  271772   \n",
       "2014       459481  344461    60557  3571076  560843  543324  741405  679594   \n",
       "2014.1     402794  310602    39872  3107200  447941  450768  598997  543358   \n",
       "2014.2     330512  241970    41780  2426560  287031  295538  366861  353549   \n",
       "2014.3     282649  215084    23103  2060779  215153  236237  288260  280195   \n",
       "2015       468885  357674    81130  3693557  569899  556951  754372  687103   \n",
       "2015.1     417505  325230    61863  3226048  460440  455475  618572  556685   \n",
       "2015.2     338250  253010    62274  2502091  297005  308352  382323  364712   \n",
       "2015.3     292894  226018    45023  2115908  223096  245670  302643  295580   \n",
       "2016       474193  361273    86607  3814834  575967  568567  776746  692563   \n",
       "2016.1     422487  332052    71317  3321793  476088  475450  648461  563127   \n",
       "2016.2     343223  256003    67773  2577259  300788  316851  402808  370071   \n",
       "2016.3     297461  232180    54063  2164804  228320  252657  324356  299010   \n",
       "2017       479161  371300   104448  3949829  586383  581855  805555  698264   \n",
       "2017.1     421521  339953    85985  3430434  489130  498845  686088  587158   \n",
       "2017.2     348033  264440    85256  2676037  307839  327319  426251  374491   \n",
       "2017.3     296686  239539    67875  2237980  234627  262239  344151  305703   \n",
       "2018       486764  379741   118959  4169100  603644  607686  835752  712850   \n",
       "2018.1     430993  346950    98966  3567956  501341  510750  710035  598732   \n",
       "2018.2     355517  273230    99512  2860249  322796  351577  453830  389225   \n",
       "2018.3     306455  249898    80662  2352161  244304  276096  365534  316050   \n",
       "2019       492797  391596   132257  4354776  627376  625957  850525  724524   \n",
       "2019.1     433024  357483   104383  3720475  518534  528314  727628  608803   \n",
       "2019.2     362190  286234   112722  3021258  346389  369668  467790  401005   \n",
       "2019.3     310220  257660    85993  2492579  260639  290444  382350  325040   \n",
       "2020       496875  394634   136887  4495115  644023  640256  865008  741221   \n",
       "2020.1     434963  363568   108508  3820945  534566  540586  737853  617768   \n",
       "2020.2     367235  289432   117312  3146667  360950  383130  481332  416861   \n",
       "2020.3     313798  264050    90173  2584396  274363  300714  390998  332476   \n",
       "\n",
       "             전라남도     경상북도     경상남도  제주특별자치도  \n",
       "주택소재지별(1)    전라남도     경상북도     경상남도  제주특별자치도  \n",
       "2012       707639   949692  1064715   171616  \n",
       "2012.1     524182   768357   910531   145314  \n",
       "2012.2     264808   409120   576119    51066  \n",
       "2012.3     175377   319584   486201    39551  \n",
       "2013       721444   963566  1088659   181584  \n",
       "2013.1     548427   794807   947919   149454  \n",
       "2013.2     275952   418332   594703    57211  \n",
       "2013.3     183368   325654   504988    42564  \n",
       "2014       739093   978667  1108750   185915  \n",
       "2014.1     552096   786657   965954   157540  \n",
       "2014.2     291090   427860   615781    58908  \n",
       "2014.3     194310   333844   531563    45614  \n",
       "2015       747621   995385  1134738   195224  \n",
       "2015.1     561781   833001   990489   169625  \n",
       "2015.2     306661   449154   641589    62532  \n",
       "2015.3     204671   354608   551293    47804  \n",
       "2016       755044  1009941  1151057   206874  \n",
       "2016.1     577419   855400  1021330   180785  \n",
       "2016.2     316137   461577   654679    65567  \n",
       "2016.3     213147   372490   571774    50073  \n",
       "2017       766231  1038274  1193912   221140  \n",
       "2017.1     605836   895071  1070083   192403  \n",
       "2017.2     324257   485196   694326    70112  \n",
       "2017.3     220838   393187   603771    53201  \n",
       "2018       777966  1060505  1226708   233068  \n",
       "2018.1     610398   920239  1097969   200437  \n",
       "2018.2     335966   507230   726589    74199  \n",
       "2018.3     231254   417147   630069    55791  \n",
       "2019       787816  1081216  1266739   241788  \n",
       "2019.1     629255   936551  1127511   206816  \n",
       "2019.2     346990   529133   767442    76495  \n",
       "2019.3     240123   433661   658101    57378  \n",
       "2020       802043  1094306  1296944   246451  \n",
       "2020.1     643457   948610  1148042   210089  \n",
       "2020.2     359690   541246   797850    78136  \n",
       "2020.3     251601   443829   678390    58253  "
      ]
     },
     "execution_count": 660,
     "metadata": {},
     "output_type": "execute_result"
    }
   ],
   "source": [
    "data2"
   ]
  },
  {
   "cell_type": "code",
   "execution_count": 661,
   "id": "0b6b5bec",
   "metadata": {},
   "outputs": [],
   "source": [
    "data2 = data2.drop(data2.index[0])"
   ]
  },
  {
   "cell_type": "code",
   "execution_count": 662,
   "id": "a3b3e14f",
   "metadata": {},
   "outputs": [
    {
     "data": {
      "text/plain": [
       "Index(['주택소재지별(1)', '전국', '서울특별시', '부산광역시', '대구광역시', '인천광역시', '광주광역시', '대전광역시',\n",
       "       '울산광역시', '세종특별자치시', '경기도', '강원도', '충청북도', '충청남도', '전라북도', '전라남도',\n",
       "       '경상북도', '경상남도', '제주특별자치도'],\n",
       "      dtype='object')"
      ]
     },
     "execution_count": 662,
     "metadata": {},
     "output_type": "execute_result"
    }
   ],
   "source": [
    "data2.columns"
   ]
  },
  {
   "cell_type": "code",
   "execution_count": 663,
   "id": "0d027316",
   "metadata": {},
   "outputs": [],
   "source": [
    "data2 = data2.rename(columns = {'주택소재지별(1)' : 'housing'})"
   ]
  },
  {
   "cell_type": "code",
   "execution_count": 664,
   "id": "5b4c95e9",
   "metadata": {},
   "outputs": [
    {
     "data": {
      "text/html": [
       "<div>\n",
       "<style scoped>\n",
       "    .dataframe tbody tr th:only-of-type {\n",
       "        vertical-align: middle;\n",
       "    }\n",
       "\n",
       "    .dataframe tbody tr th {\n",
       "        vertical-align: top;\n",
       "    }\n",
       "\n",
       "    .dataframe thead th {\n",
       "        text-align: right;\n",
       "    }\n",
       "</style>\n",
       "<table border=\"1\" class=\"dataframe\">\n",
       "  <thead>\n",
       "    <tr style=\"text-align: right;\">\n",
       "      <th></th>\n",
       "      <th>housing</th>\n",
       "      <th>전국</th>\n",
       "      <th>서울특별시</th>\n",
       "      <th>부산광역시</th>\n",
       "      <th>대구광역시</th>\n",
       "      <th>인천광역시</th>\n",
       "      <th>광주광역시</th>\n",
       "      <th>대전광역시</th>\n",
       "      <th>울산광역시</th>\n",
       "      <th>세종특별자치시</th>\n",
       "      <th>경기도</th>\n",
       "      <th>강원도</th>\n",
       "      <th>충청북도</th>\n",
       "      <th>충청남도</th>\n",
       "      <th>전라북도</th>\n",
       "      <th>전라남도</th>\n",
       "      <th>경상북도</th>\n",
       "      <th>경상남도</th>\n",
       "      <th>제주특별자치도</th>\n",
       "    </tr>\n",
       "  </thead>\n",
       "  <tbody>\n",
       "    <tr>\n",
       "      <th>2012</th>\n",
       "      <td>총주택</td>\n",
       "      <td>15300616</td>\n",
       "      <td>2625657</td>\n",
       "      <td>1078853</td>\n",
       "      <td>703026</td>\n",
       "      <td>892303</td>\n",
       "      <td>458037</td>\n",
       "      <td>443787</td>\n",
       "      <td>326379</td>\n",
       "      <td>39325</td>\n",
       "      <td>3401339</td>\n",
       "      <td>547769</td>\n",
       "      <td>520489</td>\n",
       "      <td>708475</td>\n",
       "      <td>661515</td>\n",
       "      <td>707639</td>\n",
       "      <td>949692</td>\n",
       "      <td>1064715</td>\n",
       "      <td>171616</td>\n",
       "    </tr>\n",
       "    <tr>\n",
       "      <th>2012.1</th>\n",
       "      <td>개인소유주택</td>\n",
       "      <td>12962814</td>\n",
       "      <td>2303505</td>\n",
       "      <td>942667</td>\n",
       "      <td>627382</td>\n",
       "      <td>785487</td>\n",
       "      <td>382146</td>\n",
       "      <td>384405</td>\n",
       "      <td>290453</td>\n",
       "      <td>33464</td>\n",
       "      <td>2943112</td>\n",
       "      <td>424380</td>\n",
       "      <td>433200</td>\n",
       "      <td>548949</td>\n",
       "      <td>515280</td>\n",
       "      <td>524182</td>\n",
       "      <td>768357</td>\n",
       "      <td>910531</td>\n",
       "      <td>145314</td>\n",
       "    </tr>\n",
       "    <tr>\n",
       "      <th>2012.2</th>\n",
       "      <td>총아파트</td>\n",
       "      <td>8977135</td>\n",
       "      <td>1543045</td>\n",
       "      <td>659821</td>\n",
       "      <td>470836</td>\n",
       "      <td>535724</td>\n",
       "      <td>348622</td>\n",
       "      <td>313705</td>\n",
       "      <td>223734</td>\n",
       "      <td>20957</td>\n",
       "      <td>2323247</td>\n",
       "      <td>275592</td>\n",
       "      <td>279576</td>\n",
       "      <td>345518</td>\n",
       "      <td>335645</td>\n",
       "      <td>264808</td>\n",
       "      <td>409120</td>\n",
       "      <td>576119</td>\n",
       "      <td>51066</td>\n",
       "    </tr>\n",
       "    <tr>\n",
       "      <th>2012.3</th>\n",
       "      <td>개인소유아파트</td>\n",
       "      <td>7449705</td>\n",
       "      <td>1304927</td>\n",
       "      <td>582898</td>\n",
       "      <td>409732</td>\n",
       "      <td>453901</td>\n",
       "      <td>281469</td>\n",
       "      <td>267416</td>\n",
       "      <td>196984</td>\n",
       "      <td>17056</td>\n",
       "      <td>1969528</td>\n",
       "      <td>201804</td>\n",
       "      <td>223140</td>\n",
       "      <td>259458</td>\n",
       "      <td>260679</td>\n",
       "      <td>175377</td>\n",
       "      <td>319584</td>\n",
       "      <td>486201</td>\n",
       "      <td>39551</td>\n",
       "    </tr>\n",
       "    <tr>\n",
       "      <th>2013</th>\n",
       "      <td>총주택</td>\n",
       "      <td>15624928</td>\n",
       "      <td>2686621</td>\n",
       "      <td>1111427</td>\n",
       "      <td>715499</td>\n",
       "      <td>905209</td>\n",
       "      <td>467333</td>\n",
       "      <td>449622</td>\n",
       "      <td>332697</td>\n",
       "      <td>40439</td>\n",
       "      <td>3485881</td>\n",
       "      <td>552576</td>\n",
       "      <td>530845</td>\n",
       "      <td>721768</td>\n",
       "      <td>669758</td>\n",
       "      <td>721444</td>\n",
       "      <td>963566</td>\n",
       "      <td>1088659</td>\n",
       "      <td>181584</td>\n",
       "    </tr>\n",
       "    <tr>\n",
       "      <th>2013.1</th>\n",
       "      <td>개인소유주택</td>\n",
       "      <td>13430598</td>\n",
       "      <td>2354408</td>\n",
       "      <td>1000941</td>\n",
       "      <td>642457</td>\n",
       "      <td>808639</td>\n",
       "      <td>390470</td>\n",
       "      <td>391646</td>\n",
       "      <td>300544</td>\n",
       "      <td>34996</td>\n",
       "      <td>3051810</td>\n",
       "      <td>446576</td>\n",
       "      <td>449694</td>\n",
       "      <td>577655</td>\n",
       "      <td>540155</td>\n",
       "      <td>548427</td>\n",
       "      <td>794807</td>\n",
       "      <td>947919</td>\n",
       "      <td>149454</td>\n",
       "    </tr>\n",
       "    <tr>\n",
       "      <th>2013.2</th>\n",
       "      <td>총아파트</td>\n",
       "      <td>9197989</td>\n",
       "      <td>1577800</td>\n",
       "      <td>683785</td>\n",
       "      <td>483089</td>\n",
       "      <td>546726</td>\n",
       "      <td>356907</td>\n",
       "      <td>319326</td>\n",
       "      <td>228648</td>\n",
       "      <td>21828</td>\n",
       "      <td>2371924</td>\n",
       "      <td>278358</td>\n",
       "      <td>285720</td>\n",
       "      <td>354866</td>\n",
       "      <td>342814</td>\n",
       "      <td>275952</td>\n",
       "      <td>418332</td>\n",
       "      <td>594703</td>\n",
       "      <td>57211</td>\n",
       "    </tr>\n",
       "    <tr>\n",
       "      <th>2013.3</th>\n",
       "      <td>개인소유아파트</td>\n",
       "      <td>7650631</td>\n",
       "      <td>1326272</td>\n",
       "      <td>601748</td>\n",
       "      <td>420536</td>\n",
       "      <td>465686</td>\n",
       "      <td>287622</td>\n",
       "      <td>271653</td>\n",
       "      <td>203167</td>\n",
       "      <td>17992</td>\n",
       "      <td>2018630</td>\n",
       "      <td>207252</td>\n",
       "      <td>230551</td>\n",
       "      <td>271176</td>\n",
       "      <td>271772</td>\n",
       "      <td>183368</td>\n",
       "      <td>325654</td>\n",
       "      <td>504988</td>\n",
       "      <td>42564</td>\n",
       "    </tr>\n",
       "    <tr>\n",
       "      <th>2014</th>\n",
       "      <td>총주택</td>\n",
       "      <td>15920906</td>\n",
       "      <td>2699568</td>\n",
       "      <td>1133236</td>\n",
       "      <td>716961</td>\n",
       "      <td>920575</td>\n",
       "      <td>477400</td>\n",
       "      <td>459481</td>\n",
       "      <td>344461</td>\n",
       "      <td>60557</td>\n",
       "      <td>3571076</td>\n",
       "      <td>560843</td>\n",
       "      <td>543324</td>\n",
       "      <td>741405</td>\n",
       "      <td>679594</td>\n",
       "      <td>739093</td>\n",
       "      <td>978667</td>\n",
       "      <td>1108750</td>\n",
       "      <td>185915</td>\n",
       "    </tr>\n",
       "    <tr>\n",
       "      <th>2014.1</th>\n",
       "      <td>개인소유주택</td>\n",
       "      <td>13672355</td>\n",
       "      <td>2419051</td>\n",
       "      <td>1017300</td>\n",
       "      <td>650004</td>\n",
       "      <td>820432</td>\n",
       "      <td>401789</td>\n",
       "      <td>402794</td>\n",
       "      <td>310602</td>\n",
       "      <td>39872</td>\n",
       "      <td>3107200</td>\n",
       "      <td>447941</td>\n",
       "      <td>450768</td>\n",
       "      <td>598997</td>\n",
       "      <td>543358</td>\n",
       "      <td>552096</td>\n",
       "      <td>786657</td>\n",
       "      <td>965954</td>\n",
       "      <td>157540</td>\n",
       "    </tr>\n",
       "    <tr>\n",
       "      <th>2014.2</th>\n",
       "      <td>총아파트</td>\n",
       "      <td>9448885</td>\n",
       "      <td>1578972</td>\n",
       "      <td>710774</td>\n",
       "      <td>491094</td>\n",
       "      <td>561079</td>\n",
       "      <td>369526</td>\n",
       "      <td>330512</td>\n",
       "      <td>241970</td>\n",
       "      <td>41780</td>\n",
       "      <td>2426560</td>\n",
       "      <td>287031</td>\n",
       "      <td>295538</td>\n",
       "      <td>366861</td>\n",
       "      <td>353549</td>\n",
       "      <td>291090</td>\n",
       "      <td>427860</td>\n",
       "      <td>615781</td>\n",
       "      <td>58908</td>\n",
       "    </tr>\n",
       "    <tr>\n",
       "      <th>2014.3</th>\n",
       "      <td>개인소유아파트</td>\n",
       "      <td>7907597</td>\n",
       "      <td>1358224</td>\n",
       "      <td>624341</td>\n",
       "      <td>436498</td>\n",
       "      <td>479585</td>\n",
       "      <td>302158</td>\n",
       "      <td>282649</td>\n",
       "      <td>215084</td>\n",
       "      <td>23103</td>\n",
       "      <td>2060779</td>\n",
       "      <td>215153</td>\n",
       "      <td>236237</td>\n",
       "      <td>288260</td>\n",
       "      <td>280195</td>\n",
       "      <td>194310</td>\n",
       "      <td>333844</td>\n",
       "      <td>531563</td>\n",
       "      <td>45614</td>\n",
       "    </tr>\n",
       "    <tr>\n",
       "      <th>2015</th>\n",
       "      <td>총주택</td>\n",
       "      <td>16367006</td>\n",
       "      <td>2793244</td>\n",
       "      <td>1164352</td>\n",
       "      <td>738100</td>\n",
       "      <td>942244</td>\n",
       "      <td>486527</td>\n",
       "      <td>468885</td>\n",
       "      <td>357674</td>\n",
       "      <td>81130</td>\n",
       "      <td>3693557</td>\n",
       "      <td>569899</td>\n",
       "      <td>556951</td>\n",
       "      <td>754372</td>\n",
       "      <td>687103</td>\n",
       "      <td>747621</td>\n",
       "      <td>995385</td>\n",
       "      <td>1134738</td>\n",
       "      <td>195224</td>\n",
       "    </tr>\n",
       "    <tr>\n",
       "      <th>2015.1</th>\n",
       "      <td>개인소유주택</td>\n",
       "      <td>14147519</td>\n",
       "      <td>2483521</td>\n",
       "      <td>1054112</td>\n",
       "      <td>667536</td>\n",
       "      <td>846873</td>\n",
       "      <td>418763</td>\n",
       "      <td>417505</td>\n",
       "      <td>325230</td>\n",
       "      <td>61863</td>\n",
       "      <td>3226048</td>\n",
       "      <td>460440</td>\n",
       "      <td>455475</td>\n",
       "      <td>618572</td>\n",
       "      <td>556685</td>\n",
       "      <td>561781</td>\n",
       "      <td>833001</td>\n",
       "      <td>990489</td>\n",
       "      <td>169625</td>\n",
       "    </tr>\n",
       "    <tr>\n",
       "      <th>2015.2</th>\n",
       "      <td>총아파트</td>\n",
       "      <td>9806062</td>\n",
       "      <td>1636896</td>\n",
       "      <td>738068</td>\n",
       "      <td>509068</td>\n",
       "      <td>577346</td>\n",
       "      <td>376731</td>\n",
       "      <td>338250</td>\n",
       "      <td>253010</td>\n",
       "      <td>62274</td>\n",
       "      <td>2502091</td>\n",
       "      <td>297005</td>\n",
       "      <td>308352</td>\n",
       "      <td>382323</td>\n",
       "      <td>364712</td>\n",
       "      <td>306661</td>\n",
       "      <td>449154</td>\n",
       "      <td>641589</td>\n",
       "      <td>62532</td>\n",
       "    </tr>\n",
       "    <tr>\n",
       "      <th>2015.3</th>\n",
       "      <td>개인소유아파트</td>\n",
       "      <td>8191917</td>\n",
       "      <td>1378958</td>\n",
       "      <td>648816</td>\n",
       "      <td>445307</td>\n",
       "      <td>498808</td>\n",
       "      <td>314820</td>\n",
       "      <td>292894</td>\n",
       "      <td>226018</td>\n",
       "      <td>45023</td>\n",
       "      <td>2115908</td>\n",
       "      <td>223096</td>\n",
       "      <td>245670</td>\n",
       "      <td>302643</td>\n",
       "      <td>295580</td>\n",
       "      <td>204671</td>\n",
       "      <td>354608</td>\n",
       "      <td>551293</td>\n",
       "      <td>47804</td>\n",
       "    </tr>\n",
       "    <tr>\n",
       "      <th>2016</th>\n",
       "      <td>총주택</td>\n",
       "      <td>16692230</td>\n",
       "      <td>2830857</td>\n",
       "      <td>1174034</td>\n",
       "      <td>761054</td>\n",
       "      <td>958072</td>\n",
       "      <td>494547</td>\n",
       "      <td>474193</td>\n",
       "      <td>361273</td>\n",
       "      <td>86607</td>\n",
       "      <td>3814834</td>\n",
       "      <td>575967</td>\n",
       "      <td>568567</td>\n",
       "      <td>776746</td>\n",
       "      <td>692563</td>\n",
       "      <td>755044</td>\n",
       "      <td>1009941</td>\n",
       "      <td>1151057</td>\n",
       "      <td>206874</td>\n",
       "    </tr>\n",
       "    <tr>\n",
       "      <th>2016.1</th>\n",
       "      <td>개인소유주택</td>\n",
       "      <td>14521457</td>\n",
       "      <td>2535607</td>\n",
       "      <td>1063107</td>\n",
       "      <td>685240</td>\n",
       "      <td>865592</td>\n",
       "      <td>426202</td>\n",
       "      <td>422487</td>\n",
       "      <td>332052</td>\n",
       "      <td>71317</td>\n",
       "      <td>3321793</td>\n",
       "      <td>476088</td>\n",
       "      <td>475450</td>\n",
       "      <td>648461</td>\n",
       "      <td>563127</td>\n",
       "      <td>577419</td>\n",
       "      <td>855400</td>\n",
       "      <td>1021330</td>\n",
       "      <td>180785</td>\n",
       "    </tr>\n",
       "    <tr>\n",
       "      <th>2016.2</th>\n",
       "      <td>총아파트</td>\n",
       "      <td>10029644</td>\n",
       "      <td>1641383</td>\n",
       "      <td>750122</td>\n",
       "      <td>532090</td>\n",
       "      <td>588563</td>\n",
       "      <td>384750</td>\n",
       "      <td>343223</td>\n",
       "      <td>256003</td>\n",
       "      <td>67773</td>\n",
       "      <td>2577259</td>\n",
       "      <td>300788</td>\n",
       "      <td>316851</td>\n",
       "      <td>402808</td>\n",
       "      <td>370071</td>\n",
       "      <td>316137</td>\n",
       "      <td>461577</td>\n",
       "      <td>654679</td>\n",
       "      <td>65567</td>\n",
       "    </tr>\n",
       "    <tr>\n",
       "      <th>2016.3</th>\n",
       "      <td>개인소유아파트</td>\n",
       "      <td>8425911</td>\n",
       "      <td>1399373</td>\n",
       "      <td>667623</td>\n",
       "      <td>463380</td>\n",
       "      <td>512331</td>\n",
       "      <td>322869</td>\n",
       "      <td>297461</td>\n",
       "      <td>232180</td>\n",
       "      <td>54063</td>\n",
       "      <td>2164804</td>\n",
       "      <td>228320</td>\n",
       "      <td>252657</td>\n",
       "      <td>324356</td>\n",
       "      <td>299010</td>\n",
       "      <td>213147</td>\n",
       "      <td>372490</td>\n",
       "      <td>571774</td>\n",
       "      <td>50073</td>\n",
       "    </tr>\n",
       "    <tr>\n",
       "      <th>2017</th>\n",
       "      <td>총주택</td>\n",
       "      <td>17122573</td>\n",
       "      <td>2866845</td>\n",
       "      <td>1200422</td>\n",
       "      <td>783895</td>\n",
       "      <td>969588</td>\n",
       "      <td>505471</td>\n",
       "      <td>479161</td>\n",
       "      <td>371300</td>\n",
       "      <td>104448</td>\n",
       "      <td>3949829</td>\n",
       "      <td>586383</td>\n",
       "      <td>581855</td>\n",
       "      <td>805555</td>\n",
       "      <td>698264</td>\n",
       "      <td>766231</td>\n",
       "      <td>1038274</td>\n",
       "      <td>1193912</td>\n",
       "      <td>221140</td>\n",
       "    </tr>\n",
       "    <tr>\n",
       "      <th>2017.1</th>\n",
       "      <td>개인소유주택</td>\n",
       "      <td>14963975</td>\n",
       "      <td>2552576</td>\n",
       "      <td>1090217</td>\n",
       "      <td>704573</td>\n",
       "      <td>880133</td>\n",
       "      <td>433969</td>\n",
       "      <td>421521</td>\n",
       "      <td>339953</td>\n",
       "      <td>85985</td>\n",
       "      <td>3430434</td>\n",
       "      <td>489130</td>\n",
       "      <td>498845</td>\n",
       "      <td>686088</td>\n",
       "      <td>587158</td>\n",
       "      <td>605836</td>\n",
       "      <td>895071</td>\n",
       "      <td>1070083</td>\n",
       "      <td>192403</td>\n",
       "    </tr>\n",
       "    <tr>\n",
       "      <th>2017.2</th>\n",
       "      <td>총아파트</td>\n",
       "      <td>10375363</td>\n",
       "      <td>1665922</td>\n",
       "      <td>776079</td>\n",
       "      <td>555900</td>\n",
       "      <td>597929</td>\n",
       "      <td>395976</td>\n",
       "      <td>348033</td>\n",
       "      <td>264440</td>\n",
       "      <td>85256</td>\n",
       "      <td>2676037</td>\n",
       "      <td>307839</td>\n",
       "      <td>327319</td>\n",
       "      <td>426251</td>\n",
       "      <td>374491</td>\n",
       "      <td>324257</td>\n",
       "      <td>485196</td>\n",
       "      <td>694326</td>\n",
       "      <td>70112</td>\n",
       "    </tr>\n",
       "    <tr>\n",
       "      <th>2017.3</th>\n",
       "      <td>개인소유아파트</td>\n",
       "      <td>8697344</td>\n",
       "      <td>1409694</td>\n",
       "      <td>686371</td>\n",
       "      <td>483971</td>\n",
       "      <td>526729</td>\n",
       "      <td>330782</td>\n",
       "      <td>296686</td>\n",
       "      <td>239539</td>\n",
       "      <td>67875</td>\n",
       "      <td>2237980</td>\n",
       "      <td>234627</td>\n",
       "      <td>262239</td>\n",
       "      <td>344151</td>\n",
       "      <td>305703</td>\n",
       "      <td>220838</td>\n",
       "      <td>393187</td>\n",
       "      <td>603771</td>\n",
       "      <td>53201</td>\n",
       "    </tr>\n",
       "    <tr>\n",
       "      <th>2018</th>\n",
       "      <td>총주택</td>\n",
       "      <td>17633327</td>\n",
       "      <td>2894078</td>\n",
       "      <td>1220782</td>\n",
       "      <td>792998</td>\n",
       "      <td>997959</td>\n",
       "      <td>514767</td>\n",
       "      <td>486764</td>\n",
       "      <td>379741</td>\n",
       "      <td>118959</td>\n",
       "      <td>4169100</td>\n",
       "      <td>603644</td>\n",
       "      <td>607686</td>\n",
       "      <td>835752</td>\n",
       "      <td>712850</td>\n",
       "      <td>777966</td>\n",
       "      <td>1060505</td>\n",
       "      <td>1226708</td>\n",
       "      <td>233068</td>\n",
       "    </tr>\n",
       "    <tr>\n",
       "      <th>2018.1</th>\n",
       "      <td>개인소유주택</td>\n",
       "      <td>15317333</td>\n",
       "      <td>2571020</td>\n",
       "      <td>1102122</td>\n",
       "      <td>712585</td>\n",
       "      <td>895255</td>\n",
       "      <td>441585</td>\n",
       "      <td>430993</td>\n",
       "      <td>346950</td>\n",
       "      <td>98966</td>\n",
       "      <td>3567956</td>\n",
       "      <td>501341</td>\n",
       "      <td>510750</td>\n",
       "      <td>710035</td>\n",
       "      <td>598732</td>\n",
       "      <td>610398</td>\n",
       "      <td>920239</td>\n",
       "      <td>1097969</td>\n",
       "      <td>200437</td>\n",
       "    </tr>\n",
       "    <tr>\n",
       "      <th>2018.2</th>\n",
       "      <td>총아파트</td>\n",
       "      <td>10826044</td>\n",
       "      <td>1679639</td>\n",
       "      <td>798281</td>\n",
       "      <td>567543</td>\n",
       "      <td>624332</td>\n",
       "      <td>406329</td>\n",
       "      <td>355517</td>\n",
       "      <td>273230</td>\n",
       "      <td>99512</td>\n",
       "      <td>2860249</td>\n",
       "      <td>322796</td>\n",
       "      <td>351577</td>\n",
       "      <td>453830</td>\n",
       "      <td>389225</td>\n",
       "      <td>335966</td>\n",
       "      <td>507230</td>\n",
       "      <td>726589</td>\n",
       "      <td>74199</td>\n",
       "    </tr>\n",
       "    <tr>\n",
       "      <th>2018.3</th>\n",
       "      <td>개인소유아파트</td>\n",
       "      <td>9031320</td>\n",
       "      <td>1421708</td>\n",
       "      <td>703077</td>\n",
       "      <td>496307</td>\n",
       "      <td>544663</td>\n",
       "      <td>340144</td>\n",
       "      <td>306455</td>\n",
       "      <td>249898</td>\n",
       "      <td>80662</td>\n",
       "      <td>2352161</td>\n",
       "      <td>244304</td>\n",
       "      <td>276096</td>\n",
       "      <td>365534</td>\n",
       "      <td>316050</td>\n",
       "      <td>231254</td>\n",
       "      <td>417147</td>\n",
       "      <td>630069</td>\n",
       "      <td>55791</td>\n",
       "    </tr>\n",
       "    <tr>\n",
       "      <th>2019</th>\n",
       "      <td>총주택</td>\n",
       "      <td>18126954</td>\n",
       "      <td>2953964</td>\n",
       "      <td>1249757</td>\n",
       "      <td>800340</td>\n",
       "      <td>1019365</td>\n",
       "      <td>526161</td>\n",
       "      <td>492797</td>\n",
       "      <td>391596</td>\n",
       "      <td>132257</td>\n",
       "      <td>4354776</td>\n",
       "      <td>627376</td>\n",
       "      <td>625957</td>\n",
       "      <td>850525</td>\n",
       "      <td>724524</td>\n",
       "      <td>787816</td>\n",
       "      <td>1081216</td>\n",
       "      <td>1266739</td>\n",
       "      <td>241788</td>\n",
       "    </tr>\n",
       "    <tr>\n",
       "      <th>2019.1</th>\n",
       "      <td>개인소유주택</td>\n",
       "      <td>15688708</td>\n",
       "      <td>2603182</td>\n",
       "      <td>1112532</td>\n",
       "      <td>715803</td>\n",
       "      <td>908703</td>\n",
       "      <td>449711</td>\n",
       "      <td>433024</td>\n",
       "      <td>357483</td>\n",
       "      <td>104383</td>\n",
       "      <td>3720475</td>\n",
       "      <td>518534</td>\n",
       "      <td>528314</td>\n",
       "      <td>727628</td>\n",
       "      <td>608803</td>\n",
       "      <td>629255</td>\n",
       "      <td>936551</td>\n",
       "      <td>1127511</td>\n",
       "      <td>206816</td>\n",
       "    </tr>\n",
       "    <tr>\n",
       "      <th>2019.2</th>\n",
       "      <td>총아파트</td>\n",
       "      <td>11287048</td>\n",
       "      <td>1720691</td>\n",
       "      <td>831294</td>\n",
       "      <td>579777</td>\n",
       "      <td>648403</td>\n",
       "      <td>419567</td>\n",
       "      <td>362190</td>\n",
       "      <td>286234</td>\n",
       "      <td>112722</td>\n",
       "      <td>3021258</td>\n",
       "      <td>346389</td>\n",
       "      <td>369668</td>\n",
       "      <td>467790</td>\n",
       "      <td>401005</td>\n",
       "      <td>346990</td>\n",
       "      <td>529133</td>\n",
       "      <td>767442</td>\n",
       "      <td>76495</td>\n",
       "    </tr>\n",
       "    <tr>\n",
       "      <th>2019.3</th>\n",
       "      <td>개인소유아파트</td>\n",
       "      <td>9377878</td>\n",
       "      <td>1446390</td>\n",
       "      <td>719139</td>\n",
       "      <td>504766</td>\n",
       "      <td>562880</td>\n",
       "      <td>350515</td>\n",
       "      <td>310220</td>\n",
       "      <td>257660</td>\n",
       "      <td>85993</td>\n",
       "      <td>2492579</td>\n",
       "      <td>260639</td>\n",
       "      <td>290444</td>\n",
       "      <td>382350</td>\n",
       "      <td>325040</td>\n",
       "      <td>240123</td>\n",
       "      <td>433661</td>\n",
       "      <td>658101</td>\n",
       "      <td>57378</td>\n",
       "    </tr>\n",
       "    <tr>\n",
       "      <th>2020</th>\n",
       "      <td>총주택</td>\n",
       "      <td>18525844</td>\n",
       "      <td>3015371</td>\n",
       "      <td>1275859</td>\n",
       "      <td>809802</td>\n",
       "      <td>1032774</td>\n",
       "      <td>538275</td>\n",
       "      <td>496875</td>\n",
       "      <td>394634</td>\n",
       "      <td>136887</td>\n",
       "      <td>4495115</td>\n",
       "      <td>644023</td>\n",
       "      <td>640256</td>\n",
       "      <td>865008</td>\n",
       "      <td>741221</td>\n",
       "      <td>802043</td>\n",
       "      <td>1094306</td>\n",
       "      <td>1296944</td>\n",
       "      <td>246451</td>\n",
       "    </tr>\n",
       "    <tr>\n",
       "      <th>2020.1</th>\n",
       "      <td>개인소유주택</td>\n",
       "      <td>15968279</td>\n",
       "      <td>2640316</td>\n",
       "      <td>1129142</td>\n",
       "      <td>717726</td>\n",
       "      <td>919273</td>\n",
       "      <td>452867</td>\n",
       "      <td>434963</td>\n",
       "      <td>363568</td>\n",
       "      <td>108508</td>\n",
       "      <td>3820945</td>\n",
       "      <td>534566</td>\n",
       "      <td>540586</td>\n",
       "      <td>737853</td>\n",
       "      <td>617768</td>\n",
       "      <td>643457</td>\n",
       "      <td>948610</td>\n",
       "      <td>1148042</td>\n",
       "      <td>210089</td>\n",
       "    </tr>\n",
       "    <tr>\n",
       "      <th>2020.2</th>\n",
       "      <td>총아파트</td>\n",
       "      <td>11661851</td>\n",
       "      <td>1772670</td>\n",
       "      <td>860042</td>\n",
       "      <td>595392</td>\n",
       "      <td>661611</td>\n",
       "      <td>432295</td>\n",
       "      <td>367235</td>\n",
       "      <td>289432</td>\n",
       "      <td>117312</td>\n",
       "      <td>3146667</td>\n",
       "      <td>360950</td>\n",
       "      <td>383130</td>\n",
       "      <td>481332</td>\n",
       "      <td>416861</td>\n",
       "      <td>359690</td>\n",
       "      <td>541246</td>\n",
       "      <td>797850</td>\n",
       "      <td>78136</td>\n",
       "    </tr>\n",
       "    <tr>\n",
       "      <th>2020.3</th>\n",
       "      <td>개인소유아파트</td>\n",
       "      <td>9647242</td>\n",
       "      <td>1480173</td>\n",
       "      <td>740198</td>\n",
       "      <td>512520</td>\n",
       "      <td>576221</td>\n",
       "      <td>355089</td>\n",
       "      <td>313798</td>\n",
       "      <td>264050</td>\n",
       "      <td>90173</td>\n",
       "      <td>2584396</td>\n",
       "      <td>274363</td>\n",
       "      <td>300714</td>\n",
       "      <td>390998</td>\n",
       "      <td>332476</td>\n",
       "      <td>251601</td>\n",
       "      <td>443829</td>\n",
       "      <td>678390</td>\n",
       "      <td>58253</td>\n",
       "    </tr>\n",
       "  </tbody>\n",
       "</table>\n",
       "</div>"
      ],
      "text/plain": [
       "        housing        전국    서울특별시    부산광역시   대구광역시    인천광역시   광주광역시   대전광역시  \\\n",
       "2012        총주택  15300616  2625657  1078853  703026   892303  458037  443787   \n",
       "2012.1   개인소유주택  12962814  2303505   942667  627382   785487  382146  384405   \n",
       "2012.2     총아파트   8977135  1543045   659821  470836   535724  348622  313705   \n",
       "2012.3  개인소유아파트   7449705  1304927   582898  409732   453901  281469  267416   \n",
       "2013        총주택  15624928  2686621  1111427  715499   905209  467333  449622   \n",
       "2013.1   개인소유주택  13430598  2354408  1000941  642457   808639  390470  391646   \n",
       "2013.2     총아파트   9197989  1577800   683785  483089   546726  356907  319326   \n",
       "2013.3  개인소유아파트   7650631  1326272   601748  420536   465686  287622  271653   \n",
       "2014        총주택  15920906  2699568  1133236  716961   920575  477400  459481   \n",
       "2014.1   개인소유주택  13672355  2419051  1017300  650004   820432  401789  402794   \n",
       "2014.2     총아파트   9448885  1578972   710774  491094   561079  369526  330512   \n",
       "2014.3  개인소유아파트   7907597  1358224   624341  436498   479585  302158  282649   \n",
       "2015        총주택  16367006  2793244  1164352  738100   942244  486527  468885   \n",
       "2015.1   개인소유주택  14147519  2483521  1054112  667536   846873  418763  417505   \n",
       "2015.2     총아파트   9806062  1636896   738068  509068   577346  376731  338250   \n",
       "2015.3  개인소유아파트   8191917  1378958   648816  445307   498808  314820  292894   \n",
       "2016        총주택  16692230  2830857  1174034  761054   958072  494547  474193   \n",
       "2016.1   개인소유주택  14521457  2535607  1063107  685240   865592  426202  422487   \n",
       "2016.2     총아파트  10029644  1641383   750122  532090   588563  384750  343223   \n",
       "2016.3  개인소유아파트   8425911  1399373   667623  463380   512331  322869  297461   \n",
       "2017        총주택  17122573  2866845  1200422  783895   969588  505471  479161   \n",
       "2017.1   개인소유주택  14963975  2552576  1090217  704573   880133  433969  421521   \n",
       "2017.2     총아파트  10375363  1665922   776079  555900   597929  395976  348033   \n",
       "2017.3  개인소유아파트   8697344  1409694   686371  483971   526729  330782  296686   \n",
       "2018        총주택  17633327  2894078  1220782  792998   997959  514767  486764   \n",
       "2018.1   개인소유주택  15317333  2571020  1102122  712585   895255  441585  430993   \n",
       "2018.2     총아파트  10826044  1679639   798281  567543   624332  406329  355517   \n",
       "2018.3  개인소유아파트   9031320  1421708   703077  496307   544663  340144  306455   \n",
       "2019        총주택  18126954  2953964  1249757  800340  1019365  526161  492797   \n",
       "2019.1   개인소유주택  15688708  2603182  1112532  715803   908703  449711  433024   \n",
       "2019.2     총아파트  11287048  1720691   831294  579777   648403  419567  362190   \n",
       "2019.3  개인소유아파트   9377878  1446390   719139  504766   562880  350515  310220   \n",
       "2020        총주택  18525844  3015371  1275859  809802  1032774  538275  496875   \n",
       "2020.1   개인소유주택  15968279  2640316  1129142  717726   919273  452867  434963   \n",
       "2020.2     총아파트  11661851  1772670   860042  595392   661611  432295  367235   \n",
       "2020.3  개인소유아파트   9647242  1480173   740198  512520   576221  355089  313798   \n",
       "\n",
       "         울산광역시 세종특별자치시      경기도     강원도    충청북도    충청남도    전라북도    전라남도  \\\n",
       "2012    326379   39325  3401339  547769  520489  708475  661515  707639   \n",
       "2012.1  290453   33464  2943112  424380  433200  548949  515280  524182   \n",
       "2012.2  223734   20957  2323247  275592  279576  345518  335645  264808   \n",
       "2012.3  196984   17056  1969528  201804  223140  259458  260679  175377   \n",
       "2013    332697   40439  3485881  552576  530845  721768  669758  721444   \n",
       "2013.1  300544   34996  3051810  446576  449694  577655  540155  548427   \n",
       "2013.2  228648   21828  2371924  278358  285720  354866  342814  275952   \n",
       "2013.3  203167   17992  2018630  207252  230551  271176  271772  183368   \n",
       "2014    344461   60557  3571076  560843  543324  741405  679594  739093   \n",
       "2014.1  310602   39872  3107200  447941  450768  598997  543358  552096   \n",
       "2014.2  241970   41780  2426560  287031  295538  366861  353549  291090   \n",
       "2014.3  215084   23103  2060779  215153  236237  288260  280195  194310   \n",
       "2015    357674   81130  3693557  569899  556951  754372  687103  747621   \n",
       "2015.1  325230   61863  3226048  460440  455475  618572  556685  561781   \n",
       "2015.2  253010   62274  2502091  297005  308352  382323  364712  306661   \n",
       "2015.3  226018   45023  2115908  223096  245670  302643  295580  204671   \n",
       "2016    361273   86607  3814834  575967  568567  776746  692563  755044   \n",
       "2016.1  332052   71317  3321793  476088  475450  648461  563127  577419   \n",
       "2016.2  256003   67773  2577259  300788  316851  402808  370071  316137   \n",
       "2016.3  232180   54063  2164804  228320  252657  324356  299010  213147   \n",
       "2017    371300  104448  3949829  586383  581855  805555  698264  766231   \n",
       "2017.1  339953   85985  3430434  489130  498845  686088  587158  605836   \n",
       "2017.2  264440   85256  2676037  307839  327319  426251  374491  324257   \n",
       "2017.3  239539   67875  2237980  234627  262239  344151  305703  220838   \n",
       "2018    379741  118959  4169100  603644  607686  835752  712850  777966   \n",
       "2018.1  346950   98966  3567956  501341  510750  710035  598732  610398   \n",
       "2018.2  273230   99512  2860249  322796  351577  453830  389225  335966   \n",
       "2018.3  249898   80662  2352161  244304  276096  365534  316050  231254   \n",
       "2019    391596  132257  4354776  627376  625957  850525  724524  787816   \n",
       "2019.1  357483  104383  3720475  518534  528314  727628  608803  629255   \n",
       "2019.2  286234  112722  3021258  346389  369668  467790  401005  346990   \n",
       "2019.3  257660   85993  2492579  260639  290444  382350  325040  240123   \n",
       "2020    394634  136887  4495115  644023  640256  865008  741221  802043   \n",
       "2020.1  363568  108508  3820945  534566  540586  737853  617768  643457   \n",
       "2020.2  289432  117312  3146667  360950  383130  481332  416861  359690   \n",
       "2020.3  264050   90173  2584396  274363  300714  390998  332476  251601   \n",
       "\n",
       "           경상북도     경상남도 제주특별자치도  \n",
       "2012     949692  1064715  171616  \n",
       "2012.1   768357   910531  145314  \n",
       "2012.2   409120   576119   51066  \n",
       "2012.3   319584   486201   39551  \n",
       "2013     963566  1088659  181584  \n",
       "2013.1   794807   947919  149454  \n",
       "2013.2   418332   594703   57211  \n",
       "2013.3   325654   504988   42564  \n",
       "2014     978667  1108750  185915  \n",
       "2014.1   786657   965954  157540  \n",
       "2014.2   427860   615781   58908  \n",
       "2014.3   333844   531563   45614  \n",
       "2015     995385  1134738  195224  \n",
       "2015.1   833001   990489  169625  \n",
       "2015.2   449154   641589   62532  \n",
       "2015.3   354608   551293   47804  \n",
       "2016    1009941  1151057  206874  \n",
       "2016.1   855400  1021330  180785  \n",
       "2016.2   461577   654679   65567  \n",
       "2016.3   372490   571774   50073  \n",
       "2017    1038274  1193912  221140  \n",
       "2017.1   895071  1070083  192403  \n",
       "2017.2   485196   694326   70112  \n",
       "2017.3   393187   603771   53201  \n",
       "2018    1060505  1226708  233068  \n",
       "2018.1   920239  1097969  200437  \n",
       "2018.2   507230   726589   74199  \n",
       "2018.3   417147   630069   55791  \n",
       "2019    1081216  1266739  241788  \n",
       "2019.1   936551  1127511  206816  \n",
       "2019.2   529133   767442   76495  \n",
       "2019.3   433661   658101   57378  \n",
       "2020    1094306  1296944  246451  \n",
       "2020.1   948610  1148042  210089  \n",
       "2020.2   541246   797850   78136  \n",
       "2020.3   443829   678390   58253  "
      ]
     },
     "execution_count": 664,
     "metadata": {},
     "output_type": "execute_result"
    }
   ],
   "source": [
    "data2"
   ]
  },
  {
   "cell_type": "code",
   "execution_count": 665,
   "id": "69067e08",
   "metadata": {},
   "outputs": [],
   "source": [
    "condition = data2.housing == '총주택'"
   ]
  },
  {
   "cell_type": "code",
   "execution_count": 666,
   "id": "6624dbe4",
   "metadata": {},
   "outputs": [],
   "source": [
    "condition2 = data2.housing == '개인소유아파트'"
   ]
  },
  {
   "cell_type": "code",
   "execution_count": 667,
   "id": "bdfd6ba2",
   "metadata": {},
   "outputs": [
    {
     "data": {
      "text/html": [
       "<div>\n",
       "<style scoped>\n",
       "    .dataframe tbody tr th:only-of-type {\n",
       "        vertical-align: middle;\n",
       "    }\n",
       "\n",
       "    .dataframe tbody tr th {\n",
       "        vertical-align: top;\n",
       "    }\n",
       "\n",
       "    .dataframe thead th {\n",
       "        text-align: right;\n",
       "    }\n",
       "</style>\n",
       "<table border=\"1\" class=\"dataframe\">\n",
       "  <thead>\n",
       "    <tr style=\"text-align: right;\">\n",
       "      <th></th>\n",
       "      <th>housing</th>\n",
       "      <th>전국</th>\n",
       "      <th>서울특별시</th>\n",
       "      <th>부산광역시</th>\n",
       "      <th>대구광역시</th>\n",
       "      <th>인천광역시</th>\n",
       "      <th>광주광역시</th>\n",
       "      <th>대전광역시</th>\n",
       "      <th>울산광역시</th>\n",
       "      <th>세종특별자치시</th>\n",
       "      <th>경기도</th>\n",
       "      <th>강원도</th>\n",
       "      <th>충청북도</th>\n",
       "      <th>충청남도</th>\n",
       "      <th>전라북도</th>\n",
       "      <th>전라남도</th>\n",
       "      <th>경상북도</th>\n",
       "      <th>경상남도</th>\n",
       "      <th>제주특별자치도</th>\n",
       "    </tr>\n",
       "  </thead>\n",
       "  <tbody>\n",
       "    <tr>\n",
       "      <th>2012</th>\n",
       "      <td>총주택</td>\n",
       "      <td>15300616</td>\n",
       "      <td>2625657</td>\n",
       "      <td>1078853</td>\n",
       "      <td>703026</td>\n",
       "      <td>892303</td>\n",
       "      <td>458037</td>\n",
       "      <td>443787</td>\n",
       "      <td>326379</td>\n",
       "      <td>39325</td>\n",
       "      <td>3401339</td>\n",
       "      <td>547769</td>\n",
       "      <td>520489</td>\n",
       "      <td>708475</td>\n",
       "      <td>661515</td>\n",
       "      <td>707639</td>\n",
       "      <td>949692</td>\n",
       "      <td>1064715</td>\n",
       "      <td>171616</td>\n",
       "    </tr>\n",
       "    <tr>\n",
       "      <th>2013</th>\n",
       "      <td>총주택</td>\n",
       "      <td>15624928</td>\n",
       "      <td>2686621</td>\n",
       "      <td>1111427</td>\n",
       "      <td>715499</td>\n",
       "      <td>905209</td>\n",
       "      <td>467333</td>\n",
       "      <td>449622</td>\n",
       "      <td>332697</td>\n",
       "      <td>40439</td>\n",
       "      <td>3485881</td>\n",
       "      <td>552576</td>\n",
       "      <td>530845</td>\n",
       "      <td>721768</td>\n",
       "      <td>669758</td>\n",
       "      <td>721444</td>\n",
       "      <td>963566</td>\n",
       "      <td>1088659</td>\n",
       "      <td>181584</td>\n",
       "    </tr>\n",
       "    <tr>\n",
       "      <th>2014</th>\n",
       "      <td>총주택</td>\n",
       "      <td>15920906</td>\n",
       "      <td>2699568</td>\n",
       "      <td>1133236</td>\n",
       "      <td>716961</td>\n",
       "      <td>920575</td>\n",
       "      <td>477400</td>\n",
       "      <td>459481</td>\n",
       "      <td>344461</td>\n",
       "      <td>60557</td>\n",
       "      <td>3571076</td>\n",
       "      <td>560843</td>\n",
       "      <td>543324</td>\n",
       "      <td>741405</td>\n",
       "      <td>679594</td>\n",
       "      <td>739093</td>\n",
       "      <td>978667</td>\n",
       "      <td>1108750</td>\n",
       "      <td>185915</td>\n",
       "    </tr>\n",
       "    <tr>\n",
       "      <th>2015</th>\n",
       "      <td>총주택</td>\n",
       "      <td>16367006</td>\n",
       "      <td>2793244</td>\n",
       "      <td>1164352</td>\n",
       "      <td>738100</td>\n",
       "      <td>942244</td>\n",
       "      <td>486527</td>\n",
       "      <td>468885</td>\n",
       "      <td>357674</td>\n",
       "      <td>81130</td>\n",
       "      <td>3693557</td>\n",
       "      <td>569899</td>\n",
       "      <td>556951</td>\n",
       "      <td>754372</td>\n",
       "      <td>687103</td>\n",
       "      <td>747621</td>\n",
       "      <td>995385</td>\n",
       "      <td>1134738</td>\n",
       "      <td>195224</td>\n",
       "    </tr>\n",
       "    <tr>\n",
       "      <th>2016</th>\n",
       "      <td>총주택</td>\n",
       "      <td>16692230</td>\n",
       "      <td>2830857</td>\n",
       "      <td>1174034</td>\n",
       "      <td>761054</td>\n",
       "      <td>958072</td>\n",
       "      <td>494547</td>\n",
       "      <td>474193</td>\n",
       "      <td>361273</td>\n",
       "      <td>86607</td>\n",
       "      <td>3814834</td>\n",
       "      <td>575967</td>\n",
       "      <td>568567</td>\n",
       "      <td>776746</td>\n",
       "      <td>692563</td>\n",
       "      <td>755044</td>\n",
       "      <td>1009941</td>\n",
       "      <td>1151057</td>\n",
       "      <td>206874</td>\n",
       "    </tr>\n",
       "    <tr>\n",
       "      <th>2017</th>\n",
       "      <td>총주택</td>\n",
       "      <td>17122573</td>\n",
       "      <td>2866845</td>\n",
       "      <td>1200422</td>\n",
       "      <td>783895</td>\n",
       "      <td>969588</td>\n",
       "      <td>505471</td>\n",
       "      <td>479161</td>\n",
       "      <td>371300</td>\n",
       "      <td>104448</td>\n",
       "      <td>3949829</td>\n",
       "      <td>586383</td>\n",
       "      <td>581855</td>\n",
       "      <td>805555</td>\n",
       "      <td>698264</td>\n",
       "      <td>766231</td>\n",
       "      <td>1038274</td>\n",
       "      <td>1193912</td>\n",
       "      <td>221140</td>\n",
       "    </tr>\n",
       "    <tr>\n",
       "      <th>2018</th>\n",
       "      <td>총주택</td>\n",
       "      <td>17633327</td>\n",
       "      <td>2894078</td>\n",
       "      <td>1220782</td>\n",
       "      <td>792998</td>\n",
       "      <td>997959</td>\n",
       "      <td>514767</td>\n",
       "      <td>486764</td>\n",
       "      <td>379741</td>\n",
       "      <td>118959</td>\n",
       "      <td>4169100</td>\n",
       "      <td>603644</td>\n",
       "      <td>607686</td>\n",
       "      <td>835752</td>\n",
       "      <td>712850</td>\n",
       "      <td>777966</td>\n",
       "      <td>1060505</td>\n",
       "      <td>1226708</td>\n",
       "      <td>233068</td>\n",
       "    </tr>\n",
       "    <tr>\n",
       "      <th>2019</th>\n",
       "      <td>총주택</td>\n",
       "      <td>18126954</td>\n",
       "      <td>2953964</td>\n",
       "      <td>1249757</td>\n",
       "      <td>800340</td>\n",
       "      <td>1019365</td>\n",
       "      <td>526161</td>\n",
       "      <td>492797</td>\n",
       "      <td>391596</td>\n",
       "      <td>132257</td>\n",
       "      <td>4354776</td>\n",
       "      <td>627376</td>\n",
       "      <td>625957</td>\n",
       "      <td>850525</td>\n",
       "      <td>724524</td>\n",
       "      <td>787816</td>\n",
       "      <td>1081216</td>\n",
       "      <td>1266739</td>\n",
       "      <td>241788</td>\n",
       "    </tr>\n",
       "    <tr>\n",
       "      <th>2020</th>\n",
       "      <td>총주택</td>\n",
       "      <td>18525844</td>\n",
       "      <td>3015371</td>\n",
       "      <td>1275859</td>\n",
       "      <td>809802</td>\n",
       "      <td>1032774</td>\n",
       "      <td>538275</td>\n",
       "      <td>496875</td>\n",
       "      <td>394634</td>\n",
       "      <td>136887</td>\n",
       "      <td>4495115</td>\n",
       "      <td>644023</td>\n",
       "      <td>640256</td>\n",
       "      <td>865008</td>\n",
       "      <td>741221</td>\n",
       "      <td>802043</td>\n",
       "      <td>1094306</td>\n",
       "      <td>1296944</td>\n",
       "      <td>246451</td>\n",
       "    </tr>\n",
       "  </tbody>\n",
       "</table>\n",
       "</div>"
      ],
      "text/plain": [
       "     housing        전국    서울특별시    부산광역시   대구광역시    인천광역시   광주광역시   대전광역시  \\\n",
       "2012     총주택  15300616  2625657  1078853  703026   892303  458037  443787   \n",
       "2013     총주택  15624928  2686621  1111427  715499   905209  467333  449622   \n",
       "2014     총주택  15920906  2699568  1133236  716961   920575  477400  459481   \n",
       "2015     총주택  16367006  2793244  1164352  738100   942244  486527  468885   \n",
       "2016     총주택  16692230  2830857  1174034  761054   958072  494547  474193   \n",
       "2017     총주택  17122573  2866845  1200422  783895   969588  505471  479161   \n",
       "2018     총주택  17633327  2894078  1220782  792998   997959  514767  486764   \n",
       "2019     총주택  18126954  2953964  1249757  800340  1019365  526161  492797   \n",
       "2020     총주택  18525844  3015371  1275859  809802  1032774  538275  496875   \n",
       "\n",
       "       울산광역시 세종특별자치시      경기도     강원도    충청북도    충청남도    전라북도    전라남도  \\\n",
       "2012  326379   39325  3401339  547769  520489  708475  661515  707639   \n",
       "2013  332697   40439  3485881  552576  530845  721768  669758  721444   \n",
       "2014  344461   60557  3571076  560843  543324  741405  679594  739093   \n",
       "2015  357674   81130  3693557  569899  556951  754372  687103  747621   \n",
       "2016  361273   86607  3814834  575967  568567  776746  692563  755044   \n",
       "2017  371300  104448  3949829  586383  581855  805555  698264  766231   \n",
       "2018  379741  118959  4169100  603644  607686  835752  712850  777966   \n",
       "2019  391596  132257  4354776  627376  625957  850525  724524  787816   \n",
       "2020  394634  136887  4495115  644023  640256  865008  741221  802043   \n",
       "\n",
       "         경상북도     경상남도 제주특별자치도  \n",
       "2012   949692  1064715  171616  \n",
       "2013   963566  1088659  181584  \n",
       "2014   978667  1108750  185915  \n",
       "2015   995385  1134738  195224  \n",
       "2016  1009941  1151057  206874  \n",
       "2017  1038274  1193912  221140  \n",
       "2018  1060505  1226708  233068  \n",
       "2019  1081216  1266739  241788  \n",
       "2020  1094306  1296944  246451  "
      ]
     },
     "execution_count": 667,
     "metadata": {},
     "output_type": "execute_result"
    }
   ],
   "source": [
    "# 총주택아파트 \n",
    "data2_total = data2[condition]\n",
    "data2_total\n",
    "\n",
    "# data2_total.to_csv('총주택2012-2020.csv')"
   ]
  },
  {
   "cell_type": "code",
   "execution_count": 668,
   "id": "622591f6",
   "metadata": {},
   "outputs": [
    {
     "data": {
      "text/html": [
       "<div>\n",
       "<style scoped>\n",
       "    .dataframe tbody tr th:only-of-type {\n",
       "        vertical-align: middle;\n",
       "    }\n",
       "\n",
       "    .dataframe tbody tr th {\n",
       "        vertical-align: top;\n",
       "    }\n",
       "\n",
       "    .dataframe thead th {\n",
       "        text-align: right;\n",
       "    }\n",
       "</style>\n",
       "<table border=\"1\" class=\"dataframe\">\n",
       "  <thead>\n",
       "    <tr style=\"text-align: right;\">\n",
       "      <th></th>\n",
       "      <th>housing</th>\n",
       "      <th>전국</th>\n",
       "      <th>서울특별시</th>\n",
       "      <th>부산광역시</th>\n",
       "      <th>대구광역시</th>\n",
       "      <th>인천광역시</th>\n",
       "      <th>광주광역시</th>\n",
       "      <th>대전광역시</th>\n",
       "      <th>울산광역시</th>\n",
       "      <th>세종특별자치시</th>\n",
       "      <th>경기도</th>\n",
       "      <th>강원도</th>\n",
       "      <th>충청북도</th>\n",
       "      <th>충청남도</th>\n",
       "      <th>전라북도</th>\n",
       "      <th>전라남도</th>\n",
       "      <th>경상북도</th>\n",
       "      <th>경상남도</th>\n",
       "      <th>제주특별자치도</th>\n",
       "    </tr>\n",
       "  </thead>\n",
       "  <tbody>\n",
       "    <tr>\n",
       "      <th>2012.3</th>\n",
       "      <td>개인소유아파트</td>\n",
       "      <td>7449705</td>\n",
       "      <td>1304927</td>\n",
       "      <td>582898</td>\n",
       "      <td>409732</td>\n",
       "      <td>453901</td>\n",
       "      <td>281469</td>\n",
       "      <td>267416</td>\n",
       "      <td>196984</td>\n",
       "      <td>17056</td>\n",
       "      <td>1969528</td>\n",
       "      <td>201804</td>\n",
       "      <td>223140</td>\n",
       "      <td>259458</td>\n",
       "      <td>260679</td>\n",
       "      <td>175377</td>\n",
       "      <td>319584</td>\n",
       "      <td>486201</td>\n",
       "      <td>39551</td>\n",
       "    </tr>\n",
       "    <tr>\n",
       "      <th>2013.3</th>\n",
       "      <td>개인소유아파트</td>\n",
       "      <td>7650631</td>\n",
       "      <td>1326272</td>\n",
       "      <td>601748</td>\n",
       "      <td>420536</td>\n",
       "      <td>465686</td>\n",
       "      <td>287622</td>\n",
       "      <td>271653</td>\n",
       "      <td>203167</td>\n",
       "      <td>17992</td>\n",
       "      <td>2018630</td>\n",
       "      <td>207252</td>\n",
       "      <td>230551</td>\n",
       "      <td>271176</td>\n",
       "      <td>271772</td>\n",
       "      <td>183368</td>\n",
       "      <td>325654</td>\n",
       "      <td>504988</td>\n",
       "      <td>42564</td>\n",
       "    </tr>\n",
       "    <tr>\n",
       "      <th>2014.3</th>\n",
       "      <td>개인소유아파트</td>\n",
       "      <td>7907597</td>\n",
       "      <td>1358224</td>\n",
       "      <td>624341</td>\n",
       "      <td>436498</td>\n",
       "      <td>479585</td>\n",
       "      <td>302158</td>\n",
       "      <td>282649</td>\n",
       "      <td>215084</td>\n",
       "      <td>23103</td>\n",
       "      <td>2060779</td>\n",
       "      <td>215153</td>\n",
       "      <td>236237</td>\n",
       "      <td>288260</td>\n",
       "      <td>280195</td>\n",
       "      <td>194310</td>\n",
       "      <td>333844</td>\n",
       "      <td>531563</td>\n",
       "      <td>45614</td>\n",
       "    </tr>\n",
       "    <tr>\n",
       "      <th>2015.3</th>\n",
       "      <td>개인소유아파트</td>\n",
       "      <td>8191917</td>\n",
       "      <td>1378958</td>\n",
       "      <td>648816</td>\n",
       "      <td>445307</td>\n",
       "      <td>498808</td>\n",
       "      <td>314820</td>\n",
       "      <td>292894</td>\n",
       "      <td>226018</td>\n",
       "      <td>45023</td>\n",
       "      <td>2115908</td>\n",
       "      <td>223096</td>\n",
       "      <td>245670</td>\n",
       "      <td>302643</td>\n",
       "      <td>295580</td>\n",
       "      <td>204671</td>\n",
       "      <td>354608</td>\n",
       "      <td>551293</td>\n",
       "      <td>47804</td>\n",
       "    </tr>\n",
       "    <tr>\n",
       "      <th>2016.3</th>\n",
       "      <td>개인소유아파트</td>\n",
       "      <td>8425911</td>\n",
       "      <td>1399373</td>\n",
       "      <td>667623</td>\n",
       "      <td>463380</td>\n",
       "      <td>512331</td>\n",
       "      <td>322869</td>\n",
       "      <td>297461</td>\n",
       "      <td>232180</td>\n",
       "      <td>54063</td>\n",
       "      <td>2164804</td>\n",
       "      <td>228320</td>\n",
       "      <td>252657</td>\n",
       "      <td>324356</td>\n",
       "      <td>299010</td>\n",
       "      <td>213147</td>\n",
       "      <td>372490</td>\n",
       "      <td>571774</td>\n",
       "      <td>50073</td>\n",
       "    </tr>\n",
       "    <tr>\n",
       "      <th>2017.3</th>\n",
       "      <td>개인소유아파트</td>\n",
       "      <td>8697344</td>\n",
       "      <td>1409694</td>\n",
       "      <td>686371</td>\n",
       "      <td>483971</td>\n",
       "      <td>526729</td>\n",
       "      <td>330782</td>\n",
       "      <td>296686</td>\n",
       "      <td>239539</td>\n",
       "      <td>67875</td>\n",
       "      <td>2237980</td>\n",
       "      <td>234627</td>\n",
       "      <td>262239</td>\n",
       "      <td>344151</td>\n",
       "      <td>305703</td>\n",
       "      <td>220838</td>\n",
       "      <td>393187</td>\n",
       "      <td>603771</td>\n",
       "      <td>53201</td>\n",
       "    </tr>\n",
       "    <tr>\n",
       "      <th>2018.3</th>\n",
       "      <td>개인소유아파트</td>\n",
       "      <td>9031320</td>\n",
       "      <td>1421708</td>\n",
       "      <td>703077</td>\n",
       "      <td>496307</td>\n",
       "      <td>544663</td>\n",
       "      <td>340144</td>\n",
       "      <td>306455</td>\n",
       "      <td>249898</td>\n",
       "      <td>80662</td>\n",
       "      <td>2352161</td>\n",
       "      <td>244304</td>\n",
       "      <td>276096</td>\n",
       "      <td>365534</td>\n",
       "      <td>316050</td>\n",
       "      <td>231254</td>\n",
       "      <td>417147</td>\n",
       "      <td>630069</td>\n",
       "      <td>55791</td>\n",
       "    </tr>\n",
       "    <tr>\n",
       "      <th>2019.3</th>\n",
       "      <td>개인소유아파트</td>\n",
       "      <td>9377878</td>\n",
       "      <td>1446390</td>\n",
       "      <td>719139</td>\n",
       "      <td>504766</td>\n",
       "      <td>562880</td>\n",
       "      <td>350515</td>\n",
       "      <td>310220</td>\n",
       "      <td>257660</td>\n",
       "      <td>85993</td>\n",
       "      <td>2492579</td>\n",
       "      <td>260639</td>\n",
       "      <td>290444</td>\n",
       "      <td>382350</td>\n",
       "      <td>325040</td>\n",
       "      <td>240123</td>\n",
       "      <td>433661</td>\n",
       "      <td>658101</td>\n",
       "      <td>57378</td>\n",
       "    </tr>\n",
       "    <tr>\n",
       "      <th>2020.3</th>\n",
       "      <td>개인소유아파트</td>\n",
       "      <td>9647242</td>\n",
       "      <td>1480173</td>\n",
       "      <td>740198</td>\n",
       "      <td>512520</td>\n",
       "      <td>576221</td>\n",
       "      <td>355089</td>\n",
       "      <td>313798</td>\n",
       "      <td>264050</td>\n",
       "      <td>90173</td>\n",
       "      <td>2584396</td>\n",
       "      <td>274363</td>\n",
       "      <td>300714</td>\n",
       "      <td>390998</td>\n",
       "      <td>332476</td>\n",
       "      <td>251601</td>\n",
       "      <td>443829</td>\n",
       "      <td>678390</td>\n",
       "      <td>58253</td>\n",
       "    </tr>\n",
       "  </tbody>\n",
       "</table>\n",
       "</div>"
      ],
      "text/plain": [
       "        housing       전국    서울특별시   부산광역시   대구광역시   인천광역시   광주광역시   대전광역시  \\\n",
       "2012.3  개인소유아파트  7449705  1304927  582898  409732  453901  281469  267416   \n",
       "2013.3  개인소유아파트  7650631  1326272  601748  420536  465686  287622  271653   \n",
       "2014.3  개인소유아파트  7907597  1358224  624341  436498  479585  302158  282649   \n",
       "2015.3  개인소유아파트  8191917  1378958  648816  445307  498808  314820  292894   \n",
       "2016.3  개인소유아파트  8425911  1399373  667623  463380  512331  322869  297461   \n",
       "2017.3  개인소유아파트  8697344  1409694  686371  483971  526729  330782  296686   \n",
       "2018.3  개인소유아파트  9031320  1421708  703077  496307  544663  340144  306455   \n",
       "2019.3  개인소유아파트  9377878  1446390  719139  504766  562880  350515  310220   \n",
       "2020.3  개인소유아파트  9647242  1480173  740198  512520  576221  355089  313798   \n",
       "\n",
       "         울산광역시 세종특별자치시      경기도     강원도    충청북도    충청남도    전라북도    전라남도  \\\n",
       "2012.3  196984   17056  1969528  201804  223140  259458  260679  175377   \n",
       "2013.3  203167   17992  2018630  207252  230551  271176  271772  183368   \n",
       "2014.3  215084   23103  2060779  215153  236237  288260  280195  194310   \n",
       "2015.3  226018   45023  2115908  223096  245670  302643  295580  204671   \n",
       "2016.3  232180   54063  2164804  228320  252657  324356  299010  213147   \n",
       "2017.3  239539   67875  2237980  234627  262239  344151  305703  220838   \n",
       "2018.3  249898   80662  2352161  244304  276096  365534  316050  231254   \n",
       "2019.3  257660   85993  2492579  260639  290444  382350  325040  240123   \n",
       "2020.3  264050   90173  2584396  274363  300714  390998  332476  251601   \n",
       "\n",
       "          경상북도    경상남도 제주특별자치도  \n",
       "2012.3  319584  486201   39551  \n",
       "2013.3  325654  504988   42564  \n",
       "2014.3  333844  531563   45614  \n",
       "2015.3  354608  551293   47804  \n",
       "2016.3  372490  571774   50073  \n",
       "2017.3  393187  603771   53201  \n",
       "2018.3  417147  630069   55791  \n",
       "2019.3  433661  658101   57378  \n",
       "2020.3  443829  678390   58253  "
      ]
     },
     "execution_count": 668,
     "metadata": {},
     "output_type": "execute_result"
    }
   ],
   "source": [
    "# 개인소유 아파트\n",
    "data2_personal = data2[condition2]\n",
    "data2_personal\n",
    "\n",
    "# data2_personal.to_csv('개인소유2012-2020.csv')"
   ]
  },
  {
   "cell_type": "code",
   "execution_count": 669,
   "id": "0ee1b1d7",
   "metadata": {},
   "outputs": [],
   "source": [
    "data2_total = data2_total[['전국','서울특별시']]"
   ]
  },
  {
   "cell_type": "code",
   "execution_count": 670,
   "id": "a621b3b7",
   "metadata": {},
   "outputs": [
    {
     "name": "stdout",
     "output_type": "stream",
     "text": [
      "<class 'pandas.core.frame.DataFrame'>\n",
      "Index: 9 entries, 2012 to 2020\n",
      "Data columns (total 2 columns):\n",
      " #   Column  Non-Null Count  Dtype \n",
      "---  ------  --------------  ----- \n",
      " 0   전국      9 non-null      object\n",
      " 1   서울특별시   9 non-null      object\n",
      "dtypes: object(2)\n",
      "memory usage: 216.0+ bytes\n"
     ]
    }
   ],
   "source": [
    "data2_total.info()"
   ]
  },
  {
   "cell_type": "code",
   "execution_count": 671,
   "id": "5a5e1927",
   "metadata": {},
   "outputs": [],
   "source": [
    "data2_total= data2_total.astype(int)"
   ]
  },
  {
   "cell_type": "code",
   "execution_count": 672,
   "id": "cf6acb75",
   "metadata": {},
   "outputs": [
    {
     "data": {
      "text/html": [
       "<div>\n",
       "<style scoped>\n",
       "    .dataframe tbody tr th:only-of-type {\n",
       "        vertical-align: middle;\n",
       "    }\n",
       "\n",
       "    .dataframe tbody tr th {\n",
       "        vertical-align: top;\n",
       "    }\n",
       "\n",
       "    .dataframe thead th {\n",
       "        text-align: right;\n",
       "    }\n",
       "</style>\n",
       "<table border=\"1\" class=\"dataframe\">\n",
       "  <thead>\n",
       "    <tr style=\"text-align: right;\">\n",
       "      <th></th>\n",
       "      <th>전국</th>\n",
       "      <th>서울특별시</th>\n",
       "    </tr>\n",
       "  </thead>\n",
       "  <tbody>\n",
       "    <tr>\n",
       "      <th>2012</th>\n",
       "      <td>15300616</td>\n",
       "      <td>2625657</td>\n",
       "    </tr>\n",
       "    <tr>\n",
       "      <th>2013</th>\n",
       "      <td>15624928</td>\n",
       "      <td>2686621</td>\n",
       "    </tr>\n",
       "    <tr>\n",
       "      <th>2014</th>\n",
       "      <td>15920906</td>\n",
       "      <td>2699568</td>\n",
       "    </tr>\n",
       "    <tr>\n",
       "      <th>2015</th>\n",
       "      <td>16367006</td>\n",
       "      <td>2793244</td>\n",
       "    </tr>\n",
       "    <tr>\n",
       "      <th>2016</th>\n",
       "      <td>16692230</td>\n",
       "      <td>2830857</td>\n",
       "    </tr>\n",
       "    <tr>\n",
       "      <th>2017</th>\n",
       "      <td>17122573</td>\n",
       "      <td>2866845</td>\n",
       "    </tr>\n",
       "    <tr>\n",
       "      <th>2018</th>\n",
       "      <td>17633327</td>\n",
       "      <td>2894078</td>\n",
       "    </tr>\n",
       "    <tr>\n",
       "      <th>2019</th>\n",
       "      <td>18126954</td>\n",
       "      <td>2953964</td>\n",
       "    </tr>\n",
       "    <tr>\n",
       "      <th>2020</th>\n",
       "      <td>18525844</td>\n",
       "      <td>3015371</td>\n",
       "    </tr>\n",
       "  </tbody>\n",
       "</table>\n",
       "</div>"
      ],
      "text/plain": [
       "            전국    서울특별시\n",
       "2012  15300616  2625657\n",
       "2013  15624928  2686621\n",
       "2014  15920906  2699568\n",
       "2015  16367006  2793244\n",
       "2016  16692230  2830857\n",
       "2017  17122573  2866845\n",
       "2018  17633327  2894078\n",
       "2019  18126954  2953964\n",
       "2020  18525844  3015371"
      ]
     },
     "execution_count": 672,
     "metadata": {},
     "output_type": "execute_result"
    }
   ],
   "source": [
    "data2_total"
   ]
  },
  {
   "cell_type": "code",
   "execution_count": 673,
   "id": "49f8dec7",
   "metadata": {},
   "outputs": [],
   "source": [
    "data2_personal = data2_personal[['전국','서울특별시']]\n"
   ]
  },
  {
   "cell_type": "code",
   "execution_count": 674,
   "id": "ecf98249",
   "metadata": {},
   "outputs": [],
   "source": [
    "data2_personal = data2_personal.astype(int)\n"
   ]
  },
  {
   "cell_type": "code",
   "execution_count": 697,
   "id": "13a2d64c",
   "metadata": {},
   "outputs": [
    {
     "data": {
      "application/vnd.plotly.v1+json": {
       "config": {
        "plotlyServerURL": "https://plot.ly"
       },
       "data": [
        {
         "hovertemplate": "variable=전국<br>index=%{x}<br>value=%{y}<extra></extra>",
         "legendgroup": "전국",
         "line": {
          "color": "#636efa",
          "dash": "solid"
         },
         "marker": {
          "symbol": "circle"
         },
         "mode": "lines",
         "name": "전국",
         "orientation": "v",
         "showlegend": true,
         "type": "scatter",
         "x": [
          "2012",
          "2013",
          "2014",
          "2015",
          "2016",
          "2017",
          "2018",
          "2019",
          "2020"
         ],
         "xaxis": "x",
         "y": [
          15300616,
          15624928,
          15920906,
          16367006,
          16692230,
          17122573,
          17633327,
          18126954,
          18525844
         ],
         "yaxis": "y"
        }
       ],
       "layout": {
        "legend": {
         "title": {
          "text": "variable"
         },
         "tracegroupgap": 0
        },
        "margin": {
         "t": 60
        },
        "template": {
         "data": {
          "bar": [
           {
            "error_x": {
             "color": "#2a3f5f"
            },
            "error_y": {
             "color": "#2a3f5f"
            },
            "marker": {
             "line": {
              "color": "#E5ECF6",
              "width": 0.5
             },
             "pattern": {
              "fillmode": "overlay",
              "size": 10,
              "solidity": 0.2
             }
            },
            "type": "bar"
           }
          ],
          "barpolar": [
           {
            "marker": {
             "line": {
              "color": "#E5ECF6",
              "width": 0.5
             },
             "pattern": {
              "fillmode": "overlay",
              "size": 10,
              "solidity": 0.2
             }
            },
            "type": "barpolar"
           }
          ],
          "carpet": [
           {
            "aaxis": {
             "endlinecolor": "#2a3f5f",
             "gridcolor": "white",
             "linecolor": "white",
             "minorgridcolor": "white",
             "startlinecolor": "#2a3f5f"
            },
            "baxis": {
             "endlinecolor": "#2a3f5f",
             "gridcolor": "white",
             "linecolor": "white",
             "minorgridcolor": "white",
             "startlinecolor": "#2a3f5f"
            },
            "type": "carpet"
           }
          ],
          "choropleth": [
           {
            "colorbar": {
             "outlinewidth": 0,
             "ticks": ""
            },
            "type": "choropleth"
           }
          ],
          "contour": [
           {
            "colorbar": {
             "outlinewidth": 0,
             "ticks": ""
            },
            "colorscale": [
             [
              0,
              "#0d0887"
             ],
             [
              0.1111111111111111,
              "#46039f"
             ],
             [
              0.2222222222222222,
              "#7201a8"
             ],
             [
              0.3333333333333333,
              "#9c179e"
             ],
             [
              0.4444444444444444,
              "#bd3786"
             ],
             [
              0.5555555555555556,
              "#d8576b"
             ],
             [
              0.6666666666666666,
              "#ed7953"
             ],
             [
              0.7777777777777778,
              "#fb9f3a"
             ],
             [
              0.8888888888888888,
              "#fdca26"
             ],
             [
              1,
              "#f0f921"
             ]
            ],
            "type": "contour"
           }
          ],
          "contourcarpet": [
           {
            "colorbar": {
             "outlinewidth": 0,
             "ticks": ""
            },
            "type": "contourcarpet"
           }
          ],
          "heatmap": [
           {
            "colorbar": {
             "outlinewidth": 0,
             "ticks": ""
            },
            "colorscale": [
             [
              0,
              "#0d0887"
             ],
             [
              0.1111111111111111,
              "#46039f"
             ],
             [
              0.2222222222222222,
              "#7201a8"
             ],
             [
              0.3333333333333333,
              "#9c179e"
             ],
             [
              0.4444444444444444,
              "#bd3786"
             ],
             [
              0.5555555555555556,
              "#d8576b"
             ],
             [
              0.6666666666666666,
              "#ed7953"
             ],
             [
              0.7777777777777778,
              "#fb9f3a"
             ],
             [
              0.8888888888888888,
              "#fdca26"
             ],
             [
              1,
              "#f0f921"
             ]
            ],
            "type": "heatmap"
           }
          ],
          "heatmapgl": [
           {
            "colorbar": {
             "outlinewidth": 0,
             "ticks": ""
            },
            "colorscale": [
             [
              0,
              "#0d0887"
             ],
             [
              0.1111111111111111,
              "#46039f"
             ],
             [
              0.2222222222222222,
              "#7201a8"
             ],
             [
              0.3333333333333333,
              "#9c179e"
             ],
             [
              0.4444444444444444,
              "#bd3786"
             ],
             [
              0.5555555555555556,
              "#d8576b"
             ],
             [
              0.6666666666666666,
              "#ed7953"
             ],
             [
              0.7777777777777778,
              "#fb9f3a"
             ],
             [
              0.8888888888888888,
              "#fdca26"
             ],
             [
              1,
              "#f0f921"
             ]
            ],
            "type": "heatmapgl"
           }
          ],
          "histogram": [
           {
            "marker": {
             "pattern": {
              "fillmode": "overlay",
              "size": 10,
              "solidity": 0.2
             }
            },
            "type": "histogram"
           }
          ],
          "histogram2d": [
           {
            "colorbar": {
             "outlinewidth": 0,
             "ticks": ""
            },
            "colorscale": [
             [
              0,
              "#0d0887"
             ],
             [
              0.1111111111111111,
              "#46039f"
             ],
             [
              0.2222222222222222,
              "#7201a8"
             ],
             [
              0.3333333333333333,
              "#9c179e"
             ],
             [
              0.4444444444444444,
              "#bd3786"
             ],
             [
              0.5555555555555556,
              "#d8576b"
             ],
             [
              0.6666666666666666,
              "#ed7953"
             ],
             [
              0.7777777777777778,
              "#fb9f3a"
             ],
             [
              0.8888888888888888,
              "#fdca26"
             ],
             [
              1,
              "#f0f921"
             ]
            ],
            "type": "histogram2d"
           }
          ],
          "histogram2dcontour": [
           {
            "colorbar": {
             "outlinewidth": 0,
             "ticks": ""
            },
            "colorscale": [
             [
              0,
              "#0d0887"
             ],
             [
              0.1111111111111111,
              "#46039f"
             ],
             [
              0.2222222222222222,
              "#7201a8"
             ],
             [
              0.3333333333333333,
              "#9c179e"
             ],
             [
              0.4444444444444444,
              "#bd3786"
             ],
             [
              0.5555555555555556,
              "#d8576b"
             ],
             [
              0.6666666666666666,
              "#ed7953"
             ],
             [
              0.7777777777777778,
              "#fb9f3a"
             ],
             [
              0.8888888888888888,
              "#fdca26"
             ],
             [
              1,
              "#f0f921"
             ]
            ],
            "type": "histogram2dcontour"
           }
          ],
          "mesh3d": [
           {
            "colorbar": {
             "outlinewidth": 0,
             "ticks": ""
            },
            "type": "mesh3d"
           }
          ],
          "parcoords": [
           {
            "line": {
             "colorbar": {
              "outlinewidth": 0,
              "ticks": ""
             }
            },
            "type": "parcoords"
           }
          ],
          "pie": [
           {
            "automargin": true,
            "type": "pie"
           }
          ],
          "scatter": [
           {
            "fillpattern": {
             "fillmode": "overlay",
             "size": 10,
             "solidity": 0.2
            },
            "type": "scatter"
           }
          ],
          "scatter3d": [
           {
            "line": {
             "colorbar": {
              "outlinewidth": 0,
              "ticks": ""
             }
            },
            "marker": {
             "colorbar": {
              "outlinewidth": 0,
              "ticks": ""
             }
            },
            "type": "scatter3d"
           }
          ],
          "scattercarpet": [
           {
            "marker": {
             "colorbar": {
              "outlinewidth": 0,
              "ticks": ""
             }
            },
            "type": "scattercarpet"
           }
          ],
          "scattergeo": [
           {
            "marker": {
             "colorbar": {
              "outlinewidth": 0,
              "ticks": ""
             }
            },
            "type": "scattergeo"
           }
          ],
          "scattergl": [
           {
            "marker": {
             "colorbar": {
              "outlinewidth": 0,
              "ticks": ""
             }
            },
            "type": "scattergl"
           }
          ],
          "scattermapbox": [
           {
            "marker": {
             "colorbar": {
              "outlinewidth": 0,
              "ticks": ""
             }
            },
            "type": "scattermapbox"
           }
          ],
          "scatterpolar": [
           {
            "marker": {
             "colorbar": {
              "outlinewidth": 0,
              "ticks": ""
             }
            },
            "type": "scatterpolar"
           }
          ],
          "scatterpolargl": [
           {
            "marker": {
             "colorbar": {
              "outlinewidth": 0,
              "ticks": ""
             }
            },
            "type": "scatterpolargl"
           }
          ],
          "scatterternary": [
           {
            "marker": {
             "colorbar": {
              "outlinewidth": 0,
              "ticks": ""
             }
            },
            "type": "scatterternary"
           }
          ],
          "surface": [
           {
            "colorbar": {
             "outlinewidth": 0,
             "ticks": ""
            },
            "colorscale": [
             [
              0,
              "#0d0887"
             ],
             [
              0.1111111111111111,
              "#46039f"
             ],
             [
              0.2222222222222222,
              "#7201a8"
             ],
             [
              0.3333333333333333,
              "#9c179e"
             ],
             [
              0.4444444444444444,
              "#bd3786"
             ],
             [
              0.5555555555555556,
              "#d8576b"
             ],
             [
              0.6666666666666666,
              "#ed7953"
             ],
             [
              0.7777777777777778,
              "#fb9f3a"
             ],
             [
              0.8888888888888888,
              "#fdca26"
             ],
             [
              1,
              "#f0f921"
             ]
            ],
            "type": "surface"
           }
          ],
          "table": [
           {
            "cells": {
             "fill": {
              "color": "#EBF0F8"
             },
             "line": {
              "color": "white"
             }
            },
            "header": {
             "fill": {
              "color": "#C8D4E3"
             },
             "line": {
              "color": "white"
             }
            },
            "type": "table"
           }
          ]
         },
         "layout": {
          "annotationdefaults": {
           "arrowcolor": "#2a3f5f",
           "arrowhead": 0,
           "arrowwidth": 1
          },
          "autotypenumbers": "strict",
          "coloraxis": {
           "colorbar": {
            "outlinewidth": 0,
            "ticks": ""
           }
          },
          "colorscale": {
           "diverging": [
            [
             0,
             "#8e0152"
            ],
            [
             0.1,
             "#c51b7d"
            ],
            [
             0.2,
             "#de77ae"
            ],
            [
             0.3,
             "#f1b6da"
            ],
            [
             0.4,
             "#fde0ef"
            ],
            [
             0.5,
             "#f7f7f7"
            ],
            [
             0.6,
             "#e6f5d0"
            ],
            [
             0.7,
             "#b8e186"
            ],
            [
             0.8,
             "#7fbc41"
            ],
            [
             0.9,
             "#4d9221"
            ],
            [
             1,
             "#276419"
            ]
           ],
           "sequential": [
            [
             0,
             "#0d0887"
            ],
            [
             0.1111111111111111,
             "#46039f"
            ],
            [
             0.2222222222222222,
             "#7201a8"
            ],
            [
             0.3333333333333333,
             "#9c179e"
            ],
            [
             0.4444444444444444,
             "#bd3786"
            ],
            [
             0.5555555555555556,
             "#d8576b"
            ],
            [
             0.6666666666666666,
             "#ed7953"
            ],
            [
             0.7777777777777778,
             "#fb9f3a"
            ],
            [
             0.8888888888888888,
             "#fdca26"
            ],
            [
             1,
             "#f0f921"
            ]
           ],
           "sequentialminus": [
            [
             0,
             "#0d0887"
            ],
            [
             0.1111111111111111,
             "#46039f"
            ],
            [
             0.2222222222222222,
             "#7201a8"
            ],
            [
             0.3333333333333333,
             "#9c179e"
            ],
            [
             0.4444444444444444,
             "#bd3786"
            ],
            [
             0.5555555555555556,
             "#d8576b"
            ],
            [
             0.6666666666666666,
             "#ed7953"
            ],
            [
             0.7777777777777778,
             "#fb9f3a"
            ],
            [
             0.8888888888888888,
             "#fdca26"
            ],
            [
             1,
             "#f0f921"
            ]
           ]
          },
          "colorway": [
           "#636efa",
           "#EF553B",
           "#00cc96",
           "#ab63fa",
           "#FFA15A",
           "#19d3f3",
           "#FF6692",
           "#B6E880",
           "#FF97FF",
           "#FECB52"
          ],
          "font": {
           "color": "#2a3f5f"
          },
          "geo": {
           "bgcolor": "white",
           "lakecolor": "white",
           "landcolor": "#E5ECF6",
           "showlakes": true,
           "showland": true,
           "subunitcolor": "white"
          },
          "hoverlabel": {
           "align": "left"
          },
          "hovermode": "closest",
          "mapbox": {
           "style": "light"
          },
          "paper_bgcolor": "white",
          "plot_bgcolor": "#E5ECF6",
          "polar": {
           "angularaxis": {
            "gridcolor": "white",
            "linecolor": "white",
            "ticks": ""
           },
           "bgcolor": "#E5ECF6",
           "radialaxis": {
            "gridcolor": "white",
            "linecolor": "white",
            "ticks": ""
           }
          },
          "scene": {
           "xaxis": {
            "backgroundcolor": "#E5ECF6",
            "gridcolor": "white",
            "gridwidth": 2,
            "linecolor": "white",
            "showbackground": true,
            "ticks": "",
            "zerolinecolor": "white"
           },
           "yaxis": {
            "backgroundcolor": "#E5ECF6",
            "gridcolor": "white",
            "gridwidth": 2,
            "linecolor": "white",
            "showbackground": true,
            "ticks": "",
            "zerolinecolor": "white"
           },
           "zaxis": {
            "backgroundcolor": "#E5ECF6",
            "gridcolor": "white",
            "gridwidth": 2,
            "linecolor": "white",
            "showbackground": true,
            "ticks": "",
            "zerolinecolor": "white"
           }
          },
          "shapedefaults": {
           "line": {
            "color": "#2a3f5f"
           }
          },
          "ternary": {
           "aaxis": {
            "gridcolor": "white",
            "linecolor": "white",
            "ticks": ""
           },
           "baxis": {
            "gridcolor": "white",
            "linecolor": "white",
            "ticks": ""
           },
           "bgcolor": "#E5ECF6",
           "caxis": {
            "gridcolor": "white",
            "linecolor": "white",
            "ticks": ""
           }
          },
          "title": {
           "x": 0.05
          },
          "xaxis": {
           "automargin": true,
           "gridcolor": "white",
           "linecolor": "white",
           "ticks": "",
           "title": {
            "standoff": 15
           },
           "zerolinecolor": "white",
           "zerolinewidth": 2
          },
          "yaxis": {
           "automargin": true,
           "gridcolor": "white",
           "linecolor": "white",
           "ticks": "",
           "title": {
            "standoff": 15
           },
           "zerolinecolor": "white",
           "zerolinewidth": 2
          }
         }
        },
        "xaxis": {
         "anchor": "y",
         "domain": [
          0,
          1
         ],
         "title": {
          "text": "index"
         }
        },
        "yaxis": {
         "anchor": "x",
         "domain": [
          0,
          1
         ],
         "title": {
          "text": "value"
         }
        }
       }
      },
      "text/html": [
       "<div>                            <div id=\"194523ef-7a4e-4eb0-8dbe-32a4c4b6af84\" class=\"plotly-graph-div\" style=\"height:525px; width:100%;\"></div>            <script type=\"text/javascript\">                require([\"plotly\"], function(Plotly) {                    window.PLOTLYENV=window.PLOTLYENV || {};                                    if (document.getElementById(\"194523ef-7a4e-4eb0-8dbe-32a4c4b6af84\")) {                    Plotly.newPlot(                        \"194523ef-7a4e-4eb0-8dbe-32a4c4b6af84\",                        [{\"hovertemplate\":\"variable=\\uc804\\uad6d<br>index=%{x}<br>value=%{y}<extra></extra>\",\"legendgroup\":\"\\uc804\\uad6d\",\"line\":{\"color\":\"#636efa\",\"dash\":\"solid\"},\"marker\":{\"symbol\":\"circle\"},\"mode\":\"lines\",\"name\":\"\\uc804\\uad6d\",\"orientation\":\"v\",\"showlegend\":true,\"x\":[\"2012\",\"2013\",\"2014\",\"2015\",\"2016\",\"2017\",\"2018\",\"2019\",\"2020\"],\"xaxis\":\"x\",\"y\":[15300616,15624928,15920906,16367006,16692230,17122573,17633327,18126954,18525844],\"yaxis\":\"y\",\"type\":\"scatter\"}],                        {\"template\":{\"data\":{\"histogram2dcontour\":[{\"type\":\"histogram2dcontour\",\"colorbar\":{\"outlinewidth\":0,\"ticks\":\"\"},\"colorscale\":[[0.0,\"#0d0887\"],[0.1111111111111111,\"#46039f\"],[0.2222222222222222,\"#7201a8\"],[0.3333333333333333,\"#9c179e\"],[0.4444444444444444,\"#bd3786\"],[0.5555555555555556,\"#d8576b\"],[0.6666666666666666,\"#ed7953\"],[0.7777777777777778,\"#fb9f3a\"],[0.8888888888888888,\"#fdca26\"],[1.0,\"#f0f921\"]]}],\"choropleth\":[{\"type\":\"choropleth\",\"colorbar\":{\"outlinewidth\":0,\"ticks\":\"\"}}],\"histogram2d\":[{\"type\":\"histogram2d\",\"colorbar\":{\"outlinewidth\":0,\"ticks\":\"\"},\"colorscale\":[[0.0,\"#0d0887\"],[0.1111111111111111,\"#46039f\"],[0.2222222222222222,\"#7201a8\"],[0.3333333333333333,\"#9c179e\"],[0.4444444444444444,\"#bd3786\"],[0.5555555555555556,\"#d8576b\"],[0.6666666666666666,\"#ed7953\"],[0.7777777777777778,\"#fb9f3a\"],[0.8888888888888888,\"#fdca26\"],[1.0,\"#f0f921\"]]}],\"heatmap\":[{\"type\":\"heatmap\",\"colorbar\":{\"outlinewidth\":0,\"ticks\":\"\"},\"colorscale\":[[0.0,\"#0d0887\"],[0.1111111111111111,\"#46039f\"],[0.2222222222222222,\"#7201a8\"],[0.3333333333333333,\"#9c179e\"],[0.4444444444444444,\"#bd3786\"],[0.5555555555555556,\"#d8576b\"],[0.6666666666666666,\"#ed7953\"],[0.7777777777777778,\"#fb9f3a\"],[0.8888888888888888,\"#fdca26\"],[1.0,\"#f0f921\"]]}],\"heatmapgl\":[{\"type\":\"heatmapgl\",\"colorbar\":{\"outlinewidth\":0,\"ticks\":\"\"},\"colorscale\":[[0.0,\"#0d0887\"],[0.1111111111111111,\"#46039f\"],[0.2222222222222222,\"#7201a8\"],[0.3333333333333333,\"#9c179e\"],[0.4444444444444444,\"#bd3786\"],[0.5555555555555556,\"#d8576b\"],[0.6666666666666666,\"#ed7953\"],[0.7777777777777778,\"#fb9f3a\"],[0.8888888888888888,\"#fdca26\"],[1.0,\"#f0f921\"]]}],\"contourcarpet\":[{\"type\":\"contourcarpet\",\"colorbar\":{\"outlinewidth\":0,\"ticks\":\"\"}}],\"contour\":[{\"type\":\"contour\",\"colorbar\":{\"outlinewidth\":0,\"ticks\":\"\"},\"colorscale\":[[0.0,\"#0d0887\"],[0.1111111111111111,\"#46039f\"],[0.2222222222222222,\"#7201a8\"],[0.3333333333333333,\"#9c179e\"],[0.4444444444444444,\"#bd3786\"],[0.5555555555555556,\"#d8576b\"],[0.6666666666666666,\"#ed7953\"],[0.7777777777777778,\"#fb9f3a\"],[0.8888888888888888,\"#fdca26\"],[1.0,\"#f0f921\"]]}],\"surface\":[{\"type\":\"surface\",\"colorbar\":{\"outlinewidth\":0,\"ticks\":\"\"},\"colorscale\":[[0.0,\"#0d0887\"],[0.1111111111111111,\"#46039f\"],[0.2222222222222222,\"#7201a8\"],[0.3333333333333333,\"#9c179e\"],[0.4444444444444444,\"#bd3786\"],[0.5555555555555556,\"#d8576b\"],[0.6666666666666666,\"#ed7953\"],[0.7777777777777778,\"#fb9f3a\"],[0.8888888888888888,\"#fdca26\"],[1.0,\"#f0f921\"]]}],\"mesh3d\":[{\"type\":\"mesh3d\",\"colorbar\":{\"outlinewidth\":0,\"ticks\":\"\"}}],\"scatter\":[{\"fillpattern\":{\"fillmode\":\"overlay\",\"size\":10,\"solidity\":0.2},\"type\":\"scatter\"}],\"parcoords\":[{\"type\":\"parcoords\",\"line\":{\"colorbar\":{\"outlinewidth\":0,\"ticks\":\"\"}}}],\"scatterpolargl\":[{\"type\":\"scatterpolargl\",\"marker\":{\"colorbar\":{\"outlinewidth\":0,\"ticks\":\"\"}}}],\"bar\":[{\"error_x\":{\"color\":\"#2a3f5f\"},\"error_y\":{\"color\":\"#2a3f5f\"},\"marker\":{\"line\":{\"color\":\"#E5ECF6\",\"width\":0.5},\"pattern\":{\"fillmode\":\"overlay\",\"size\":10,\"solidity\":0.2}},\"type\":\"bar\"}],\"scattergeo\":[{\"type\":\"scattergeo\",\"marker\":{\"colorbar\":{\"outlinewidth\":0,\"ticks\":\"\"}}}],\"scatterpolar\":[{\"type\":\"scatterpolar\",\"marker\":{\"colorbar\":{\"outlinewidth\":0,\"ticks\":\"\"}}}],\"histogram\":[{\"marker\":{\"pattern\":{\"fillmode\":\"overlay\",\"size\":10,\"solidity\":0.2}},\"type\":\"histogram\"}],\"scattergl\":[{\"type\":\"scattergl\",\"marker\":{\"colorbar\":{\"outlinewidth\":0,\"ticks\":\"\"}}}],\"scatter3d\":[{\"type\":\"scatter3d\",\"line\":{\"colorbar\":{\"outlinewidth\":0,\"ticks\":\"\"}},\"marker\":{\"colorbar\":{\"outlinewidth\":0,\"ticks\":\"\"}}}],\"scattermapbox\":[{\"type\":\"scattermapbox\",\"marker\":{\"colorbar\":{\"outlinewidth\":0,\"ticks\":\"\"}}}],\"scatterternary\":[{\"type\":\"scatterternary\",\"marker\":{\"colorbar\":{\"outlinewidth\":0,\"ticks\":\"\"}}}],\"scattercarpet\":[{\"type\":\"scattercarpet\",\"marker\":{\"colorbar\":{\"outlinewidth\":0,\"ticks\":\"\"}}}],\"carpet\":[{\"aaxis\":{\"endlinecolor\":\"#2a3f5f\",\"gridcolor\":\"white\",\"linecolor\":\"white\",\"minorgridcolor\":\"white\",\"startlinecolor\":\"#2a3f5f\"},\"baxis\":{\"endlinecolor\":\"#2a3f5f\",\"gridcolor\":\"white\",\"linecolor\":\"white\",\"minorgridcolor\":\"white\",\"startlinecolor\":\"#2a3f5f\"},\"type\":\"carpet\"}],\"table\":[{\"cells\":{\"fill\":{\"color\":\"#EBF0F8\"},\"line\":{\"color\":\"white\"}},\"header\":{\"fill\":{\"color\":\"#C8D4E3\"},\"line\":{\"color\":\"white\"}},\"type\":\"table\"}],\"barpolar\":[{\"marker\":{\"line\":{\"color\":\"#E5ECF6\",\"width\":0.5},\"pattern\":{\"fillmode\":\"overlay\",\"size\":10,\"solidity\":0.2}},\"type\":\"barpolar\"}],\"pie\":[{\"automargin\":true,\"type\":\"pie\"}]},\"layout\":{\"autotypenumbers\":\"strict\",\"colorway\":[\"#636efa\",\"#EF553B\",\"#00cc96\",\"#ab63fa\",\"#FFA15A\",\"#19d3f3\",\"#FF6692\",\"#B6E880\",\"#FF97FF\",\"#FECB52\"],\"font\":{\"color\":\"#2a3f5f\"},\"hovermode\":\"closest\",\"hoverlabel\":{\"align\":\"left\"},\"paper_bgcolor\":\"white\",\"plot_bgcolor\":\"#E5ECF6\",\"polar\":{\"bgcolor\":\"#E5ECF6\",\"angularaxis\":{\"gridcolor\":\"white\",\"linecolor\":\"white\",\"ticks\":\"\"},\"radialaxis\":{\"gridcolor\":\"white\",\"linecolor\":\"white\",\"ticks\":\"\"}},\"ternary\":{\"bgcolor\":\"#E5ECF6\",\"aaxis\":{\"gridcolor\":\"white\",\"linecolor\":\"white\",\"ticks\":\"\"},\"baxis\":{\"gridcolor\":\"white\",\"linecolor\":\"white\",\"ticks\":\"\"},\"caxis\":{\"gridcolor\":\"white\",\"linecolor\":\"white\",\"ticks\":\"\"}},\"coloraxis\":{\"colorbar\":{\"outlinewidth\":0,\"ticks\":\"\"}},\"colorscale\":{\"sequential\":[[0.0,\"#0d0887\"],[0.1111111111111111,\"#46039f\"],[0.2222222222222222,\"#7201a8\"],[0.3333333333333333,\"#9c179e\"],[0.4444444444444444,\"#bd3786\"],[0.5555555555555556,\"#d8576b\"],[0.6666666666666666,\"#ed7953\"],[0.7777777777777778,\"#fb9f3a\"],[0.8888888888888888,\"#fdca26\"],[1.0,\"#f0f921\"]],\"sequentialminus\":[[0.0,\"#0d0887\"],[0.1111111111111111,\"#46039f\"],[0.2222222222222222,\"#7201a8\"],[0.3333333333333333,\"#9c179e\"],[0.4444444444444444,\"#bd3786\"],[0.5555555555555556,\"#d8576b\"],[0.6666666666666666,\"#ed7953\"],[0.7777777777777778,\"#fb9f3a\"],[0.8888888888888888,\"#fdca26\"],[1.0,\"#f0f921\"]],\"diverging\":[[0,\"#8e0152\"],[0.1,\"#c51b7d\"],[0.2,\"#de77ae\"],[0.3,\"#f1b6da\"],[0.4,\"#fde0ef\"],[0.5,\"#f7f7f7\"],[0.6,\"#e6f5d0\"],[0.7,\"#b8e186\"],[0.8,\"#7fbc41\"],[0.9,\"#4d9221\"],[1,\"#276419\"]]},\"xaxis\":{\"gridcolor\":\"white\",\"linecolor\":\"white\",\"ticks\":\"\",\"title\":{\"standoff\":15},\"zerolinecolor\":\"white\",\"automargin\":true,\"zerolinewidth\":2},\"yaxis\":{\"gridcolor\":\"white\",\"linecolor\":\"white\",\"ticks\":\"\",\"title\":{\"standoff\":15},\"zerolinecolor\":\"white\",\"automargin\":true,\"zerolinewidth\":2},\"scene\":{\"xaxis\":{\"backgroundcolor\":\"#E5ECF6\",\"gridcolor\":\"white\",\"linecolor\":\"white\",\"showbackground\":true,\"ticks\":\"\",\"zerolinecolor\":\"white\",\"gridwidth\":2},\"yaxis\":{\"backgroundcolor\":\"#E5ECF6\",\"gridcolor\":\"white\",\"linecolor\":\"white\",\"showbackground\":true,\"ticks\":\"\",\"zerolinecolor\":\"white\",\"gridwidth\":2},\"zaxis\":{\"backgroundcolor\":\"#E5ECF6\",\"gridcolor\":\"white\",\"linecolor\":\"white\",\"showbackground\":true,\"ticks\":\"\",\"zerolinecolor\":\"white\",\"gridwidth\":2}},\"shapedefaults\":{\"line\":{\"color\":\"#2a3f5f\"}},\"annotationdefaults\":{\"arrowcolor\":\"#2a3f5f\",\"arrowhead\":0,\"arrowwidth\":1},\"geo\":{\"bgcolor\":\"white\",\"landcolor\":\"#E5ECF6\",\"subunitcolor\":\"white\",\"showland\":true,\"showlakes\":true,\"lakecolor\":\"white\"},\"title\":{\"x\":0.05},\"mapbox\":{\"style\":\"light\"}}},\"xaxis\":{\"anchor\":\"y\",\"domain\":[0.0,1.0],\"title\":{\"text\":\"index\"}},\"yaxis\":{\"anchor\":\"x\",\"domain\":[0.0,1.0],\"title\":{\"text\":\"value\"}},\"legend\":{\"title\":{\"text\":\"variable\"},\"tracegroupgap\":0},\"margin\":{\"t\":60}},                        {\"responsive\": true}                    ).then(function(){\n",
       "                            \n",
       "var gd = document.getElementById('194523ef-7a4e-4eb0-8dbe-32a4c4b6af84');\n",
       "var x = new MutationObserver(function (mutations, observer) {{\n",
       "        var display = window.getComputedStyle(gd).display;\n",
       "        if (!display || display === 'none') {{\n",
       "            console.log([gd, 'removed!']);\n",
       "            Plotly.purge(gd);\n",
       "            observer.disconnect();\n",
       "        }}\n",
       "}});\n",
       "\n",
       "// Listen for the removal of the full notebook cells\n",
       "var notebookContainer = gd.closest('#notebook-container');\n",
       "if (notebookContainer) {{\n",
       "    x.observe(notebookContainer, {childList: true});\n",
       "}}\n",
       "\n",
       "// Listen for the clearing of the current output cell\n",
       "var outputEl = gd.closest('.output');\n",
       "if (outputEl) {{\n",
       "    x.observe(outputEl, {childList: true});\n",
       "}}\n",
       "\n",
       "                        })                };                });            </script>        </div>"
      ]
     },
     "metadata": {},
     "output_type": "display_data"
    },
    {
     "data": {
      "text/plain": [
       "<Figure size 1080x288 with 0 Axes>"
      ]
     },
     "metadata": {},
     "output_type": "display_data"
    }
   ],
   "source": [
    "# 총소유 : 전국 \n",
    "plt.figure(figsize = (15,4))\n",
    "\n",
    "px.line(data2_total['전국'])\n",
    "\n"
   ]
  },
  {
   "cell_type": "code",
   "execution_count": 700,
   "id": "c858fd95",
   "metadata": {},
   "outputs": [
    {
     "data": {
      "application/vnd.plotly.v1+json": {
       "config": {
        "plotlyServerURL": "https://plot.ly"
       },
       "data": [
        {
         "hovertemplate": "variable=서울특별시<br>index=%{x}<br>value=%{y}<extra></extra>",
         "legendgroup": "서울특별시",
         "line": {
          "color": "#636efa",
          "dash": "solid"
         },
         "marker": {
          "symbol": "circle"
         },
         "mode": "lines",
         "name": "서울특별시",
         "orientation": "v",
         "showlegend": true,
         "type": "scatter",
         "x": [
          "2012",
          "2013",
          "2014",
          "2015",
          "2016",
          "2017",
          "2018",
          "2019",
          "2020"
         ],
         "xaxis": "x",
         "y": [
          2625657,
          2686621,
          2699568,
          2793244,
          2830857,
          2866845,
          2894078,
          2953964,
          3015371
         ],
         "yaxis": "y"
        }
       ],
       "layout": {
        "legend": {
         "title": {
          "text": "variable"
         },
         "tracegroupgap": 0
        },
        "margin": {
         "t": 60
        },
        "template": {
         "data": {
          "bar": [
           {
            "error_x": {
             "color": "#2a3f5f"
            },
            "error_y": {
             "color": "#2a3f5f"
            },
            "marker": {
             "line": {
              "color": "#E5ECF6",
              "width": 0.5
             },
             "pattern": {
              "fillmode": "overlay",
              "size": 10,
              "solidity": 0.2
             }
            },
            "type": "bar"
           }
          ],
          "barpolar": [
           {
            "marker": {
             "line": {
              "color": "#E5ECF6",
              "width": 0.5
             },
             "pattern": {
              "fillmode": "overlay",
              "size": 10,
              "solidity": 0.2
             }
            },
            "type": "barpolar"
           }
          ],
          "carpet": [
           {
            "aaxis": {
             "endlinecolor": "#2a3f5f",
             "gridcolor": "white",
             "linecolor": "white",
             "minorgridcolor": "white",
             "startlinecolor": "#2a3f5f"
            },
            "baxis": {
             "endlinecolor": "#2a3f5f",
             "gridcolor": "white",
             "linecolor": "white",
             "minorgridcolor": "white",
             "startlinecolor": "#2a3f5f"
            },
            "type": "carpet"
           }
          ],
          "choropleth": [
           {
            "colorbar": {
             "outlinewidth": 0,
             "ticks": ""
            },
            "type": "choropleth"
           }
          ],
          "contour": [
           {
            "colorbar": {
             "outlinewidth": 0,
             "ticks": ""
            },
            "colorscale": [
             [
              0,
              "#0d0887"
             ],
             [
              0.1111111111111111,
              "#46039f"
             ],
             [
              0.2222222222222222,
              "#7201a8"
             ],
             [
              0.3333333333333333,
              "#9c179e"
             ],
             [
              0.4444444444444444,
              "#bd3786"
             ],
             [
              0.5555555555555556,
              "#d8576b"
             ],
             [
              0.6666666666666666,
              "#ed7953"
             ],
             [
              0.7777777777777778,
              "#fb9f3a"
             ],
             [
              0.8888888888888888,
              "#fdca26"
             ],
             [
              1,
              "#f0f921"
             ]
            ],
            "type": "contour"
           }
          ],
          "contourcarpet": [
           {
            "colorbar": {
             "outlinewidth": 0,
             "ticks": ""
            },
            "type": "contourcarpet"
           }
          ],
          "heatmap": [
           {
            "colorbar": {
             "outlinewidth": 0,
             "ticks": ""
            },
            "colorscale": [
             [
              0,
              "#0d0887"
             ],
             [
              0.1111111111111111,
              "#46039f"
             ],
             [
              0.2222222222222222,
              "#7201a8"
             ],
             [
              0.3333333333333333,
              "#9c179e"
             ],
             [
              0.4444444444444444,
              "#bd3786"
             ],
             [
              0.5555555555555556,
              "#d8576b"
             ],
             [
              0.6666666666666666,
              "#ed7953"
             ],
             [
              0.7777777777777778,
              "#fb9f3a"
             ],
             [
              0.8888888888888888,
              "#fdca26"
             ],
             [
              1,
              "#f0f921"
             ]
            ],
            "type": "heatmap"
           }
          ],
          "heatmapgl": [
           {
            "colorbar": {
             "outlinewidth": 0,
             "ticks": ""
            },
            "colorscale": [
             [
              0,
              "#0d0887"
             ],
             [
              0.1111111111111111,
              "#46039f"
             ],
             [
              0.2222222222222222,
              "#7201a8"
             ],
             [
              0.3333333333333333,
              "#9c179e"
             ],
             [
              0.4444444444444444,
              "#bd3786"
             ],
             [
              0.5555555555555556,
              "#d8576b"
             ],
             [
              0.6666666666666666,
              "#ed7953"
             ],
             [
              0.7777777777777778,
              "#fb9f3a"
             ],
             [
              0.8888888888888888,
              "#fdca26"
             ],
             [
              1,
              "#f0f921"
             ]
            ],
            "type": "heatmapgl"
           }
          ],
          "histogram": [
           {
            "marker": {
             "pattern": {
              "fillmode": "overlay",
              "size": 10,
              "solidity": 0.2
             }
            },
            "type": "histogram"
           }
          ],
          "histogram2d": [
           {
            "colorbar": {
             "outlinewidth": 0,
             "ticks": ""
            },
            "colorscale": [
             [
              0,
              "#0d0887"
             ],
             [
              0.1111111111111111,
              "#46039f"
             ],
             [
              0.2222222222222222,
              "#7201a8"
             ],
             [
              0.3333333333333333,
              "#9c179e"
             ],
             [
              0.4444444444444444,
              "#bd3786"
             ],
             [
              0.5555555555555556,
              "#d8576b"
             ],
             [
              0.6666666666666666,
              "#ed7953"
             ],
             [
              0.7777777777777778,
              "#fb9f3a"
             ],
             [
              0.8888888888888888,
              "#fdca26"
             ],
             [
              1,
              "#f0f921"
             ]
            ],
            "type": "histogram2d"
           }
          ],
          "histogram2dcontour": [
           {
            "colorbar": {
             "outlinewidth": 0,
             "ticks": ""
            },
            "colorscale": [
             [
              0,
              "#0d0887"
             ],
             [
              0.1111111111111111,
              "#46039f"
             ],
             [
              0.2222222222222222,
              "#7201a8"
             ],
             [
              0.3333333333333333,
              "#9c179e"
             ],
             [
              0.4444444444444444,
              "#bd3786"
             ],
             [
              0.5555555555555556,
              "#d8576b"
             ],
             [
              0.6666666666666666,
              "#ed7953"
             ],
             [
              0.7777777777777778,
              "#fb9f3a"
             ],
             [
              0.8888888888888888,
              "#fdca26"
             ],
             [
              1,
              "#f0f921"
             ]
            ],
            "type": "histogram2dcontour"
           }
          ],
          "mesh3d": [
           {
            "colorbar": {
             "outlinewidth": 0,
             "ticks": ""
            },
            "type": "mesh3d"
           }
          ],
          "parcoords": [
           {
            "line": {
             "colorbar": {
              "outlinewidth": 0,
              "ticks": ""
             }
            },
            "type": "parcoords"
           }
          ],
          "pie": [
           {
            "automargin": true,
            "type": "pie"
           }
          ],
          "scatter": [
           {
            "fillpattern": {
             "fillmode": "overlay",
             "size": 10,
             "solidity": 0.2
            },
            "type": "scatter"
           }
          ],
          "scatter3d": [
           {
            "line": {
             "colorbar": {
              "outlinewidth": 0,
              "ticks": ""
             }
            },
            "marker": {
             "colorbar": {
              "outlinewidth": 0,
              "ticks": ""
             }
            },
            "type": "scatter3d"
           }
          ],
          "scattercarpet": [
           {
            "marker": {
             "colorbar": {
              "outlinewidth": 0,
              "ticks": ""
             }
            },
            "type": "scattercarpet"
           }
          ],
          "scattergeo": [
           {
            "marker": {
             "colorbar": {
              "outlinewidth": 0,
              "ticks": ""
             }
            },
            "type": "scattergeo"
           }
          ],
          "scattergl": [
           {
            "marker": {
             "colorbar": {
              "outlinewidth": 0,
              "ticks": ""
             }
            },
            "type": "scattergl"
           }
          ],
          "scattermapbox": [
           {
            "marker": {
             "colorbar": {
              "outlinewidth": 0,
              "ticks": ""
             }
            },
            "type": "scattermapbox"
           }
          ],
          "scatterpolar": [
           {
            "marker": {
             "colorbar": {
              "outlinewidth": 0,
              "ticks": ""
             }
            },
            "type": "scatterpolar"
           }
          ],
          "scatterpolargl": [
           {
            "marker": {
             "colorbar": {
              "outlinewidth": 0,
              "ticks": ""
             }
            },
            "type": "scatterpolargl"
           }
          ],
          "scatterternary": [
           {
            "marker": {
             "colorbar": {
              "outlinewidth": 0,
              "ticks": ""
             }
            },
            "type": "scatterternary"
           }
          ],
          "surface": [
           {
            "colorbar": {
             "outlinewidth": 0,
             "ticks": ""
            },
            "colorscale": [
             [
              0,
              "#0d0887"
             ],
             [
              0.1111111111111111,
              "#46039f"
             ],
             [
              0.2222222222222222,
              "#7201a8"
             ],
             [
              0.3333333333333333,
              "#9c179e"
             ],
             [
              0.4444444444444444,
              "#bd3786"
             ],
             [
              0.5555555555555556,
              "#d8576b"
             ],
             [
              0.6666666666666666,
              "#ed7953"
             ],
             [
              0.7777777777777778,
              "#fb9f3a"
             ],
             [
              0.8888888888888888,
              "#fdca26"
             ],
             [
              1,
              "#f0f921"
             ]
            ],
            "type": "surface"
           }
          ],
          "table": [
           {
            "cells": {
             "fill": {
              "color": "#EBF0F8"
             },
             "line": {
              "color": "white"
             }
            },
            "header": {
             "fill": {
              "color": "#C8D4E3"
             },
             "line": {
              "color": "white"
             }
            },
            "type": "table"
           }
          ]
         },
         "layout": {
          "annotationdefaults": {
           "arrowcolor": "#2a3f5f",
           "arrowhead": 0,
           "arrowwidth": 1
          },
          "autotypenumbers": "strict",
          "coloraxis": {
           "colorbar": {
            "outlinewidth": 0,
            "ticks": ""
           }
          },
          "colorscale": {
           "diverging": [
            [
             0,
             "#8e0152"
            ],
            [
             0.1,
             "#c51b7d"
            ],
            [
             0.2,
             "#de77ae"
            ],
            [
             0.3,
             "#f1b6da"
            ],
            [
             0.4,
             "#fde0ef"
            ],
            [
             0.5,
             "#f7f7f7"
            ],
            [
             0.6,
             "#e6f5d0"
            ],
            [
             0.7,
             "#b8e186"
            ],
            [
             0.8,
             "#7fbc41"
            ],
            [
             0.9,
             "#4d9221"
            ],
            [
             1,
             "#276419"
            ]
           ],
           "sequential": [
            [
             0,
             "#0d0887"
            ],
            [
             0.1111111111111111,
             "#46039f"
            ],
            [
             0.2222222222222222,
             "#7201a8"
            ],
            [
             0.3333333333333333,
             "#9c179e"
            ],
            [
             0.4444444444444444,
             "#bd3786"
            ],
            [
             0.5555555555555556,
             "#d8576b"
            ],
            [
             0.6666666666666666,
             "#ed7953"
            ],
            [
             0.7777777777777778,
             "#fb9f3a"
            ],
            [
             0.8888888888888888,
             "#fdca26"
            ],
            [
             1,
             "#f0f921"
            ]
           ],
           "sequentialminus": [
            [
             0,
             "#0d0887"
            ],
            [
             0.1111111111111111,
             "#46039f"
            ],
            [
             0.2222222222222222,
             "#7201a8"
            ],
            [
             0.3333333333333333,
             "#9c179e"
            ],
            [
             0.4444444444444444,
             "#bd3786"
            ],
            [
             0.5555555555555556,
             "#d8576b"
            ],
            [
             0.6666666666666666,
             "#ed7953"
            ],
            [
             0.7777777777777778,
             "#fb9f3a"
            ],
            [
             0.8888888888888888,
             "#fdca26"
            ],
            [
             1,
             "#f0f921"
            ]
           ]
          },
          "colorway": [
           "#636efa",
           "#EF553B",
           "#00cc96",
           "#ab63fa",
           "#FFA15A",
           "#19d3f3",
           "#FF6692",
           "#B6E880",
           "#FF97FF",
           "#FECB52"
          ],
          "font": {
           "color": "#2a3f5f"
          },
          "geo": {
           "bgcolor": "white",
           "lakecolor": "white",
           "landcolor": "#E5ECF6",
           "showlakes": true,
           "showland": true,
           "subunitcolor": "white"
          },
          "hoverlabel": {
           "align": "left"
          },
          "hovermode": "closest",
          "mapbox": {
           "style": "light"
          },
          "paper_bgcolor": "white",
          "plot_bgcolor": "#E5ECF6",
          "polar": {
           "angularaxis": {
            "gridcolor": "white",
            "linecolor": "white",
            "ticks": ""
           },
           "bgcolor": "#E5ECF6",
           "radialaxis": {
            "gridcolor": "white",
            "linecolor": "white",
            "ticks": ""
           }
          },
          "scene": {
           "xaxis": {
            "backgroundcolor": "#E5ECF6",
            "gridcolor": "white",
            "gridwidth": 2,
            "linecolor": "white",
            "showbackground": true,
            "ticks": "",
            "zerolinecolor": "white"
           },
           "yaxis": {
            "backgroundcolor": "#E5ECF6",
            "gridcolor": "white",
            "gridwidth": 2,
            "linecolor": "white",
            "showbackground": true,
            "ticks": "",
            "zerolinecolor": "white"
           },
           "zaxis": {
            "backgroundcolor": "#E5ECF6",
            "gridcolor": "white",
            "gridwidth": 2,
            "linecolor": "white",
            "showbackground": true,
            "ticks": "",
            "zerolinecolor": "white"
           }
          },
          "shapedefaults": {
           "line": {
            "color": "#2a3f5f"
           }
          },
          "ternary": {
           "aaxis": {
            "gridcolor": "white",
            "linecolor": "white",
            "ticks": ""
           },
           "baxis": {
            "gridcolor": "white",
            "linecolor": "white",
            "ticks": ""
           },
           "bgcolor": "#E5ECF6",
           "caxis": {
            "gridcolor": "white",
            "linecolor": "white",
            "ticks": ""
           }
          },
          "title": {
           "x": 0.05
          },
          "xaxis": {
           "automargin": true,
           "gridcolor": "white",
           "linecolor": "white",
           "ticks": "",
           "title": {
            "standoff": 15
           },
           "zerolinecolor": "white",
           "zerolinewidth": 2
          },
          "yaxis": {
           "automargin": true,
           "gridcolor": "white",
           "linecolor": "white",
           "ticks": "",
           "title": {
            "standoff": 15
           },
           "zerolinecolor": "white",
           "zerolinewidth": 2
          }
         }
        },
        "xaxis": {
         "anchor": "y",
         "domain": [
          0,
          1
         ],
         "title": {
          "text": "index"
         }
        },
        "yaxis": {
         "anchor": "x",
         "domain": [
          0,
          1
         ],
         "title": {
          "text": "value"
         }
        }
       }
      },
      "text/html": [
       "<div>                            <div id=\"ad8e52e8-57a4-466b-bf96-e8829d4b9cf4\" class=\"plotly-graph-div\" style=\"height:525px; width:100%;\"></div>            <script type=\"text/javascript\">                require([\"plotly\"], function(Plotly) {                    window.PLOTLYENV=window.PLOTLYENV || {};                                    if (document.getElementById(\"ad8e52e8-57a4-466b-bf96-e8829d4b9cf4\")) {                    Plotly.newPlot(                        \"ad8e52e8-57a4-466b-bf96-e8829d4b9cf4\",                        [{\"hovertemplate\":\"variable=\\uc11c\\uc6b8\\ud2b9\\ubcc4\\uc2dc<br>index=%{x}<br>value=%{y}<extra></extra>\",\"legendgroup\":\"\\uc11c\\uc6b8\\ud2b9\\ubcc4\\uc2dc\",\"line\":{\"color\":\"#636efa\",\"dash\":\"solid\"},\"marker\":{\"symbol\":\"circle\"},\"mode\":\"lines\",\"name\":\"\\uc11c\\uc6b8\\ud2b9\\ubcc4\\uc2dc\",\"orientation\":\"v\",\"showlegend\":true,\"x\":[\"2012\",\"2013\",\"2014\",\"2015\",\"2016\",\"2017\",\"2018\",\"2019\",\"2020\"],\"xaxis\":\"x\",\"y\":[2625657,2686621,2699568,2793244,2830857,2866845,2894078,2953964,3015371],\"yaxis\":\"y\",\"type\":\"scatter\"}],                        {\"template\":{\"data\":{\"histogram2dcontour\":[{\"type\":\"histogram2dcontour\",\"colorbar\":{\"outlinewidth\":0,\"ticks\":\"\"},\"colorscale\":[[0.0,\"#0d0887\"],[0.1111111111111111,\"#46039f\"],[0.2222222222222222,\"#7201a8\"],[0.3333333333333333,\"#9c179e\"],[0.4444444444444444,\"#bd3786\"],[0.5555555555555556,\"#d8576b\"],[0.6666666666666666,\"#ed7953\"],[0.7777777777777778,\"#fb9f3a\"],[0.8888888888888888,\"#fdca26\"],[1.0,\"#f0f921\"]]}],\"choropleth\":[{\"type\":\"choropleth\",\"colorbar\":{\"outlinewidth\":0,\"ticks\":\"\"}}],\"histogram2d\":[{\"type\":\"histogram2d\",\"colorbar\":{\"outlinewidth\":0,\"ticks\":\"\"},\"colorscale\":[[0.0,\"#0d0887\"],[0.1111111111111111,\"#46039f\"],[0.2222222222222222,\"#7201a8\"],[0.3333333333333333,\"#9c179e\"],[0.4444444444444444,\"#bd3786\"],[0.5555555555555556,\"#d8576b\"],[0.6666666666666666,\"#ed7953\"],[0.7777777777777778,\"#fb9f3a\"],[0.8888888888888888,\"#fdca26\"],[1.0,\"#f0f921\"]]}],\"heatmap\":[{\"type\":\"heatmap\",\"colorbar\":{\"outlinewidth\":0,\"ticks\":\"\"},\"colorscale\":[[0.0,\"#0d0887\"],[0.1111111111111111,\"#46039f\"],[0.2222222222222222,\"#7201a8\"],[0.3333333333333333,\"#9c179e\"],[0.4444444444444444,\"#bd3786\"],[0.5555555555555556,\"#d8576b\"],[0.6666666666666666,\"#ed7953\"],[0.7777777777777778,\"#fb9f3a\"],[0.8888888888888888,\"#fdca26\"],[1.0,\"#f0f921\"]]}],\"heatmapgl\":[{\"type\":\"heatmapgl\",\"colorbar\":{\"outlinewidth\":0,\"ticks\":\"\"},\"colorscale\":[[0.0,\"#0d0887\"],[0.1111111111111111,\"#46039f\"],[0.2222222222222222,\"#7201a8\"],[0.3333333333333333,\"#9c179e\"],[0.4444444444444444,\"#bd3786\"],[0.5555555555555556,\"#d8576b\"],[0.6666666666666666,\"#ed7953\"],[0.7777777777777778,\"#fb9f3a\"],[0.8888888888888888,\"#fdca26\"],[1.0,\"#f0f921\"]]}],\"contourcarpet\":[{\"type\":\"contourcarpet\",\"colorbar\":{\"outlinewidth\":0,\"ticks\":\"\"}}],\"contour\":[{\"type\":\"contour\",\"colorbar\":{\"outlinewidth\":0,\"ticks\":\"\"},\"colorscale\":[[0.0,\"#0d0887\"],[0.1111111111111111,\"#46039f\"],[0.2222222222222222,\"#7201a8\"],[0.3333333333333333,\"#9c179e\"],[0.4444444444444444,\"#bd3786\"],[0.5555555555555556,\"#d8576b\"],[0.6666666666666666,\"#ed7953\"],[0.7777777777777778,\"#fb9f3a\"],[0.8888888888888888,\"#fdca26\"],[1.0,\"#f0f921\"]]}],\"surface\":[{\"type\":\"surface\",\"colorbar\":{\"outlinewidth\":0,\"ticks\":\"\"},\"colorscale\":[[0.0,\"#0d0887\"],[0.1111111111111111,\"#46039f\"],[0.2222222222222222,\"#7201a8\"],[0.3333333333333333,\"#9c179e\"],[0.4444444444444444,\"#bd3786\"],[0.5555555555555556,\"#d8576b\"],[0.6666666666666666,\"#ed7953\"],[0.7777777777777778,\"#fb9f3a\"],[0.8888888888888888,\"#fdca26\"],[1.0,\"#f0f921\"]]}],\"mesh3d\":[{\"type\":\"mesh3d\",\"colorbar\":{\"outlinewidth\":0,\"ticks\":\"\"}}],\"scatter\":[{\"fillpattern\":{\"fillmode\":\"overlay\",\"size\":10,\"solidity\":0.2},\"type\":\"scatter\"}],\"parcoords\":[{\"type\":\"parcoords\",\"line\":{\"colorbar\":{\"outlinewidth\":0,\"ticks\":\"\"}}}],\"scatterpolargl\":[{\"type\":\"scatterpolargl\",\"marker\":{\"colorbar\":{\"outlinewidth\":0,\"ticks\":\"\"}}}],\"bar\":[{\"error_x\":{\"color\":\"#2a3f5f\"},\"error_y\":{\"color\":\"#2a3f5f\"},\"marker\":{\"line\":{\"color\":\"#E5ECF6\",\"width\":0.5},\"pattern\":{\"fillmode\":\"overlay\",\"size\":10,\"solidity\":0.2}},\"type\":\"bar\"}],\"scattergeo\":[{\"type\":\"scattergeo\",\"marker\":{\"colorbar\":{\"outlinewidth\":0,\"ticks\":\"\"}}}],\"scatterpolar\":[{\"type\":\"scatterpolar\",\"marker\":{\"colorbar\":{\"outlinewidth\":0,\"ticks\":\"\"}}}],\"histogram\":[{\"marker\":{\"pattern\":{\"fillmode\":\"overlay\",\"size\":10,\"solidity\":0.2}},\"type\":\"histogram\"}],\"scattergl\":[{\"type\":\"scattergl\",\"marker\":{\"colorbar\":{\"outlinewidth\":0,\"ticks\":\"\"}}}],\"scatter3d\":[{\"type\":\"scatter3d\",\"line\":{\"colorbar\":{\"outlinewidth\":0,\"ticks\":\"\"}},\"marker\":{\"colorbar\":{\"outlinewidth\":0,\"ticks\":\"\"}}}],\"scattermapbox\":[{\"type\":\"scattermapbox\",\"marker\":{\"colorbar\":{\"outlinewidth\":0,\"ticks\":\"\"}}}],\"scatterternary\":[{\"type\":\"scatterternary\",\"marker\":{\"colorbar\":{\"outlinewidth\":0,\"ticks\":\"\"}}}],\"scattercarpet\":[{\"type\":\"scattercarpet\",\"marker\":{\"colorbar\":{\"outlinewidth\":0,\"ticks\":\"\"}}}],\"carpet\":[{\"aaxis\":{\"endlinecolor\":\"#2a3f5f\",\"gridcolor\":\"white\",\"linecolor\":\"white\",\"minorgridcolor\":\"white\",\"startlinecolor\":\"#2a3f5f\"},\"baxis\":{\"endlinecolor\":\"#2a3f5f\",\"gridcolor\":\"white\",\"linecolor\":\"white\",\"minorgridcolor\":\"white\",\"startlinecolor\":\"#2a3f5f\"},\"type\":\"carpet\"}],\"table\":[{\"cells\":{\"fill\":{\"color\":\"#EBF0F8\"},\"line\":{\"color\":\"white\"}},\"header\":{\"fill\":{\"color\":\"#C8D4E3\"},\"line\":{\"color\":\"white\"}},\"type\":\"table\"}],\"barpolar\":[{\"marker\":{\"line\":{\"color\":\"#E5ECF6\",\"width\":0.5},\"pattern\":{\"fillmode\":\"overlay\",\"size\":10,\"solidity\":0.2}},\"type\":\"barpolar\"}],\"pie\":[{\"automargin\":true,\"type\":\"pie\"}]},\"layout\":{\"autotypenumbers\":\"strict\",\"colorway\":[\"#636efa\",\"#EF553B\",\"#00cc96\",\"#ab63fa\",\"#FFA15A\",\"#19d3f3\",\"#FF6692\",\"#B6E880\",\"#FF97FF\",\"#FECB52\"],\"font\":{\"color\":\"#2a3f5f\"},\"hovermode\":\"closest\",\"hoverlabel\":{\"align\":\"left\"},\"paper_bgcolor\":\"white\",\"plot_bgcolor\":\"#E5ECF6\",\"polar\":{\"bgcolor\":\"#E5ECF6\",\"angularaxis\":{\"gridcolor\":\"white\",\"linecolor\":\"white\",\"ticks\":\"\"},\"radialaxis\":{\"gridcolor\":\"white\",\"linecolor\":\"white\",\"ticks\":\"\"}},\"ternary\":{\"bgcolor\":\"#E5ECF6\",\"aaxis\":{\"gridcolor\":\"white\",\"linecolor\":\"white\",\"ticks\":\"\"},\"baxis\":{\"gridcolor\":\"white\",\"linecolor\":\"white\",\"ticks\":\"\"},\"caxis\":{\"gridcolor\":\"white\",\"linecolor\":\"white\",\"ticks\":\"\"}},\"coloraxis\":{\"colorbar\":{\"outlinewidth\":0,\"ticks\":\"\"}},\"colorscale\":{\"sequential\":[[0.0,\"#0d0887\"],[0.1111111111111111,\"#46039f\"],[0.2222222222222222,\"#7201a8\"],[0.3333333333333333,\"#9c179e\"],[0.4444444444444444,\"#bd3786\"],[0.5555555555555556,\"#d8576b\"],[0.6666666666666666,\"#ed7953\"],[0.7777777777777778,\"#fb9f3a\"],[0.8888888888888888,\"#fdca26\"],[1.0,\"#f0f921\"]],\"sequentialminus\":[[0.0,\"#0d0887\"],[0.1111111111111111,\"#46039f\"],[0.2222222222222222,\"#7201a8\"],[0.3333333333333333,\"#9c179e\"],[0.4444444444444444,\"#bd3786\"],[0.5555555555555556,\"#d8576b\"],[0.6666666666666666,\"#ed7953\"],[0.7777777777777778,\"#fb9f3a\"],[0.8888888888888888,\"#fdca26\"],[1.0,\"#f0f921\"]],\"diverging\":[[0,\"#8e0152\"],[0.1,\"#c51b7d\"],[0.2,\"#de77ae\"],[0.3,\"#f1b6da\"],[0.4,\"#fde0ef\"],[0.5,\"#f7f7f7\"],[0.6,\"#e6f5d0\"],[0.7,\"#b8e186\"],[0.8,\"#7fbc41\"],[0.9,\"#4d9221\"],[1,\"#276419\"]]},\"xaxis\":{\"gridcolor\":\"white\",\"linecolor\":\"white\",\"ticks\":\"\",\"title\":{\"standoff\":15},\"zerolinecolor\":\"white\",\"automargin\":true,\"zerolinewidth\":2},\"yaxis\":{\"gridcolor\":\"white\",\"linecolor\":\"white\",\"ticks\":\"\",\"title\":{\"standoff\":15},\"zerolinecolor\":\"white\",\"automargin\":true,\"zerolinewidth\":2},\"scene\":{\"xaxis\":{\"backgroundcolor\":\"#E5ECF6\",\"gridcolor\":\"white\",\"linecolor\":\"white\",\"showbackground\":true,\"ticks\":\"\",\"zerolinecolor\":\"white\",\"gridwidth\":2},\"yaxis\":{\"backgroundcolor\":\"#E5ECF6\",\"gridcolor\":\"white\",\"linecolor\":\"white\",\"showbackground\":true,\"ticks\":\"\",\"zerolinecolor\":\"white\",\"gridwidth\":2},\"zaxis\":{\"backgroundcolor\":\"#E5ECF6\",\"gridcolor\":\"white\",\"linecolor\":\"white\",\"showbackground\":true,\"ticks\":\"\",\"zerolinecolor\":\"white\",\"gridwidth\":2}},\"shapedefaults\":{\"line\":{\"color\":\"#2a3f5f\"}},\"annotationdefaults\":{\"arrowcolor\":\"#2a3f5f\",\"arrowhead\":0,\"arrowwidth\":1},\"geo\":{\"bgcolor\":\"white\",\"landcolor\":\"#E5ECF6\",\"subunitcolor\":\"white\",\"showland\":true,\"showlakes\":true,\"lakecolor\":\"white\"},\"title\":{\"x\":0.05},\"mapbox\":{\"style\":\"light\"}}},\"xaxis\":{\"anchor\":\"y\",\"domain\":[0.0,1.0],\"title\":{\"text\":\"index\"}},\"yaxis\":{\"anchor\":\"x\",\"domain\":[0.0,1.0],\"title\":{\"text\":\"value\"}},\"legend\":{\"title\":{\"text\":\"variable\"},\"tracegroupgap\":0},\"margin\":{\"t\":60}},                        {\"responsive\": true}                    ).then(function(){\n",
       "                            \n",
       "var gd = document.getElementById('ad8e52e8-57a4-466b-bf96-e8829d4b9cf4');\n",
       "var x = new MutationObserver(function (mutations, observer) {{\n",
       "        var display = window.getComputedStyle(gd).display;\n",
       "        if (!display || display === 'none') {{\n",
       "            console.log([gd, 'removed!']);\n",
       "            Plotly.purge(gd);\n",
       "            observer.disconnect();\n",
       "        }}\n",
       "}});\n",
       "\n",
       "// Listen for the removal of the full notebook cells\n",
       "var notebookContainer = gd.closest('#notebook-container');\n",
       "if (notebookContainer) {{\n",
       "    x.observe(notebookContainer, {childList: true});\n",
       "}}\n",
       "\n",
       "// Listen for the clearing of the current output cell\n",
       "var outputEl = gd.closest('.output');\n",
       "if (outputEl) {{\n",
       "    x.observe(outputEl, {childList: true});\n",
       "}}\n",
       "\n",
       "                        })                };                });            </script>        </div>"
      ]
     },
     "metadata": {},
     "output_type": "display_data"
    }
   ],
   "source": [
    "# 총소유 : 서울특별시\n",
    "px.line(data2_total['서울특별시'])"
   ]
  },
  {
   "cell_type": "code",
   "execution_count": 698,
   "id": "f5c72a31",
   "metadata": {},
   "outputs": [
    {
     "data": {
      "application/vnd.plotly.v1+json": {
       "config": {
        "plotlyServerURL": "https://plot.ly"
       },
       "data": [
        {
         "hovertemplate": "variable=전국<br>index=%{x}<br>value=%{y}<extra></extra>",
         "legendgroup": "전국",
         "line": {
          "color": "#636efa",
          "dash": "solid"
         },
         "marker": {
          "symbol": "circle"
         },
         "mode": "lines",
         "name": "전국",
         "orientation": "v",
         "showlegend": true,
         "type": "scatter",
         "x": [
          "2012.3",
          "2013.3",
          "2014.3",
          "2015.3",
          "2016.3",
          "2017.3",
          "2018.3",
          "2019.3",
          "2020.3"
         ],
         "xaxis": "x",
         "y": [
          7449705,
          7650631,
          7907597,
          8191917,
          8425911,
          8697344,
          9031320,
          9377878,
          9647242
         ],
         "yaxis": "y"
        }
       ],
       "layout": {
        "legend": {
         "title": {
          "text": "variable"
         },
         "tracegroupgap": 0
        },
        "margin": {
         "t": 60
        },
        "template": {
         "data": {
          "bar": [
           {
            "error_x": {
             "color": "#2a3f5f"
            },
            "error_y": {
             "color": "#2a3f5f"
            },
            "marker": {
             "line": {
              "color": "#E5ECF6",
              "width": 0.5
             },
             "pattern": {
              "fillmode": "overlay",
              "size": 10,
              "solidity": 0.2
             }
            },
            "type": "bar"
           }
          ],
          "barpolar": [
           {
            "marker": {
             "line": {
              "color": "#E5ECF6",
              "width": 0.5
             },
             "pattern": {
              "fillmode": "overlay",
              "size": 10,
              "solidity": 0.2
             }
            },
            "type": "barpolar"
           }
          ],
          "carpet": [
           {
            "aaxis": {
             "endlinecolor": "#2a3f5f",
             "gridcolor": "white",
             "linecolor": "white",
             "minorgridcolor": "white",
             "startlinecolor": "#2a3f5f"
            },
            "baxis": {
             "endlinecolor": "#2a3f5f",
             "gridcolor": "white",
             "linecolor": "white",
             "minorgridcolor": "white",
             "startlinecolor": "#2a3f5f"
            },
            "type": "carpet"
           }
          ],
          "choropleth": [
           {
            "colorbar": {
             "outlinewidth": 0,
             "ticks": ""
            },
            "type": "choropleth"
           }
          ],
          "contour": [
           {
            "colorbar": {
             "outlinewidth": 0,
             "ticks": ""
            },
            "colorscale": [
             [
              0,
              "#0d0887"
             ],
             [
              0.1111111111111111,
              "#46039f"
             ],
             [
              0.2222222222222222,
              "#7201a8"
             ],
             [
              0.3333333333333333,
              "#9c179e"
             ],
             [
              0.4444444444444444,
              "#bd3786"
             ],
             [
              0.5555555555555556,
              "#d8576b"
             ],
             [
              0.6666666666666666,
              "#ed7953"
             ],
             [
              0.7777777777777778,
              "#fb9f3a"
             ],
             [
              0.8888888888888888,
              "#fdca26"
             ],
             [
              1,
              "#f0f921"
             ]
            ],
            "type": "contour"
           }
          ],
          "contourcarpet": [
           {
            "colorbar": {
             "outlinewidth": 0,
             "ticks": ""
            },
            "type": "contourcarpet"
           }
          ],
          "heatmap": [
           {
            "colorbar": {
             "outlinewidth": 0,
             "ticks": ""
            },
            "colorscale": [
             [
              0,
              "#0d0887"
             ],
             [
              0.1111111111111111,
              "#46039f"
             ],
             [
              0.2222222222222222,
              "#7201a8"
             ],
             [
              0.3333333333333333,
              "#9c179e"
             ],
             [
              0.4444444444444444,
              "#bd3786"
             ],
             [
              0.5555555555555556,
              "#d8576b"
             ],
             [
              0.6666666666666666,
              "#ed7953"
             ],
             [
              0.7777777777777778,
              "#fb9f3a"
             ],
             [
              0.8888888888888888,
              "#fdca26"
             ],
             [
              1,
              "#f0f921"
             ]
            ],
            "type": "heatmap"
           }
          ],
          "heatmapgl": [
           {
            "colorbar": {
             "outlinewidth": 0,
             "ticks": ""
            },
            "colorscale": [
             [
              0,
              "#0d0887"
             ],
             [
              0.1111111111111111,
              "#46039f"
             ],
             [
              0.2222222222222222,
              "#7201a8"
             ],
             [
              0.3333333333333333,
              "#9c179e"
             ],
             [
              0.4444444444444444,
              "#bd3786"
             ],
             [
              0.5555555555555556,
              "#d8576b"
             ],
             [
              0.6666666666666666,
              "#ed7953"
             ],
             [
              0.7777777777777778,
              "#fb9f3a"
             ],
             [
              0.8888888888888888,
              "#fdca26"
             ],
             [
              1,
              "#f0f921"
             ]
            ],
            "type": "heatmapgl"
           }
          ],
          "histogram": [
           {
            "marker": {
             "pattern": {
              "fillmode": "overlay",
              "size": 10,
              "solidity": 0.2
             }
            },
            "type": "histogram"
           }
          ],
          "histogram2d": [
           {
            "colorbar": {
             "outlinewidth": 0,
             "ticks": ""
            },
            "colorscale": [
             [
              0,
              "#0d0887"
             ],
             [
              0.1111111111111111,
              "#46039f"
             ],
             [
              0.2222222222222222,
              "#7201a8"
             ],
             [
              0.3333333333333333,
              "#9c179e"
             ],
             [
              0.4444444444444444,
              "#bd3786"
             ],
             [
              0.5555555555555556,
              "#d8576b"
             ],
             [
              0.6666666666666666,
              "#ed7953"
             ],
             [
              0.7777777777777778,
              "#fb9f3a"
             ],
             [
              0.8888888888888888,
              "#fdca26"
             ],
             [
              1,
              "#f0f921"
             ]
            ],
            "type": "histogram2d"
           }
          ],
          "histogram2dcontour": [
           {
            "colorbar": {
             "outlinewidth": 0,
             "ticks": ""
            },
            "colorscale": [
             [
              0,
              "#0d0887"
             ],
             [
              0.1111111111111111,
              "#46039f"
             ],
             [
              0.2222222222222222,
              "#7201a8"
             ],
             [
              0.3333333333333333,
              "#9c179e"
             ],
             [
              0.4444444444444444,
              "#bd3786"
             ],
             [
              0.5555555555555556,
              "#d8576b"
             ],
             [
              0.6666666666666666,
              "#ed7953"
             ],
             [
              0.7777777777777778,
              "#fb9f3a"
             ],
             [
              0.8888888888888888,
              "#fdca26"
             ],
             [
              1,
              "#f0f921"
             ]
            ],
            "type": "histogram2dcontour"
           }
          ],
          "mesh3d": [
           {
            "colorbar": {
             "outlinewidth": 0,
             "ticks": ""
            },
            "type": "mesh3d"
           }
          ],
          "parcoords": [
           {
            "line": {
             "colorbar": {
              "outlinewidth": 0,
              "ticks": ""
             }
            },
            "type": "parcoords"
           }
          ],
          "pie": [
           {
            "automargin": true,
            "type": "pie"
           }
          ],
          "scatter": [
           {
            "fillpattern": {
             "fillmode": "overlay",
             "size": 10,
             "solidity": 0.2
            },
            "type": "scatter"
           }
          ],
          "scatter3d": [
           {
            "line": {
             "colorbar": {
              "outlinewidth": 0,
              "ticks": ""
             }
            },
            "marker": {
             "colorbar": {
              "outlinewidth": 0,
              "ticks": ""
             }
            },
            "type": "scatter3d"
           }
          ],
          "scattercarpet": [
           {
            "marker": {
             "colorbar": {
              "outlinewidth": 0,
              "ticks": ""
             }
            },
            "type": "scattercarpet"
           }
          ],
          "scattergeo": [
           {
            "marker": {
             "colorbar": {
              "outlinewidth": 0,
              "ticks": ""
             }
            },
            "type": "scattergeo"
           }
          ],
          "scattergl": [
           {
            "marker": {
             "colorbar": {
              "outlinewidth": 0,
              "ticks": ""
             }
            },
            "type": "scattergl"
           }
          ],
          "scattermapbox": [
           {
            "marker": {
             "colorbar": {
              "outlinewidth": 0,
              "ticks": ""
             }
            },
            "type": "scattermapbox"
           }
          ],
          "scatterpolar": [
           {
            "marker": {
             "colorbar": {
              "outlinewidth": 0,
              "ticks": ""
             }
            },
            "type": "scatterpolar"
           }
          ],
          "scatterpolargl": [
           {
            "marker": {
             "colorbar": {
              "outlinewidth": 0,
              "ticks": ""
             }
            },
            "type": "scatterpolargl"
           }
          ],
          "scatterternary": [
           {
            "marker": {
             "colorbar": {
              "outlinewidth": 0,
              "ticks": ""
             }
            },
            "type": "scatterternary"
           }
          ],
          "surface": [
           {
            "colorbar": {
             "outlinewidth": 0,
             "ticks": ""
            },
            "colorscale": [
             [
              0,
              "#0d0887"
             ],
             [
              0.1111111111111111,
              "#46039f"
             ],
             [
              0.2222222222222222,
              "#7201a8"
             ],
             [
              0.3333333333333333,
              "#9c179e"
             ],
             [
              0.4444444444444444,
              "#bd3786"
             ],
             [
              0.5555555555555556,
              "#d8576b"
             ],
             [
              0.6666666666666666,
              "#ed7953"
             ],
             [
              0.7777777777777778,
              "#fb9f3a"
             ],
             [
              0.8888888888888888,
              "#fdca26"
             ],
             [
              1,
              "#f0f921"
             ]
            ],
            "type": "surface"
           }
          ],
          "table": [
           {
            "cells": {
             "fill": {
              "color": "#EBF0F8"
             },
             "line": {
              "color": "white"
             }
            },
            "header": {
             "fill": {
              "color": "#C8D4E3"
             },
             "line": {
              "color": "white"
             }
            },
            "type": "table"
           }
          ]
         },
         "layout": {
          "annotationdefaults": {
           "arrowcolor": "#2a3f5f",
           "arrowhead": 0,
           "arrowwidth": 1
          },
          "autotypenumbers": "strict",
          "coloraxis": {
           "colorbar": {
            "outlinewidth": 0,
            "ticks": ""
           }
          },
          "colorscale": {
           "diverging": [
            [
             0,
             "#8e0152"
            ],
            [
             0.1,
             "#c51b7d"
            ],
            [
             0.2,
             "#de77ae"
            ],
            [
             0.3,
             "#f1b6da"
            ],
            [
             0.4,
             "#fde0ef"
            ],
            [
             0.5,
             "#f7f7f7"
            ],
            [
             0.6,
             "#e6f5d0"
            ],
            [
             0.7,
             "#b8e186"
            ],
            [
             0.8,
             "#7fbc41"
            ],
            [
             0.9,
             "#4d9221"
            ],
            [
             1,
             "#276419"
            ]
           ],
           "sequential": [
            [
             0,
             "#0d0887"
            ],
            [
             0.1111111111111111,
             "#46039f"
            ],
            [
             0.2222222222222222,
             "#7201a8"
            ],
            [
             0.3333333333333333,
             "#9c179e"
            ],
            [
             0.4444444444444444,
             "#bd3786"
            ],
            [
             0.5555555555555556,
             "#d8576b"
            ],
            [
             0.6666666666666666,
             "#ed7953"
            ],
            [
             0.7777777777777778,
             "#fb9f3a"
            ],
            [
             0.8888888888888888,
             "#fdca26"
            ],
            [
             1,
             "#f0f921"
            ]
           ],
           "sequentialminus": [
            [
             0,
             "#0d0887"
            ],
            [
             0.1111111111111111,
             "#46039f"
            ],
            [
             0.2222222222222222,
             "#7201a8"
            ],
            [
             0.3333333333333333,
             "#9c179e"
            ],
            [
             0.4444444444444444,
             "#bd3786"
            ],
            [
             0.5555555555555556,
             "#d8576b"
            ],
            [
             0.6666666666666666,
             "#ed7953"
            ],
            [
             0.7777777777777778,
             "#fb9f3a"
            ],
            [
             0.8888888888888888,
             "#fdca26"
            ],
            [
             1,
             "#f0f921"
            ]
           ]
          },
          "colorway": [
           "#636efa",
           "#EF553B",
           "#00cc96",
           "#ab63fa",
           "#FFA15A",
           "#19d3f3",
           "#FF6692",
           "#B6E880",
           "#FF97FF",
           "#FECB52"
          ],
          "font": {
           "color": "#2a3f5f"
          },
          "geo": {
           "bgcolor": "white",
           "lakecolor": "white",
           "landcolor": "#E5ECF6",
           "showlakes": true,
           "showland": true,
           "subunitcolor": "white"
          },
          "hoverlabel": {
           "align": "left"
          },
          "hovermode": "closest",
          "mapbox": {
           "style": "light"
          },
          "paper_bgcolor": "white",
          "plot_bgcolor": "#E5ECF6",
          "polar": {
           "angularaxis": {
            "gridcolor": "white",
            "linecolor": "white",
            "ticks": ""
           },
           "bgcolor": "#E5ECF6",
           "radialaxis": {
            "gridcolor": "white",
            "linecolor": "white",
            "ticks": ""
           }
          },
          "scene": {
           "xaxis": {
            "backgroundcolor": "#E5ECF6",
            "gridcolor": "white",
            "gridwidth": 2,
            "linecolor": "white",
            "showbackground": true,
            "ticks": "",
            "zerolinecolor": "white"
           },
           "yaxis": {
            "backgroundcolor": "#E5ECF6",
            "gridcolor": "white",
            "gridwidth": 2,
            "linecolor": "white",
            "showbackground": true,
            "ticks": "",
            "zerolinecolor": "white"
           },
           "zaxis": {
            "backgroundcolor": "#E5ECF6",
            "gridcolor": "white",
            "gridwidth": 2,
            "linecolor": "white",
            "showbackground": true,
            "ticks": "",
            "zerolinecolor": "white"
           }
          },
          "shapedefaults": {
           "line": {
            "color": "#2a3f5f"
           }
          },
          "ternary": {
           "aaxis": {
            "gridcolor": "white",
            "linecolor": "white",
            "ticks": ""
           },
           "baxis": {
            "gridcolor": "white",
            "linecolor": "white",
            "ticks": ""
           },
           "bgcolor": "#E5ECF6",
           "caxis": {
            "gridcolor": "white",
            "linecolor": "white",
            "ticks": ""
           }
          },
          "title": {
           "x": 0.05
          },
          "xaxis": {
           "automargin": true,
           "gridcolor": "white",
           "linecolor": "white",
           "ticks": "",
           "title": {
            "standoff": 15
           },
           "zerolinecolor": "white",
           "zerolinewidth": 2
          },
          "yaxis": {
           "automargin": true,
           "gridcolor": "white",
           "linecolor": "white",
           "ticks": "",
           "title": {
            "standoff": 15
           },
           "zerolinecolor": "white",
           "zerolinewidth": 2
          }
         }
        },
        "xaxis": {
         "anchor": "y",
         "domain": [
          0,
          1
         ],
         "title": {
          "text": "index"
         }
        },
        "yaxis": {
         "anchor": "x",
         "domain": [
          0,
          1
         ],
         "title": {
          "text": "value"
         }
        }
       }
      },
      "text/html": [
       "<div>                            <div id=\"a0472754-5488-4073-af29-3a3fcd499af9\" class=\"plotly-graph-div\" style=\"height:525px; width:100%;\"></div>            <script type=\"text/javascript\">                require([\"plotly\"], function(Plotly) {                    window.PLOTLYENV=window.PLOTLYENV || {};                                    if (document.getElementById(\"a0472754-5488-4073-af29-3a3fcd499af9\")) {                    Plotly.newPlot(                        \"a0472754-5488-4073-af29-3a3fcd499af9\",                        [{\"hovertemplate\":\"variable=\\uc804\\uad6d<br>index=%{x}<br>value=%{y}<extra></extra>\",\"legendgroup\":\"\\uc804\\uad6d\",\"line\":{\"color\":\"#636efa\",\"dash\":\"solid\"},\"marker\":{\"symbol\":\"circle\"},\"mode\":\"lines\",\"name\":\"\\uc804\\uad6d\",\"orientation\":\"v\",\"showlegend\":true,\"x\":[\"2012.3\",\"2013.3\",\"2014.3\",\"2015.3\",\"2016.3\",\"2017.3\",\"2018.3\",\"2019.3\",\"2020.3\"],\"xaxis\":\"x\",\"y\":[7449705,7650631,7907597,8191917,8425911,8697344,9031320,9377878,9647242],\"yaxis\":\"y\",\"type\":\"scatter\"}],                        {\"template\":{\"data\":{\"histogram2dcontour\":[{\"type\":\"histogram2dcontour\",\"colorbar\":{\"outlinewidth\":0,\"ticks\":\"\"},\"colorscale\":[[0.0,\"#0d0887\"],[0.1111111111111111,\"#46039f\"],[0.2222222222222222,\"#7201a8\"],[0.3333333333333333,\"#9c179e\"],[0.4444444444444444,\"#bd3786\"],[0.5555555555555556,\"#d8576b\"],[0.6666666666666666,\"#ed7953\"],[0.7777777777777778,\"#fb9f3a\"],[0.8888888888888888,\"#fdca26\"],[1.0,\"#f0f921\"]]}],\"choropleth\":[{\"type\":\"choropleth\",\"colorbar\":{\"outlinewidth\":0,\"ticks\":\"\"}}],\"histogram2d\":[{\"type\":\"histogram2d\",\"colorbar\":{\"outlinewidth\":0,\"ticks\":\"\"},\"colorscale\":[[0.0,\"#0d0887\"],[0.1111111111111111,\"#46039f\"],[0.2222222222222222,\"#7201a8\"],[0.3333333333333333,\"#9c179e\"],[0.4444444444444444,\"#bd3786\"],[0.5555555555555556,\"#d8576b\"],[0.6666666666666666,\"#ed7953\"],[0.7777777777777778,\"#fb9f3a\"],[0.8888888888888888,\"#fdca26\"],[1.0,\"#f0f921\"]]}],\"heatmap\":[{\"type\":\"heatmap\",\"colorbar\":{\"outlinewidth\":0,\"ticks\":\"\"},\"colorscale\":[[0.0,\"#0d0887\"],[0.1111111111111111,\"#46039f\"],[0.2222222222222222,\"#7201a8\"],[0.3333333333333333,\"#9c179e\"],[0.4444444444444444,\"#bd3786\"],[0.5555555555555556,\"#d8576b\"],[0.6666666666666666,\"#ed7953\"],[0.7777777777777778,\"#fb9f3a\"],[0.8888888888888888,\"#fdca26\"],[1.0,\"#f0f921\"]]}],\"heatmapgl\":[{\"type\":\"heatmapgl\",\"colorbar\":{\"outlinewidth\":0,\"ticks\":\"\"},\"colorscale\":[[0.0,\"#0d0887\"],[0.1111111111111111,\"#46039f\"],[0.2222222222222222,\"#7201a8\"],[0.3333333333333333,\"#9c179e\"],[0.4444444444444444,\"#bd3786\"],[0.5555555555555556,\"#d8576b\"],[0.6666666666666666,\"#ed7953\"],[0.7777777777777778,\"#fb9f3a\"],[0.8888888888888888,\"#fdca26\"],[1.0,\"#f0f921\"]]}],\"contourcarpet\":[{\"type\":\"contourcarpet\",\"colorbar\":{\"outlinewidth\":0,\"ticks\":\"\"}}],\"contour\":[{\"type\":\"contour\",\"colorbar\":{\"outlinewidth\":0,\"ticks\":\"\"},\"colorscale\":[[0.0,\"#0d0887\"],[0.1111111111111111,\"#46039f\"],[0.2222222222222222,\"#7201a8\"],[0.3333333333333333,\"#9c179e\"],[0.4444444444444444,\"#bd3786\"],[0.5555555555555556,\"#d8576b\"],[0.6666666666666666,\"#ed7953\"],[0.7777777777777778,\"#fb9f3a\"],[0.8888888888888888,\"#fdca26\"],[1.0,\"#f0f921\"]]}],\"surface\":[{\"type\":\"surface\",\"colorbar\":{\"outlinewidth\":0,\"ticks\":\"\"},\"colorscale\":[[0.0,\"#0d0887\"],[0.1111111111111111,\"#46039f\"],[0.2222222222222222,\"#7201a8\"],[0.3333333333333333,\"#9c179e\"],[0.4444444444444444,\"#bd3786\"],[0.5555555555555556,\"#d8576b\"],[0.6666666666666666,\"#ed7953\"],[0.7777777777777778,\"#fb9f3a\"],[0.8888888888888888,\"#fdca26\"],[1.0,\"#f0f921\"]]}],\"mesh3d\":[{\"type\":\"mesh3d\",\"colorbar\":{\"outlinewidth\":0,\"ticks\":\"\"}}],\"scatter\":[{\"fillpattern\":{\"fillmode\":\"overlay\",\"size\":10,\"solidity\":0.2},\"type\":\"scatter\"}],\"parcoords\":[{\"type\":\"parcoords\",\"line\":{\"colorbar\":{\"outlinewidth\":0,\"ticks\":\"\"}}}],\"scatterpolargl\":[{\"type\":\"scatterpolargl\",\"marker\":{\"colorbar\":{\"outlinewidth\":0,\"ticks\":\"\"}}}],\"bar\":[{\"error_x\":{\"color\":\"#2a3f5f\"},\"error_y\":{\"color\":\"#2a3f5f\"},\"marker\":{\"line\":{\"color\":\"#E5ECF6\",\"width\":0.5},\"pattern\":{\"fillmode\":\"overlay\",\"size\":10,\"solidity\":0.2}},\"type\":\"bar\"}],\"scattergeo\":[{\"type\":\"scattergeo\",\"marker\":{\"colorbar\":{\"outlinewidth\":0,\"ticks\":\"\"}}}],\"scatterpolar\":[{\"type\":\"scatterpolar\",\"marker\":{\"colorbar\":{\"outlinewidth\":0,\"ticks\":\"\"}}}],\"histogram\":[{\"marker\":{\"pattern\":{\"fillmode\":\"overlay\",\"size\":10,\"solidity\":0.2}},\"type\":\"histogram\"}],\"scattergl\":[{\"type\":\"scattergl\",\"marker\":{\"colorbar\":{\"outlinewidth\":0,\"ticks\":\"\"}}}],\"scatter3d\":[{\"type\":\"scatter3d\",\"line\":{\"colorbar\":{\"outlinewidth\":0,\"ticks\":\"\"}},\"marker\":{\"colorbar\":{\"outlinewidth\":0,\"ticks\":\"\"}}}],\"scattermapbox\":[{\"type\":\"scattermapbox\",\"marker\":{\"colorbar\":{\"outlinewidth\":0,\"ticks\":\"\"}}}],\"scatterternary\":[{\"type\":\"scatterternary\",\"marker\":{\"colorbar\":{\"outlinewidth\":0,\"ticks\":\"\"}}}],\"scattercarpet\":[{\"type\":\"scattercarpet\",\"marker\":{\"colorbar\":{\"outlinewidth\":0,\"ticks\":\"\"}}}],\"carpet\":[{\"aaxis\":{\"endlinecolor\":\"#2a3f5f\",\"gridcolor\":\"white\",\"linecolor\":\"white\",\"minorgridcolor\":\"white\",\"startlinecolor\":\"#2a3f5f\"},\"baxis\":{\"endlinecolor\":\"#2a3f5f\",\"gridcolor\":\"white\",\"linecolor\":\"white\",\"minorgridcolor\":\"white\",\"startlinecolor\":\"#2a3f5f\"},\"type\":\"carpet\"}],\"table\":[{\"cells\":{\"fill\":{\"color\":\"#EBF0F8\"},\"line\":{\"color\":\"white\"}},\"header\":{\"fill\":{\"color\":\"#C8D4E3\"},\"line\":{\"color\":\"white\"}},\"type\":\"table\"}],\"barpolar\":[{\"marker\":{\"line\":{\"color\":\"#E5ECF6\",\"width\":0.5},\"pattern\":{\"fillmode\":\"overlay\",\"size\":10,\"solidity\":0.2}},\"type\":\"barpolar\"}],\"pie\":[{\"automargin\":true,\"type\":\"pie\"}]},\"layout\":{\"autotypenumbers\":\"strict\",\"colorway\":[\"#636efa\",\"#EF553B\",\"#00cc96\",\"#ab63fa\",\"#FFA15A\",\"#19d3f3\",\"#FF6692\",\"#B6E880\",\"#FF97FF\",\"#FECB52\"],\"font\":{\"color\":\"#2a3f5f\"},\"hovermode\":\"closest\",\"hoverlabel\":{\"align\":\"left\"},\"paper_bgcolor\":\"white\",\"plot_bgcolor\":\"#E5ECF6\",\"polar\":{\"bgcolor\":\"#E5ECF6\",\"angularaxis\":{\"gridcolor\":\"white\",\"linecolor\":\"white\",\"ticks\":\"\"},\"radialaxis\":{\"gridcolor\":\"white\",\"linecolor\":\"white\",\"ticks\":\"\"}},\"ternary\":{\"bgcolor\":\"#E5ECF6\",\"aaxis\":{\"gridcolor\":\"white\",\"linecolor\":\"white\",\"ticks\":\"\"},\"baxis\":{\"gridcolor\":\"white\",\"linecolor\":\"white\",\"ticks\":\"\"},\"caxis\":{\"gridcolor\":\"white\",\"linecolor\":\"white\",\"ticks\":\"\"}},\"coloraxis\":{\"colorbar\":{\"outlinewidth\":0,\"ticks\":\"\"}},\"colorscale\":{\"sequential\":[[0.0,\"#0d0887\"],[0.1111111111111111,\"#46039f\"],[0.2222222222222222,\"#7201a8\"],[0.3333333333333333,\"#9c179e\"],[0.4444444444444444,\"#bd3786\"],[0.5555555555555556,\"#d8576b\"],[0.6666666666666666,\"#ed7953\"],[0.7777777777777778,\"#fb9f3a\"],[0.8888888888888888,\"#fdca26\"],[1.0,\"#f0f921\"]],\"sequentialminus\":[[0.0,\"#0d0887\"],[0.1111111111111111,\"#46039f\"],[0.2222222222222222,\"#7201a8\"],[0.3333333333333333,\"#9c179e\"],[0.4444444444444444,\"#bd3786\"],[0.5555555555555556,\"#d8576b\"],[0.6666666666666666,\"#ed7953\"],[0.7777777777777778,\"#fb9f3a\"],[0.8888888888888888,\"#fdca26\"],[1.0,\"#f0f921\"]],\"diverging\":[[0,\"#8e0152\"],[0.1,\"#c51b7d\"],[0.2,\"#de77ae\"],[0.3,\"#f1b6da\"],[0.4,\"#fde0ef\"],[0.5,\"#f7f7f7\"],[0.6,\"#e6f5d0\"],[0.7,\"#b8e186\"],[0.8,\"#7fbc41\"],[0.9,\"#4d9221\"],[1,\"#276419\"]]},\"xaxis\":{\"gridcolor\":\"white\",\"linecolor\":\"white\",\"ticks\":\"\",\"title\":{\"standoff\":15},\"zerolinecolor\":\"white\",\"automargin\":true,\"zerolinewidth\":2},\"yaxis\":{\"gridcolor\":\"white\",\"linecolor\":\"white\",\"ticks\":\"\",\"title\":{\"standoff\":15},\"zerolinecolor\":\"white\",\"automargin\":true,\"zerolinewidth\":2},\"scene\":{\"xaxis\":{\"backgroundcolor\":\"#E5ECF6\",\"gridcolor\":\"white\",\"linecolor\":\"white\",\"showbackground\":true,\"ticks\":\"\",\"zerolinecolor\":\"white\",\"gridwidth\":2},\"yaxis\":{\"backgroundcolor\":\"#E5ECF6\",\"gridcolor\":\"white\",\"linecolor\":\"white\",\"showbackground\":true,\"ticks\":\"\",\"zerolinecolor\":\"white\",\"gridwidth\":2},\"zaxis\":{\"backgroundcolor\":\"#E5ECF6\",\"gridcolor\":\"white\",\"linecolor\":\"white\",\"showbackground\":true,\"ticks\":\"\",\"zerolinecolor\":\"white\",\"gridwidth\":2}},\"shapedefaults\":{\"line\":{\"color\":\"#2a3f5f\"}},\"annotationdefaults\":{\"arrowcolor\":\"#2a3f5f\",\"arrowhead\":0,\"arrowwidth\":1},\"geo\":{\"bgcolor\":\"white\",\"landcolor\":\"#E5ECF6\",\"subunitcolor\":\"white\",\"showland\":true,\"showlakes\":true,\"lakecolor\":\"white\"},\"title\":{\"x\":0.05},\"mapbox\":{\"style\":\"light\"}}},\"xaxis\":{\"anchor\":\"y\",\"domain\":[0.0,1.0],\"title\":{\"text\":\"index\"}},\"yaxis\":{\"anchor\":\"x\",\"domain\":[0.0,1.0],\"title\":{\"text\":\"value\"}},\"legend\":{\"title\":{\"text\":\"variable\"},\"tracegroupgap\":0},\"margin\":{\"t\":60}},                        {\"responsive\": true}                    ).then(function(){\n",
       "                            \n",
       "var gd = document.getElementById('a0472754-5488-4073-af29-3a3fcd499af9');\n",
       "var x = new MutationObserver(function (mutations, observer) {{\n",
       "        var display = window.getComputedStyle(gd).display;\n",
       "        if (!display || display === 'none') {{\n",
       "            console.log([gd, 'removed!']);\n",
       "            Plotly.purge(gd);\n",
       "            observer.disconnect();\n",
       "        }}\n",
       "}});\n",
       "\n",
       "// Listen for the removal of the full notebook cells\n",
       "var notebookContainer = gd.closest('#notebook-container');\n",
       "if (notebookContainer) {{\n",
       "    x.observe(notebookContainer, {childList: true});\n",
       "}}\n",
       "\n",
       "// Listen for the clearing of the current output cell\n",
       "var outputEl = gd.closest('.output');\n",
       "if (outputEl) {{\n",
       "    x.observe(outputEl, {childList: true});\n",
       "}}\n",
       "\n",
       "                        })                };                });            </script>        </div>"
      ]
     },
     "metadata": {},
     "output_type": "display_data"
    },
    {
     "data": {
      "text/plain": [
       "<Figure size 1080x288 with 0 Axes>"
      ]
     },
     "metadata": {},
     "output_type": "display_data"
    }
   ],
   "source": [
    "# 개인소유 : 전국 \n",
    "plt.figure(figsize = (15,4))\n",
    "\n",
    "px.line(data2_personal['전국'])\n"
   ]
  },
  {
   "cell_type": "code",
   "execution_count": 699,
   "id": "5d831643",
   "metadata": {},
   "outputs": [
    {
     "data": {
      "application/vnd.plotly.v1+json": {
       "config": {
        "plotlyServerURL": "https://plot.ly"
       },
       "data": [
        {
         "hovertemplate": "variable=서울특별시<br>index=%{x}<br>value=%{y}<extra></extra>",
         "legendgroup": "서울특별시",
         "line": {
          "color": "#636efa",
          "dash": "solid"
         },
         "marker": {
          "symbol": "circle"
         },
         "mode": "lines",
         "name": "서울특별시",
         "orientation": "v",
         "showlegend": true,
         "type": "scatter",
         "x": [
          "2012.3",
          "2013.3",
          "2014.3",
          "2015.3",
          "2016.3",
          "2017.3",
          "2018.3",
          "2019.3",
          "2020.3"
         ],
         "xaxis": "x",
         "y": [
          1304927,
          1326272,
          1358224,
          1378958,
          1399373,
          1409694,
          1421708,
          1446390,
          1480173
         ],
         "yaxis": "y"
        }
       ],
       "layout": {
        "legend": {
         "title": {
          "text": "variable"
         },
         "tracegroupgap": 0
        },
        "margin": {
         "t": 60
        },
        "template": {
         "data": {
          "bar": [
           {
            "error_x": {
             "color": "#2a3f5f"
            },
            "error_y": {
             "color": "#2a3f5f"
            },
            "marker": {
             "line": {
              "color": "#E5ECF6",
              "width": 0.5
             },
             "pattern": {
              "fillmode": "overlay",
              "size": 10,
              "solidity": 0.2
             }
            },
            "type": "bar"
           }
          ],
          "barpolar": [
           {
            "marker": {
             "line": {
              "color": "#E5ECF6",
              "width": 0.5
             },
             "pattern": {
              "fillmode": "overlay",
              "size": 10,
              "solidity": 0.2
             }
            },
            "type": "barpolar"
           }
          ],
          "carpet": [
           {
            "aaxis": {
             "endlinecolor": "#2a3f5f",
             "gridcolor": "white",
             "linecolor": "white",
             "minorgridcolor": "white",
             "startlinecolor": "#2a3f5f"
            },
            "baxis": {
             "endlinecolor": "#2a3f5f",
             "gridcolor": "white",
             "linecolor": "white",
             "minorgridcolor": "white",
             "startlinecolor": "#2a3f5f"
            },
            "type": "carpet"
           }
          ],
          "choropleth": [
           {
            "colorbar": {
             "outlinewidth": 0,
             "ticks": ""
            },
            "type": "choropleth"
           }
          ],
          "contour": [
           {
            "colorbar": {
             "outlinewidth": 0,
             "ticks": ""
            },
            "colorscale": [
             [
              0,
              "#0d0887"
             ],
             [
              0.1111111111111111,
              "#46039f"
             ],
             [
              0.2222222222222222,
              "#7201a8"
             ],
             [
              0.3333333333333333,
              "#9c179e"
             ],
             [
              0.4444444444444444,
              "#bd3786"
             ],
             [
              0.5555555555555556,
              "#d8576b"
             ],
             [
              0.6666666666666666,
              "#ed7953"
             ],
             [
              0.7777777777777778,
              "#fb9f3a"
             ],
             [
              0.8888888888888888,
              "#fdca26"
             ],
             [
              1,
              "#f0f921"
             ]
            ],
            "type": "contour"
           }
          ],
          "contourcarpet": [
           {
            "colorbar": {
             "outlinewidth": 0,
             "ticks": ""
            },
            "type": "contourcarpet"
           }
          ],
          "heatmap": [
           {
            "colorbar": {
             "outlinewidth": 0,
             "ticks": ""
            },
            "colorscale": [
             [
              0,
              "#0d0887"
             ],
             [
              0.1111111111111111,
              "#46039f"
             ],
             [
              0.2222222222222222,
              "#7201a8"
             ],
             [
              0.3333333333333333,
              "#9c179e"
             ],
             [
              0.4444444444444444,
              "#bd3786"
             ],
             [
              0.5555555555555556,
              "#d8576b"
             ],
             [
              0.6666666666666666,
              "#ed7953"
             ],
             [
              0.7777777777777778,
              "#fb9f3a"
             ],
             [
              0.8888888888888888,
              "#fdca26"
             ],
             [
              1,
              "#f0f921"
             ]
            ],
            "type": "heatmap"
           }
          ],
          "heatmapgl": [
           {
            "colorbar": {
             "outlinewidth": 0,
             "ticks": ""
            },
            "colorscale": [
             [
              0,
              "#0d0887"
             ],
             [
              0.1111111111111111,
              "#46039f"
             ],
             [
              0.2222222222222222,
              "#7201a8"
             ],
             [
              0.3333333333333333,
              "#9c179e"
             ],
             [
              0.4444444444444444,
              "#bd3786"
             ],
             [
              0.5555555555555556,
              "#d8576b"
             ],
             [
              0.6666666666666666,
              "#ed7953"
             ],
             [
              0.7777777777777778,
              "#fb9f3a"
             ],
             [
              0.8888888888888888,
              "#fdca26"
             ],
             [
              1,
              "#f0f921"
             ]
            ],
            "type": "heatmapgl"
           }
          ],
          "histogram": [
           {
            "marker": {
             "pattern": {
              "fillmode": "overlay",
              "size": 10,
              "solidity": 0.2
             }
            },
            "type": "histogram"
           }
          ],
          "histogram2d": [
           {
            "colorbar": {
             "outlinewidth": 0,
             "ticks": ""
            },
            "colorscale": [
             [
              0,
              "#0d0887"
             ],
             [
              0.1111111111111111,
              "#46039f"
             ],
             [
              0.2222222222222222,
              "#7201a8"
             ],
             [
              0.3333333333333333,
              "#9c179e"
             ],
             [
              0.4444444444444444,
              "#bd3786"
             ],
             [
              0.5555555555555556,
              "#d8576b"
             ],
             [
              0.6666666666666666,
              "#ed7953"
             ],
             [
              0.7777777777777778,
              "#fb9f3a"
             ],
             [
              0.8888888888888888,
              "#fdca26"
             ],
             [
              1,
              "#f0f921"
             ]
            ],
            "type": "histogram2d"
           }
          ],
          "histogram2dcontour": [
           {
            "colorbar": {
             "outlinewidth": 0,
             "ticks": ""
            },
            "colorscale": [
             [
              0,
              "#0d0887"
             ],
             [
              0.1111111111111111,
              "#46039f"
             ],
             [
              0.2222222222222222,
              "#7201a8"
             ],
             [
              0.3333333333333333,
              "#9c179e"
             ],
             [
              0.4444444444444444,
              "#bd3786"
             ],
             [
              0.5555555555555556,
              "#d8576b"
             ],
             [
              0.6666666666666666,
              "#ed7953"
             ],
             [
              0.7777777777777778,
              "#fb9f3a"
             ],
             [
              0.8888888888888888,
              "#fdca26"
             ],
             [
              1,
              "#f0f921"
             ]
            ],
            "type": "histogram2dcontour"
           }
          ],
          "mesh3d": [
           {
            "colorbar": {
             "outlinewidth": 0,
             "ticks": ""
            },
            "type": "mesh3d"
           }
          ],
          "parcoords": [
           {
            "line": {
             "colorbar": {
              "outlinewidth": 0,
              "ticks": ""
             }
            },
            "type": "parcoords"
           }
          ],
          "pie": [
           {
            "automargin": true,
            "type": "pie"
           }
          ],
          "scatter": [
           {
            "fillpattern": {
             "fillmode": "overlay",
             "size": 10,
             "solidity": 0.2
            },
            "type": "scatter"
           }
          ],
          "scatter3d": [
           {
            "line": {
             "colorbar": {
              "outlinewidth": 0,
              "ticks": ""
             }
            },
            "marker": {
             "colorbar": {
              "outlinewidth": 0,
              "ticks": ""
             }
            },
            "type": "scatter3d"
           }
          ],
          "scattercarpet": [
           {
            "marker": {
             "colorbar": {
              "outlinewidth": 0,
              "ticks": ""
             }
            },
            "type": "scattercarpet"
           }
          ],
          "scattergeo": [
           {
            "marker": {
             "colorbar": {
              "outlinewidth": 0,
              "ticks": ""
             }
            },
            "type": "scattergeo"
           }
          ],
          "scattergl": [
           {
            "marker": {
             "colorbar": {
              "outlinewidth": 0,
              "ticks": ""
             }
            },
            "type": "scattergl"
           }
          ],
          "scattermapbox": [
           {
            "marker": {
             "colorbar": {
              "outlinewidth": 0,
              "ticks": ""
             }
            },
            "type": "scattermapbox"
           }
          ],
          "scatterpolar": [
           {
            "marker": {
             "colorbar": {
              "outlinewidth": 0,
              "ticks": ""
             }
            },
            "type": "scatterpolar"
           }
          ],
          "scatterpolargl": [
           {
            "marker": {
             "colorbar": {
              "outlinewidth": 0,
              "ticks": ""
             }
            },
            "type": "scatterpolargl"
           }
          ],
          "scatterternary": [
           {
            "marker": {
             "colorbar": {
              "outlinewidth": 0,
              "ticks": ""
             }
            },
            "type": "scatterternary"
           }
          ],
          "surface": [
           {
            "colorbar": {
             "outlinewidth": 0,
             "ticks": ""
            },
            "colorscale": [
             [
              0,
              "#0d0887"
             ],
             [
              0.1111111111111111,
              "#46039f"
             ],
             [
              0.2222222222222222,
              "#7201a8"
             ],
             [
              0.3333333333333333,
              "#9c179e"
             ],
             [
              0.4444444444444444,
              "#bd3786"
             ],
             [
              0.5555555555555556,
              "#d8576b"
             ],
             [
              0.6666666666666666,
              "#ed7953"
             ],
             [
              0.7777777777777778,
              "#fb9f3a"
             ],
             [
              0.8888888888888888,
              "#fdca26"
             ],
             [
              1,
              "#f0f921"
             ]
            ],
            "type": "surface"
           }
          ],
          "table": [
           {
            "cells": {
             "fill": {
              "color": "#EBF0F8"
             },
             "line": {
              "color": "white"
             }
            },
            "header": {
             "fill": {
              "color": "#C8D4E3"
             },
             "line": {
              "color": "white"
             }
            },
            "type": "table"
           }
          ]
         },
         "layout": {
          "annotationdefaults": {
           "arrowcolor": "#2a3f5f",
           "arrowhead": 0,
           "arrowwidth": 1
          },
          "autotypenumbers": "strict",
          "coloraxis": {
           "colorbar": {
            "outlinewidth": 0,
            "ticks": ""
           }
          },
          "colorscale": {
           "diverging": [
            [
             0,
             "#8e0152"
            ],
            [
             0.1,
             "#c51b7d"
            ],
            [
             0.2,
             "#de77ae"
            ],
            [
             0.3,
             "#f1b6da"
            ],
            [
             0.4,
             "#fde0ef"
            ],
            [
             0.5,
             "#f7f7f7"
            ],
            [
             0.6,
             "#e6f5d0"
            ],
            [
             0.7,
             "#b8e186"
            ],
            [
             0.8,
             "#7fbc41"
            ],
            [
             0.9,
             "#4d9221"
            ],
            [
             1,
             "#276419"
            ]
           ],
           "sequential": [
            [
             0,
             "#0d0887"
            ],
            [
             0.1111111111111111,
             "#46039f"
            ],
            [
             0.2222222222222222,
             "#7201a8"
            ],
            [
             0.3333333333333333,
             "#9c179e"
            ],
            [
             0.4444444444444444,
             "#bd3786"
            ],
            [
             0.5555555555555556,
             "#d8576b"
            ],
            [
             0.6666666666666666,
             "#ed7953"
            ],
            [
             0.7777777777777778,
             "#fb9f3a"
            ],
            [
             0.8888888888888888,
             "#fdca26"
            ],
            [
             1,
             "#f0f921"
            ]
           ],
           "sequentialminus": [
            [
             0,
             "#0d0887"
            ],
            [
             0.1111111111111111,
             "#46039f"
            ],
            [
             0.2222222222222222,
             "#7201a8"
            ],
            [
             0.3333333333333333,
             "#9c179e"
            ],
            [
             0.4444444444444444,
             "#bd3786"
            ],
            [
             0.5555555555555556,
             "#d8576b"
            ],
            [
             0.6666666666666666,
             "#ed7953"
            ],
            [
             0.7777777777777778,
             "#fb9f3a"
            ],
            [
             0.8888888888888888,
             "#fdca26"
            ],
            [
             1,
             "#f0f921"
            ]
           ]
          },
          "colorway": [
           "#636efa",
           "#EF553B",
           "#00cc96",
           "#ab63fa",
           "#FFA15A",
           "#19d3f3",
           "#FF6692",
           "#B6E880",
           "#FF97FF",
           "#FECB52"
          ],
          "font": {
           "color": "#2a3f5f"
          },
          "geo": {
           "bgcolor": "white",
           "lakecolor": "white",
           "landcolor": "#E5ECF6",
           "showlakes": true,
           "showland": true,
           "subunitcolor": "white"
          },
          "hoverlabel": {
           "align": "left"
          },
          "hovermode": "closest",
          "mapbox": {
           "style": "light"
          },
          "paper_bgcolor": "white",
          "plot_bgcolor": "#E5ECF6",
          "polar": {
           "angularaxis": {
            "gridcolor": "white",
            "linecolor": "white",
            "ticks": ""
           },
           "bgcolor": "#E5ECF6",
           "radialaxis": {
            "gridcolor": "white",
            "linecolor": "white",
            "ticks": ""
           }
          },
          "scene": {
           "xaxis": {
            "backgroundcolor": "#E5ECF6",
            "gridcolor": "white",
            "gridwidth": 2,
            "linecolor": "white",
            "showbackground": true,
            "ticks": "",
            "zerolinecolor": "white"
           },
           "yaxis": {
            "backgroundcolor": "#E5ECF6",
            "gridcolor": "white",
            "gridwidth": 2,
            "linecolor": "white",
            "showbackground": true,
            "ticks": "",
            "zerolinecolor": "white"
           },
           "zaxis": {
            "backgroundcolor": "#E5ECF6",
            "gridcolor": "white",
            "gridwidth": 2,
            "linecolor": "white",
            "showbackground": true,
            "ticks": "",
            "zerolinecolor": "white"
           }
          },
          "shapedefaults": {
           "line": {
            "color": "#2a3f5f"
           }
          },
          "ternary": {
           "aaxis": {
            "gridcolor": "white",
            "linecolor": "white",
            "ticks": ""
           },
           "baxis": {
            "gridcolor": "white",
            "linecolor": "white",
            "ticks": ""
           },
           "bgcolor": "#E5ECF6",
           "caxis": {
            "gridcolor": "white",
            "linecolor": "white",
            "ticks": ""
           }
          },
          "title": {
           "x": 0.05
          },
          "xaxis": {
           "automargin": true,
           "gridcolor": "white",
           "linecolor": "white",
           "ticks": "",
           "title": {
            "standoff": 15
           },
           "zerolinecolor": "white",
           "zerolinewidth": 2
          },
          "yaxis": {
           "automargin": true,
           "gridcolor": "white",
           "linecolor": "white",
           "ticks": "",
           "title": {
            "standoff": 15
           },
           "zerolinecolor": "white",
           "zerolinewidth": 2
          }
         }
        },
        "xaxis": {
         "anchor": "y",
         "domain": [
          0,
          1
         ],
         "title": {
          "text": "index"
         }
        },
        "yaxis": {
         "anchor": "x",
         "domain": [
          0,
          1
         ],
         "title": {
          "text": "value"
         }
        }
       }
      },
      "text/html": [
       "<div>                            <div id=\"252ad127-950e-4a89-b94d-a768d1ed2f93\" class=\"plotly-graph-div\" style=\"height:525px; width:100%;\"></div>            <script type=\"text/javascript\">                require([\"plotly\"], function(Plotly) {                    window.PLOTLYENV=window.PLOTLYENV || {};                                    if (document.getElementById(\"252ad127-950e-4a89-b94d-a768d1ed2f93\")) {                    Plotly.newPlot(                        \"252ad127-950e-4a89-b94d-a768d1ed2f93\",                        [{\"hovertemplate\":\"variable=\\uc11c\\uc6b8\\ud2b9\\ubcc4\\uc2dc<br>index=%{x}<br>value=%{y}<extra></extra>\",\"legendgroup\":\"\\uc11c\\uc6b8\\ud2b9\\ubcc4\\uc2dc\",\"line\":{\"color\":\"#636efa\",\"dash\":\"solid\"},\"marker\":{\"symbol\":\"circle\"},\"mode\":\"lines\",\"name\":\"\\uc11c\\uc6b8\\ud2b9\\ubcc4\\uc2dc\",\"orientation\":\"v\",\"showlegend\":true,\"x\":[\"2012.3\",\"2013.3\",\"2014.3\",\"2015.3\",\"2016.3\",\"2017.3\",\"2018.3\",\"2019.3\",\"2020.3\"],\"xaxis\":\"x\",\"y\":[1304927,1326272,1358224,1378958,1399373,1409694,1421708,1446390,1480173],\"yaxis\":\"y\",\"type\":\"scatter\"}],                        {\"template\":{\"data\":{\"histogram2dcontour\":[{\"type\":\"histogram2dcontour\",\"colorbar\":{\"outlinewidth\":0,\"ticks\":\"\"},\"colorscale\":[[0.0,\"#0d0887\"],[0.1111111111111111,\"#46039f\"],[0.2222222222222222,\"#7201a8\"],[0.3333333333333333,\"#9c179e\"],[0.4444444444444444,\"#bd3786\"],[0.5555555555555556,\"#d8576b\"],[0.6666666666666666,\"#ed7953\"],[0.7777777777777778,\"#fb9f3a\"],[0.8888888888888888,\"#fdca26\"],[1.0,\"#f0f921\"]]}],\"choropleth\":[{\"type\":\"choropleth\",\"colorbar\":{\"outlinewidth\":0,\"ticks\":\"\"}}],\"histogram2d\":[{\"type\":\"histogram2d\",\"colorbar\":{\"outlinewidth\":0,\"ticks\":\"\"},\"colorscale\":[[0.0,\"#0d0887\"],[0.1111111111111111,\"#46039f\"],[0.2222222222222222,\"#7201a8\"],[0.3333333333333333,\"#9c179e\"],[0.4444444444444444,\"#bd3786\"],[0.5555555555555556,\"#d8576b\"],[0.6666666666666666,\"#ed7953\"],[0.7777777777777778,\"#fb9f3a\"],[0.8888888888888888,\"#fdca26\"],[1.0,\"#f0f921\"]]}],\"heatmap\":[{\"type\":\"heatmap\",\"colorbar\":{\"outlinewidth\":0,\"ticks\":\"\"},\"colorscale\":[[0.0,\"#0d0887\"],[0.1111111111111111,\"#46039f\"],[0.2222222222222222,\"#7201a8\"],[0.3333333333333333,\"#9c179e\"],[0.4444444444444444,\"#bd3786\"],[0.5555555555555556,\"#d8576b\"],[0.6666666666666666,\"#ed7953\"],[0.7777777777777778,\"#fb9f3a\"],[0.8888888888888888,\"#fdca26\"],[1.0,\"#f0f921\"]]}],\"heatmapgl\":[{\"type\":\"heatmapgl\",\"colorbar\":{\"outlinewidth\":0,\"ticks\":\"\"},\"colorscale\":[[0.0,\"#0d0887\"],[0.1111111111111111,\"#46039f\"],[0.2222222222222222,\"#7201a8\"],[0.3333333333333333,\"#9c179e\"],[0.4444444444444444,\"#bd3786\"],[0.5555555555555556,\"#d8576b\"],[0.6666666666666666,\"#ed7953\"],[0.7777777777777778,\"#fb9f3a\"],[0.8888888888888888,\"#fdca26\"],[1.0,\"#f0f921\"]]}],\"contourcarpet\":[{\"type\":\"contourcarpet\",\"colorbar\":{\"outlinewidth\":0,\"ticks\":\"\"}}],\"contour\":[{\"type\":\"contour\",\"colorbar\":{\"outlinewidth\":0,\"ticks\":\"\"},\"colorscale\":[[0.0,\"#0d0887\"],[0.1111111111111111,\"#46039f\"],[0.2222222222222222,\"#7201a8\"],[0.3333333333333333,\"#9c179e\"],[0.4444444444444444,\"#bd3786\"],[0.5555555555555556,\"#d8576b\"],[0.6666666666666666,\"#ed7953\"],[0.7777777777777778,\"#fb9f3a\"],[0.8888888888888888,\"#fdca26\"],[1.0,\"#f0f921\"]]}],\"surface\":[{\"type\":\"surface\",\"colorbar\":{\"outlinewidth\":0,\"ticks\":\"\"},\"colorscale\":[[0.0,\"#0d0887\"],[0.1111111111111111,\"#46039f\"],[0.2222222222222222,\"#7201a8\"],[0.3333333333333333,\"#9c179e\"],[0.4444444444444444,\"#bd3786\"],[0.5555555555555556,\"#d8576b\"],[0.6666666666666666,\"#ed7953\"],[0.7777777777777778,\"#fb9f3a\"],[0.8888888888888888,\"#fdca26\"],[1.0,\"#f0f921\"]]}],\"mesh3d\":[{\"type\":\"mesh3d\",\"colorbar\":{\"outlinewidth\":0,\"ticks\":\"\"}}],\"scatter\":[{\"fillpattern\":{\"fillmode\":\"overlay\",\"size\":10,\"solidity\":0.2},\"type\":\"scatter\"}],\"parcoords\":[{\"type\":\"parcoords\",\"line\":{\"colorbar\":{\"outlinewidth\":0,\"ticks\":\"\"}}}],\"scatterpolargl\":[{\"type\":\"scatterpolargl\",\"marker\":{\"colorbar\":{\"outlinewidth\":0,\"ticks\":\"\"}}}],\"bar\":[{\"error_x\":{\"color\":\"#2a3f5f\"},\"error_y\":{\"color\":\"#2a3f5f\"},\"marker\":{\"line\":{\"color\":\"#E5ECF6\",\"width\":0.5},\"pattern\":{\"fillmode\":\"overlay\",\"size\":10,\"solidity\":0.2}},\"type\":\"bar\"}],\"scattergeo\":[{\"type\":\"scattergeo\",\"marker\":{\"colorbar\":{\"outlinewidth\":0,\"ticks\":\"\"}}}],\"scatterpolar\":[{\"type\":\"scatterpolar\",\"marker\":{\"colorbar\":{\"outlinewidth\":0,\"ticks\":\"\"}}}],\"histogram\":[{\"marker\":{\"pattern\":{\"fillmode\":\"overlay\",\"size\":10,\"solidity\":0.2}},\"type\":\"histogram\"}],\"scattergl\":[{\"type\":\"scattergl\",\"marker\":{\"colorbar\":{\"outlinewidth\":0,\"ticks\":\"\"}}}],\"scatter3d\":[{\"type\":\"scatter3d\",\"line\":{\"colorbar\":{\"outlinewidth\":0,\"ticks\":\"\"}},\"marker\":{\"colorbar\":{\"outlinewidth\":0,\"ticks\":\"\"}}}],\"scattermapbox\":[{\"type\":\"scattermapbox\",\"marker\":{\"colorbar\":{\"outlinewidth\":0,\"ticks\":\"\"}}}],\"scatterternary\":[{\"type\":\"scatterternary\",\"marker\":{\"colorbar\":{\"outlinewidth\":0,\"ticks\":\"\"}}}],\"scattercarpet\":[{\"type\":\"scattercarpet\",\"marker\":{\"colorbar\":{\"outlinewidth\":0,\"ticks\":\"\"}}}],\"carpet\":[{\"aaxis\":{\"endlinecolor\":\"#2a3f5f\",\"gridcolor\":\"white\",\"linecolor\":\"white\",\"minorgridcolor\":\"white\",\"startlinecolor\":\"#2a3f5f\"},\"baxis\":{\"endlinecolor\":\"#2a3f5f\",\"gridcolor\":\"white\",\"linecolor\":\"white\",\"minorgridcolor\":\"white\",\"startlinecolor\":\"#2a3f5f\"},\"type\":\"carpet\"}],\"table\":[{\"cells\":{\"fill\":{\"color\":\"#EBF0F8\"},\"line\":{\"color\":\"white\"}},\"header\":{\"fill\":{\"color\":\"#C8D4E3\"},\"line\":{\"color\":\"white\"}},\"type\":\"table\"}],\"barpolar\":[{\"marker\":{\"line\":{\"color\":\"#E5ECF6\",\"width\":0.5},\"pattern\":{\"fillmode\":\"overlay\",\"size\":10,\"solidity\":0.2}},\"type\":\"barpolar\"}],\"pie\":[{\"automargin\":true,\"type\":\"pie\"}]},\"layout\":{\"autotypenumbers\":\"strict\",\"colorway\":[\"#636efa\",\"#EF553B\",\"#00cc96\",\"#ab63fa\",\"#FFA15A\",\"#19d3f3\",\"#FF6692\",\"#B6E880\",\"#FF97FF\",\"#FECB52\"],\"font\":{\"color\":\"#2a3f5f\"},\"hovermode\":\"closest\",\"hoverlabel\":{\"align\":\"left\"},\"paper_bgcolor\":\"white\",\"plot_bgcolor\":\"#E5ECF6\",\"polar\":{\"bgcolor\":\"#E5ECF6\",\"angularaxis\":{\"gridcolor\":\"white\",\"linecolor\":\"white\",\"ticks\":\"\"},\"radialaxis\":{\"gridcolor\":\"white\",\"linecolor\":\"white\",\"ticks\":\"\"}},\"ternary\":{\"bgcolor\":\"#E5ECF6\",\"aaxis\":{\"gridcolor\":\"white\",\"linecolor\":\"white\",\"ticks\":\"\"},\"baxis\":{\"gridcolor\":\"white\",\"linecolor\":\"white\",\"ticks\":\"\"},\"caxis\":{\"gridcolor\":\"white\",\"linecolor\":\"white\",\"ticks\":\"\"}},\"coloraxis\":{\"colorbar\":{\"outlinewidth\":0,\"ticks\":\"\"}},\"colorscale\":{\"sequential\":[[0.0,\"#0d0887\"],[0.1111111111111111,\"#46039f\"],[0.2222222222222222,\"#7201a8\"],[0.3333333333333333,\"#9c179e\"],[0.4444444444444444,\"#bd3786\"],[0.5555555555555556,\"#d8576b\"],[0.6666666666666666,\"#ed7953\"],[0.7777777777777778,\"#fb9f3a\"],[0.8888888888888888,\"#fdca26\"],[1.0,\"#f0f921\"]],\"sequentialminus\":[[0.0,\"#0d0887\"],[0.1111111111111111,\"#46039f\"],[0.2222222222222222,\"#7201a8\"],[0.3333333333333333,\"#9c179e\"],[0.4444444444444444,\"#bd3786\"],[0.5555555555555556,\"#d8576b\"],[0.6666666666666666,\"#ed7953\"],[0.7777777777777778,\"#fb9f3a\"],[0.8888888888888888,\"#fdca26\"],[1.0,\"#f0f921\"]],\"diverging\":[[0,\"#8e0152\"],[0.1,\"#c51b7d\"],[0.2,\"#de77ae\"],[0.3,\"#f1b6da\"],[0.4,\"#fde0ef\"],[0.5,\"#f7f7f7\"],[0.6,\"#e6f5d0\"],[0.7,\"#b8e186\"],[0.8,\"#7fbc41\"],[0.9,\"#4d9221\"],[1,\"#276419\"]]},\"xaxis\":{\"gridcolor\":\"white\",\"linecolor\":\"white\",\"ticks\":\"\",\"title\":{\"standoff\":15},\"zerolinecolor\":\"white\",\"automargin\":true,\"zerolinewidth\":2},\"yaxis\":{\"gridcolor\":\"white\",\"linecolor\":\"white\",\"ticks\":\"\",\"title\":{\"standoff\":15},\"zerolinecolor\":\"white\",\"automargin\":true,\"zerolinewidth\":2},\"scene\":{\"xaxis\":{\"backgroundcolor\":\"#E5ECF6\",\"gridcolor\":\"white\",\"linecolor\":\"white\",\"showbackground\":true,\"ticks\":\"\",\"zerolinecolor\":\"white\",\"gridwidth\":2},\"yaxis\":{\"backgroundcolor\":\"#E5ECF6\",\"gridcolor\":\"white\",\"linecolor\":\"white\",\"showbackground\":true,\"ticks\":\"\",\"zerolinecolor\":\"white\",\"gridwidth\":2},\"zaxis\":{\"backgroundcolor\":\"#E5ECF6\",\"gridcolor\":\"white\",\"linecolor\":\"white\",\"showbackground\":true,\"ticks\":\"\",\"zerolinecolor\":\"white\",\"gridwidth\":2}},\"shapedefaults\":{\"line\":{\"color\":\"#2a3f5f\"}},\"annotationdefaults\":{\"arrowcolor\":\"#2a3f5f\",\"arrowhead\":0,\"arrowwidth\":1},\"geo\":{\"bgcolor\":\"white\",\"landcolor\":\"#E5ECF6\",\"subunitcolor\":\"white\",\"showland\":true,\"showlakes\":true,\"lakecolor\":\"white\"},\"title\":{\"x\":0.05},\"mapbox\":{\"style\":\"light\"}}},\"xaxis\":{\"anchor\":\"y\",\"domain\":[0.0,1.0],\"title\":{\"text\":\"index\"}},\"yaxis\":{\"anchor\":\"x\",\"domain\":[0.0,1.0],\"title\":{\"text\":\"value\"}},\"legend\":{\"title\":{\"text\":\"variable\"},\"tracegroupgap\":0},\"margin\":{\"t\":60}},                        {\"responsive\": true}                    ).then(function(){\n",
       "                            \n",
       "var gd = document.getElementById('252ad127-950e-4a89-b94d-a768d1ed2f93');\n",
       "var x = new MutationObserver(function (mutations, observer) {{\n",
       "        var display = window.getComputedStyle(gd).display;\n",
       "        if (!display || display === 'none') {{\n",
       "            console.log([gd, 'removed!']);\n",
       "            Plotly.purge(gd);\n",
       "            observer.disconnect();\n",
       "        }}\n",
       "}});\n",
       "\n",
       "// Listen for the removal of the full notebook cells\n",
       "var notebookContainer = gd.closest('#notebook-container');\n",
       "if (notebookContainer) {{\n",
       "    x.observe(notebookContainer, {childList: true});\n",
       "}}\n",
       "\n",
       "// Listen for the clearing of the current output cell\n",
       "var outputEl = gd.closest('.output');\n",
       "if (outputEl) {{\n",
       "    x.observe(outputEl, {childList: true});\n",
       "}}\n",
       "\n",
       "                        })                };                });            </script>        </div>"
      ]
     },
     "metadata": {},
     "output_type": "display_data"
    }
   ],
   "source": [
    "# 개인소유: 서울특별시 \n",
    "px.line(data2_personal['서울특별시'])\n"
   ]
  },
  {
   "cell_type": "code",
   "execution_count": 701,
   "id": "d0760004",
   "metadata": {},
   "outputs": [],
   "source": [
    "#막대 그래프 비교 \n",
    "\n",
    "#총주택\n",
    "# data2_total.plot.bar(y='전국',rot =45,color = 'g',ylabel = 'total')\n",
    "# data2_total.plot.bar(y='서울특별시', rot = 45, color ='b', ylabel ='seoul')"
   ]
  },
  {
   "cell_type": "code",
   "execution_count": 702,
   "id": "7a54201e",
   "metadata": {},
   "outputs": [],
   "source": [
    "#개인소유\n",
    "# data2_personal.plot.bar(y='전국',rot =45,color = 'g')\n",
    "# data2_personal.plot.bar(y='서울특별시',rot = 45, color= 'b')"
   ]
  },
  {
   "cell_type": "code",
   "execution_count": 678,
   "id": "ccc440be",
   "metadata": {},
   "outputs": [],
   "source": [
    "#총소유 (전국 vs 서울)data2_total.plot(y = ['전국'], logy = True, figsize = (10,6) , grid = True , xlabel = 'Year', ylabel = 'total house_kr', marker = 'o',ms=3); \n",
    "# data2_total.plot(y = ['서울특별시'], logy = True, figsize = (10,6) , grid = True , xlabel = 'Year', ylabel = 'total house_so', marker = 'o',ms=3); \n",
    "\n",
    "# data2_total.plot(y = ['전국','서울특별시'], logy = True, figsize = (10,6) , grid = True , xlabel = 'Year', ylabel = 'total_house', marker = 'o',ms=3); \n"
   ]
  },
  {
   "cell_type": "code",
   "execution_count": 677,
   "id": "bdde950e",
   "metadata": {},
   "outputs": [],
   "source": [
    "#개인소유 (전국 vs 서울)\n",
    "# data2_personal.plot(y = ['전국'], logy = True, figsize = (10,6) , grid = True , xlabel = 'Year', ylabel = 'private ownership_kr', marker = 'o',ms=3 )\n",
    "# data2_personal.plot(y = ['서울특별시'], logy = True, figsize = (10,6) , grid = True , xlabel = 'Year', ylabel = 'private ownership_so', marker = 'o',ms=3 )\n",
    "# data2_personal.plot(y = ['전국','서울특별시'], logy = True, figsize = (10,6) , grid = True , xlabel = 'Year', ylabel = 'Total_personal', marker = 'o',ms=3 ) "
   ]
  },
  {
   "cell_type": "code",
   "execution_count": null,
   "id": "6d638973",
   "metadata": {},
   "outputs": [],
   "source": []
  },
  {
   "cell_type": "code",
   "execution_count": null,
   "id": "35f25b77",
   "metadata": {},
   "outputs": [],
   "source": []
  }
 ],
 "metadata": {
  "kernelspec": {
   "display_name": "Python 3 (ipykernel)",
   "language": "python",
   "name": "python3"
  },
  "language_info": {
   "codemirror_mode": {
    "name": "ipython",
    "version": 3
   },
   "file_extension": ".py",
   "mimetype": "text/x-python",
   "name": "python",
   "nbconvert_exporter": "python",
   "pygments_lexer": "ipython3",
   "version": "3.8.13"
  }
 },
 "nbformat": 4,
 "nbformat_minor": 5
}
